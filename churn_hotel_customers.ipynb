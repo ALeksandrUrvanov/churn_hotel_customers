{
 "cells": [
  {
   "cell_type": "markdown",
   "metadata": {},
   "source": [
    "# Прогнозирование оттока клиентов в сети отелей «Как в гостях»"
   ]
  },
  {
   "cell_type": "markdown",
   "metadata": {},
   "source": [
    "### Шаг 1. Откройте файлы с данными"
   ]
  },
  {
   "cell_type": "code",
   "execution_count": 1,
   "metadata": {},
   "outputs": [],
   "source": [
    "# выведем необходимые библиотеки для работы\n",
    "import warnings\n",
    "import datetime\n",
    "\n",
    "\n",
    "import pandas as pd\n",
    "import numpy as np\n",
    "import seaborn as sns\n",
    "from scipy import stats as st\n",
    "import matplotlib.pyplot as plt\n",
    "\n",
    "from sklearn.model_selection import train_test_split\n",
    "from sklearn.model_selection import cross_val_score\n",
    "from sklearn.model_selection import GridSearchCV\n",
    "from sklearn.preprocessing import MinMaxScaler\n",
    "from sklearn.preprocessing import StandardScaler\n",
    "from sklearn.preprocessing import OneHotEncoder\n",
    "from sklearn.tree import DecisionTreeClassifier\n",
    "from sklearn.ensemble import RandomForestClassifier\n",
    "from sklearn.linear_model import LogisticRegression\n",
    "from sklearn.linear_model import LinearRegression\n",
    "from sklearn.linear_model import Ridge\n",
    "from sklearn.pipeline import Pipeline\n",
    "from sklearn import tree\n",
    "from sklearn.metrics import mean_squared_error\n",
    "from sklearn.metrics import confusion_matrix\n",
    "from sklearn.metrics import precision_score\n",
    "from sklearn.metrics import accuracy_score\n",
    "from sklearn.metrics import recall_score\n",
    "from sklearn.metrics import f1_score\n",
    "from sklearn.metrics import roc_auc_score\n",
    "from sklearn.metrics import roc_curve\n",
    "from sklearn.utils import shuffle\n",
    "\n",
    "warnings.filterwarnings('ignore')\n",
    "\n",
    "RANDOM_STATE = 12345\n",
    "\n"
   ]
  },
  {
   "cell_type": "code",
   "execution_count": 2,
   "metadata": {},
   "outputs": [
    {
     "data": {
      "text/html": [
       "<div>\n",
       "<style scoped>\n",
       "    .dataframe tbody tr th:only-of-type {\n",
       "        vertical-align: middle;\n",
       "    }\n",
       "\n",
       "    .dataframe tbody tr th {\n",
       "        vertical-align: top;\n",
       "    }\n",
       "\n",
       "    .dataframe thead th {\n",
       "        text-align: right;\n",
       "    }\n",
       "</style>\n",
       "<table border=\"1\" class=\"dataframe\">\n",
       "  <thead>\n",
       "    <tr style=\"text-align: right;\">\n",
       "      <th></th>\n",
       "      <th>id</th>\n",
       "      <th>arrival_date</th>\n",
       "      <th>total_nights</th>\n",
       "      <th>is_canceled</th>\n",
       "      <th>lead_time</th>\n",
       "      <th>reserved_room_type</th>\n",
       "      <th>adults</th>\n",
       "      <th>children</th>\n",
       "      <th>babies</th>\n",
       "      <th>meal</th>\n",
       "      <th>country</th>\n",
       "      <th>stays_in_weekend_nights</th>\n",
       "      <th>stays_in_week_nights</th>\n",
       "      <th>required_car_parking_spaces</th>\n",
       "      <th>customer_type</th>\n",
       "      <th>distribution_channel</th>\n",
       "      <th>days_in_waiting_list</th>\n",
       "      <th>booking_changes</th>\n",
       "      <th>is_repeated_guest</th>\n",
       "      <th>previous_bookings_not_canceled</th>\n",
       "      <th>previous_cancellations</th>\n",
       "      <th>total_of_special_requests</th>\n",
       "    </tr>\n",
       "  </thead>\n",
       "  <tbody>\n",
       "    <tr>\n",
       "      <th>0</th>\n",
       "      <td>0</td>\n",
       "      <td>2015-07-01</td>\n",
       "      <td>1</td>\n",
       "      <td>0</td>\n",
       "      <td>7.0</td>\n",
       "      <td>A</td>\n",
       "      <td>1.0</td>\n",
       "      <td>0.0</td>\n",
       "      <td>0.0</td>\n",
       "      <td>BB</td>\n",
       "      <td>GBR</td>\n",
       "      <td>0</td>\n",
       "      <td>1</td>\n",
       "      <td>0</td>\n",
       "      <td>Transient</td>\n",
       "      <td>Direct</td>\n",
       "      <td>0</td>\n",
       "      <td>0</td>\n",
       "      <td>0</td>\n",
       "      <td>0</td>\n",
       "      <td>0</td>\n",
       "      <td>0</td>\n",
       "    </tr>\n",
       "    <tr>\n",
       "      <th>1</th>\n",
       "      <td>1</td>\n",
       "      <td>2015-07-01</td>\n",
       "      <td>2</td>\n",
       "      <td>0</td>\n",
       "      <td>14.0</td>\n",
       "      <td>A</td>\n",
       "      <td>2.0</td>\n",
       "      <td>0.0</td>\n",
       "      <td>0.0</td>\n",
       "      <td>BB</td>\n",
       "      <td>GBR</td>\n",
       "      <td>0</td>\n",
       "      <td>2</td>\n",
       "      <td>0</td>\n",
       "      <td>Transient</td>\n",
       "      <td>TA/TO</td>\n",
       "      <td>0</td>\n",
       "      <td>0</td>\n",
       "      <td>0</td>\n",
       "      <td>0</td>\n",
       "      <td>0</td>\n",
       "      <td>1</td>\n",
       "    </tr>\n",
       "    <tr>\n",
       "      <th>2</th>\n",
       "      <td>2</td>\n",
       "      <td>2015-07-01</td>\n",
       "      <td>2</td>\n",
       "      <td>0</td>\n",
       "      <td>0.0</td>\n",
       "      <td>C</td>\n",
       "      <td>2.0</td>\n",
       "      <td>0.0</td>\n",
       "      <td>0.0</td>\n",
       "      <td>BB</td>\n",
       "      <td>PRT</td>\n",
       "      <td>0</td>\n",
       "      <td>2</td>\n",
       "      <td>0</td>\n",
       "      <td>Transient</td>\n",
       "      <td>Direct</td>\n",
       "      <td>0</td>\n",
       "      <td>0</td>\n",
       "      <td>0</td>\n",
       "      <td>0</td>\n",
       "      <td>0</td>\n",
       "      <td>0</td>\n",
       "    </tr>\n",
       "    <tr>\n",
       "      <th>3</th>\n",
       "      <td>3</td>\n",
       "      <td>2015-07-01</td>\n",
       "      <td>2</td>\n",
       "      <td>0</td>\n",
       "      <td>9.0</td>\n",
       "      <td>C</td>\n",
       "      <td>2.0</td>\n",
       "      <td>0.0</td>\n",
       "      <td>0.0</td>\n",
       "      <td>FB</td>\n",
       "      <td>PRT</td>\n",
       "      <td>0</td>\n",
       "      <td>2</td>\n",
       "      <td>0</td>\n",
       "      <td>Transient</td>\n",
       "      <td>Direct</td>\n",
       "      <td>0</td>\n",
       "      <td>0</td>\n",
       "      <td>0</td>\n",
       "      <td>0</td>\n",
       "      <td>0</td>\n",
       "      <td>1</td>\n",
       "    </tr>\n",
       "    <tr>\n",
       "      <th>4</th>\n",
       "      <td>4</td>\n",
       "      <td>2015-07-01</td>\n",
       "      <td>3</td>\n",
       "      <td>1</td>\n",
       "      <td>85.0</td>\n",
       "      <td>A</td>\n",
       "      <td>2.0</td>\n",
       "      <td>0.0</td>\n",
       "      <td>0.0</td>\n",
       "      <td>BB</td>\n",
       "      <td>PRT</td>\n",
       "      <td>0</td>\n",
       "      <td>3</td>\n",
       "      <td>0</td>\n",
       "      <td>Transient</td>\n",
       "      <td>TA/TO</td>\n",
       "      <td>0</td>\n",
       "      <td>0</td>\n",
       "      <td>0</td>\n",
       "      <td>0</td>\n",
       "      <td>0</td>\n",
       "      <td>1</td>\n",
       "    </tr>\n",
       "  </tbody>\n",
       "</table>\n",
       "</div>"
      ],
      "text/plain": [
       "   id arrival_date  total_nights  is_canceled  lead_time reserved_room_type  \\\n",
       "0   0   2015-07-01             1            0        7.0   A                  \n",
       "1   1   2015-07-01             2            0       14.0   A                  \n",
       "2   2   2015-07-01             2            0        0.0   C                  \n",
       "3   3   2015-07-01             2            0        9.0   C                  \n",
       "4   4   2015-07-01             3            1       85.0   A                  \n",
       "\n",
       "   adults  children  babies       meal country  stays_in_weekend_nights  \\\n",
       "0     1.0       0.0     0.0  BB            GBR                        0   \n",
       "1     2.0       0.0     0.0  BB            GBR                        0   \n",
       "2     2.0       0.0     0.0  BB            PRT                        0   \n",
       "3     2.0       0.0     0.0  FB            PRT                        0   \n",
       "4     2.0       0.0     0.0  BB            PRT                        0   \n",
       "\n",
       "   stays_in_week_nights  required_car_parking_spaces customer_type  \\\n",
       "0                     1                            0     Transient   \n",
       "1                     2                            0     Transient   \n",
       "2                     2                            0     Transient   \n",
       "3                     2                            0     Transient   \n",
       "4                     3                            0     Transient   \n",
       "\n",
       "  distribution_channel  days_in_waiting_list  booking_changes  \\\n",
       "0               Direct                     0                0   \n",
       "1                TA/TO                     0                0   \n",
       "2               Direct                     0                0   \n",
       "3               Direct                     0                0   \n",
       "4                TA/TO                     0                0   \n",
       "\n",
       "   is_repeated_guest  previous_bookings_not_canceled  previous_cancellations  \\\n",
       "0                  0                               0                       0   \n",
       "1                  0                               0                       0   \n",
       "2                  0                               0                       0   \n",
       "3                  0                               0                       0   \n",
       "4                  0                               0                       0   \n",
       "\n",
       "   total_of_special_requests  \n",
       "0                          0  \n",
       "1                          1  \n",
       "2                          0  \n",
       "3                          1  \n",
       "4                          1  "
      ]
     },
     "metadata": {},
     "output_type": "display_data"
    },
    {
     "name": "stdout",
     "output_type": "stream",
     "text": [
      "<class 'pandas.core.frame.DataFrame'>\n",
      "RangeIndex: 65229 entries, 0 to 65228\n",
      "Data columns (total 22 columns):\n",
      " #   Column                          Non-Null Count  Dtype         \n",
      "---  ------                          --------------  -----         \n",
      " 0   id                              65229 non-null  int64         \n",
      " 1   arrival_date                    65229 non-null  datetime64[ns]\n",
      " 2   total_nights                    65229 non-null  int64         \n",
      " 3   is_canceled                     65229 non-null  int64         \n",
      " 4   lead_time                       65229 non-null  float64       \n",
      " 5   reserved_room_type              65229 non-null  object        \n",
      " 6   adults                          65229 non-null  float64       \n",
      " 7   children                        65229 non-null  float64       \n",
      " 8   babies                          65229 non-null  float64       \n",
      " 9   meal                            65229 non-null  object        \n",
      " 10  country                         65229 non-null  object        \n",
      " 11  stays_in_weekend_nights         65229 non-null  int64         \n",
      " 12  stays_in_week_nights            65229 non-null  int64         \n",
      " 13  required_car_parking_spaces     65229 non-null  int64         \n",
      " 14  customer_type                   65229 non-null  object        \n",
      " 15  distribution_channel            65229 non-null  object        \n",
      " 16  days_in_waiting_list            65229 non-null  int64         \n",
      " 17  booking_changes                 65229 non-null  int64         \n",
      " 18  is_repeated_guest               65229 non-null  int64         \n",
      " 19  previous_bookings_not_canceled  65229 non-null  int64         \n",
      " 20  previous_cancellations          65229 non-null  int64         \n",
      " 21  total_of_special_requests       65229 non-null  int64         \n",
      "dtypes: datetime64[ns](1), float64(4), int64(12), object(5)\n",
      "memory usage: 10.9+ MB\n",
      "\n"
     ]
    },
    {
     "data": {
      "text/html": [
       "<div>\n",
       "<style scoped>\n",
       "    .dataframe tbody tr th:only-of-type {\n",
       "        vertical-align: middle;\n",
       "    }\n",
       "\n",
       "    .dataframe tbody tr th {\n",
       "        vertical-align: top;\n",
       "    }\n",
       "\n",
       "    .dataframe thead th {\n",
       "        text-align: right;\n",
       "    }\n",
       "</style>\n",
       "<table border=\"1\" class=\"dataframe\">\n",
       "  <thead>\n",
       "    <tr style=\"text-align: right;\">\n",
       "      <th></th>\n",
       "      <th>id</th>\n",
       "      <th>arrival_date</th>\n",
       "      <th>total_nights</th>\n",
       "      <th>is_canceled</th>\n",
       "      <th>lead_time</th>\n",
       "      <th>reserved_room_type</th>\n",
       "      <th>adults</th>\n",
       "      <th>children</th>\n",
       "      <th>babies</th>\n",
       "      <th>meal</th>\n",
       "      <th>country</th>\n",
       "      <th>stays_in_weekend_nights</th>\n",
       "      <th>stays_in_week_nights</th>\n",
       "      <th>required_car_parking_spaces</th>\n",
       "      <th>customer_type</th>\n",
       "      <th>distribution_channel</th>\n",
       "      <th>days_in_waiting_list</th>\n",
       "      <th>booking_changes</th>\n",
       "      <th>is_repeated_guest</th>\n",
       "      <th>previous_bookings_not_canceled</th>\n",
       "      <th>previous_cancellations</th>\n",
       "      <th>total_of_special_requests</th>\n",
       "    </tr>\n",
       "  </thead>\n",
       "  <tbody>\n",
       "    <tr>\n",
       "      <th>0</th>\n",
       "      <td>6086</td>\n",
       "      <td>2017-01-01</td>\n",
       "      <td>1</td>\n",
       "      <td>1</td>\n",
       "      <td>74.0</td>\n",
       "      <td>A</td>\n",
       "      <td>2.0</td>\n",
       "      <td>0.0</td>\n",
       "      <td>0.0</td>\n",
       "      <td>BB</td>\n",
       "      <td>PRT</td>\n",
       "      <td>1</td>\n",
       "      <td>0</td>\n",
       "      <td>0</td>\n",
       "      <td>Transient</td>\n",
       "      <td>TA/TO</td>\n",
       "      <td>0</td>\n",
       "      <td>0</td>\n",
       "      <td>0</td>\n",
       "      <td>0</td>\n",
       "      <td>0</td>\n",
       "      <td>0</td>\n",
       "    </tr>\n",
       "    <tr>\n",
       "      <th>1</th>\n",
       "      <td>6087</td>\n",
       "      <td>2017-01-01</td>\n",
       "      <td>4</td>\n",
       "      <td>1</td>\n",
       "      <td>62.0</td>\n",
       "      <td>A</td>\n",
       "      <td>2.0</td>\n",
       "      <td>0.0</td>\n",
       "      <td>0.0</td>\n",
       "      <td>BB</td>\n",
       "      <td>AUT</td>\n",
       "      <td>2</td>\n",
       "      <td>2</td>\n",
       "      <td>0</td>\n",
       "      <td>Transient</td>\n",
       "      <td>TA/TO</td>\n",
       "      <td>0</td>\n",
       "      <td>0</td>\n",
       "      <td>0</td>\n",
       "      <td>0</td>\n",
       "      <td>0</td>\n",
       "      <td>1</td>\n",
       "    </tr>\n",
       "    <tr>\n",
       "      <th>2</th>\n",
       "      <td>6088</td>\n",
       "      <td>2017-01-01</td>\n",
       "      <td>4</td>\n",
       "      <td>1</td>\n",
       "      <td>62.0</td>\n",
       "      <td>A</td>\n",
       "      <td>2.0</td>\n",
       "      <td>0.0</td>\n",
       "      <td>0.0</td>\n",
       "      <td>BB</td>\n",
       "      <td>AUT</td>\n",
       "      <td>2</td>\n",
       "      <td>2</td>\n",
       "      <td>0</td>\n",
       "      <td>Transient</td>\n",
       "      <td>TA/TO</td>\n",
       "      <td>0</td>\n",
       "      <td>0</td>\n",
       "      <td>0</td>\n",
       "      <td>0</td>\n",
       "      <td>0</td>\n",
       "      <td>1</td>\n",
       "    </tr>\n",
       "    <tr>\n",
       "      <th>3</th>\n",
       "      <td>6089</td>\n",
       "      <td>2017-01-01</td>\n",
       "      <td>4</td>\n",
       "      <td>1</td>\n",
       "      <td>71.0</td>\n",
       "      <td>A</td>\n",
       "      <td>1.0</td>\n",
       "      <td>0.0</td>\n",
       "      <td>0.0</td>\n",
       "      <td>BB</td>\n",
       "      <td>PRT</td>\n",
       "      <td>2</td>\n",
       "      <td>2</td>\n",
       "      <td>0</td>\n",
       "      <td>Transient</td>\n",
       "      <td>TA/TO</td>\n",
       "      <td>0</td>\n",
       "      <td>0</td>\n",
       "      <td>0</td>\n",
       "      <td>0</td>\n",
       "      <td>0</td>\n",
       "      <td>1</td>\n",
       "    </tr>\n",
       "    <tr>\n",
       "      <th>4</th>\n",
       "      <td>6090</td>\n",
       "      <td>2017-01-01</td>\n",
       "      <td>7</td>\n",
       "      <td>1</td>\n",
       "      <td>172.0</td>\n",
       "      <td>A</td>\n",
       "      <td>2.0</td>\n",
       "      <td>0.0</td>\n",
       "      <td>0.0</td>\n",
       "      <td>BB</td>\n",
       "      <td>BEL</td>\n",
       "      <td>2</td>\n",
       "      <td>5</td>\n",
       "      <td>0</td>\n",
       "      <td>Transient</td>\n",
       "      <td>TA/TO</td>\n",
       "      <td>0</td>\n",
       "      <td>0</td>\n",
       "      <td>0</td>\n",
       "      <td>0</td>\n",
       "      <td>0</td>\n",
       "      <td>0</td>\n",
       "    </tr>\n",
       "  </tbody>\n",
       "</table>\n",
       "</div>"
      ],
      "text/plain": [
       "     id arrival_date  total_nights  is_canceled  lead_time reserved_room_type  \\\n",
       "0  6086   2017-01-01             1            1       74.0   A                  \n",
       "1  6087   2017-01-01             4            1       62.0   A                  \n",
       "2  6088   2017-01-01             4            1       62.0   A                  \n",
       "3  6089   2017-01-01             4            1       71.0   A                  \n",
       "4  6090   2017-01-01             7            1      172.0   A                  \n",
       "\n",
       "   adults  children  babies       meal country  stays_in_weekend_nights  \\\n",
       "0     2.0       0.0     0.0  BB            PRT                        1   \n",
       "1     2.0       0.0     0.0  BB            AUT                        2   \n",
       "2     2.0       0.0     0.0  BB            AUT                        2   \n",
       "3     1.0       0.0     0.0  BB            PRT                        2   \n",
       "4     2.0       0.0     0.0  BB            BEL                        2   \n",
       "\n",
       "   stays_in_week_nights  required_car_parking_spaces customer_type  \\\n",
       "0                     0                            0     Transient   \n",
       "1                     2                            0     Transient   \n",
       "2                     2                            0     Transient   \n",
       "3                     2                            0     Transient   \n",
       "4                     5                            0     Transient   \n",
       "\n",
       "  distribution_channel  days_in_waiting_list  booking_changes  \\\n",
       "0                TA/TO                     0                0   \n",
       "1                TA/TO                     0                0   \n",
       "2                TA/TO                     0                0   \n",
       "3                TA/TO                     0                0   \n",
       "4                TA/TO                     0                0   \n",
       "\n",
       "   is_repeated_guest  previous_bookings_not_canceled  previous_cancellations  \\\n",
       "0                  0                               0                       0   \n",
       "1                  0                               0                       0   \n",
       "2                  0                               0                       0   \n",
       "3                  0                               0                       0   \n",
       "4                  0                               0                       0   \n",
       "\n",
       "   total_of_special_requests  \n",
       "0                          0  \n",
       "1                          1  \n",
       "2                          1  \n",
       "3                          1  \n",
       "4                          0  "
      ]
     },
     "metadata": {},
     "output_type": "display_data"
    },
    {
     "name": "stdout",
     "output_type": "stream",
     "text": [
      "<class 'pandas.core.frame.DataFrame'>\n",
      "RangeIndex: 32412 entries, 0 to 32411\n",
      "Data columns (total 22 columns):\n",
      " #   Column                          Non-Null Count  Dtype         \n",
      "---  ------                          --------------  -----         \n",
      " 0   id                              32412 non-null  int64         \n",
      " 1   arrival_date                    32412 non-null  datetime64[ns]\n",
      " 2   total_nights                    32412 non-null  int64         \n",
      " 3   is_canceled                     32412 non-null  int64         \n",
      " 4   lead_time                       32412 non-null  float64       \n",
      " 5   reserved_room_type              32412 non-null  object        \n",
      " 6   adults                          32412 non-null  float64       \n",
      " 7   children                        32412 non-null  float64       \n",
      " 8   babies                          32412 non-null  float64       \n",
      " 9   meal                            32412 non-null  object        \n",
      " 10  country                         32412 non-null  object        \n",
      " 11  stays_in_weekend_nights         32412 non-null  int64         \n",
      " 12  stays_in_week_nights            32412 non-null  int64         \n",
      " 13  required_car_parking_spaces     32412 non-null  int64         \n",
      " 14  customer_type                   32412 non-null  object        \n",
      " 15  distribution_channel            32412 non-null  object        \n",
      " 16  days_in_waiting_list            32412 non-null  int64         \n",
      " 17  booking_changes                 32412 non-null  int64         \n",
      " 18  is_repeated_guest               32412 non-null  int64         \n",
      " 19  previous_bookings_not_canceled  32412 non-null  int64         \n",
      " 20  previous_cancellations          32412 non-null  int64         \n",
      " 21  total_of_special_requests       32412 non-null  int64         \n",
      "dtypes: datetime64[ns](1), float64(4), int64(12), object(5)\n",
      "memory usage: 5.4+ MB\n",
      "\n"
     ]
    }
   ],
   "source": [
    "# выводим информацию о данных датафреймов с преобразованием столбцов дат к правильному формату\n",
    "\n",
    "# df1 - датафрейм с данными для обучения модели\n",
    "df1 = pd.read_csv(\n",
    "    '/datasets/hotel_train.csv', parse_dates={\n",
    "        'arrival_date':['arrival_date_year','arrival_date_month','arrival_date_day_of_month']})\n",
    "# достаточно информации о дате заезда, удалим неделю заезда и наведем порядок в столбцах\n",
    "df1.drop(columns = ['arrival_date_week_number'], axis = 1, inplace=True)\n",
    "df1 = df1.reindex(\n",
    "    columns=['id','arrival_date','total_nights','is_canceled','lead_time','reserved_room_type','adults',\n",
    "             'children','babies','meal','country','stays_in_weekend_nights','stays_in_week_nights', \n",
    "             'required_car_parking_spaces','customer_type','distribution_channel',\n",
    "             'days_in_waiting_list','booking_changes','is_repeated_guest', \n",
    "             'previous_bookings_not_canceled','previous_cancellations',\n",
    "             'total_of_special_requests'])\n",
    "\n",
    "# df2 - датафрейм с данными для тестирования модели\n",
    "df2 = pd.read_csv('/datasets/hotel_test.csv', parse_dates={\n",
    "        'arrival_date':['arrival_date_year','arrival_date_month','arrival_date_day_of_month']})\n",
    "# достаточно информации о дате заезда, удалим неделю заезда и наведем порядок в столбцах\n",
    "df2.drop(columns = ['arrival_date_week_number'], axis = 1, inplace=True)\n",
    "df2 = df2.reindex(\n",
    "    columns=['id','arrival_date','total_nights','is_canceled','lead_time','reserved_room_type','adults',\n",
    "             'children','babies','meal','country','stays_in_weekend_nights','stays_in_week_nights', \n",
    "             'required_car_parking_spaces','customer_type','distribution_channel',\n",
    "             'days_in_waiting_list','booking_changes','is_repeated_guest', \n",
    "             'previous_bookings_not_canceled','previous_cancellations',\n",
    "             'total_of_special_requests'])\n",
    "\n",
    "# сброс ограничений на число столбцов\n",
    "pd.set_option('display.max_columns', None)\n",
    "\n",
    "def info(df): \n",
    "    display(df.head())    \n",
    "    df.info()\n",
    "    print()\n",
    "\n",
    "    \n",
    "for i in [df1, df2]:\n",
    "    info(i)\n"
   ]
  },
  {
   "cell_type": "markdown",
   "metadata": {},
   "source": [
    "#### Вывод"
   ]
  },
  {
   "cell_type": "markdown",
   "metadata": {},
   "source": [
    "Открыли файлы с данными, данные готовы к исследовательскому анализу и предобработке."
   ]
  },
  {
   "cell_type": "markdown",
   "metadata": {},
   "source": [
    "### Шаг 2. Предобработка и исследовательский анализ данных"
   ]
  },
  {
   "cell_type": "code",
   "execution_count": 3,
   "metadata": {},
   "outputs": [
    {
     "data": {
      "text/html": [
       "<div>\n",
       "<style scoped>\n",
       "    .dataframe tbody tr th:only-of-type {\n",
       "        vertical-align: middle;\n",
       "    }\n",
       "\n",
       "    .dataframe tbody tr th {\n",
       "        vertical-align: top;\n",
       "    }\n",
       "\n",
       "    .dataframe thead th {\n",
       "        text-align: right;\n",
       "    }\n",
       "</style>\n",
       "<table border=\"1\" class=\"dataframe\">\n",
       "  <thead>\n",
       "    <tr style=\"text-align: right;\">\n",
       "      <th></th>\n",
       "      <th>country</th>\n",
       "    </tr>\n",
       "  </thead>\n",
       "  <tbody>\n",
       "    <tr>\n",
       "      <th>PRT</th>\n",
       "      <td>28831</td>\n",
       "    </tr>\n",
       "    <tr>\n",
       "      <th>FRA</th>\n",
       "      <td>5974</td>\n",
       "    </tr>\n",
       "    <tr>\n",
       "      <th>GBR</th>\n",
       "      <td>5109</td>\n",
       "    </tr>\n",
       "    <tr>\n",
       "      <th>ESP</th>\n",
       "      <td>4900</td>\n",
       "    </tr>\n",
       "    <tr>\n",
       "      <th>DEU</th>\n",
       "      <td>3887</td>\n",
       "    </tr>\n",
       "    <tr>\n",
       "      <th>...</th>\n",
       "      <td>...</td>\n",
       "    </tr>\n",
       "    <tr>\n",
       "      <th>ZWE</th>\n",
       "      <td>1</td>\n",
       "    </tr>\n",
       "    <tr>\n",
       "      <th>ZMB</th>\n",
       "      <td>1</td>\n",
       "    </tr>\n",
       "    <tr>\n",
       "      <th>VGB</th>\n",
       "      <td>1</td>\n",
       "    </tr>\n",
       "    <tr>\n",
       "      <th>MMR</th>\n",
       "      <td>1</td>\n",
       "    </tr>\n",
       "    <tr>\n",
       "      <th>PRY</th>\n",
       "      <td>1</td>\n",
       "    </tr>\n",
       "  </tbody>\n",
       "</table>\n",
       "<p>155 rows × 1 columns</p>\n",
       "</div>"
      ],
      "text/plain": [
       "     country\n",
       "PRT    28831\n",
       "FRA     5974\n",
       "GBR     5109\n",
       "ESP     4900\n",
       "DEU     3887\n",
       "..       ...\n",
       "ZWE        1\n",
       "ZMB        1\n",
       "VGB        1\n",
       "MMR        1\n",
       "PRY        1\n",
       "\n",
       "[155 rows x 1 columns]"
      ]
     },
     "metadata": {},
     "output_type": "display_data"
    },
    {
     "data": {
      "text/html": [
       "<div>\n",
       "<style scoped>\n",
       "    .dataframe tbody tr th:only-of-type {\n",
       "        vertical-align: middle;\n",
       "    }\n",
       "\n",
       "    .dataframe tbody tr th {\n",
       "        vertical-align: top;\n",
       "    }\n",
       "\n",
       "    .dataframe thead th {\n",
       "        text-align: right;\n",
       "    }\n",
       "</style>\n",
       "<table border=\"1\" class=\"dataframe\">\n",
       "  <thead>\n",
       "    <tr style=\"text-align: right;\">\n",
       "      <th></th>\n",
       "      <th>country</th>\n",
       "    </tr>\n",
       "  </thead>\n",
       "  <tbody>\n",
       "    <tr>\n",
       "      <th>PRT</th>\n",
       "      <td>9887</td>\n",
       "    </tr>\n",
       "    <tr>\n",
       "      <th>GBR</th>\n",
       "      <td>3927</td>\n",
       "    </tr>\n",
       "    <tr>\n",
       "      <th>FRA</th>\n",
       "      <td>3477</td>\n",
       "    </tr>\n",
       "    <tr>\n",
       "      <th>DEU</th>\n",
       "      <td>2378</td>\n",
       "    </tr>\n",
       "    <tr>\n",
       "      <th>ESP</th>\n",
       "      <td>1932</td>\n",
       "    </tr>\n",
       "    <tr>\n",
       "      <th>...</th>\n",
       "      <td>...</td>\n",
       "    </tr>\n",
       "    <tr>\n",
       "      <th>KIR</th>\n",
       "      <td>1</td>\n",
       "    </tr>\n",
       "    <tr>\n",
       "      <th>ATA</th>\n",
       "      <td>1</td>\n",
       "    </tr>\n",
       "    <tr>\n",
       "      <th>SYC</th>\n",
       "      <td>1</td>\n",
       "    </tr>\n",
       "    <tr>\n",
       "      <th>CIV</th>\n",
       "      <td>1</td>\n",
       "    </tr>\n",
       "    <tr>\n",
       "      <th>IMN</th>\n",
       "      <td>1</td>\n",
       "    </tr>\n",
       "  </tbody>\n",
       "</table>\n",
       "<p>143 rows × 1 columns</p>\n",
       "</div>"
      ],
      "text/plain": [
       "     country\n",
       "PRT     9887\n",
       "GBR     3927\n",
       "FRA     3477\n",
       "DEU     2378\n",
       "ESP     1932\n",
       "..       ...\n",
       "KIR        1\n",
       "ATA        1\n",
       "SYC        1\n",
       "CIV        1\n",
       "IMN        1\n",
       "\n",
       "[143 rows x 1 columns]"
      ]
     },
     "metadata": {},
     "output_type": "display_data"
    }
   ],
   "source": [
    "# выявили отличия в признаках в обучающей и тестовой выборке\n",
    "display(df1['country'].value_counts().to_frame())\n",
    "display(df2['country'].value_counts().to_frame())"
   ]
  },
  {
   "cell_type": "code",
   "execution_count": 4,
   "metadata": {},
   "outputs": [],
   "source": [
    "# уберём лишние признаки для правильного масштабирования выборок \n",
    "df1 = df1.query(\n",
    "    'country != [\"ARM\", \"BFA\", \"MMR\", \"CYM\", \"RWA\", \"ZMB\", \"BDI\", \"NAM\", \"SMR\", \"BWA\", \"UGA\", \"GUY\"]')\n",
    "\n"
   ]
  },
  {
   "cell_type": "code",
   "execution_count": 5,
   "metadata": {},
   "outputs": [
    {
     "data": {
      "text/html": [
       "<div>\n",
       "<style scoped>\n",
       "    .dataframe tbody tr th:only-of-type {\n",
       "        vertical-align: middle;\n",
       "    }\n",
       "\n",
       "    .dataframe tbody tr th {\n",
       "        vertical-align: top;\n",
       "    }\n",
       "\n",
       "    .dataframe thead th {\n",
       "        text-align: right;\n",
       "    }\n",
       "</style>\n",
       "<table border=\"1\" class=\"dataframe\">\n",
       "  <thead>\n",
       "    <tr style=\"text-align: right;\">\n",
       "      <th></th>\n",
       "      <th>country</th>\n",
       "    </tr>\n",
       "  </thead>\n",
       "  <tbody>\n",
       "    <tr>\n",
       "      <th>PRT</th>\n",
       "      <td>28831</td>\n",
       "    </tr>\n",
       "    <tr>\n",
       "      <th>FRA</th>\n",
       "      <td>5974</td>\n",
       "    </tr>\n",
       "    <tr>\n",
       "      <th>GBR</th>\n",
       "      <td>5109</td>\n",
       "    </tr>\n",
       "    <tr>\n",
       "      <th>ESP</th>\n",
       "      <td>4900</td>\n",
       "    </tr>\n",
       "    <tr>\n",
       "      <th>DEU</th>\n",
       "      <td>3887</td>\n",
       "    </tr>\n",
       "    <tr>\n",
       "      <th>...</th>\n",
       "      <td>...</td>\n",
       "    </tr>\n",
       "    <tr>\n",
       "      <th>ZWE</th>\n",
       "      <td>1</td>\n",
       "    </tr>\n",
       "    <tr>\n",
       "      <th>ABW</th>\n",
       "      <td>1</td>\n",
       "    </tr>\n",
       "    <tr>\n",
       "      <th>IMN</th>\n",
       "      <td>1</td>\n",
       "    </tr>\n",
       "    <tr>\n",
       "      <th>MLI</th>\n",
       "      <td>1</td>\n",
       "    </tr>\n",
       "    <tr>\n",
       "      <th>PRY</th>\n",
       "      <td>1</td>\n",
       "    </tr>\n",
       "  </tbody>\n",
       "</table>\n",
       "<p>143 rows × 1 columns</p>\n",
       "</div>"
      ],
      "text/plain": [
       "     country\n",
       "PRT    28831\n",
       "FRA     5974\n",
       "GBR     5109\n",
       "ESP     4900\n",
       "DEU     3887\n",
       "..       ...\n",
       "ZWE        1\n",
       "ABW        1\n",
       "IMN        1\n",
       "MLI        1\n",
       "PRY        1\n",
       "\n",
       "[143 rows x 1 columns]"
      ]
     },
     "metadata": {},
     "output_type": "display_data"
    },
    {
     "data": {
      "text/html": [
       "<div>\n",
       "<style scoped>\n",
       "    .dataframe tbody tr th:only-of-type {\n",
       "        vertical-align: middle;\n",
       "    }\n",
       "\n",
       "    .dataframe tbody tr th {\n",
       "        vertical-align: top;\n",
       "    }\n",
       "\n",
       "    .dataframe thead th {\n",
       "        text-align: right;\n",
       "    }\n",
       "</style>\n",
       "<table border=\"1\" class=\"dataframe\">\n",
       "  <thead>\n",
       "    <tr style=\"text-align: right;\">\n",
       "      <th></th>\n",
       "      <th>country</th>\n",
       "    </tr>\n",
       "  </thead>\n",
       "  <tbody>\n",
       "    <tr>\n",
       "      <th>PRT</th>\n",
       "      <td>9887</td>\n",
       "    </tr>\n",
       "    <tr>\n",
       "      <th>GBR</th>\n",
       "      <td>3927</td>\n",
       "    </tr>\n",
       "    <tr>\n",
       "      <th>FRA</th>\n",
       "      <td>3477</td>\n",
       "    </tr>\n",
       "    <tr>\n",
       "      <th>DEU</th>\n",
       "      <td>2378</td>\n",
       "    </tr>\n",
       "    <tr>\n",
       "      <th>ESP</th>\n",
       "      <td>1932</td>\n",
       "    </tr>\n",
       "    <tr>\n",
       "      <th>...</th>\n",
       "      <td>...</td>\n",
       "    </tr>\n",
       "    <tr>\n",
       "      <th>KIR</th>\n",
       "      <td>1</td>\n",
       "    </tr>\n",
       "    <tr>\n",
       "      <th>ATA</th>\n",
       "      <td>1</td>\n",
       "    </tr>\n",
       "    <tr>\n",
       "      <th>SYC</th>\n",
       "      <td>1</td>\n",
       "    </tr>\n",
       "    <tr>\n",
       "      <th>CIV</th>\n",
       "      <td>1</td>\n",
       "    </tr>\n",
       "    <tr>\n",
       "      <th>IMN</th>\n",
       "      <td>1</td>\n",
       "    </tr>\n",
       "  </tbody>\n",
       "</table>\n",
       "<p>143 rows × 1 columns</p>\n",
       "</div>"
      ],
      "text/plain": [
       "     country\n",
       "PRT     9887\n",
       "GBR     3927\n",
       "FRA     3477\n",
       "DEU     2378\n",
       "ESP     1932\n",
       "..       ...\n",
       "KIR        1\n",
       "ATA        1\n",
       "SYC        1\n",
       "CIV        1\n",
       "IMN        1\n",
       "\n",
       "[143 rows x 1 columns]"
      ]
     },
     "metadata": {},
     "output_type": "display_data"
    }
   ],
   "source": [
    "# проверим количество признаков\n",
    "display(df1['country'].value_counts().to_frame())\n",
    "display(df2['country'].value_counts().to_frame())"
   ]
  },
  {
   "cell_type": "markdown",
   "metadata": {},
   "source": [
    "При предработке данных проверим данные на соответствие данных подходящему типу данных, наличие явных и неявных дубликатов."
   ]
  },
  {
   "cell_type": "code",
   "execution_count": 6,
   "metadata": {},
   "outputs": [
    {
     "data": {
      "text/html": [
       "<div>\n",
       "<style scoped>\n",
       "    .dataframe tbody tr th:only-of-type {\n",
       "        vertical-align: middle;\n",
       "    }\n",
       "\n",
       "    .dataframe tbody tr th {\n",
       "        vertical-align: top;\n",
       "    }\n",
       "\n",
       "    .dataframe thead th {\n",
       "        text-align: right;\n",
       "    }\n",
       "</style>\n",
       "<table border=\"1\" class=\"dataframe\">\n",
       "  <thead>\n",
       "    <tr style=\"text-align: right;\">\n",
       "      <th></th>\n",
       "      <th>id</th>\n",
       "      <th>arrival_date</th>\n",
       "      <th>total_nights</th>\n",
       "      <th>is_canceled</th>\n",
       "      <th>lead_time</th>\n",
       "      <th>reserved_room_type</th>\n",
       "      <th>adults</th>\n",
       "      <th>children</th>\n",
       "      <th>babies</th>\n",
       "      <th>meal</th>\n",
       "      <th>country</th>\n",
       "      <th>stays_in_weekend_nights</th>\n",
       "      <th>stays_in_week_nights</th>\n",
       "      <th>required_car_parking_spaces</th>\n",
       "      <th>customer_type</th>\n",
       "      <th>distribution_channel</th>\n",
       "      <th>days_in_waiting_list</th>\n",
       "      <th>booking_changes</th>\n",
       "      <th>is_repeated_guest</th>\n",
       "      <th>previous_bookings_not_canceled</th>\n",
       "      <th>previous_cancellations</th>\n",
       "      <th>total_of_special_requests</th>\n",
       "    </tr>\n",
       "  </thead>\n",
       "  <tbody>\n",
       "    <tr>\n",
       "      <th>0</th>\n",
       "      <td>0</td>\n",
       "      <td>2015-07-01</td>\n",
       "      <td>1</td>\n",
       "      <td>0</td>\n",
       "      <td>7</td>\n",
       "      <td>A</td>\n",
       "      <td>1</td>\n",
       "      <td>0</td>\n",
       "      <td>0</td>\n",
       "      <td>BB</td>\n",
       "      <td>GBR</td>\n",
       "      <td>0</td>\n",
       "      <td>1</td>\n",
       "      <td>0</td>\n",
       "      <td>Transient</td>\n",
       "      <td>Direct</td>\n",
       "      <td>0</td>\n",
       "      <td>0</td>\n",
       "      <td>0</td>\n",
       "      <td>0</td>\n",
       "      <td>0</td>\n",
       "      <td>0</td>\n",
       "    </tr>\n",
       "    <tr>\n",
       "      <th>1</th>\n",
       "      <td>1</td>\n",
       "      <td>2015-07-01</td>\n",
       "      <td>2</td>\n",
       "      <td>0</td>\n",
       "      <td>14</td>\n",
       "      <td>A</td>\n",
       "      <td>2</td>\n",
       "      <td>0</td>\n",
       "      <td>0</td>\n",
       "      <td>BB</td>\n",
       "      <td>GBR</td>\n",
       "      <td>0</td>\n",
       "      <td>2</td>\n",
       "      <td>0</td>\n",
       "      <td>Transient</td>\n",
       "      <td>TA/TO</td>\n",
       "      <td>0</td>\n",
       "      <td>0</td>\n",
       "      <td>0</td>\n",
       "      <td>0</td>\n",
       "      <td>0</td>\n",
       "      <td>1</td>\n",
       "    </tr>\n",
       "    <tr>\n",
       "      <th>2</th>\n",
       "      <td>2</td>\n",
       "      <td>2015-07-01</td>\n",
       "      <td>2</td>\n",
       "      <td>0</td>\n",
       "      <td>0</td>\n",
       "      <td>C</td>\n",
       "      <td>2</td>\n",
       "      <td>0</td>\n",
       "      <td>0</td>\n",
       "      <td>BB</td>\n",
       "      <td>PRT</td>\n",
       "      <td>0</td>\n",
       "      <td>2</td>\n",
       "      <td>0</td>\n",
       "      <td>Transient</td>\n",
       "      <td>Direct</td>\n",
       "      <td>0</td>\n",
       "      <td>0</td>\n",
       "      <td>0</td>\n",
       "      <td>0</td>\n",
       "      <td>0</td>\n",
       "      <td>0</td>\n",
       "    </tr>\n",
       "    <tr>\n",
       "      <th>3</th>\n",
       "      <td>3</td>\n",
       "      <td>2015-07-01</td>\n",
       "      <td>2</td>\n",
       "      <td>0</td>\n",
       "      <td>9</td>\n",
       "      <td>C</td>\n",
       "      <td>2</td>\n",
       "      <td>0</td>\n",
       "      <td>0</td>\n",
       "      <td>FB</td>\n",
       "      <td>PRT</td>\n",
       "      <td>0</td>\n",
       "      <td>2</td>\n",
       "      <td>0</td>\n",
       "      <td>Transient</td>\n",
       "      <td>Direct</td>\n",
       "      <td>0</td>\n",
       "      <td>0</td>\n",
       "      <td>0</td>\n",
       "      <td>0</td>\n",
       "      <td>0</td>\n",
       "      <td>1</td>\n",
       "    </tr>\n",
       "    <tr>\n",
       "      <th>4</th>\n",
       "      <td>4</td>\n",
       "      <td>2015-07-01</td>\n",
       "      <td>3</td>\n",
       "      <td>1</td>\n",
       "      <td>85</td>\n",
       "      <td>A</td>\n",
       "      <td>2</td>\n",
       "      <td>0</td>\n",
       "      <td>0</td>\n",
       "      <td>BB</td>\n",
       "      <td>PRT</td>\n",
       "      <td>0</td>\n",
       "      <td>3</td>\n",
       "      <td>0</td>\n",
       "      <td>Transient</td>\n",
       "      <td>TA/TO</td>\n",
       "      <td>0</td>\n",
       "      <td>0</td>\n",
       "      <td>0</td>\n",
       "      <td>0</td>\n",
       "      <td>0</td>\n",
       "      <td>1</td>\n",
       "    </tr>\n",
       "  </tbody>\n",
       "</table>\n",
       "</div>"
      ],
      "text/plain": [
       "   id arrival_date  total_nights  is_canceled  lead_time reserved_room_type  \\\n",
       "0   0   2015-07-01             1            0          7   A                  \n",
       "1   1   2015-07-01             2            0         14   A                  \n",
       "2   2   2015-07-01             2            0          0   C                  \n",
       "3   3   2015-07-01             2            0          9   C                  \n",
       "4   4   2015-07-01             3            1         85   A                  \n",
       "\n",
       "   adults  children  babies       meal country  stays_in_weekend_nights  \\\n",
       "0       1         0       0  BB            GBR                        0   \n",
       "1       2         0       0  BB            GBR                        0   \n",
       "2       2         0       0  BB            PRT                        0   \n",
       "3       2         0       0  FB            PRT                        0   \n",
       "4       2         0       0  BB            PRT                        0   \n",
       "\n",
       "   stays_in_week_nights  required_car_parking_spaces customer_type  \\\n",
       "0                     1                            0     Transient   \n",
       "1                     2                            0     Transient   \n",
       "2                     2                            0     Transient   \n",
       "3                     2                            0     Transient   \n",
       "4                     3                            0     Transient   \n",
       "\n",
       "  distribution_channel  days_in_waiting_list  booking_changes  \\\n",
       "0               Direct                     0                0   \n",
       "1                TA/TO                     0                0   \n",
       "2               Direct                     0                0   \n",
       "3               Direct                     0                0   \n",
       "4                TA/TO                     0                0   \n",
       "\n",
       "   is_repeated_guest  previous_bookings_not_canceled  previous_cancellations  \\\n",
       "0                  0                               0                       0   \n",
       "1                  0                               0                       0   \n",
       "2                  0                               0                       0   \n",
       "3                  0                               0                       0   \n",
       "4                  0                               0                       0   \n",
       "\n",
       "   total_of_special_requests  \n",
       "0                          0  \n",
       "1                          1  \n",
       "2                          0  \n",
       "3                          1  \n",
       "4                          1  "
      ]
     },
     "metadata": {},
     "output_type": "display_data"
    },
    {
     "name": "stdout",
     "output_type": "stream",
     "text": [
      "<class 'pandas.core.frame.DataFrame'>\n",
      "Int64Index: 65212 entries, 0 to 65228\n",
      "Data columns (total 22 columns):\n",
      " #   Column                          Non-Null Count  Dtype         \n",
      "---  ------                          --------------  -----         \n",
      " 0   id                              65212 non-null  int64         \n",
      " 1   arrival_date                    65212 non-null  datetime64[ns]\n",
      " 2   total_nights                    65212 non-null  int64         \n",
      " 3   is_canceled                     65212 non-null  int64         \n",
      " 4   lead_time                       65212 non-null  int64         \n",
      " 5   reserved_room_type              65212 non-null  object        \n",
      " 6   adults                          65212 non-null  int64         \n",
      " 7   children                        65212 non-null  int64         \n",
      " 8   babies                          65212 non-null  int64         \n",
      " 9   meal                            65212 non-null  object        \n",
      " 10  country                         65212 non-null  object        \n",
      " 11  stays_in_weekend_nights         65212 non-null  int64         \n",
      " 12  stays_in_week_nights            65212 non-null  int64         \n",
      " 13  required_car_parking_spaces     65212 non-null  int64         \n",
      " 14  customer_type                   65212 non-null  object        \n",
      " 15  distribution_channel            65212 non-null  object        \n",
      " 16  days_in_waiting_list            65212 non-null  int64         \n",
      " 17  booking_changes                 65212 non-null  int64         \n",
      " 18  is_repeated_guest               65212 non-null  int64         \n",
      " 19  previous_bookings_not_canceled  65212 non-null  int64         \n",
      " 20  previous_cancellations          65212 non-null  int64         \n",
      " 21  total_of_special_requests       65212 non-null  int64         \n",
      "dtypes: datetime64[ns](1), int64(16), object(5)\n",
      "memory usage: 11.4+ MB\n",
      "\n"
     ]
    },
    {
     "data": {
      "text/html": [
       "<div>\n",
       "<style scoped>\n",
       "    .dataframe tbody tr th:only-of-type {\n",
       "        vertical-align: middle;\n",
       "    }\n",
       "\n",
       "    .dataframe tbody tr th {\n",
       "        vertical-align: top;\n",
       "    }\n",
       "\n",
       "    .dataframe thead th {\n",
       "        text-align: right;\n",
       "    }\n",
       "</style>\n",
       "<table border=\"1\" class=\"dataframe\">\n",
       "  <thead>\n",
       "    <tr style=\"text-align: right;\">\n",
       "      <th></th>\n",
       "      <th>id</th>\n",
       "      <th>arrival_date</th>\n",
       "      <th>total_nights</th>\n",
       "      <th>is_canceled</th>\n",
       "      <th>lead_time</th>\n",
       "      <th>reserved_room_type</th>\n",
       "      <th>adults</th>\n",
       "      <th>children</th>\n",
       "      <th>babies</th>\n",
       "      <th>meal</th>\n",
       "      <th>country</th>\n",
       "      <th>stays_in_weekend_nights</th>\n",
       "      <th>stays_in_week_nights</th>\n",
       "      <th>required_car_parking_spaces</th>\n",
       "      <th>customer_type</th>\n",
       "      <th>distribution_channel</th>\n",
       "      <th>days_in_waiting_list</th>\n",
       "      <th>booking_changes</th>\n",
       "      <th>is_repeated_guest</th>\n",
       "      <th>previous_bookings_not_canceled</th>\n",
       "      <th>previous_cancellations</th>\n",
       "      <th>total_of_special_requests</th>\n",
       "    </tr>\n",
       "  </thead>\n",
       "  <tbody>\n",
       "    <tr>\n",
       "      <th>0</th>\n",
       "      <td>6086</td>\n",
       "      <td>2017-01-01</td>\n",
       "      <td>1</td>\n",
       "      <td>1</td>\n",
       "      <td>74</td>\n",
       "      <td>A</td>\n",
       "      <td>2</td>\n",
       "      <td>0</td>\n",
       "      <td>0</td>\n",
       "      <td>BB</td>\n",
       "      <td>PRT</td>\n",
       "      <td>1</td>\n",
       "      <td>0</td>\n",
       "      <td>0</td>\n",
       "      <td>Transient</td>\n",
       "      <td>TA/TO</td>\n",
       "      <td>0</td>\n",
       "      <td>0</td>\n",
       "      <td>0</td>\n",
       "      <td>0</td>\n",
       "      <td>0</td>\n",
       "      <td>0</td>\n",
       "    </tr>\n",
       "    <tr>\n",
       "      <th>1</th>\n",
       "      <td>6087</td>\n",
       "      <td>2017-01-01</td>\n",
       "      <td>4</td>\n",
       "      <td>1</td>\n",
       "      <td>62</td>\n",
       "      <td>A</td>\n",
       "      <td>2</td>\n",
       "      <td>0</td>\n",
       "      <td>0</td>\n",
       "      <td>BB</td>\n",
       "      <td>AUT</td>\n",
       "      <td>2</td>\n",
       "      <td>2</td>\n",
       "      <td>0</td>\n",
       "      <td>Transient</td>\n",
       "      <td>TA/TO</td>\n",
       "      <td>0</td>\n",
       "      <td>0</td>\n",
       "      <td>0</td>\n",
       "      <td>0</td>\n",
       "      <td>0</td>\n",
       "      <td>1</td>\n",
       "    </tr>\n",
       "    <tr>\n",
       "      <th>2</th>\n",
       "      <td>6088</td>\n",
       "      <td>2017-01-01</td>\n",
       "      <td>4</td>\n",
       "      <td>1</td>\n",
       "      <td>62</td>\n",
       "      <td>A</td>\n",
       "      <td>2</td>\n",
       "      <td>0</td>\n",
       "      <td>0</td>\n",
       "      <td>BB</td>\n",
       "      <td>AUT</td>\n",
       "      <td>2</td>\n",
       "      <td>2</td>\n",
       "      <td>0</td>\n",
       "      <td>Transient</td>\n",
       "      <td>TA/TO</td>\n",
       "      <td>0</td>\n",
       "      <td>0</td>\n",
       "      <td>0</td>\n",
       "      <td>0</td>\n",
       "      <td>0</td>\n",
       "      <td>1</td>\n",
       "    </tr>\n",
       "    <tr>\n",
       "      <th>3</th>\n",
       "      <td>6089</td>\n",
       "      <td>2017-01-01</td>\n",
       "      <td>4</td>\n",
       "      <td>1</td>\n",
       "      <td>71</td>\n",
       "      <td>A</td>\n",
       "      <td>1</td>\n",
       "      <td>0</td>\n",
       "      <td>0</td>\n",
       "      <td>BB</td>\n",
       "      <td>PRT</td>\n",
       "      <td>2</td>\n",
       "      <td>2</td>\n",
       "      <td>0</td>\n",
       "      <td>Transient</td>\n",
       "      <td>TA/TO</td>\n",
       "      <td>0</td>\n",
       "      <td>0</td>\n",
       "      <td>0</td>\n",
       "      <td>0</td>\n",
       "      <td>0</td>\n",
       "      <td>1</td>\n",
       "    </tr>\n",
       "    <tr>\n",
       "      <th>4</th>\n",
       "      <td>6090</td>\n",
       "      <td>2017-01-01</td>\n",
       "      <td>7</td>\n",
       "      <td>1</td>\n",
       "      <td>172</td>\n",
       "      <td>A</td>\n",
       "      <td>2</td>\n",
       "      <td>0</td>\n",
       "      <td>0</td>\n",
       "      <td>BB</td>\n",
       "      <td>BEL</td>\n",
       "      <td>2</td>\n",
       "      <td>5</td>\n",
       "      <td>0</td>\n",
       "      <td>Transient</td>\n",
       "      <td>TA/TO</td>\n",
       "      <td>0</td>\n",
       "      <td>0</td>\n",
       "      <td>0</td>\n",
       "      <td>0</td>\n",
       "      <td>0</td>\n",
       "      <td>0</td>\n",
       "    </tr>\n",
       "  </tbody>\n",
       "</table>\n",
       "</div>"
      ],
      "text/plain": [
       "     id arrival_date  total_nights  is_canceled  lead_time reserved_room_type  \\\n",
       "0  6086   2017-01-01             1            1         74   A                  \n",
       "1  6087   2017-01-01             4            1         62   A                  \n",
       "2  6088   2017-01-01             4            1         62   A                  \n",
       "3  6089   2017-01-01             4            1         71   A                  \n",
       "4  6090   2017-01-01             7            1        172   A                  \n",
       "\n",
       "   adults  children  babies       meal country  stays_in_weekend_nights  \\\n",
       "0       2         0       0  BB            PRT                        1   \n",
       "1       2         0       0  BB            AUT                        2   \n",
       "2       2         0       0  BB            AUT                        2   \n",
       "3       1         0       0  BB            PRT                        2   \n",
       "4       2         0       0  BB            BEL                        2   \n",
       "\n",
       "   stays_in_week_nights  required_car_parking_spaces customer_type  \\\n",
       "0                     0                            0     Transient   \n",
       "1                     2                            0     Transient   \n",
       "2                     2                            0     Transient   \n",
       "3                     2                            0     Transient   \n",
       "4                     5                            0     Transient   \n",
       "\n",
       "  distribution_channel  days_in_waiting_list  booking_changes  \\\n",
       "0                TA/TO                     0                0   \n",
       "1                TA/TO                     0                0   \n",
       "2                TA/TO                     0                0   \n",
       "3                TA/TO                     0                0   \n",
       "4                TA/TO                     0                0   \n",
       "\n",
       "   is_repeated_guest  previous_bookings_not_canceled  previous_cancellations  \\\n",
       "0                  0                               0                       0   \n",
       "1                  0                               0                       0   \n",
       "2                  0                               0                       0   \n",
       "3                  0                               0                       0   \n",
       "4                  0                               0                       0   \n",
       "\n",
       "   total_of_special_requests  \n",
       "0                          0  \n",
       "1                          1  \n",
       "2                          1  \n",
       "3                          1  \n",
       "4                          0  "
      ]
     },
     "metadata": {},
     "output_type": "display_data"
    },
    {
     "name": "stdout",
     "output_type": "stream",
     "text": [
      "<class 'pandas.core.frame.DataFrame'>\n",
      "RangeIndex: 32412 entries, 0 to 32411\n",
      "Data columns (total 22 columns):\n",
      " #   Column                          Non-Null Count  Dtype         \n",
      "---  ------                          --------------  -----         \n",
      " 0   id                              32412 non-null  int64         \n",
      " 1   arrival_date                    32412 non-null  datetime64[ns]\n",
      " 2   total_nights                    32412 non-null  int64         \n",
      " 3   is_canceled                     32412 non-null  int64         \n",
      " 4   lead_time                       32412 non-null  int64         \n",
      " 5   reserved_room_type              32412 non-null  object        \n",
      " 6   adults                          32412 non-null  int64         \n",
      " 7   children                        32412 non-null  int64         \n",
      " 8   babies                          32412 non-null  int64         \n",
      " 9   meal                            32412 non-null  object        \n",
      " 10  country                         32412 non-null  object        \n",
      " 11  stays_in_weekend_nights         32412 non-null  int64         \n",
      " 12  stays_in_week_nights            32412 non-null  int64         \n",
      " 13  required_car_parking_spaces     32412 non-null  int64         \n",
      " 14  customer_type                   32412 non-null  object        \n",
      " 15  distribution_channel            32412 non-null  object        \n",
      " 16  days_in_waiting_list            32412 non-null  int64         \n",
      " 17  booking_changes                 32412 non-null  int64         \n",
      " 18  is_repeated_guest               32412 non-null  int64         \n",
      " 19  previous_bookings_not_canceled  32412 non-null  int64         \n",
      " 20  previous_cancellations          32412 non-null  int64         \n",
      " 21  total_of_special_requests       32412 non-null  int64         \n",
      "dtypes: datetime64[ns](1), int64(16), object(5)\n",
      "memory usage: 5.4+ MB\n",
      "\n"
     ]
    }
   ],
   "source": [
    "# переведём целочисленные значения столбцов из 'float' в 'int'\n",
    "columns = ['lead_time', 'adults', 'children', 'babies']\n",
    "\n",
    "def col(df):\n",
    "    for j in columns:\n",
    "        df[j]=df[j].astype('int')\n",
    "\n",
    "for i in [df1, df2]:\n",
    "    col(i)   \n",
    "    \n",
    "for i in [df1, df2]:\n",
    "    info(i)\n"
   ]
  },
  {
   "cell_type": "code",
   "execution_count": 7,
   "metadata": {
    "scrolled": true
   },
   "outputs": [
    {
     "data": {
      "image/png": "[encoded data removed]",
      "text/plain": [
       "<Figure size 1080x1440 with 20 Axes>"
      ]
     },
     "metadata": {
      "needs_background": "light"
     },
     "output_type": "display_data"
    }
   ],
   "source": [
    "# выведем общие гистограммы для всех числовых столбцов датафрейма для обучения\n",
    "df1.hist(figsize=(15, 20))\n",
    "plt.show()"
   ]
  },
  {
   "cell_type": "code",
   "execution_count": 8,
   "metadata": {},
   "outputs": [
    {
     "data": {
      "image/png": "[encoded data removed]",
      "text/plain": [
       "<Figure size 1080x1440 with 20 Axes>"
      ]
     },
     "metadata": {
      "needs_background": "light"
     },
     "output_type": "display_data"
    }
   ],
   "source": [
    "# выведем общие гистограммы для всех числовых столбцов датафрейма для теста\n",
    "df2.hist(figsize=(15, 20))\n",
    "plt.show()"
   ]
  },
  {
   "cell_type": "code",
   "execution_count": 9,
   "metadata": {},
   "outputs": [
    {
     "data": {
      "text/plain": [
       "id                                0\n",
       "arrival_date                      0\n",
       "total_nights                      0\n",
       "is_canceled                       0\n",
       "lead_time                         0\n",
       "reserved_room_type                0\n",
       "adults                            0\n",
       "children                          0\n",
       "babies                            0\n",
       "meal                              0\n",
       "country                           0\n",
       "stays_in_weekend_nights           0\n",
       "stays_in_week_nights              0\n",
       "required_car_parking_spaces       0\n",
       "customer_type                     0\n",
       "distribution_channel              0\n",
       "days_in_waiting_list              0\n",
       "booking_changes                   0\n",
       "is_repeated_guest                 0\n",
       "previous_bookings_not_canceled    0\n",
       "previous_cancellations            0\n",
       "total_of_special_requests         0\n",
       "dtype: int64"
      ]
     },
     "metadata": {},
     "output_type": "display_data"
    },
    {
     "name": "stdout",
     "output_type": "stream",
     "text": [
      "Количество явных дубликатов: 0\n",
      "\n"
     ]
    },
    {
     "data": {
      "text/plain": [
       "id                                0\n",
       "arrival_date                      0\n",
       "total_nights                      0\n",
       "is_canceled                       0\n",
       "lead_time                         0\n",
       "reserved_room_type                0\n",
       "adults                            0\n",
       "children                          0\n",
       "babies                            0\n",
       "meal                              0\n",
       "country                           0\n",
       "stays_in_weekend_nights           0\n",
       "stays_in_week_nights              0\n",
       "required_car_parking_spaces       0\n",
       "customer_type                     0\n",
       "distribution_channel              0\n",
       "days_in_waiting_list              0\n",
       "booking_changes                   0\n",
       "is_repeated_guest                 0\n",
       "previous_bookings_not_canceled    0\n",
       "previous_cancellations            0\n",
       "total_of_special_requests         0\n",
       "dtype: int64"
      ]
     },
     "metadata": {},
     "output_type": "display_data"
    },
    {
     "name": "stdout",
     "output_type": "stream",
     "text": [
      "Количество явных дубликатов: 0\n",
      "\n"
     ]
    }
   ],
   "source": [
    "# проверим наличие пропусков значений и количества явных дубликатов в данных\n",
    "def drop_dupl(df):\n",
    "    display(df.isna().sum())\n",
    "    print('Количество явных дубликатов:',df.duplicated().sum())\n",
    "    print()\n",
    "        \n",
    "for i in [df1, df2]:\n",
    "    drop_dupl(i)   "
   ]
  },
  {
   "cell_type": "markdown",
   "metadata": {},
   "source": [
    "В данных отсутствуют дубликаты и пропуски, проверим основные числовые значения столбцов датафреймов."
   ]
  },
  {
   "cell_type": "code",
   "execution_count": 10,
   "metadata": {},
   "outputs": [
    {
     "data": {
      "text/html": [
       "<div>\n",
       "<style scoped>\n",
       "    .dataframe tbody tr th:only-of-type {\n",
       "        vertical-align: middle;\n",
       "    }\n",
       "\n",
       "    .dataframe tbody tr th {\n",
       "        vertical-align: top;\n",
       "    }\n",
       "\n",
       "    .dataframe thead th {\n",
       "        text-align: right;\n",
       "    }\n",
       "</style>\n",
       "<table border=\"1\" class=\"dataframe\">\n",
       "  <thead>\n",
       "    <tr style=\"text-align: right;\">\n",
       "      <th></th>\n",
       "      <th>id</th>\n",
       "      <th>total_nights</th>\n",
       "      <th>is_canceled</th>\n",
       "      <th>lead_time</th>\n",
       "      <th>adults</th>\n",
       "      <th>children</th>\n",
       "      <th>babies</th>\n",
       "      <th>stays_in_weekend_nights</th>\n",
       "      <th>stays_in_week_nights</th>\n",
       "      <th>required_car_parking_spaces</th>\n",
       "      <th>days_in_waiting_list</th>\n",
       "      <th>booking_changes</th>\n",
       "      <th>is_repeated_guest</th>\n",
       "      <th>previous_bookings_not_canceled</th>\n",
       "      <th>previous_cancellations</th>\n",
       "      <th>total_of_special_requests</th>\n",
       "    </tr>\n",
       "  </thead>\n",
       "  <tbody>\n",
       "    <tr>\n",
       "      <th>count</th>\n",
       "      <td>65212.000000</td>\n",
       "      <td>65212.000000</td>\n",
       "      <td>65212.000000</td>\n",
       "      <td>65212.000000</td>\n",
       "      <td>65212.000000</td>\n",
       "      <td>65212.000000</td>\n",
       "      <td>65212.000000</td>\n",
       "      <td>65212.000000</td>\n",
       "      <td>65212.000000</td>\n",
       "      <td>65212.000000</td>\n",
       "      <td>65212.000000</td>\n",
       "      <td>65212.000000</td>\n",
       "      <td>65212.000000</td>\n",
       "      <td>65212.000000</td>\n",
       "      <td>65212.000000</td>\n",
       "      <td>65212.000000</td>\n",
       "    </tr>\n",
       "    <tr>\n",
       "      <th>mean</th>\n",
       "      <td>43543.756870</td>\n",
       "      <td>3.050052</td>\n",
       "      <td>0.368659</td>\n",
       "      <td>96.348034</td>\n",
       "      <td>1.836564</td>\n",
       "      <td>0.074894</td>\n",
       "      <td>0.007238</td>\n",
       "      <td>0.825170</td>\n",
       "      <td>2.224882</td>\n",
       "      <td>0.056661</td>\n",
       "      <td>3.335061</td>\n",
       "      <td>0.194243</td>\n",
       "      <td>0.027158</td>\n",
       "      <td>0.107741</td>\n",
       "      <td>0.128949</td>\n",
       "      <td>0.512789</td>\n",
       "    </tr>\n",
       "    <tr>\n",
       "      <th>std</th>\n",
       "      <td>25613.944048</td>\n",
       "      <td>1.738183</td>\n",
       "      <td>0.482445</td>\n",
       "      <td>96.134168</td>\n",
       "      <td>0.480279</td>\n",
       "      <td>0.334265</td>\n",
       "      <td>0.098802</td>\n",
       "      <td>0.853518</td>\n",
       "      <td>1.355034</td>\n",
       "      <td>0.232123</td>\n",
       "      <td>18.241851</td>\n",
       "      <td>0.593790</td>\n",
       "      <td>0.162544</td>\n",
       "      <td>1.326810</td>\n",
       "      <td>0.965449</td>\n",
       "      <td>0.752563</td>\n",
       "    </tr>\n",
       "    <tr>\n",
       "      <th>min</th>\n",
       "      <td>0.000000</td>\n",
       "      <td>1.000000</td>\n",
       "      <td>0.000000</td>\n",
       "      <td>0.000000</td>\n",
       "      <td>0.000000</td>\n",
       "      <td>0.000000</td>\n",
       "      <td>0.000000</td>\n",
       "      <td>0.000000</td>\n",
       "      <td>0.000000</td>\n",
       "      <td>0.000000</td>\n",
       "      <td>0.000000</td>\n",
       "      <td>0.000000</td>\n",
       "      <td>0.000000</td>\n",
       "      <td>0.000000</td>\n",
       "      <td>0.000000</td>\n",
       "      <td>0.000000</td>\n",
       "    </tr>\n",
       "    <tr>\n",
       "      <th>25%</th>\n",
       "      <td>19108.750000</td>\n",
       "      <td>2.000000</td>\n",
       "      <td>0.000000</td>\n",
       "      <td>17.000000</td>\n",
       "      <td>2.000000</td>\n",
       "      <td>0.000000</td>\n",
       "      <td>0.000000</td>\n",
       "      <td>0.000000</td>\n",
       "      <td>1.000000</td>\n",
       "      <td>0.000000</td>\n",
       "      <td>0.000000</td>\n",
       "      <td>0.000000</td>\n",
       "      <td>0.000000</td>\n",
       "      <td>0.000000</td>\n",
       "      <td>0.000000</td>\n",
       "      <td>0.000000</td>\n",
       "    </tr>\n",
       "    <tr>\n",
       "      <th>50%</th>\n",
       "      <td>40553.500000</td>\n",
       "      <td>3.000000</td>\n",
       "      <td>0.000000</td>\n",
       "      <td>64.000000</td>\n",
       "      <td>2.000000</td>\n",
       "      <td>0.000000</td>\n",
       "      <td>0.000000</td>\n",
       "      <td>1.000000</td>\n",
       "      <td>2.000000</td>\n",
       "      <td>0.000000</td>\n",
       "      <td>0.000000</td>\n",
       "      <td>0.000000</td>\n",
       "      <td>0.000000</td>\n",
       "      <td>0.000000</td>\n",
       "      <td>0.000000</td>\n",
       "      <td>0.000000</td>\n",
       "    </tr>\n",
       "    <tr>\n",
       "      <th>75%</th>\n",
       "      <td>67414.250000</td>\n",
       "      <td>4.000000</td>\n",
       "      <td>1.000000</td>\n",
       "      <td>151.000000</td>\n",
       "      <td>2.000000</td>\n",
       "      <td>0.000000</td>\n",
       "      <td>0.000000</td>\n",
       "      <td>2.000000</td>\n",
       "      <td>3.000000</td>\n",
       "      <td>0.000000</td>\n",
       "      <td>0.000000</td>\n",
       "      <td>0.000000</td>\n",
       "      <td>0.000000</td>\n",
       "      <td>0.000000</td>\n",
       "      <td>0.000000</td>\n",
       "      <td>1.000000</td>\n",
       "    </tr>\n",
       "    <tr>\n",
       "      <th>max</th>\n",
       "      <td>84121.000000</td>\n",
       "      <td>10.000000</td>\n",
       "      <td>1.000000</td>\n",
       "      <td>374.000000</td>\n",
       "      <td>4.000000</td>\n",
       "      <td>3.000000</td>\n",
       "      <td>10.000000</td>\n",
       "      <td>4.000000</td>\n",
       "      <td>6.000000</td>\n",
       "      <td>3.000000</td>\n",
       "      <td>259.000000</td>\n",
       "      <td>17.000000</td>\n",
       "      <td>1.000000</td>\n",
       "      <td>58.000000</td>\n",
       "      <td>26.000000</td>\n",
       "      <td>5.000000</td>\n",
       "    </tr>\n",
       "  </tbody>\n",
       "</table>\n",
       "</div>"
      ],
      "text/plain": [
       "                 id  total_nights   is_canceled     lead_time        adults  \\\n",
       "count  65212.000000  65212.000000  65212.000000  65212.000000  65212.000000   \n",
       "mean   43543.756870      3.050052      0.368659     96.348034      1.836564   \n",
       "std    25613.944048      1.738183      0.482445     96.134168      0.480279   \n",
       "min        0.000000      1.000000      0.000000      0.000000      0.000000   \n",
       "25%    19108.750000      2.000000      0.000000     17.000000      2.000000   \n",
       "50%    40553.500000      3.000000      0.000000     64.000000      2.000000   \n",
       "75%    67414.250000      4.000000      1.000000    151.000000      2.000000   \n",
       "max    84121.000000     10.000000      1.000000    374.000000      4.000000   \n",
       "\n",
       "           children        babies  stays_in_weekend_nights  \\\n",
       "count  65212.000000  65212.000000             65212.000000   \n",
       "mean       0.074894      0.007238                 0.825170   \n",
       "std        0.334265      0.098802                 0.853518   \n",
       "min        0.000000      0.000000                 0.000000   \n",
       "25%        0.000000      0.000000                 0.000000   \n",
       "50%        0.000000      0.000000                 1.000000   \n",
       "75%        0.000000      0.000000                 2.000000   \n",
       "max        3.000000     10.000000                 4.000000   \n",
       "\n",
       "       stays_in_week_nights  required_car_parking_spaces  \\\n",
       "count          65212.000000                 65212.000000   \n",
       "mean               2.224882                     0.056661   \n",
       "std                1.355034                     0.232123   \n",
       "min                0.000000                     0.000000   \n",
       "25%                1.000000                     0.000000   \n",
       "50%                2.000000                     0.000000   \n",
       "75%                3.000000                     0.000000   \n",
       "max                6.000000                     3.000000   \n",
       "\n",
       "       days_in_waiting_list  booking_changes  is_repeated_guest  \\\n",
       "count          65212.000000     65212.000000       65212.000000   \n",
       "mean               3.335061         0.194243           0.027158   \n",
       "std               18.241851         0.593790           0.162544   \n",
       "min                0.000000         0.000000           0.000000   \n",
       "25%                0.000000         0.000000           0.000000   \n",
       "50%                0.000000         0.000000           0.000000   \n",
       "75%                0.000000         0.000000           0.000000   \n",
       "max              259.000000        17.000000           1.000000   \n",
       "\n",
       "       previous_bookings_not_canceled  previous_cancellations  \\\n",
       "count                    65212.000000            65212.000000   \n",
       "mean                         0.107741                0.128949   \n",
       "std                          1.326810                0.965449   \n",
       "min                          0.000000                0.000000   \n",
       "25%                          0.000000                0.000000   \n",
       "50%                          0.000000                0.000000   \n",
       "75%                          0.000000                0.000000   \n",
       "max                         58.000000               26.000000   \n",
       "\n",
       "       total_of_special_requests  \n",
       "count               65212.000000  \n",
       "mean                    0.512789  \n",
       "std                     0.752563  \n",
       "min                     0.000000  \n",
       "25%                     0.000000  \n",
       "50%                     0.000000  \n",
       "75%                     1.000000  \n",
       "max                     5.000000  "
      ]
     },
     "execution_count": 10,
     "metadata": {},
     "output_type": "execute_result"
    }
   ],
   "source": [
    "# выводим числовые значения числовых столбцов датафрейма для обучения \n",
    "df1.describe()"
   ]
  },
  {
   "cell_type": "code",
   "execution_count": 11,
   "metadata": {},
   "outputs": [
    {
     "data": {
      "text/html": [
       "<div>\n",
       "<style scoped>\n",
       "    .dataframe tbody tr th:only-of-type {\n",
       "        vertical-align: middle;\n",
       "    }\n",
       "\n",
       "    .dataframe tbody tr th {\n",
       "        vertical-align: top;\n",
       "    }\n",
       "\n",
       "    .dataframe thead th {\n",
       "        text-align: right;\n",
       "    }\n",
       "</style>\n",
       "<table border=\"1\" class=\"dataframe\">\n",
       "  <thead>\n",
       "    <tr style=\"text-align: right;\">\n",
       "      <th></th>\n",
       "      <th>id</th>\n",
       "      <th>total_nights</th>\n",
       "      <th>is_canceled</th>\n",
       "      <th>lead_time</th>\n",
       "      <th>adults</th>\n",
       "      <th>children</th>\n",
       "      <th>babies</th>\n",
       "      <th>stays_in_weekend_nights</th>\n",
       "      <th>stays_in_week_nights</th>\n",
       "      <th>required_car_parking_spaces</th>\n",
       "      <th>days_in_waiting_list</th>\n",
       "      <th>booking_changes</th>\n",
       "      <th>is_repeated_guest</th>\n",
       "      <th>previous_bookings_not_canceled</th>\n",
       "      <th>previous_cancellations</th>\n",
       "      <th>total_of_special_requests</th>\n",
       "    </tr>\n",
       "  </thead>\n",
       "  <tbody>\n",
       "    <tr>\n",
       "      <th>count</th>\n",
       "      <td>32412.000000</td>\n",
       "      <td>32412.000000</td>\n",
       "      <td>32412.000000</td>\n",
       "      <td>32412.000000</td>\n",
       "      <td>32412.000000</td>\n",
       "      <td>32412.000000</td>\n",
       "      <td>32412.000000</td>\n",
       "      <td>32412.000000</td>\n",
       "      <td>32412.00000</td>\n",
       "      <td>32412.000000</td>\n",
       "      <td>32412.000000</td>\n",
       "      <td>32412.000000</td>\n",
       "      <td>32412.000000</td>\n",
       "      <td>32412.000000</td>\n",
       "      <td>32412.000000</td>\n",
       "      <td>32412.000000</td>\n",
       "    </tr>\n",
       "    <tr>\n",
       "      <th>mean</th>\n",
       "      <td>60131.505183</td>\n",
       "      <td>3.207979</td>\n",
       "      <td>0.388467</td>\n",
       "      <td>97.587869</td>\n",
       "      <td>1.858602</td>\n",
       "      <td>0.083765</td>\n",
       "      <td>0.005523</td>\n",
       "      <td>0.867888</td>\n",
       "      <td>2.34009</td>\n",
       "      <td>0.046248</td>\n",
       "      <td>0.262341</td>\n",
       "      <td>0.216741</td>\n",
       "      <td>0.031377</td>\n",
       "      <td>0.171418</td>\n",
       "      <td>0.011601</td>\n",
       "      <td>0.657781</td>\n",
       "    </tr>\n",
       "    <tr>\n",
       "      <th>std</th>\n",
       "      <td>29953.586177</td>\n",
       "      <td>1.738683</td>\n",
       "      <td>0.487409</td>\n",
       "      <td>86.507146</td>\n",
       "      <td>0.489341</td>\n",
       "      <td>0.343470</td>\n",
       "      <td>0.075757</td>\n",
       "      <td>0.853394</td>\n",
       "      <td>1.37517</td>\n",
       "      <td>0.219367</td>\n",
       "      <td>4.733027</td>\n",
       "      <td>0.640551</td>\n",
       "      <td>0.174338</td>\n",
       "      <td>1.875170</td>\n",
       "      <td>0.180473</td>\n",
       "      <td>0.834341</td>\n",
       "    </tr>\n",
       "    <tr>\n",
       "      <th>min</th>\n",
       "      <td>6086.000000</td>\n",
       "      <td>1.000000</td>\n",
       "      <td>0.000000</td>\n",
       "      <td>0.000000</td>\n",
       "      <td>0.000000</td>\n",
       "      <td>0.000000</td>\n",
       "      <td>0.000000</td>\n",
       "      <td>0.000000</td>\n",
       "      <td>0.00000</td>\n",
       "      <td>0.000000</td>\n",
       "      <td>0.000000</td>\n",
       "      <td>0.000000</td>\n",
       "      <td>0.000000</td>\n",
       "      <td>0.000000</td>\n",
       "      <td>0.000000</td>\n",
       "      <td>0.000000</td>\n",
       "    </tr>\n",
       "    <tr>\n",
       "      <th>25%</th>\n",
       "      <td>45291.750000</td>\n",
       "      <td>2.000000</td>\n",
       "      <td>0.000000</td>\n",
       "      <td>23.000000</td>\n",
       "      <td>2.000000</td>\n",
       "      <td>0.000000</td>\n",
       "      <td>0.000000</td>\n",
       "      <td>0.000000</td>\n",
       "      <td>1.00000</td>\n",
       "      <td>0.000000</td>\n",
       "      <td>0.000000</td>\n",
       "      <td>0.000000</td>\n",
       "      <td>0.000000</td>\n",
       "      <td>0.000000</td>\n",
       "      <td>0.000000</td>\n",
       "      <td>0.000000</td>\n",
       "    </tr>\n",
       "    <tr>\n",
       "      <th>50%</th>\n",
       "      <td>53394.500000</td>\n",
       "      <td>3.000000</td>\n",
       "      <td>0.000000</td>\n",
       "      <td>76.000000</td>\n",
       "      <td>2.000000</td>\n",
       "      <td>0.000000</td>\n",
       "      <td>0.000000</td>\n",
       "      <td>1.000000</td>\n",
       "      <td>2.00000</td>\n",
       "      <td>0.000000</td>\n",
       "      <td>0.000000</td>\n",
       "      <td>0.000000</td>\n",
       "      <td>0.000000</td>\n",
       "      <td>0.000000</td>\n",
       "      <td>0.000000</td>\n",
       "      <td>0.000000</td>\n",
       "    </tr>\n",
       "    <tr>\n",
       "      <th>75%</th>\n",
       "      <td>89800.250000</td>\n",
       "      <td>4.000000</td>\n",
       "      <td>1.000000</td>\n",
       "      <td>155.000000</td>\n",
       "      <td>2.000000</td>\n",
       "      <td>0.000000</td>\n",
       "      <td>0.000000</td>\n",
       "      <td>2.000000</td>\n",
       "      <td>3.00000</td>\n",
       "      <td>0.000000</td>\n",
       "      <td>0.000000</td>\n",
       "      <td>0.000000</td>\n",
       "      <td>0.000000</td>\n",
       "      <td>0.000000</td>\n",
       "      <td>0.000000</td>\n",
       "      <td>1.000000</td>\n",
       "    </tr>\n",
       "    <tr>\n",
       "      <th>max</th>\n",
       "      <td>97903.000000</td>\n",
       "      <td>10.000000</td>\n",
       "      <td>1.000000</td>\n",
       "      <td>373.000000</td>\n",
       "      <td>4.000000</td>\n",
       "      <td>3.000000</td>\n",
       "      <td>2.000000</td>\n",
       "      <td>4.000000</td>\n",
       "      <td>6.00000</td>\n",
       "      <td>8.000000</td>\n",
       "      <td>223.000000</td>\n",
       "      <td>18.000000</td>\n",
       "      <td>1.000000</td>\n",
       "      <td>72.000000</td>\n",
       "      <td>6.000000</td>\n",
       "      <td>5.000000</td>\n",
       "    </tr>\n",
       "  </tbody>\n",
       "</table>\n",
       "</div>"
      ],
      "text/plain": [
       "                 id  total_nights   is_canceled     lead_time        adults  \\\n",
       "count  32412.000000  32412.000000  32412.000000  32412.000000  32412.000000   \n",
       "mean   60131.505183      3.207979      0.388467     97.587869      1.858602   \n",
       "std    29953.586177      1.738683      0.487409     86.507146      0.489341   \n",
       "min     6086.000000      1.000000      0.000000      0.000000      0.000000   \n",
       "25%    45291.750000      2.000000      0.000000     23.000000      2.000000   \n",
       "50%    53394.500000      3.000000      0.000000     76.000000      2.000000   \n",
       "75%    89800.250000      4.000000      1.000000    155.000000      2.000000   \n",
       "max    97903.000000     10.000000      1.000000    373.000000      4.000000   \n",
       "\n",
       "           children        babies  stays_in_weekend_nights  \\\n",
       "count  32412.000000  32412.000000             32412.000000   \n",
       "mean       0.083765      0.005523                 0.867888   \n",
       "std        0.343470      0.075757                 0.853394   \n",
       "min        0.000000      0.000000                 0.000000   \n",
       "25%        0.000000      0.000000                 0.000000   \n",
       "50%        0.000000      0.000000                 1.000000   \n",
       "75%        0.000000      0.000000                 2.000000   \n",
       "max        3.000000      2.000000                 4.000000   \n",
       "\n",
       "       stays_in_week_nights  required_car_parking_spaces  \\\n",
       "count           32412.00000                 32412.000000   \n",
       "mean                2.34009                     0.046248   \n",
       "std                 1.37517                     0.219367   \n",
       "min                 0.00000                     0.000000   \n",
       "25%                 1.00000                     0.000000   \n",
       "50%                 2.00000                     0.000000   \n",
       "75%                 3.00000                     0.000000   \n",
       "max                 6.00000                     8.000000   \n",
       "\n",
       "       days_in_waiting_list  booking_changes  is_repeated_guest  \\\n",
       "count          32412.000000     32412.000000       32412.000000   \n",
       "mean               0.262341         0.216741           0.031377   \n",
       "std                4.733027         0.640551           0.174338   \n",
       "min                0.000000         0.000000           0.000000   \n",
       "25%                0.000000         0.000000           0.000000   \n",
       "50%                0.000000         0.000000           0.000000   \n",
       "75%                0.000000         0.000000           0.000000   \n",
       "max              223.000000        18.000000           1.000000   \n",
       "\n",
       "       previous_bookings_not_canceled  previous_cancellations  \\\n",
       "count                    32412.000000            32412.000000   \n",
       "mean                         0.171418                0.011601   \n",
       "std                          1.875170                0.180473   \n",
       "min                          0.000000                0.000000   \n",
       "25%                          0.000000                0.000000   \n",
       "50%                          0.000000                0.000000   \n",
       "75%                          0.000000                0.000000   \n",
       "max                         72.000000                6.000000   \n",
       "\n",
       "       total_of_special_requests  \n",
       "count               32412.000000  \n",
       "mean                    0.657781  \n",
       "std                     0.834341  \n",
       "min                     0.000000  \n",
       "25%                     0.000000  \n",
       "50%                     0.000000  \n",
       "75%                     1.000000  \n",
       "max                     5.000000  "
      ]
     },
     "execution_count": 11,
     "metadata": {},
     "output_type": "execute_result"
    }
   ],
   "source": [
    "# выводим числовые значения числовых столбцов датафрейма для теста \n",
    "df2.describe()"
   ]
  },
  {
   "cell_type": "markdown",
   "metadata": {},
   "source": [
    "По значениям видно аномальное значение в столбце 'adults' = 0, что теоретически не может быть, дети не могут бронировать и жить без взрослых. Уточним количество подобных записей."
   ]
  },
  {
   "cell_type": "code",
   "execution_count": 12,
   "metadata": {},
   "outputs": [
    {
     "data": {
      "text/html": [
       "<div>\n",
       "<style scoped>\n",
       "    .dataframe tbody tr th:only-of-type {\n",
       "        vertical-align: middle;\n",
       "    }\n",
       "\n",
       "    .dataframe tbody tr th {\n",
       "        vertical-align: top;\n",
       "    }\n",
       "\n",
       "    .dataframe thead th {\n",
       "        text-align: right;\n",
       "    }\n",
       "</style>\n",
       "<table border=\"1\" class=\"dataframe\">\n",
       "  <thead>\n",
       "    <tr style=\"text-align: right;\">\n",
       "      <th></th>\n",
       "      <th>id</th>\n",
       "      <th>arrival_date</th>\n",
       "      <th>total_nights</th>\n",
       "      <th>is_canceled</th>\n",
       "      <th>lead_time</th>\n",
       "      <th>reserved_room_type</th>\n",
       "      <th>adults</th>\n",
       "      <th>children</th>\n",
       "      <th>babies</th>\n",
       "      <th>meal</th>\n",
       "      <th>country</th>\n",
       "      <th>stays_in_weekend_nights</th>\n",
       "      <th>stays_in_week_nights</th>\n",
       "      <th>required_car_parking_spaces</th>\n",
       "      <th>customer_type</th>\n",
       "      <th>distribution_channel</th>\n",
       "      <th>days_in_waiting_list</th>\n",
       "      <th>booking_changes</th>\n",
       "      <th>is_repeated_guest</th>\n",
       "      <th>previous_bookings_not_canceled</th>\n",
       "      <th>previous_cancellations</th>\n",
       "      <th>total_of_special_requests</th>\n",
       "    </tr>\n",
       "  </thead>\n",
       "  <tbody>\n",
       "    <tr>\n",
       "      <th>17540</th>\n",
       "      <td>25480</td>\n",
       "      <td>2015-08-10</td>\n",
       "      <td>2</td>\n",
       "      <td>0</td>\n",
       "      <td>1</td>\n",
       "      <td>B</td>\n",
       "      <td>0</td>\n",
       "      <td>3</td>\n",
       "      <td>0</td>\n",
       "      <td>BB</td>\n",
       "      <td>PRT</td>\n",
       "      <td>1</td>\n",
       "      <td>1</td>\n",
       "      <td>0</td>\n",
       "      <td>Transient-Party</td>\n",
       "      <td>Direct</td>\n",
       "      <td>0</td>\n",
       "      <td>1</td>\n",
       "      <td>0</td>\n",
       "      <td>0</td>\n",
       "      <td>0</td>\n",
       "      <td>0</td>\n",
       "    </tr>\n",
       "    <tr>\n",
       "      <th>17598</th>\n",
       "      <td>25538</td>\n",
       "      <td>2015-08-11</td>\n",
       "      <td>3</td>\n",
       "      <td>0</td>\n",
       "      <td>104</td>\n",
       "      <td>B</td>\n",
       "      <td>0</td>\n",
       "      <td>2</td>\n",
       "      <td>0</td>\n",
       "      <td>BB</td>\n",
       "      <td>FRA</td>\n",
       "      <td>0</td>\n",
       "      <td>3</td>\n",
       "      <td>0</td>\n",
       "      <td>Transient-Party</td>\n",
       "      <td>TA/TO</td>\n",
       "      <td>0</td>\n",
       "      <td>1</td>\n",
       "      <td>0</td>\n",
       "      <td>0</td>\n",
       "      <td>0</td>\n",
       "      <td>2</td>\n",
       "    </tr>\n",
       "    <tr>\n",
       "      <th>17982</th>\n",
       "      <td>25922</td>\n",
       "      <td>2015-08-16</td>\n",
       "      <td>2</td>\n",
       "      <td>0</td>\n",
       "      <td>3</td>\n",
       "      <td>B</td>\n",
       "      <td>0</td>\n",
       "      <td>2</td>\n",
       "      <td>0</td>\n",
       "      <td>BB</td>\n",
       "      <td>PRT</td>\n",
       "      <td>2</td>\n",
       "      <td>0</td>\n",
       "      <td>0</td>\n",
       "      <td>Transient-Party</td>\n",
       "      <td>Direct</td>\n",
       "      <td>0</td>\n",
       "      <td>1</td>\n",
       "      <td>0</td>\n",
       "      <td>0</td>\n",
       "      <td>0</td>\n",
       "      <td>1</td>\n",
       "    </tr>\n",
       "    <tr>\n",
       "      <th>21556</th>\n",
       "      <td>29496</td>\n",
       "      <td>2015-10-19</td>\n",
       "      <td>4</td>\n",
       "      <td>1</td>\n",
       "      <td>48</td>\n",
       "      <td>B</td>\n",
       "      <td>0</td>\n",
       "      <td>2</td>\n",
       "      <td>0</td>\n",
       "      <td>BB</td>\n",
       "      <td>PRT</td>\n",
       "      <td>1</td>\n",
       "      <td>3</td>\n",
       "      <td>0</td>\n",
       "      <td>Transient-Party</td>\n",
       "      <td>TA/TO</td>\n",
       "      <td>0</td>\n",
       "      <td>0</td>\n",
       "      <td>0</td>\n",
       "      <td>0</td>\n",
       "      <td>0</td>\n",
       "      <td>1</td>\n",
       "    </tr>\n",
       "    <tr>\n",
       "      <th>22516</th>\n",
       "      <td>30456</td>\n",
       "      <td>2015-12-13</td>\n",
       "      <td>1</td>\n",
       "      <td>1</td>\n",
       "      <td>6</td>\n",
       "      <td>B</td>\n",
       "      <td>0</td>\n",
       "      <td>3</td>\n",
       "      <td>0</td>\n",
       "      <td>BB</td>\n",
       "      <td>PRT</td>\n",
       "      <td>1</td>\n",
       "      <td>0</td>\n",
       "      <td>0</td>\n",
       "      <td>Transient-Party</td>\n",
       "      <td>TA/TO</td>\n",
       "      <td>0</td>\n",
       "      <td>0</td>\n",
       "      <td>0</td>\n",
       "      <td>0</td>\n",
       "      <td>0</td>\n",
       "      <td>1</td>\n",
       "    </tr>\n",
       "    <tr>\n",
       "      <th>...</th>\n",
       "      <td>...</td>\n",
       "      <td>...</td>\n",
       "      <td>...</td>\n",
       "      <td>...</td>\n",
       "      <td>...</td>\n",
       "      <td>...</td>\n",
       "      <td>...</td>\n",
       "      <td>...</td>\n",
       "      <td>...</td>\n",
       "      <td>...</td>\n",
       "      <td>...</td>\n",
       "      <td>...</td>\n",
       "      <td>...</td>\n",
       "      <td>...</td>\n",
       "      <td>...</td>\n",
       "      <td>...</td>\n",
       "      <td>...</td>\n",
       "      <td>...</td>\n",
       "      <td>...</td>\n",
       "      <td>...</td>\n",
       "      <td>...</td>\n",
       "      <td>...</td>\n",
       "    </tr>\n",
       "    <tr>\n",
       "      <th>64751</th>\n",
       "      <td>83478</td>\n",
       "      <td>2016-12-21</td>\n",
       "      <td>5</td>\n",
       "      <td>0</td>\n",
       "      <td>197</td>\n",
       "      <td>A</td>\n",
       "      <td>0</td>\n",
       "      <td>3</td>\n",
       "      <td>0</td>\n",
       "      <td>HB</td>\n",
       "      <td>FRA</td>\n",
       "      <td>1</td>\n",
       "      <td>4</td>\n",
       "      <td>0</td>\n",
       "      <td>Transient-Party</td>\n",
       "      <td>TA/TO</td>\n",
       "      <td>0</td>\n",
       "      <td>7</td>\n",
       "      <td>0</td>\n",
       "      <td>0</td>\n",
       "      <td>0</td>\n",
       "      <td>0</td>\n",
       "    </tr>\n",
       "    <tr>\n",
       "      <th>64882</th>\n",
       "      <td>83610</td>\n",
       "      <td>2016-12-25</td>\n",
       "      <td>3</td>\n",
       "      <td>0</td>\n",
       "      <td>104</td>\n",
       "      <td>B</td>\n",
       "      <td>0</td>\n",
       "      <td>2</td>\n",
       "      <td>0</td>\n",
       "      <td>BB</td>\n",
       "      <td>PRT</td>\n",
       "      <td>2</td>\n",
       "      <td>1</td>\n",
       "      <td>0</td>\n",
       "      <td>Transient</td>\n",
       "      <td>TA/TO</td>\n",
       "      <td>0</td>\n",
       "      <td>1</td>\n",
       "      <td>0</td>\n",
       "      <td>0</td>\n",
       "      <td>0</td>\n",
       "      <td>2</td>\n",
       "    </tr>\n",
       "    <tr>\n",
       "      <th>64892</th>\n",
       "      <td>83620</td>\n",
       "      <td>2016-12-25</td>\n",
       "      <td>3</td>\n",
       "      <td>0</td>\n",
       "      <td>104</td>\n",
       "      <td>B</td>\n",
       "      <td>0</td>\n",
       "      <td>2</td>\n",
       "      <td>0</td>\n",
       "      <td>BB</td>\n",
       "      <td>FRA</td>\n",
       "      <td>2</td>\n",
       "      <td>1</td>\n",
       "      <td>0</td>\n",
       "      <td>Transient</td>\n",
       "      <td>TA/TO</td>\n",
       "      <td>0</td>\n",
       "      <td>0</td>\n",
       "      <td>0</td>\n",
       "      <td>0</td>\n",
       "      <td>0</td>\n",
       "      <td>2</td>\n",
       "    </tr>\n",
       "    <tr>\n",
       "      <th>64903</th>\n",
       "      <td>83633</td>\n",
       "      <td>2016-12-24</td>\n",
       "      <td>5</td>\n",
       "      <td>0</td>\n",
       "      <td>247</td>\n",
       "      <td>B</td>\n",
       "      <td>0</td>\n",
       "      <td>2</td>\n",
       "      <td>0</td>\n",
       "      <td>BB</td>\n",
       "      <td>PRT</td>\n",
       "      <td>2</td>\n",
       "      <td>3</td>\n",
       "      <td>0</td>\n",
       "      <td>Transient</td>\n",
       "      <td>TA/TO</td>\n",
       "      <td>0</td>\n",
       "      <td>0</td>\n",
       "      <td>0</td>\n",
       "      <td>0</td>\n",
       "      <td>0</td>\n",
       "      <td>1</td>\n",
       "    </tr>\n",
       "    <tr>\n",
       "      <th>64980</th>\n",
       "      <td>83710</td>\n",
       "      <td>2016-12-27</td>\n",
       "      <td>3</td>\n",
       "      <td>0</td>\n",
       "      <td>255</td>\n",
       "      <td>A</td>\n",
       "      <td>0</td>\n",
       "      <td>0</td>\n",
       "      <td>0</td>\n",
       "      <td>BB</td>\n",
       "      <td>PRT</td>\n",
       "      <td>0</td>\n",
       "      <td>3</td>\n",
       "      <td>0</td>\n",
       "      <td>Transient</td>\n",
       "      <td>TA/TO</td>\n",
       "      <td>0</td>\n",
       "      <td>3</td>\n",
       "      <td>0</td>\n",
       "      <td>0</td>\n",
       "      <td>0</td>\n",
       "      <td>0</td>\n",
       "    </tr>\n",
       "  </tbody>\n",
       "</table>\n",
       "<p>166 rows × 22 columns</p>\n",
       "</div>"
      ],
      "text/plain": [
       "          id arrival_date  total_nights  is_canceled  lead_time  \\\n",
       "17540  25480   2015-08-10             2            0          1   \n",
       "17598  25538   2015-08-11             3            0        104   \n",
       "17982  25922   2015-08-16             2            0          3   \n",
       "21556  29496   2015-10-19             4            1         48   \n",
       "22516  30456   2015-12-13             1            1          6   \n",
       "...      ...          ...           ...          ...        ...   \n",
       "64751  83478   2016-12-21             5            0        197   \n",
       "64882  83610   2016-12-25             3            0        104   \n",
       "64892  83620   2016-12-25             3            0        104   \n",
       "64903  83633   2016-12-24             5            0        247   \n",
       "64980  83710   2016-12-27             3            0        255   \n",
       "\n",
       "      reserved_room_type  adults  children  babies       meal country  \\\n",
       "17540   B                      0         3       0  BB            PRT   \n",
       "17598   B                      0         2       0  BB            FRA   \n",
       "17982   B                      0         2       0  BB            PRT   \n",
       "21556   B                      0         2       0  BB            PRT   \n",
       "22516   B                      0         3       0  BB            PRT   \n",
       "...                  ...     ...       ...     ...        ...     ...   \n",
       "64751   A                      0         3       0  HB            FRA   \n",
       "64882   B                      0         2       0  BB            PRT   \n",
       "64892   B                      0         2       0  BB            FRA   \n",
       "64903   B                      0         2       0  BB            PRT   \n",
       "64980   A                      0         0       0  BB            PRT   \n",
       "\n",
       "       stays_in_weekend_nights  stays_in_week_nights  \\\n",
       "17540                        1                     1   \n",
       "17598                        0                     3   \n",
       "17982                        2                     0   \n",
       "21556                        1                     3   \n",
       "22516                        1                     0   \n",
       "...                        ...                   ...   \n",
       "64751                        1                     4   \n",
       "64882                        2                     1   \n",
       "64892                        2                     1   \n",
       "64903                        2                     3   \n",
       "64980                        0                     3   \n",
       "\n",
       "       required_car_parking_spaces    customer_type distribution_channel  \\\n",
       "17540                            0  Transient-Party               Direct   \n",
       "17598                            0  Transient-Party                TA/TO   \n",
       "17982                            0  Transient-Party               Direct   \n",
       "21556                            0  Transient-Party                TA/TO   \n",
       "22516                            0  Transient-Party                TA/TO   \n",
       "...                            ...              ...                  ...   \n",
       "64751                            0  Transient-Party                TA/TO   \n",
       "64882                            0        Transient                TA/TO   \n",
       "64892                            0        Transient                TA/TO   \n",
       "64903                            0        Transient                TA/TO   \n",
       "64980                            0        Transient                TA/TO   \n",
       "\n",
       "       days_in_waiting_list  booking_changes  is_repeated_guest  \\\n",
       "17540                     0                1                  0   \n",
       "17598                     0                1                  0   \n",
       "17982                     0                1                  0   \n",
       "21556                     0                0                  0   \n",
       "22516                     0                0                  0   \n",
       "...                     ...              ...                ...   \n",
       "64751                     0                7                  0   \n",
       "64882                     0                1                  0   \n",
       "64892                     0                0                  0   \n",
       "64903                     0                0                  0   \n",
       "64980                     0                3                  0   \n",
       "\n",
       "       previous_bookings_not_canceled  previous_cancellations  \\\n",
       "17540                               0                       0   \n",
       "17598                               0                       0   \n",
       "17982                               0                       0   \n",
       "21556                               0                       0   \n",
       "22516                               0                       0   \n",
       "...                               ...                     ...   \n",
       "64751                               0                       0   \n",
       "64882                               0                       0   \n",
       "64892                               0                       0   \n",
       "64903                               0                       0   \n",
       "64980                               0                       0   \n",
       "\n",
       "       total_of_special_requests  \n",
       "17540                          0  \n",
       "17598                          2  \n",
       "17982                          1  \n",
       "21556                          1  \n",
       "22516                          1  \n",
       "...                          ...  \n",
       "64751                          0  \n",
       "64882                          2  \n",
       "64892                          2  \n",
       "64903                          1  \n",
       "64980                          0  \n",
       "\n",
       "[166 rows x 22 columns]"
      ]
     },
     "metadata": {},
     "output_type": "display_data"
    },
    {
     "name": "stdout",
     "output_type": "stream",
     "text": [
      "\n"
     ]
    },
    {
     "data": {
      "text/html": [
       "<div>\n",
       "<style scoped>\n",
       "    .dataframe tbody tr th:only-of-type {\n",
       "        vertical-align: middle;\n",
       "    }\n",
       "\n",
       "    .dataframe tbody tr th {\n",
       "        vertical-align: top;\n",
       "    }\n",
       "\n",
       "    .dataframe thead th {\n",
       "        text-align: right;\n",
       "    }\n",
       "</style>\n",
       "<table border=\"1\" class=\"dataframe\">\n",
       "  <thead>\n",
       "    <tr style=\"text-align: right;\">\n",
       "      <th></th>\n",
       "      <th>id</th>\n",
       "      <th>arrival_date</th>\n",
       "      <th>total_nights</th>\n",
       "      <th>is_canceled</th>\n",
       "      <th>lead_time</th>\n",
       "      <th>reserved_room_type</th>\n",
       "      <th>adults</th>\n",
       "      <th>children</th>\n",
       "      <th>babies</th>\n",
       "      <th>meal</th>\n",
       "      <th>country</th>\n",
       "      <th>stays_in_weekend_nights</th>\n",
       "      <th>stays_in_week_nights</th>\n",
       "      <th>required_car_parking_spaces</th>\n",
       "      <th>customer_type</th>\n",
       "      <th>distribution_channel</th>\n",
       "      <th>days_in_waiting_list</th>\n",
       "      <th>booking_changes</th>\n",
       "      <th>is_repeated_guest</th>\n",
       "      <th>previous_bookings_not_canceled</th>\n",
       "      <th>previous_cancellations</th>\n",
       "      <th>total_of_special_requests</th>\n",
       "    </tr>\n",
       "  </thead>\n",
       "  <tbody>\n",
       "    <tr>\n",
       "      <th>7743</th>\n",
       "      <td>44932</td>\n",
       "      <td>2017-01-02</td>\n",
       "      <td>4</td>\n",
       "      <td>1</td>\n",
       "      <td>111</td>\n",
       "      <td>B</td>\n",
       "      <td>0</td>\n",
       "      <td>2</td>\n",
       "      <td>0</td>\n",
       "      <td>BB</td>\n",
       "      <td>RUS</td>\n",
       "      <td>1</td>\n",
       "      <td>3</td>\n",
       "      <td>0</td>\n",
       "      <td>Transient</td>\n",
       "      <td>TA/TO</td>\n",
       "      <td>0</td>\n",
       "      <td>0</td>\n",
       "      <td>0</td>\n",
       "      <td>0</td>\n",
       "      <td>0</td>\n",
       "      <td>2</td>\n",
       "    </tr>\n",
       "    <tr>\n",
       "      <th>7751</th>\n",
       "      <td>44940</td>\n",
       "      <td>2017-01-02</td>\n",
       "      <td>5</td>\n",
       "      <td>1</td>\n",
       "      <td>268</td>\n",
       "      <td>B</td>\n",
       "      <td>0</td>\n",
       "      <td>2</td>\n",
       "      <td>0</td>\n",
       "      <td>BB</td>\n",
       "      <td>RUS</td>\n",
       "      <td>1</td>\n",
       "      <td>4</td>\n",
       "      <td>0</td>\n",
       "      <td>Transient</td>\n",
       "      <td>TA/TO</td>\n",
       "      <td>0</td>\n",
       "      <td>0</td>\n",
       "      <td>0</td>\n",
       "      <td>0</td>\n",
       "      <td>0</td>\n",
       "      <td>1</td>\n",
       "    </tr>\n",
       "    <tr>\n",
       "      <th>8772</th>\n",
       "      <td>45961</td>\n",
       "      <td>2017-02-05</td>\n",
       "      <td>7</td>\n",
       "      <td>1</td>\n",
       "      <td>148</td>\n",
       "      <td>B</td>\n",
       "      <td>0</td>\n",
       "      <td>2</td>\n",
       "      <td>0</td>\n",
       "      <td>BB</td>\n",
       "      <td>FRA</td>\n",
       "      <td>2</td>\n",
       "      <td>5</td>\n",
       "      <td>0</td>\n",
       "      <td>Transient</td>\n",
       "      <td>TA/TO</td>\n",
       "      <td>0</td>\n",
       "      <td>0</td>\n",
       "      <td>0</td>\n",
       "      <td>0</td>\n",
       "      <td>0</td>\n",
       "      <td>2</td>\n",
       "    </tr>\n",
       "    <tr>\n",
       "      <th>9243</th>\n",
       "      <td>46432</td>\n",
       "      <td>2017-02-22</td>\n",
       "      <td>6</td>\n",
       "      <td>1</td>\n",
       "      <td>134</td>\n",
       "      <td>B</td>\n",
       "      <td>0</td>\n",
       "      <td>2</td>\n",
       "      <td>0</td>\n",
       "      <td>BB</td>\n",
       "      <td>BRA</td>\n",
       "      <td>2</td>\n",
       "      <td>4</td>\n",
       "      <td>0</td>\n",
       "      <td>Transient</td>\n",
       "      <td>TA/TO</td>\n",
       "      <td>0</td>\n",
       "      <td>0</td>\n",
       "      <td>0</td>\n",
       "      <td>0</td>\n",
       "      <td>0</td>\n",
       "      <td>1</td>\n",
       "    </tr>\n",
       "    <tr>\n",
       "      <th>9305</th>\n",
       "      <td>46494</td>\n",
       "      <td>2017-02-24</td>\n",
       "      <td>4</td>\n",
       "      <td>1</td>\n",
       "      <td>148</td>\n",
       "      <td>B</td>\n",
       "      <td>0</td>\n",
       "      <td>2</td>\n",
       "      <td>0</td>\n",
       "      <td>BB</td>\n",
       "      <td>BRA</td>\n",
       "      <td>2</td>\n",
       "      <td>2</td>\n",
       "      <td>0</td>\n",
       "      <td>Transient</td>\n",
       "      <td>TA/TO</td>\n",
       "      <td>0</td>\n",
       "      <td>1</td>\n",
       "      <td>0</td>\n",
       "      <td>0</td>\n",
       "      <td>0</td>\n",
       "      <td>1</td>\n",
       "    </tr>\n",
       "    <tr>\n",
       "      <th>...</th>\n",
       "      <td>...</td>\n",
       "      <td>...</td>\n",
       "      <td>...</td>\n",
       "      <td>...</td>\n",
       "      <td>...</td>\n",
       "      <td>...</td>\n",
       "      <td>...</td>\n",
       "      <td>...</td>\n",
       "      <td>...</td>\n",
       "      <td>...</td>\n",
       "      <td>...</td>\n",
       "      <td>...</td>\n",
       "      <td>...</td>\n",
       "      <td>...</td>\n",
       "      <td>...</td>\n",
       "      <td>...</td>\n",
       "      <td>...</td>\n",
       "      <td>...</td>\n",
       "      <td>...</td>\n",
       "      <td>...</td>\n",
       "      <td>...</td>\n",
       "      <td>...</td>\n",
       "    </tr>\n",
       "    <tr>\n",
       "      <th>30601</th>\n",
       "      <td>96093</td>\n",
       "      <td>2017-07-27</td>\n",
       "      <td>4</td>\n",
       "      <td>0</td>\n",
       "      <td>296</td>\n",
       "      <td>B</td>\n",
       "      <td>0</td>\n",
       "      <td>2</td>\n",
       "      <td>0</td>\n",
       "      <td>BB</td>\n",
       "      <td>GBR</td>\n",
       "      <td>1</td>\n",
       "      <td>3</td>\n",
       "      <td>0</td>\n",
       "      <td>Transient</td>\n",
       "      <td>TA/TO</td>\n",
       "      <td>0</td>\n",
       "      <td>0</td>\n",
       "      <td>0</td>\n",
       "      <td>0</td>\n",
       "      <td>0</td>\n",
       "      <td>1</td>\n",
       "    </tr>\n",
       "    <tr>\n",
       "      <th>30654</th>\n",
       "      <td>96146</td>\n",
       "      <td>2017-07-30</td>\n",
       "      <td>3</td>\n",
       "      <td>0</td>\n",
       "      <td>276</td>\n",
       "      <td>B</td>\n",
       "      <td>0</td>\n",
       "      <td>2</td>\n",
       "      <td>0</td>\n",
       "      <td>BB</td>\n",
       "      <td>DEU</td>\n",
       "      <td>2</td>\n",
       "      <td>1</td>\n",
       "      <td>0</td>\n",
       "      <td>Transient</td>\n",
       "      <td>TA/TO</td>\n",
       "      <td>0</td>\n",
       "      <td>1</td>\n",
       "      <td>0</td>\n",
       "      <td>0</td>\n",
       "      <td>0</td>\n",
       "      <td>2</td>\n",
       "    </tr>\n",
       "    <tr>\n",
       "      <th>30678</th>\n",
       "      <td>96170</td>\n",
       "      <td>2017-07-29</td>\n",
       "      <td>4</td>\n",
       "      <td>0</td>\n",
       "      <td>291</td>\n",
       "      <td>B</td>\n",
       "      <td>0</td>\n",
       "      <td>2</td>\n",
       "      <td>0</td>\n",
       "      <td>BB</td>\n",
       "      <td>PRT</td>\n",
       "      <td>2</td>\n",
       "      <td>2</td>\n",
       "      <td>0</td>\n",
       "      <td>Transient</td>\n",
       "      <td>TA/TO</td>\n",
       "      <td>0</td>\n",
       "      <td>0</td>\n",
       "      <td>0</td>\n",
       "      <td>0</td>\n",
       "      <td>0</td>\n",
       "      <td>1</td>\n",
       "    </tr>\n",
       "    <tr>\n",
       "      <th>30815</th>\n",
       "      <td>96307</td>\n",
       "      <td>2017-07-31</td>\n",
       "      <td>4</td>\n",
       "      <td>0</td>\n",
       "      <td>159</td>\n",
       "      <td>A</td>\n",
       "      <td>0</td>\n",
       "      <td>2</td>\n",
       "      <td>0</td>\n",
       "      <td>SC</td>\n",
       "      <td>FRA</td>\n",
       "      <td>1</td>\n",
       "      <td>3</td>\n",
       "      <td>0</td>\n",
       "      <td>Transient</td>\n",
       "      <td>TA/TO</td>\n",
       "      <td>0</td>\n",
       "      <td>1</td>\n",
       "      <td>0</td>\n",
       "      <td>0</td>\n",
       "      <td>0</td>\n",
       "      <td>1</td>\n",
       "    </tr>\n",
       "    <tr>\n",
       "      <th>31418</th>\n",
       "      <td>96910</td>\n",
       "      <td>2017-08-12</td>\n",
       "      <td>4</td>\n",
       "      <td>0</td>\n",
       "      <td>10</td>\n",
       "      <td>B</td>\n",
       "      <td>0</td>\n",
       "      <td>3</td>\n",
       "      <td>0</td>\n",
       "      <td>BB</td>\n",
       "      <td>MAR</td>\n",
       "      <td>2</td>\n",
       "      <td>2</td>\n",
       "      <td>0</td>\n",
       "      <td>Transient-Party</td>\n",
       "      <td>Direct</td>\n",
       "      <td>0</td>\n",
       "      <td>1</td>\n",
       "      <td>0</td>\n",
       "      <td>0</td>\n",
       "      <td>0</td>\n",
       "      <td>1</td>\n",
       "    </tr>\n",
       "  </tbody>\n",
       "</table>\n",
       "<p>69 rows × 22 columns</p>\n",
       "</div>"
      ],
      "text/plain": [
       "          id arrival_date  total_nights  is_canceled  lead_time  \\\n",
       "7743   44932   2017-01-02             4            1        111   \n",
       "7751   44940   2017-01-02             5            1        268   \n",
       "8772   45961   2017-02-05             7            1        148   \n",
       "9243   46432   2017-02-22             6            1        134   \n",
       "9305   46494   2017-02-24             4            1        148   \n",
       "...      ...          ...           ...          ...        ...   \n",
       "30601  96093   2017-07-27             4            0        296   \n",
       "30654  96146   2017-07-30             3            0        276   \n",
       "30678  96170   2017-07-29             4            0        291   \n",
       "30815  96307   2017-07-31             4            0        159   \n",
       "31418  96910   2017-08-12             4            0         10   \n",
       "\n",
       "      reserved_room_type  adults  children  babies       meal country  \\\n",
       "7743    B                      0         2       0  BB            RUS   \n",
       "7751    B                      0         2       0  BB            RUS   \n",
       "8772    B                      0         2       0  BB            FRA   \n",
       "9243    B                      0         2       0  BB            BRA   \n",
       "9305    B                      0         2       0  BB            BRA   \n",
       "...                  ...     ...       ...     ...        ...     ...   \n",
       "30601   B                      0         2       0  BB            GBR   \n",
       "30654   B                      0         2       0  BB            DEU   \n",
       "30678   B                      0         2       0  BB            PRT   \n",
       "30815   A                      0         2       0  SC            FRA   \n",
       "31418   B                      0         3       0  BB            MAR   \n",
       "\n",
       "       stays_in_weekend_nights  stays_in_week_nights  \\\n",
       "7743                         1                     3   \n",
       "7751                         1                     4   \n",
       "8772                         2                     5   \n",
       "9243                         2                     4   \n",
       "9305                         2                     2   \n",
       "...                        ...                   ...   \n",
       "30601                        1                     3   \n",
       "30654                        2                     1   \n",
       "30678                        2                     2   \n",
       "30815                        1                     3   \n",
       "31418                        2                     2   \n",
       "\n",
       "       required_car_parking_spaces    customer_type distribution_channel  \\\n",
       "7743                             0        Transient                TA/TO   \n",
       "7751                             0        Transient                TA/TO   \n",
       "8772                             0        Transient                TA/TO   \n",
       "9243                             0        Transient                TA/TO   \n",
       "9305                             0        Transient                TA/TO   \n",
       "...                            ...              ...                  ...   \n",
       "30601                            0        Transient                TA/TO   \n",
       "30654                            0        Transient                TA/TO   \n",
       "30678                            0        Transient                TA/TO   \n",
       "30815                            0        Transient                TA/TO   \n",
       "31418                            0  Transient-Party               Direct   \n",
       "\n",
       "       days_in_waiting_list  booking_changes  is_repeated_guest  \\\n",
       "7743                      0                0                  0   \n",
       "7751                      0                0                  0   \n",
       "8772                      0                0                  0   \n",
       "9243                      0                0                  0   \n",
       "9305                      0                1                  0   \n",
       "...                     ...              ...                ...   \n",
       "30601                     0                0                  0   \n",
       "30654                     0                1                  0   \n",
       "30678                     0                0                  0   \n",
       "30815                     0                1                  0   \n",
       "31418                     0                1                  0   \n",
       "\n",
       "       previous_bookings_not_canceled  previous_cancellations  \\\n",
       "7743                                0                       0   \n",
       "7751                                0                       0   \n",
       "8772                                0                       0   \n",
       "9243                                0                       0   \n",
       "9305                                0                       0   \n",
       "...                               ...                     ...   \n",
       "30601                               0                       0   \n",
       "30654                               0                       0   \n",
       "30678                               0                       0   \n",
       "30815                               0                       0   \n",
       "31418                               0                       0   \n",
       "\n",
       "       total_of_special_requests  \n",
       "7743                           2  \n",
       "7751                           1  \n",
       "8772                           2  \n",
       "9243                           1  \n",
       "9305                           1  \n",
       "...                          ...  \n",
       "30601                          1  \n",
       "30654                          2  \n",
       "30678                          1  \n",
       "30815                          1  \n",
       "31418                          1  \n",
       "\n",
       "[69 rows x 22 columns]"
      ]
     },
     "metadata": {},
     "output_type": "display_data"
    }
   ],
   "source": [
    "# выведем бронирования без взрослых\n",
    "display(df1.query('adults == 0'))\n",
    "print()\n",
    "display(df2.query('adults == 0'))"
   ]
  },
  {
   "cell_type": "markdown",
   "metadata": {},
   "source": [
    "Подобных данных в датафреймах меньше 0.3%, удалим для чистоты исследования."
   ]
  },
  {
   "cell_type": "code",
   "execution_count": 13,
   "metadata": {},
   "outputs": [],
   "source": [
    "# удаляем аномальные данные в датафреймах\n",
    "df1 = df1.query('adults != 0').reset_index(drop=True)\n",
    "df2 = df2.query('adults != 0').reset_index(drop=True)"
   ]
  },
  {
   "cell_type": "code",
   "execution_count": 14,
   "metadata": {
    "scrolled": true
   },
   "outputs": [
    {
     "data": {
      "text/html": [
       "<div>\n",
       "<style scoped>\n",
       "    .dataframe tbody tr th:only-of-type {\n",
       "        vertical-align: middle;\n",
       "    }\n",
       "\n",
       "    .dataframe tbody tr th {\n",
       "        vertical-align: top;\n",
       "    }\n",
       "\n",
       "    .dataframe thead th {\n",
       "        text-align: right;\n",
       "    }\n",
       "</style>\n",
       "<table border=\"1\" class=\"dataframe\">\n",
       "  <thead>\n",
       "    <tr style=\"text-align: right;\">\n",
       "      <th></th>\n",
       "      <th>id</th>\n",
       "      <th>total_nights</th>\n",
       "      <th>is_canceled</th>\n",
       "      <th>lead_time</th>\n",
       "      <th>adults</th>\n",
       "      <th>children</th>\n",
       "      <th>babies</th>\n",
       "      <th>stays_in_weekend_nights</th>\n",
       "      <th>stays_in_week_nights</th>\n",
       "      <th>required_car_parking_spaces</th>\n",
       "      <th>days_in_waiting_list</th>\n",
       "      <th>booking_changes</th>\n",
       "      <th>is_repeated_guest</th>\n",
       "      <th>previous_bookings_not_canceled</th>\n",
       "      <th>previous_cancellations</th>\n",
       "      <th>total_of_special_requests</th>\n",
       "    </tr>\n",
       "  </thead>\n",
       "  <tbody>\n",
       "    <tr>\n",
       "      <th>id</th>\n",
       "      <td>1.000</td>\n",
       "      <td>-0.169</td>\n",
       "      <td>-0.241</td>\n",
       "      <td>0.005</td>\n",
       "      <td>0.007</td>\n",
       "      <td>0.002</td>\n",
       "      <td>-0.024</td>\n",
       "      <td>-0.095</td>\n",
       "      <td>-0.158</td>\n",
       "      <td>-0.114</td>\n",
       "      <td>-0.023</td>\n",
       "      <td>-0.003</td>\n",
       "      <td>0.003</td>\n",
       "      <td>0.017</td>\n",
       "      <td>-0.004</td>\n",
       "      <td>0.124</td>\n",
       "    </tr>\n",
       "    <tr>\n",
       "      <th>total_nights</th>\n",
       "      <td>-0.169</td>\n",
       "      <td>1.000</td>\n",
       "      <td>0.001</td>\n",
       "      <td>0.158</td>\n",
       "      <td>0.156</td>\n",
       "      <td>0.031</td>\n",
       "      <td>0.024</td>\n",
       "      <td>0.645</td>\n",
       "      <td>0.877</td>\n",
       "      <td>-0.029</td>\n",
       "      <td>-0.004</td>\n",
       "      <td>0.059</td>\n",
       "      <td>-0.114</td>\n",
       "      <td>-0.051</td>\n",
       "      <td>-0.009</td>\n",
       "      <td>0.112</td>\n",
       "    </tr>\n",
       "    <tr>\n",
       "      <th>is_canceled</th>\n",
       "      <td>-0.241</td>\n",
       "      <td>0.001</td>\n",
       "      <td>1.000</td>\n",
       "      <td>0.329</td>\n",
       "      <td>0.044</td>\n",
       "      <td>-0.017</td>\n",
       "      <td>-0.030</td>\n",
       "      <td>-0.014</td>\n",
       "      <td>0.011</td>\n",
       "      <td>-0.187</td>\n",
       "      <td>0.076</td>\n",
       "      <td>-0.143</td>\n",
       "      <td>-0.040</td>\n",
       "      <td>-0.046</td>\n",
       "      <td>0.153</td>\n",
       "      <td>-0.257</td>\n",
       "    </tr>\n",
       "    <tr>\n",
       "      <th>lead_time</th>\n",
       "      <td>0.005</td>\n",
       "      <td>0.158</td>\n",
       "      <td>0.329</td>\n",
       "      <td>1.000</td>\n",
       "      <td>0.122</td>\n",
       "      <td>-0.059</td>\n",
       "      <td>-0.024</td>\n",
       "      <td>0.047</td>\n",
       "      <td>0.173</td>\n",
       "      <td>-0.117</td>\n",
       "      <td>0.210</td>\n",
       "      <td>-0.007</td>\n",
       "      <td>-0.089</td>\n",
       "      <td>-0.062</td>\n",
       "      <td>0.143</td>\n",
       "      <td>-0.148</td>\n",
       "    </tr>\n",
       "    <tr>\n",
       "      <th>adults</th>\n",
       "      <td>0.007</td>\n",
       "      <td>0.156</td>\n",
       "      <td>0.044</td>\n",
       "      <td>0.122</td>\n",
       "      <td>1.000</td>\n",
       "      <td>0.052</td>\n",
       "      <td>0.021</td>\n",
       "      <td>0.121</td>\n",
       "      <td>0.124</td>\n",
       "      <td>0.012</td>\n",
       "      <td>-0.016</td>\n",
       "      <td>-0.052</td>\n",
       "      <td>-0.161</td>\n",
       "      <td>-0.118</td>\n",
       "      <td>0.002</td>\n",
       "      <td>0.181</td>\n",
       "    </tr>\n",
       "  </tbody>\n",
       "</table>\n",
       "</div>"
      ],
      "text/plain": [
       "                 id  total_nights  is_canceled  lead_time  adults  children  \\\n",
       "id            1.000        -0.169       -0.241      0.005   0.007     0.002   \n",
       "total_nights -0.169         1.000        0.001      0.158   0.156     0.031   \n",
       "is_canceled  -0.241         0.001        1.000      0.329   0.044    -0.017   \n",
       "lead_time     0.005         0.158        0.329      1.000   0.122    -0.059   \n",
       "adults        0.007         0.156        0.044      0.122   1.000     0.052   \n",
       "\n",
       "              babies  stays_in_weekend_nights  stays_in_week_nights  \\\n",
       "id            -0.024                   -0.095                -0.158   \n",
       "total_nights   0.024                    0.645                 0.877   \n",
       "is_canceled   -0.030                   -0.014                 0.011   \n",
       "lead_time     -0.024                    0.047                 0.173   \n",
       "adults         0.021                    0.121                 0.124   \n",
       "\n",
       "              required_car_parking_spaces  days_in_waiting_list  \\\n",
       "id                                 -0.114                -0.023   \n",
       "total_nights                       -0.029                -0.004   \n",
       "is_canceled                        -0.187                 0.076   \n",
       "lead_time                          -0.117                 0.210   \n",
       "adults                              0.012                -0.016   \n",
       "\n",
       "              booking_changes  is_repeated_guest  \\\n",
       "id                     -0.003              0.003   \n",
       "total_nights            0.059             -0.114   \n",
       "is_canceled            -0.143             -0.040   \n",
       "lead_time              -0.007             -0.089   \n",
       "adults                 -0.052             -0.161   \n",
       "\n",
       "              previous_bookings_not_canceled  previous_cancellations  \\\n",
       "id                                     0.017                  -0.004   \n",
       "total_nights                          -0.051                  -0.009   \n",
       "is_canceled                           -0.046                   0.153   \n",
       "lead_time                             -0.062                   0.143   \n",
       "adults                                -0.118                   0.002   \n",
       "\n",
       "              total_of_special_requests  \n",
       "id                                0.124  \n",
       "total_nights                      0.112  \n",
       "is_canceled                      -0.257  \n",
       "lead_time                        -0.148  \n",
       "adults                            0.181  "
      ]
     },
     "metadata": {},
     "output_type": "display_data"
    },
    {
     "data": {
      "text/html": [
       "<div>\n",
       "<style scoped>\n",
       "    .dataframe tbody tr th:only-of-type {\n",
       "        vertical-align: middle;\n",
       "    }\n",
       "\n",
       "    .dataframe tbody tr th {\n",
       "        vertical-align: top;\n",
       "    }\n",
       "\n",
       "    .dataframe thead th {\n",
       "        text-align: right;\n",
       "    }\n",
       "</style>\n",
       "<table border=\"1\" class=\"dataframe\">\n",
       "  <thead>\n",
       "    <tr style=\"text-align: right;\">\n",
       "      <th></th>\n",
       "      <th>id</th>\n",
       "      <th>total_nights</th>\n",
       "      <th>is_canceled</th>\n",
       "      <th>lead_time</th>\n",
       "      <th>adults</th>\n",
       "      <th>children</th>\n",
       "      <th>babies</th>\n",
       "      <th>stays_in_weekend_nights</th>\n",
       "      <th>stays_in_week_nights</th>\n",
       "      <th>required_car_parking_spaces</th>\n",
       "      <th>days_in_waiting_list</th>\n",
       "      <th>booking_changes</th>\n",
       "      <th>is_repeated_guest</th>\n",
       "      <th>previous_bookings_not_canceled</th>\n",
       "      <th>previous_cancellations</th>\n",
       "      <th>total_of_special_requests</th>\n",
       "    </tr>\n",
       "  </thead>\n",
       "  <tbody>\n",
       "    <tr>\n",
       "      <th>id</th>\n",
       "      <td>1.000</td>\n",
       "      <td>-0.125</td>\n",
       "      <td>-0.460</td>\n",
       "      <td>-0.047</td>\n",
       "      <td>0.037</td>\n",
       "      <td>-0.020</td>\n",
       "      <td>-0.012</td>\n",
       "      <td>-0.065</td>\n",
       "      <td>-0.118</td>\n",
       "      <td>-0.128</td>\n",
       "      <td>-0.027</td>\n",
       "      <td>0.023</td>\n",
       "      <td>-0.099</td>\n",
       "      <td>-0.036</td>\n",
       "      <td>-0.018</td>\n",
       "      <td>0.132</td>\n",
       "    </tr>\n",
       "    <tr>\n",
       "      <th>total_nights</th>\n",
       "      <td>-0.125</td>\n",
       "      <td>1.000</td>\n",
       "      <td>0.036</td>\n",
       "      <td>0.310</td>\n",
       "      <td>0.168</td>\n",
       "      <td>0.051</td>\n",
       "      <td>0.035</td>\n",
       "      <td>0.627</td>\n",
       "      <td>0.875</td>\n",
       "      <td>-0.052</td>\n",
       "      <td>0.019</td>\n",
       "      <td>0.042</td>\n",
       "      <td>-0.135</td>\n",
       "      <td>-0.072</td>\n",
       "      <td>-0.046</td>\n",
       "      <td>0.049</td>\n",
       "    </tr>\n",
       "    <tr>\n",
       "      <th>is_canceled</th>\n",
       "      <td>-0.460</td>\n",
       "      <td>0.036</td>\n",
       "      <td>1.000</td>\n",
       "      <td>0.238</td>\n",
       "      <td>0.079</td>\n",
       "      <td>0.011</td>\n",
       "      <td>-0.039</td>\n",
       "      <td>-0.002</td>\n",
       "      <td>0.047</td>\n",
       "      <td>-0.168</td>\n",
       "      <td>0.018</td>\n",
       "      <td>-0.137</td>\n",
       "      <td>-0.126</td>\n",
       "      <td>-0.065</td>\n",
       "      <td>-0.033</td>\n",
       "      <td>-0.218</td>\n",
       "    </tr>\n",
       "    <tr>\n",
       "      <th>lead_time</th>\n",
       "      <td>-0.047</td>\n",
       "      <td>0.310</td>\n",
       "      <td>0.238</td>\n",
       "      <td>1.000</td>\n",
       "      <td>0.196</td>\n",
       "      <td>0.044</td>\n",
       "      <td>0.003</td>\n",
       "      <td>0.164</td>\n",
       "      <td>0.290</td>\n",
       "      <td>-0.097</td>\n",
       "      <td>0.066</td>\n",
       "      <td>0.035</td>\n",
       "      <td>-0.169</td>\n",
       "      <td>-0.090</td>\n",
       "      <td>-0.059</td>\n",
       "      <td>0.029</td>\n",
       "    </tr>\n",
       "    <tr>\n",
       "      <th>adults</th>\n",
       "      <td>0.037</td>\n",
       "      <td>0.168</td>\n",
       "      <td>0.079</td>\n",
       "      <td>0.196</td>\n",
       "      <td>1.000</td>\n",
       "      <td>0.038</td>\n",
       "      <td>0.019</td>\n",
       "      <td>0.106</td>\n",
       "      <td>0.147</td>\n",
       "      <td>-0.016</td>\n",
       "      <td>-0.004</td>\n",
       "      <td>-0.059</td>\n",
       "      <td>-0.206</td>\n",
       "      <td>-0.141</td>\n",
       "      <td>-0.104</td>\n",
       "      <td>0.129</td>\n",
       "    </tr>\n",
       "  </tbody>\n",
       "</table>\n",
       "</div>"
      ],
      "text/plain": [
       "                 id  total_nights  is_canceled  lead_time  adults  children  \\\n",
       "id            1.000        -0.125       -0.460     -0.047   0.037    -0.020   \n",
       "total_nights -0.125         1.000        0.036      0.310   0.168     0.051   \n",
       "is_canceled  -0.460         0.036        1.000      0.238   0.079     0.011   \n",
       "lead_time    -0.047         0.310        0.238      1.000   0.196     0.044   \n",
       "adults        0.037         0.168        0.079      0.196   1.000     0.038   \n",
       "\n",
       "              babies  stays_in_weekend_nights  stays_in_week_nights  \\\n",
       "id            -0.012                   -0.065                -0.118   \n",
       "total_nights   0.035                    0.627                 0.875   \n",
       "is_canceled   -0.039                   -0.002                 0.047   \n",
       "lead_time      0.003                    0.164                 0.290   \n",
       "adults         0.019                    0.106                 0.147   \n",
       "\n",
       "              required_car_parking_spaces  days_in_waiting_list  \\\n",
       "id                                 -0.128                -0.027   \n",
       "total_nights                       -0.052                 0.019   \n",
       "is_canceled                        -0.168                 0.018   \n",
       "lead_time                          -0.097                 0.066   \n",
       "adults                             -0.016                -0.004   \n",
       "\n",
       "              booking_changes  is_repeated_guest  \\\n",
       "id                      0.023             -0.099   \n",
       "total_nights            0.042             -0.135   \n",
       "is_canceled            -0.137             -0.126   \n",
       "lead_time               0.035             -0.169   \n",
       "adults                 -0.059             -0.206   \n",
       "\n",
       "              previous_bookings_not_canceled  previous_cancellations  \\\n",
       "id                                    -0.036                  -0.018   \n",
       "total_nights                          -0.072                  -0.046   \n",
       "is_canceled                           -0.065                  -0.033   \n",
       "lead_time                             -0.090                  -0.059   \n",
       "adults                                -0.141                  -0.104   \n",
       "\n",
       "              total_of_special_requests  \n",
       "id                                0.132  \n",
       "total_nights                      0.049  \n",
       "is_canceled                      -0.218  \n",
       "lead_time                         0.029  \n",
       "adults                            0.129  "
      ]
     },
     "metadata": {},
     "output_type": "display_data"
    }
   ],
   "source": [
    "# выведем матрицу корреляций коэффициента Пирсона\n",
    "display(df1.corr().round(3).head())\n",
    "display(df2.corr().round(3).head())"
   ]
  },
  {
   "cell_type": "markdown",
   "metadata": {},
   "source": [
    "Корреляция наблюдается у значений столбца 'is_canceled' со столбцом 'lead_time' и 'total_nights' с 'stays_in_weekend_nights', 'stays_in_week_nights'. Но нас больше конечно интересует первая корреляция, связаная с 'отменой', т.е. 'отмена' коррелирует с количеством дней между датой бронирования и датой прибытия."
   ]
  },
  {
   "cell_type": "markdown",
   "metadata": {},
   "source": [
    "#### Вывод"
   ]
  },
  {
   "cell_type": "markdown",
   "metadata": {},
   "source": [
    " При предработке данных откорректировали целочисленные значения столбцов из 'float' в 'int', выявили аномальные 0 в столбце 'adults', удалили эти данные. Не выявили наличие явных дубликатов и пропусков в данных. Корреляцией Пирсона выявили зависимости данных. Данные готовы к дальнейшей работе, переходим к следующему шагу."
   ]
  },
  {
   "cell_type": "markdown",
   "metadata": {},
   "source": [
    "### Шаг 3. Формулировка ML-задачи на основе бизнес-задачи"
   ]
  },
  {
   "cell_type": "code",
   "execution_count": 15,
   "metadata": {},
   "outputs": [
    {
     "data": {
      "text/plain": [
       "Timestamp('2015-07-01 00:00:00')"
      ]
     },
     "metadata": {},
     "output_type": "display_data"
    },
    {
     "data": {
      "text/plain": [
       "Timestamp('2016-12-31 00:00:00')"
      ]
     },
     "metadata": {},
     "output_type": "display_data"
    }
   ],
   "source": [
    "# период исследования\n",
    "display(df1['arrival_date'].min())\n",
    "display(df1['arrival_date'].max())"
   ]
  },
  {
   "cell_type": "code",
   "execution_count": 16,
   "metadata": {},
   "outputs": [
    {
     "data": {
      "text/plain": [
       "Timestamp('2017-01-01 00:00:00')"
      ]
     },
     "metadata": {},
     "output_type": "display_data"
    },
    {
     "data": {
      "text/plain": [
       "Timestamp('2017-08-31 00:00:00')"
      ]
     },
     "metadata": {},
     "output_type": "display_data"
    }
   ],
   "source": [
    "display(df2['arrival_date'].min())\n",
    "display(df2['arrival_date'].max())"
   ]
  },
  {
   "cell_type": "code",
   "execution_count": 17,
   "metadata": {},
   "outputs": [],
   "source": [
    "# выделяем месяц для фильтра по сезонным коэффицентам\n",
    "df1['arrival_month'] = pd.DatetimeIndex(df1['arrival_date']).month\n",
    "df2['arrival_month'] = pd.DatetimeIndex(df2['arrival_date']).month\n"
   ]
  },
  {
   "cell_type": "code",
   "execution_count": 18,
   "metadata": {},
   "outputs": [],
   "source": [
    "# удалим, выявленные пробелы в категориях номеров\n",
    "df1.reserved_room_type = df1.reserved_room_type.str.strip()"
   ]
  },
  {
   "cell_type": "code",
   "execution_count": 19,
   "metadata": {},
   "outputs": [
    {
     "data": {
      "text/html": [
       "<div>\n",
       "<style scoped>\n",
       "    .dataframe tbody tr th:only-of-type {\n",
       "        vertical-align: middle;\n",
       "    }\n",
       "\n",
       "    .dataframe tbody tr th {\n",
       "        vertical-align: top;\n",
       "    }\n",
       "\n",
       "    .dataframe thead th {\n",
       "        text-align: right;\n",
       "    }\n",
       "</style>\n",
       "<table border=\"1\" class=\"dataframe\">\n",
       "  <thead>\n",
       "    <tr style=\"text-align: right;\">\n",
       "      <th></th>\n",
       "      <th>is_canceled</th>\n",
       "      <th>arrival_month</th>\n",
       "      <th>reserved_room_type</th>\n",
       "      <th>total_nights</th>\n",
       "    </tr>\n",
       "  </thead>\n",
       "  <tbody>\n",
       "    <tr>\n",
       "      <th>0</th>\n",
       "      <td>1</td>\n",
       "      <td>1</td>\n",
       "      <td>A</td>\n",
       "      <td>1</td>\n",
       "    </tr>\n",
       "    <tr>\n",
       "      <th>1</th>\n",
       "      <td>1</td>\n",
       "      <td>1</td>\n",
       "      <td>A</td>\n",
       "      <td>4</td>\n",
       "    </tr>\n",
       "    <tr>\n",
       "      <th>2</th>\n",
       "      <td>1</td>\n",
       "      <td>1</td>\n",
       "      <td>A</td>\n",
       "      <td>4</td>\n",
       "    </tr>\n",
       "    <tr>\n",
       "      <th>3</th>\n",
       "      <td>1</td>\n",
       "      <td>1</td>\n",
       "      <td>A</td>\n",
       "      <td>4</td>\n",
       "    </tr>\n",
       "    <tr>\n",
       "      <th>4</th>\n",
       "      <td>1</td>\n",
       "      <td>1</td>\n",
       "      <td>A</td>\n",
       "      <td>7</td>\n",
       "    </tr>\n",
       "  </tbody>\n",
       "</table>\n",
       "</div>"
      ],
      "text/plain": [
       "   is_canceled  arrival_month reserved_room_type  total_nights\n",
       "0            1              1   A                            1\n",
       "1            1              1   A                            4\n",
       "2            1              1   A                            4\n",
       "3            1              1   A                            4\n",
       "4            1              1   A                            7"
      ]
     },
     "execution_count": 19,
     "metadata": {},
     "output_type": "execute_result"
    }
   ],
   "source": [
    "#cоздадим отдельный датафрейм с нужными признаками\n",
    "df_profit = df2[['is_canceled', 'arrival_month', 'reserved_room_type', 'total_nights']]\n",
    "df_profit.head()\n",
    "\n"
   ]
  },
  {
   "cell_type": "code",
   "execution_count": 20,
   "metadata": {},
   "outputs": [],
   "source": [
    "# добавим к получившейся таблице значения стоимости комнат и обслуживания\n",
    "room_coast = pd.DataFrame({'reserved_room_type' : [i for i in sorted(df_profit.reserved_room_type.unique())],\n",
    "                         'price_per_night' : [1000, 800, 600, 550, 500, 450, 350],\n",
    "                         'service_price' : [400, 350, 350, 150, 150, 150, 150]})\n",
    "df_profit = df_profit.merge(room_coast, on='reserved_room_type', how='left')\n"
   ]
  },
  {
   "cell_type": "code",
   "execution_count": 21,
   "metadata": {},
   "outputs": [
    {
     "data": {
      "text/html": [
       "<div>\n",
       "<style scoped>\n",
       "    .dataframe tbody tr th:only-of-type {\n",
       "        vertical-align: middle;\n",
       "    }\n",
       "\n",
       "    .dataframe tbody tr th {\n",
       "        vertical-align: top;\n",
       "    }\n",
       "\n",
       "    .dataframe thead th {\n",
       "        text-align: right;\n",
       "    }\n",
       "</style>\n",
       "<table border=\"1\" class=\"dataframe\">\n",
       "  <thead>\n",
       "    <tr style=\"text-align: right;\">\n",
       "      <th></th>\n",
       "      <th>is_canceled</th>\n",
       "      <th>arrival_month</th>\n",
       "      <th>reserved_room_type</th>\n",
       "      <th>total_nights</th>\n",
       "      <th>price_per_night</th>\n",
       "      <th>service_price</th>\n",
       "      <th>koef</th>\n",
       "    </tr>\n",
       "  </thead>\n",
       "  <tbody>\n",
       "    <tr>\n",
       "      <th>0</th>\n",
       "      <td>1</td>\n",
       "      <td>1</td>\n",
       "      <td>A</td>\n",
       "      <td>1</td>\n",
       "      <td>1000</td>\n",
       "      <td>400</td>\n",
       "      <td>1.0</td>\n",
       "    </tr>\n",
       "    <tr>\n",
       "      <th>1</th>\n",
       "      <td>1</td>\n",
       "      <td>1</td>\n",
       "      <td>A</td>\n",
       "      <td>4</td>\n",
       "      <td>1000</td>\n",
       "      <td>400</td>\n",
       "      <td>1.0</td>\n",
       "    </tr>\n",
       "    <tr>\n",
       "      <th>2</th>\n",
       "      <td>1</td>\n",
       "      <td>1</td>\n",
       "      <td>A</td>\n",
       "      <td>4</td>\n",
       "      <td>1000</td>\n",
       "      <td>400</td>\n",
       "      <td>1.0</td>\n",
       "    </tr>\n",
       "    <tr>\n",
       "      <th>3</th>\n",
       "      <td>1</td>\n",
       "      <td>1</td>\n",
       "      <td>A</td>\n",
       "      <td>4</td>\n",
       "      <td>1000</td>\n",
       "      <td>400</td>\n",
       "      <td>1.0</td>\n",
       "    </tr>\n",
       "    <tr>\n",
       "      <th>4</th>\n",
       "      <td>1</td>\n",
       "      <td>1</td>\n",
       "      <td>A</td>\n",
       "      <td>7</td>\n",
       "      <td>1000</td>\n",
       "      <td>400</td>\n",
       "      <td>1.0</td>\n",
       "    </tr>\n",
       "    <tr>\n",
       "      <th>...</th>\n",
       "      <td>...</td>\n",
       "      <td>...</td>\n",
       "      <td>...</td>\n",
       "      <td>...</td>\n",
       "      <td>...</td>\n",
       "      <td>...</td>\n",
       "      <td>...</td>\n",
       "    </tr>\n",
       "    <tr>\n",
       "      <th>32338</th>\n",
       "      <td>0</td>\n",
       "      <td>8</td>\n",
       "      <td>A</td>\n",
       "      <td>6</td>\n",
       "      <td>1000</td>\n",
       "      <td>400</td>\n",
       "      <td>1.4</td>\n",
       "    </tr>\n",
       "    <tr>\n",
       "      <th>32339</th>\n",
       "      <td>0</td>\n",
       "      <td>8</td>\n",
       "      <td>A</td>\n",
       "      <td>7</td>\n",
       "      <td>1000</td>\n",
       "      <td>400</td>\n",
       "      <td>1.4</td>\n",
       "    </tr>\n",
       "    <tr>\n",
       "      <th>32340</th>\n",
       "      <td>0</td>\n",
       "      <td>8</td>\n",
       "      <td>A</td>\n",
       "      <td>7</td>\n",
       "      <td>1000</td>\n",
       "      <td>400</td>\n",
       "      <td>1.4</td>\n",
       "    </tr>\n",
       "    <tr>\n",
       "      <th>32341</th>\n",
       "      <td>0</td>\n",
       "      <td>8</td>\n",
       "      <td>D</td>\n",
       "      <td>7</td>\n",
       "      <td>550</td>\n",
       "      <td>150</td>\n",
       "      <td>1.4</td>\n",
       "    </tr>\n",
       "    <tr>\n",
       "      <th>32342</th>\n",
       "      <td>0</td>\n",
       "      <td>8</td>\n",
       "      <td>A</td>\n",
       "      <td>7</td>\n",
       "      <td>1000</td>\n",
       "      <td>400</td>\n",
       "      <td>1.4</td>\n",
       "    </tr>\n",
       "  </tbody>\n",
       "</table>\n",
       "<p>32343 rows × 7 columns</p>\n",
       "</div>"
      ],
      "text/plain": [
       "       is_canceled  arrival_month reserved_room_type  total_nights  \\\n",
       "0                1              1   A                            1   \n",
       "1                1              1   A                            4   \n",
       "2                1              1   A                            4   \n",
       "3                1              1   A                            4   \n",
       "4                1              1   A                            7   \n",
       "...            ...            ...                ...           ...   \n",
       "32338            0              8   A                            6   \n",
       "32339            0              8   A                            7   \n",
       "32340            0              8   A                            7   \n",
       "32341            0              8   D                            7   \n",
       "32342            0              8   A                            7   \n",
       "\n",
       "       price_per_night  service_price  koef  \n",
       "0                 1000            400   1.0  \n",
       "1                 1000            400   1.0  \n",
       "2                 1000            400   1.0  \n",
       "3                 1000            400   1.0  \n",
       "4                 1000            400   1.0  \n",
       "...                ...            ...   ...  \n",
       "32338             1000            400   1.4  \n",
       "32339             1000            400   1.4  \n",
       "32340             1000            400   1.4  \n",
       "32341              550            150   1.4  \n",
       "32342             1000            400   1.4  \n",
       "\n",
       "[32343 rows x 7 columns]"
      ]
     },
     "execution_count": 21,
     "metadata": {},
     "output_type": "execute_result"
    }
   ],
   "source": [
    "# добавим коэффициенты по сезону\n",
    "month_koef = pd.DataFrame({'arrival_month' : [i for i in df_profit.arrival_month.unique()],\n",
    "                          'koef' : [1, 1, 1.2, 1.2, 1.2, 1.4, 1.4, 1.4]})\n",
    "df_profit = df_profit.merge(month_koef, on='arrival_month', how='left')\n",
    "df_profit\n",
    "\n"
   ]
  },
  {
   "cell_type": "code",
   "execution_count": 22,
   "metadata": {},
   "outputs": [],
   "source": [
    "# создаем функцию для рассчета прибыли и убытка в зависимости от отмены брони\n",
    "def profit(data):\n",
    "    if data['is_canceled'] == 0:\n",
    "        income = data['price_per_night'] * data['koef'] * data['total_nights']\n",
    "        expenses = data['service_price'] * (1 + data['total_nights'] // 2)\n",
    "    else:\n",
    "        income = 0\n",
    "        expenses = data['service_price'] + (data['price_per_night'] * data['koef'])\n",
    "    profit = income - expenses\n",
    "    return profit"
   ]
  },
  {
   "cell_type": "code",
   "execution_count": 23,
   "metadata": {},
   "outputs": [],
   "source": [
    "# применим функцию с добавлением нового столбца 'total_profit' \n",
    "df_profit['total_profit'] = df_profit.apply(profit, axis=1)"
   ]
  },
  {
   "cell_type": "code",
   "execution_count": 24,
   "metadata": {},
   "outputs": [
    {
     "data": {
      "text/html": [
       "<div>\n",
       "<style scoped>\n",
       "    .dataframe tbody tr th:only-of-type {\n",
       "        vertical-align: middle;\n",
       "    }\n",
       "\n",
       "    .dataframe tbody tr th {\n",
       "        vertical-align: top;\n",
       "    }\n",
       "\n",
       "    .dataframe thead th {\n",
       "        text-align: right;\n",
       "    }\n",
       "</style>\n",
       "<table border=\"1\" class=\"dataframe\">\n",
       "  <thead>\n",
       "    <tr style=\"text-align: right;\">\n",
       "      <th></th>\n",
       "      <th>is_canceled</th>\n",
       "      <th>arrival_month</th>\n",
       "      <th>reserved_room_type</th>\n",
       "      <th>total_nights</th>\n",
       "      <th>price_per_night</th>\n",
       "      <th>service_price</th>\n",
       "      <th>koef</th>\n",
       "      <th>total_profit</th>\n",
       "    </tr>\n",
       "  </thead>\n",
       "  <tbody>\n",
       "    <tr>\n",
       "      <th>0</th>\n",
       "      <td>1</td>\n",
       "      <td>1</td>\n",
       "      <td>A</td>\n",
       "      <td>1</td>\n",
       "      <td>1000</td>\n",
       "      <td>400</td>\n",
       "      <td>1.0</td>\n",
       "      <td>-1400.0</td>\n",
       "    </tr>\n",
       "    <tr>\n",
       "      <th>1</th>\n",
       "      <td>1</td>\n",
       "      <td>1</td>\n",
       "      <td>A</td>\n",
       "      <td>4</td>\n",
       "      <td>1000</td>\n",
       "      <td>400</td>\n",
       "      <td>1.0</td>\n",
       "      <td>-1400.0</td>\n",
       "    </tr>\n",
       "    <tr>\n",
       "      <th>2</th>\n",
       "      <td>1</td>\n",
       "      <td>1</td>\n",
       "      <td>A</td>\n",
       "      <td>4</td>\n",
       "      <td>1000</td>\n",
       "      <td>400</td>\n",
       "      <td>1.0</td>\n",
       "      <td>-1400.0</td>\n",
       "    </tr>\n",
       "    <tr>\n",
       "      <th>3</th>\n",
       "      <td>1</td>\n",
       "      <td>1</td>\n",
       "      <td>A</td>\n",
       "      <td>4</td>\n",
       "      <td>1000</td>\n",
       "      <td>400</td>\n",
       "      <td>1.0</td>\n",
       "      <td>-1400.0</td>\n",
       "    </tr>\n",
       "    <tr>\n",
       "      <th>4</th>\n",
       "      <td>1</td>\n",
       "      <td>1</td>\n",
       "      <td>A</td>\n",
       "      <td>7</td>\n",
       "      <td>1000</td>\n",
       "      <td>400</td>\n",
       "      <td>1.0</td>\n",
       "      <td>-1400.0</td>\n",
       "    </tr>\n",
       "    <tr>\n",
       "      <th>...</th>\n",
       "      <td>...</td>\n",
       "      <td>...</td>\n",
       "      <td>...</td>\n",
       "      <td>...</td>\n",
       "      <td>...</td>\n",
       "      <td>...</td>\n",
       "      <td>...</td>\n",
       "      <td>...</td>\n",
       "    </tr>\n",
       "    <tr>\n",
       "      <th>32338</th>\n",
       "      <td>0</td>\n",
       "      <td>8</td>\n",
       "      <td>A</td>\n",
       "      <td>6</td>\n",
       "      <td>1000</td>\n",
       "      <td>400</td>\n",
       "      <td>1.4</td>\n",
       "      <td>6800.0</td>\n",
       "    </tr>\n",
       "    <tr>\n",
       "      <th>32339</th>\n",
       "      <td>0</td>\n",
       "      <td>8</td>\n",
       "      <td>A</td>\n",
       "      <td>7</td>\n",
       "      <td>1000</td>\n",
       "      <td>400</td>\n",
       "      <td>1.4</td>\n",
       "      <td>8200.0</td>\n",
       "    </tr>\n",
       "    <tr>\n",
       "      <th>32340</th>\n",
       "      <td>0</td>\n",
       "      <td>8</td>\n",
       "      <td>A</td>\n",
       "      <td>7</td>\n",
       "      <td>1000</td>\n",
       "      <td>400</td>\n",
       "      <td>1.4</td>\n",
       "      <td>8200.0</td>\n",
       "    </tr>\n",
       "    <tr>\n",
       "      <th>32341</th>\n",
       "      <td>0</td>\n",
       "      <td>8</td>\n",
       "      <td>D</td>\n",
       "      <td>7</td>\n",
       "      <td>550</td>\n",
       "      <td>150</td>\n",
       "      <td>1.4</td>\n",
       "      <td>4790.0</td>\n",
       "    </tr>\n",
       "    <tr>\n",
       "      <th>32342</th>\n",
       "      <td>0</td>\n",
       "      <td>8</td>\n",
       "      <td>A</td>\n",
       "      <td>7</td>\n",
       "      <td>1000</td>\n",
       "      <td>400</td>\n",
       "      <td>1.4</td>\n",
       "      <td>8200.0</td>\n",
       "    </tr>\n",
       "  </tbody>\n",
       "</table>\n",
       "<p>32343 rows × 8 columns</p>\n",
       "</div>"
      ],
      "text/plain": [
       "       is_canceled  arrival_month reserved_room_type  total_nights  \\\n",
       "0                1              1   A                            1   \n",
       "1                1              1   A                            4   \n",
       "2                1              1   A                            4   \n",
       "3                1              1   A                            4   \n",
       "4                1              1   A                            7   \n",
       "...            ...            ...                ...           ...   \n",
       "32338            0              8   A                            6   \n",
       "32339            0              8   A                            7   \n",
       "32340            0              8   A                            7   \n",
       "32341            0              8   D                            7   \n",
       "32342            0              8   A                            7   \n",
       "\n",
       "       price_per_night  service_price  koef  total_profit  \n",
       "0                 1000            400   1.0       -1400.0  \n",
       "1                 1000            400   1.0       -1400.0  \n",
       "2                 1000            400   1.0       -1400.0  \n",
       "3                 1000            400   1.0       -1400.0  \n",
       "4                 1000            400   1.0       -1400.0  \n",
       "...                ...            ...   ...           ...  \n",
       "32338             1000            400   1.4        6800.0  \n",
       "32339             1000            400   1.4        8200.0  \n",
       "32340             1000            400   1.4        8200.0  \n",
       "32341              550            150   1.4        4790.0  \n",
       "32342             1000            400   1.4        8200.0  \n",
       "\n",
       "[32343 rows x 8 columns]"
      ]
     },
     "metadata": {},
     "output_type": "display_data"
    },
    {
     "name": "stdout",
     "output_type": "stream",
     "text": [
      "Прибыль на тестовой выборке без депозита составляет: 32510590.0 руб.\n"
     ]
    }
   ],
   "source": [
    "# выведем общую прибыль на тестовой выборке\n",
    "display(df_profit)\n",
    "profit_no_deposite = df_profit['total_profit'].sum()\n",
    "print('Прибыль на тестовой выборке без депозита составляет:', profit_no_deposite, 'руб.')\n",
    "\n"
   ]
  },
  {
   "cell_type": "markdown",
   "metadata": {},
   "source": [
    "#### Вывод "
   ]
  },
  {
   "cell_type": "markdown",
   "metadata": {},
   "source": [
    "Общая прибыль 32510590  рублей. На разработку системы прогнозирования заложен бюджет — 400 000 рублей. Для отелей важно предсказать именно тех, кто отменит бронь и взять с таких постояльцев предоплату. Если постоялец всё-таки не отменит бронь, предоплата пойдёт в счёт оплаты. Если постоялец будет предсказан как не отменяющий бронь и предсказание будет неверное, отель понесёт убытки. Поэтому тут для разработки модели стоит ориентироваться на метрику recall, учитывая, что нужно минимизировать убытки.\n"
   ]
  },
  {
   "cell_type": "markdown",
   "metadata": {},
   "source": [
    "### Шаг 4. Разработка модели ML"
   ]
  },
  {
   "cell_type": "markdown",
   "metadata": {},
   "source": [
    "#### Исследуем баланс классов выборки"
   ]
  },
  {
   "cell_type": "code",
   "execution_count": 26,
   "metadata": {},
   "outputs": [
    {
     "name": "stdout",
     "output_type": "stream",
     "text": [
      "0    0.631138\n",
      "1    0.368862\n",
      "Name: is_canceled, dtype: float64\n"
     ]
    },
    {
     "data": {
      "image/png": "[encoded data removed]",
      "text/plain": [
       "<Figure size 432x288 with 1 Axes>"
      ]
     },
     "metadata": {
      "needs_background": "light"
     },
     "output_type": "display_data"
    }
   ],
   "source": [
    "# проверим, как часто в целевом признаке встречается класс «1» или «0»\n",
    "class_frequency = df1['is_canceled'].value_counts(normalize=True)\n",
    "print(class_frequency)\n",
    "\n",
    "class_frequency.plot(kind='bar')\n",
    "plt.show()"
   ]
  },
  {
   "cell_type": "code",
   "execution_count": 27,
   "metadata": {},
   "outputs": [
    {
     "data": {
      "text/html": [
       "<div>\n",
       "<style scoped>\n",
       "    .dataframe tbody tr th:only-of-type {\n",
       "        vertical-align: middle;\n",
       "    }\n",
       "\n",
       "    .dataframe tbody tr th {\n",
       "        vertical-align: top;\n",
       "    }\n",
       "\n",
       "    .dataframe thead th {\n",
       "        text-align: right;\n",
       "    }\n",
       "</style>\n",
       "<table border=\"1\" class=\"dataframe\">\n",
       "  <thead>\n",
       "    <tr style=\"text-align: right;\">\n",
       "      <th></th>\n",
       "      <th>id</th>\n",
       "      <th>arrival_date</th>\n",
       "      <th>total_nights</th>\n",
       "      <th>is_canceled</th>\n",
       "      <th>lead_time</th>\n",
       "      <th>reserved_room_type</th>\n",
       "      <th>adults</th>\n",
       "      <th>children</th>\n",
       "      <th>babies</th>\n",
       "      <th>meal</th>\n",
       "      <th>country</th>\n",
       "      <th>stays_in_weekend_nights</th>\n",
       "      <th>stays_in_week_nights</th>\n",
       "      <th>required_car_parking_spaces</th>\n",
       "      <th>customer_type</th>\n",
       "      <th>distribution_channel</th>\n",
       "      <th>days_in_waiting_list</th>\n",
       "      <th>booking_changes</th>\n",
       "      <th>is_repeated_guest</th>\n",
       "      <th>previous_bookings_not_canceled</th>\n",
       "      <th>previous_cancellations</th>\n",
       "      <th>total_of_special_requests</th>\n",
       "      <th>arrival_month</th>\n",
       "    </tr>\n",
       "  </thead>\n",
       "  <tbody>\n",
       "    <tr>\n",
       "      <th>0</th>\n",
       "      <td>0</td>\n",
       "      <td>2015-07-01</td>\n",
       "      <td>1</td>\n",
       "      <td>0</td>\n",
       "      <td>7</td>\n",
       "      <td>A</td>\n",
       "      <td>1</td>\n",
       "      <td>0</td>\n",
       "      <td>0</td>\n",
       "      <td>BB</td>\n",
       "      <td>GBR</td>\n",
       "      <td>0</td>\n",
       "      <td>1</td>\n",
       "      <td>0</td>\n",
       "      <td>Transient</td>\n",
       "      <td>Direct</td>\n",
       "      <td>0</td>\n",
       "      <td>0</td>\n",
       "      <td>0</td>\n",
       "      <td>0</td>\n",
       "      <td>0</td>\n",
       "      <td>0</td>\n",
       "      <td>7</td>\n",
       "    </tr>\n",
       "    <tr>\n",
       "      <th>1</th>\n",
       "      <td>1</td>\n",
       "      <td>2015-07-01</td>\n",
       "      <td>2</td>\n",
       "      <td>0</td>\n",
       "      <td>14</td>\n",
       "      <td>A</td>\n",
       "      <td>2</td>\n",
       "      <td>0</td>\n",
       "      <td>0</td>\n",
       "      <td>BB</td>\n",
       "      <td>GBR</td>\n",
       "      <td>0</td>\n",
       "      <td>2</td>\n",
       "      <td>0</td>\n",
       "      <td>Transient</td>\n",
       "      <td>TA/TO</td>\n",
       "      <td>0</td>\n",
       "      <td>0</td>\n",
       "      <td>0</td>\n",
       "      <td>0</td>\n",
       "      <td>0</td>\n",
       "      <td>1</td>\n",
       "      <td>7</td>\n",
       "    </tr>\n",
       "    <tr>\n",
       "      <th>2</th>\n",
       "      <td>2</td>\n",
       "      <td>2015-07-01</td>\n",
       "      <td>2</td>\n",
       "      <td>0</td>\n",
       "      <td>0</td>\n",
       "      <td>C</td>\n",
       "      <td>2</td>\n",
       "      <td>0</td>\n",
       "      <td>0</td>\n",
       "      <td>BB</td>\n",
       "      <td>PRT</td>\n",
       "      <td>0</td>\n",
       "      <td>2</td>\n",
       "      <td>0</td>\n",
       "      <td>Transient</td>\n",
       "      <td>Direct</td>\n",
       "      <td>0</td>\n",
       "      <td>0</td>\n",
       "      <td>0</td>\n",
       "      <td>0</td>\n",
       "      <td>0</td>\n",
       "      <td>0</td>\n",
       "      <td>7</td>\n",
       "    </tr>\n",
       "    <tr>\n",
       "      <th>3</th>\n",
       "      <td>3</td>\n",
       "      <td>2015-07-01</td>\n",
       "      <td>2</td>\n",
       "      <td>0</td>\n",
       "      <td>9</td>\n",
       "      <td>C</td>\n",
       "      <td>2</td>\n",
       "      <td>0</td>\n",
       "      <td>0</td>\n",
       "      <td>FB</td>\n",
       "      <td>PRT</td>\n",
       "      <td>0</td>\n",
       "      <td>2</td>\n",
       "      <td>0</td>\n",
       "      <td>Transient</td>\n",
       "      <td>Direct</td>\n",
       "      <td>0</td>\n",
       "      <td>0</td>\n",
       "      <td>0</td>\n",
       "      <td>0</td>\n",
       "      <td>0</td>\n",
       "      <td>1</td>\n",
       "      <td>7</td>\n",
       "    </tr>\n",
       "    <tr>\n",
       "      <th>4</th>\n",
       "      <td>4</td>\n",
       "      <td>2015-07-01</td>\n",
       "      <td>3</td>\n",
       "      <td>1</td>\n",
       "      <td>85</td>\n",
       "      <td>A</td>\n",
       "      <td>2</td>\n",
       "      <td>0</td>\n",
       "      <td>0</td>\n",
       "      <td>BB</td>\n",
       "      <td>PRT</td>\n",
       "      <td>0</td>\n",
       "      <td>3</td>\n",
       "      <td>0</td>\n",
       "      <td>Transient</td>\n",
       "      <td>TA/TO</td>\n",
       "      <td>0</td>\n",
       "      <td>0</td>\n",
       "      <td>0</td>\n",
       "      <td>0</td>\n",
       "      <td>0</td>\n",
       "      <td>1</td>\n",
       "      <td>7</td>\n",
       "    </tr>\n",
       "    <tr>\n",
       "      <th>...</th>\n",
       "      <td>...</td>\n",
       "      <td>...</td>\n",
       "      <td>...</td>\n",
       "      <td>...</td>\n",
       "      <td>...</td>\n",
       "      <td>...</td>\n",
       "      <td>...</td>\n",
       "      <td>...</td>\n",
       "      <td>...</td>\n",
       "      <td>...</td>\n",
       "      <td>...</td>\n",
       "      <td>...</td>\n",
       "      <td>...</td>\n",
       "      <td>...</td>\n",
       "      <td>...</td>\n",
       "      <td>...</td>\n",
       "      <td>...</td>\n",
       "      <td>...</td>\n",
       "      <td>...</td>\n",
       "      <td>...</td>\n",
       "      <td>...</td>\n",
       "      <td>...</td>\n",
       "      <td>...</td>\n",
       "    </tr>\n",
       "    <tr>\n",
       "      <th>65041</th>\n",
       "      <td>84057</td>\n",
       "      <td>2016-12-30</td>\n",
       "      <td>6</td>\n",
       "      <td>0</td>\n",
       "      <td>23</td>\n",
       "      <td>D</td>\n",
       "      <td>2</td>\n",
       "      <td>0</td>\n",
       "      <td>0</td>\n",
       "      <td>BB</td>\n",
       "      <td>CHN</td>\n",
       "      <td>2</td>\n",
       "      <td>4</td>\n",
       "      <td>0</td>\n",
       "      <td>Transient</td>\n",
       "      <td>TA/TO</td>\n",
       "      <td>0</td>\n",
       "      <td>0</td>\n",
       "      <td>0</td>\n",
       "      <td>0</td>\n",
       "      <td>0</td>\n",
       "      <td>2</td>\n",
       "      <td>12</td>\n",
       "    </tr>\n",
       "    <tr>\n",
       "      <th>65042</th>\n",
       "      <td>84063</td>\n",
       "      <td>2016-12-31</td>\n",
       "      <td>5</td>\n",
       "      <td>0</td>\n",
       "      <td>53</td>\n",
       "      <td>D</td>\n",
       "      <td>2</td>\n",
       "      <td>0</td>\n",
       "      <td>0</td>\n",
       "      <td>HB</td>\n",
       "      <td>FRA</td>\n",
       "      <td>2</td>\n",
       "      <td>3</td>\n",
       "      <td>0</td>\n",
       "      <td>Transient</td>\n",
       "      <td>TA/TO</td>\n",
       "      <td>0</td>\n",
       "      <td>0</td>\n",
       "      <td>0</td>\n",
       "      <td>0</td>\n",
       "      <td>0</td>\n",
       "      <td>3</td>\n",
       "      <td>12</td>\n",
       "    </tr>\n",
       "    <tr>\n",
       "      <th>65043</th>\n",
       "      <td>84094</td>\n",
       "      <td>2016-12-31</td>\n",
       "      <td>6</td>\n",
       "      <td>0</td>\n",
       "      <td>7</td>\n",
       "      <td>D</td>\n",
       "      <td>2</td>\n",
       "      <td>0</td>\n",
       "      <td>0</td>\n",
       "      <td>BB</td>\n",
       "      <td>FRA</td>\n",
       "      <td>2</td>\n",
       "      <td>4</td>\n",
       "      <td>0</td>\n",
       "      <td>Transient</td>\n",
       "      <td>TA/TO</td>\n",
       "      <td>0</td>\n",
       "      <td>0</td>\n",
       "      <td>0</td>\n",
       "      <td>0</td>\n",
       "      <td>0</td>\n",
       "      <td>1</td>\n",
       "      <td>12</td>\n",
       "    </tr>\n",
       "    <tr>\n",
       "      <th>65044</th>\n",
       "      <td>84117</td>\n",
       "      <td>2016-12-30</td>\n",
       "      <td>7</td>\n",
       "      <td>0</td>\n",
       "      <td>17</td>\n",
       "      <td>A</td>\n",
       "      <td>2</td>\n",
       "      <td>0</td>\n",
       "      <td>0</td>\n",
       "      <td>SC</td>\n",
       "      <td>FRA</td>\n",
       "      <td>2</td>\n",
       "      <td>5</td>\n",
       "      <td>0</td>\n",
       "      <td>Transient</td>\n",
       "      <td>TA/TO</td>\n",
       "      <td>0</td>\n",
       "      <td>0</td>\n",
       "      <td>0</td>\n",
       "      <td>0</td>\n",
       "      <td>0</td>\n",
       "      <td>1</td>\n",
       "      <td>12</td>\n",
       "    </tr>\n",
       "    <tr>\n",
       "      <th>65045</th>\n",
       "      <td>84121</td>\n",
       "      <td>2016-12-31</td>\n",
       "      <td>7</td>\n",
       "      <td>0</td>\n",
       "      <td>107</td>\n",
       "      <td>A</td>\n",
       "      <td>2</td>\n",
       "      <td>0</td>\n",
       "      <td>0</td>\n",
       "      <td>BB</td>\n",
       "      <td>FRA</td>\n",
       "      <td>2</td>\n",
       "      <td>5</td>\n",
       "      <td>0</td>\n",
       "      <td>Transient</td>\n",
       "      <td>TA/TO</td>\n",
       "      <td>0</td>\n",
       "      <td>0</td>\n",
       "      <td>0</td>\n",
       "      <td>0</td>\n",
       "      <td>0</td>\n",
       "      <td>0</td>\n",
       "      <td>12</td>\n",
       "    </tr>\n",
       "  </tbody>\n",
       "</table>\n",
       "<p>65046 rows × 23 columns</p>\n",
       "</div>"
      ],
      "text/plain": [
       "          id arrival_date  total_nights  is_canceled  lead_time  \\\n",
       "0          0   2015-07-01             1            0          7   \n",
       "1          1   2015-07-01             2            0         14   \n",
       "2          2   2015-07-01             2            0          0   \n",
       "3          3   2015-07-01             2            0          9   \n",
       "4          4   2015-07-01             3            1         85   \n",
       "...      ...          ...           ...          ...        ...   \n",
       "65041  84057   2016-12-30             6            0         23   \n",
       "65042  84063   2016-12-31             5            0         53   \n",
       "65043  84094   2016-12-31             6            0          7   \n",
       "65044  84117   2016-12-30             7            0         17   \n",
       "65045  84121   2016-12-31             7            0        107   \n",
       "\n",
       "      reserved_room_type  adults  children  babies       meal country  \\\n",
       "0                      A       1         0       0  BB            GBR   \n",
       "1                      A       2         0       0  BB            GBR   \n",
       "2                      C       2         0       0  BB            PRT   \n",
       "3                      C       2         0       0  FB            PRT   \n",
       "4                      A       2         0       0  BB            PRT   \n",
       "...                  ...     ...       ...     ...        ...     ...   \n",
       "65041                  D       2         0       0  BB            CHN   \n",
       "65042                  D       2         0       0  HB            FRA   \n",
       "65043                  D       2         0       0  BB            FRA   \n",
       "65044                  A       2         0       0  SC            FRA   \n",
       "65045                  A       2         0       0  BB            FRA   \n",
       "\n",
       "       stays_in_weekend_nights  stays_in_week_nights  \\\n",
       "0                            0                     1   \n",
       "1                            0                     2   \n",
       "2                            0                     2   \n",
       "3                            0                     2   \n",
       "4                            0                     3   \n",
       "...                        ...                   ...   \n",
       "65041                        2                     4   \n",
       "65042                        2                     3   \n",
       "65043                        2                     4   \n",
       "65044                        2                     5   \n",
       "65045                        2                     5   \n",
       "\n",
       "       required_car_parking_spaces customer_type distribution_channel  \\\n",
       "0                                0     Transient               Direct   \n",
       "1                                0     Transient                TA/TO   \n",
       "2                                0     Transient               Direct   \n",
       "3                                0     Transient               Direct   \n",
       "4                                0     Transient                TA/TO   \n",
       "...                            ...           ...                  ...   \n",
       "65041                            0     Transient                TA/TO   \n",
       "65042                            0     Transient                TA/TO   \n",
       "65043                            0     Transient                TA/TO   \n",
       "65044                            0     Transient                TA/TO   \n",
       "65045                            0     Transient                TA/TO   \n",
       "\n",
       "       days_in_waiting_list  booking_changes  is_repeated_guest  \\\n",
       "0                         0                0                  0   \n",
       "1                         0                0                  0   \n",
       "2                         0                0                  0   \n",
       "3                         0                0                  0   \n",
       "4                         0                0                  0   \n",
       "...                     ...              ...                ...   \n",
       "65041                     0                0                  0   \n",
       "65042                     0                0                  0   \n",
       "65043                     0                0                  0   \n",
       "65044                     0                0                  0   \n",
       "65045                     0                0                  0   \n",
       "\n",
       "       previous_bookings_not_canceled  previous_cancellations  \\\n",
       "0                                   0                       0   \n",
       "1                                   0                       0   \n",
       "2                                   0                       0   \n",
       "3                                   0                       0   \n",
       "4                                   0                       0   \n",
       "...                               ...                     ...   \n",
       "65041                               0                       0   \n",
       "65042                               0                       0   \n",
       "65043                               0                       0   \n",
       "65044                               0                       0   \n",
       "65045                               0                       0   \n",
       "\n",
       "       total_of_special_requests  arrival_month  \n",
       "0                              0              7  \n",
       "1                              1              7  \n",
       "2                              0              7  \n",
       "3                              1              7  \n",
       "4                              1              7  \n",
       "...                          ...            ...  \n",
       "65041                          2             12  \n",
       "65042                          3             12  \n",
       "65043                          1             12  \n",
       "65044                          1             12  \n",
       "65045                          0             12  \n",
       "\n",
       "[65046 rows x 23 columns]"
      ]
     },
     "metadata": {},
     "output_type": "display_data"
    }
   ],
   "source": [
    "display(df1)"
   ]
  },
  {
   "cell_type": "code",
   "execution_count": 29,
   "metadata": {},
   "outputs": [],
   "source": [
    "# кодируем данные обучающей выборки\n",
    "ohe = OneHotEncoder(handle_unknown='ignore',sparse=False)\n",
    "feature_arr = ohe.fit_transform(\n",
    "    df1[df1.select_dtypes(include=['object']).columns])\n",
    "\n",
    "feature_label = ohe.get_feature_names(df1.select_dtypes(include = ['object']).columns)\n",
    "ohe_train = pd.DataFrame(feature_arr, columns=feature_label)\n",
    "\n"
   ]
  },
  {
   "cell_type": "code",
   "execution_count": 30,
   "metadata": {},
   "outputs": [],
   "source": [
    "# кодируем данные тестовой выборки\n",
    "features_arr = ohe.transform(\n",
    "    df2[df2.select_dtypes(include=['object']).columns])\n",
    "ohe_test = pd.DataFrame(features_arr, columns=feature_label)\n",
    "\n"
   ]
  },
  {
   "cell_type": "code",
   "execution_count": 31,
   "metadata": {},
   "outputs": [
    {
     "name": "stdout",
     "output_type": "stream",
     "text": [
      "Кол-во строк и столбцов в ohe обучающей выборке: (65046, 163)\n",
      "Кол-во строк и столбцов в ohe тестовой выборке: (32343, 163)\n"
     ]
    }
   ],
   "source": [
    "print('Кол-во строк и столбцов в ohe обучающей выборке:', ohe_train.shape)\n",
    "print('Кол-во строк и столбцов в ohe тестовой выборке:', ohe_test.shape)"
   ]
  },
  {
   "cell_type": "markdown",
   "metadata": {},
   "source": [
    "Соединим закодированные данные с основным массивом и дропнем не кодированные категориальные столбцы:"
   ]
  },
  {
   "cell_type": "code",
   "execution_count": 32,
   "metadata": {},
   "outputs": [],
   "source": [
    "train = df1[df1.select_dtypes(include=['int','float']).columns]"
   ]
  },
  {
   "cell_type": "code",
   "execution_count": 33,
   "metadata": {},
   "outputs": [],
   "source": [
    "test = df2[df2.select_dtypes(include=['int','float']).columns]"
   ]
  },
  {
   "cell_type": "code",
   "execution_count": 34,
   "metadata": {},
   "outputs": [
    {
     "name": "stdout",
     "output_type": "stream",
     "text": [
      "Кол-во строк и столбцов t выборке: (65046, 17)\n",
      "Кол-во строк и столбцов m выборке: (32343, 17)\n"
     ]
    }
   ],
   "source": [
    "print('Кол-во строк и столбцов t выборке:', train.shape)\n",
    "print('Кол-во строк и столбцов m выборке:', test.shape)"
   ]
  },
  {
   "cell_type": "code",
   "execution_count": 35,
   "metadata": {},
   "outputs": [],
   "source": [
    "ohe_train = pd.merge(train, ohe_train, left_index=True, right_index=True)"
   ]
  },
  {
   "cell_type": "code",
   "execution_count": 36,
   "metadata": {},
   "outputs": [],
   "source": [
    "ohe_test = pd.merge(test, ohe_test, left_index=True, right_index=True)"
   ]
  },
  {
   "cell_type": "code",
   "execution_count": 37,
   "metadata": {},
   "outputs": [
    {
     "name": "stdout",
     "output_type": "stream",
     "text": [
      "Кол-во строк и столбцов в ohe обучающей выборке: (65046, 180)\n",
      "Кол-во строк и столбцов в ohe тестовой выборке: (32343, 180)\n"
     ]
    }
   ],
   "source": [
    "print('Кол-во строк и столбцов в ohe обучающей выборке:', ohe_train.shape)\n",
    "print('Кол-во строк и столбцов в ohe тестовой выборке:', ohe_test.shape)"
   ]
  },
  {
   "cell_type": "code",
   "execution_count": 38,
   "metadata": {},
   "outputs": [],
   "source": [
    "# извлекаем целевой признак\n",
    "target_train = ohe_train['is_canceled']"
   ]
  },
  {
   "cell_type": "code",
   "execution_count": 39,
   "metadata": {},
   "outputs": [],
   "source": [
    "# извлекаем признаки\n",
    "features_train = ohe_train.drop(['is_canceled'], axis=1)"
   ]
  },
  {
   "cell_type": "code",
   "execution_count": 40,
   "metadata": {},
   "outputs": [],
   "source": [
    "# выделяем данные для тестовой выборки\n",
    "features_test, target_test = ohe_test.drop(\n",
    "    columns='is_canceled', axis=1), ohe_test['is_canceled']\n"
   ]
  },
  {
   "cell_type": "code",
   "execution_count": 41,
   "metadata": {},
   "outputs": [
    {
     "name": "stdout",
     "output_type": "stream",
     "text": [
      "(65046, 179)\n",
      "(32343, 179)\n"
     ]
    }
   ],
   "source": [
    "# масштабируем данные \n",
    "scaler = StandardScaler()\n",
    "scaler.fit(features_train)\n",
    "features_train = scaler.transform(features_train)\n",
    "features_test = scaler.transform(features_test)\n",
    "\n",
    "print(features_train.shape)\n",
    "print(features_test.shape)"
   ]
  },
  {
   "cell_type": "code",
   "execution_count": 42,
   "metadata": {},
   "outputs": [],
   "source": [
    "# функция для графиков кроссвалидации чтобы понять, что наши результаты стабильны и не случайны\n",
    "def cross_val_plot(model, features, target):\n",
    "    plt.plot(cross_val_score(model, features, target, cv=5, scoring='recall', n_jobs=-1))\n",
    "    plt.title('Показатели Recall по блокам кроссвалидации')\n",
    "    plt.xlabel('Блок')\n",
    "    plt.ylabel('Метрика Recall')\n",
    "    plt.xticks([0, 1, 2, 3, 4, 5])\n",
    "    plt.show()\n",
    "    "
   ]
  },
  {
   "cell_type": "markdown",
   "metadata": {},
   "source": [
    "#### Исследуем recall трёх модели :"
   ]
  },
  {
   "cell_type": "markdown",
   "metadata": {},
   "source": [
    "##### Логистическая регрессия"
   ]
  },
  {
   "cell_type": "code",
   "execution_count": 43,
   "metadata": {},
   "outputs": [
    {
     "data": {
      "text/plain": [
       "GridSearchCV(cv=3, estimator=LogisticRegression(),\n",
       "             param_grid=[{'solver': ['lbfgs', 'liblinear', 'sag', 'saga']},\n",
       "                         {'penalty': ['l1', 'l2']}, {'C': [1, 10, 100]}],\n",
       "             scoring='recall')"
      ]
     },
     "execution_count": 43,
     "metadata": {},
     "output_type": "execute_result"
    }
   ],
   "source": [
    "# подбираем гиперпарамаметры для модели логической регрессии\n",
    "parameters = [{'solver': ['lbfgs', 'liblinear', 'sag', 'saga']},\n",
    "              {'penalty':['l1', 'l2']},\n",
    "              {'C':[1, 10, 100]}]\n",
    "grid_search_cv_log = GridSearchCV(\n",
    "    LogisticRegression(), param_grid = parameters, verbose=0, cv=3, scoring = 'recall')\n",
    "grid_search_cv_log.fit(features_train, target_train)\n"
   ]
  },
  {
   "cell_type": "code",
   "execution_count": 44,
   "metadata": {},
   "outputs": [
    {
     "data": {
      "text/plain": [
       "LogisticRegression(solver='liblinear')"
      ]
     },
     "execution_count": 44,
     "metadata": {},
     "output_type": "execute_result"
    }
   ],
   "source": [
    "# выводим модель логистической регрессии с лучшими гиперпараметрами\n",
    "grid_search_cv_log.best_estimator_"
   ]
  },
  {
   "cell_type": "code",
   "execution_count": 45,
   "metadata": {},
   "outputs": [
    {
     "name": "stdout",
     "output_type": "stream",
     "text": [
      "recall для логистической регрессии на кросс-валидации: 0.7272191260686665\n"
     ]
    }
   ],
   "source": [
    "# инициализируем модель логистической регрессии\n",
    "model_logistic = LogisticRegression(solver = 'liblinear')\n",
    "model_logistic.fit(features_train, target_train)\n",
    "\n",
    "print('recall для логистической регрессии на кросс-валидации:', cross_val_score(\n",
    "    model_logistic, features_train, target_train, cv=3, scoring='recall').mean())\n"
   ]
  },
  {
   "cell_type": "code",
   "execution_count": 46,
   "metadata": {},
   "outputs": [
    {
     "data": {
      "text/plain": [
       "0.7272191260686665"
      ]
     },
     "execution_count": 46,
     "metadata": {},
     "output_type": "execute_result"
    }
   ],
   "source": [
    "# выведем наилучшую полноту для модели с заданными параметрами\n",
    "grid_search_cv_log.best_score_"
   ]
  },
  {
   "cell_type": "code",
   "execution_count": 47,
   "metadata": {},
   "outputs": [
    {
     "data": {
      "image/png": "[encoded data removed]",
      "text/plain": [
       "<Figure size 432x288 with 1 Axes>"
      ]
     },
     "metadata": {
      "needs_background": "light"
     },
     "output_type": "display_data"
    }
   ],
   "source": [
    "# выводим график кросс-валидации\n",
    "prediction_logistic = cross_val_plot(model_logistic, features_train, target_train)\n",
    "\n"
   ]
  },
  {
   "cell_type": "markdown",
   "metadata": {},
   "source": [
    "##### Дерево решений"
   ]
  },
  {
   "cell_type": "code",
   "execution_count": 49,
   "metadata": {},
   "outputs": [
    {
     "name": "stdout",
     "output_type": "stream",
     "text": [
      "Fitting 3 folds for each of 133 candidates, totalling 399 fits\n"
     ]
    },
    {
     "data": {
      "text/plain": [
       "GridSearchCV(cv=3, estimator=DecisionTreeClassifier(random_state=12345),\n",
       "             param_grid={'max_depth': range(1, 20),\n",
       "                         'min_samples_leaf': range(1, 8)},\n",
       "             scoring='recall', verbose=1)"
      ]
     },
     "execution_count": 49,
     "metadata": {},
     "output_type": "execute_result"
    }
   ],
   "source": [
    "# подбираем гиперпарамаметры для модели дерево решений\n",
    "params = {'max_depth': range (1,20,1),\n",
    "          'min_samples_leaf': range (1,8)}\n",
    "grid_search_cv_tree = GridSearchCV(\n",
    "    DecisionTreeClassifier(random_state=RANDOM_STATE), params, verbose=1, cv=3, scoring = 'recall')\n",
    "grid_search_cv_tree.fit(features_train, target_train)\n",
    "\n"
   ]
  },
  {
   "cell_type": "code",
   "execution_count": 50,
   "metadata": {},
   "outputs": [
    {
     "data": {
      "text/plain": [
       "DecisionTreeClassifier(max_depth=1, random_state=12345)"
      ]
     },
     "execution_count": 50,
     "metadata": {},
     "output_type": "execute_result"
    }
   ],
   "source": [
    "# выводим модель дерева решений с лучшими гиперпараметрами\n",
    "grid_search_cv_tree.best_estimator_\n"
   ]
  },
  {
   "cell_type": "code",
   "execution_count": 51,
   "metadata": {},
   "outputs": [
    {
     "name": "stdout",
     "output_type": "stream",
     "text": [
      "recall для дерева решений на кросс-валидации: 0.6666666666666666\n"
     ]
    }
   ],
   "source": [
    "# инициализируем модель дерева решений\n",
    "model_tree = DecisionTreeClassifier(random_state=RANDOM_STATE, max_depth=1)\n",
    "model_tree.fit(features_train, target_train)\n",
    "\n",
    "print('recall для дерева решений на кросс-валидации:', cross_val_score(\n",
    "    model_tree, features_train, target_train, cv=3, scoring='recall').mean())\n",
    "\n"
   ]
  },
  {
   "cell_type": "code",
   "execution_count": 52,
   "metadata": {},
   "outputs": [
    {
     "data": {
      "text/plain": [
       "0.6666666666666666"
      ]
     },
     "execution_count": 52,
     "metadata": {},
     "output_type": "execute_result"
    }
   ],
   "source": [
    "# выведем наилучшую полноту для модели с заданными параметрами\n",
    "grid_search_cv_tree.best_score_"
   ]
  },
  {
   "cell_type": "code",
   "execution_count": 53,
   "metadata": {},
   "outputs": [
    {
     "data": {
      "image/png": "[encoded data removed]",
      "text/plain": [
       "<Figure size 432x288 with 1 Axes>"
      ]
     },
     "metadata": {
      "needs_background": "light"
     },
     "output_type": "display_data"
    }
   ],
   "source": [
    "# выводим график кросс-валидации для дерева решений\n",
    "model_tree = cross_val_plot(model_tree, features_train, target_train)"
   ]
  },
  {
   "cell_type": "markdown",
   "metadata": {},
   "source": [
    "##### Случайный лес"
   ]
  },
  {
   "cell_type": "code",
   "execution_count": 54,
   "metadata": {},
   "outputs": [
    {
     "name": "stdout",
     "output_type": "stream",
     "text": [
      "Fitting 3 folds for each of 567 candidates, totalling 1701 fits\n"
     ]
    },
    {
     "data": {
      "text/plain": [
       "GridSearchCV(cv=3, estimator=RandomForestClassifier(random_state=12345),\n",
       "             param_grid={'max_depth': range(1, 10),\n",
       "                         'min_samples_leaf': range(1, 8),\n",
       "                         'n_estimators': range(1, 10)},\n",
       "             scoring='recall', verbose=1)"
      ]
     },
     "execution_count": 54,
     "metadata": {},
     "output_type": "execute_result"
    }
   ],
   "source": [
    "# подбираем гиперпарамаметры для модели случайного леса\n",
    "param = {'max_depth': range(1,10,1),\n",
    "         'n_estimators':range(1,10,1),\n",
    "          'min_samples_leaf': range (1,8)}\n",
    "grid_search_cv = GridSearchCV(\n",
    "     RandomForestClassifier(random_state=RANDOM_STATE), param, verbose=1, cv=3, scoring = 'recall')\n",
    "grid_search_cv.fit(features_train, target_train)\n"
   ]
  },
  {
   "cell_type": "code",
   "execution_count": 55,
   "metadata": {},
   "outputs": [
    {
     "data": {
      "text/plain": [
       "RandomForestClassifier(max_depth=1, n_estimators=1, random_state=12345)"
      ]
     },
     "execution_count": 55,
     "metadata": {},
     "output_type": "execute_result"
    }
   ],
   "source": [
    "# выводим модель случайного леса с лучшими гиперпараметрами\n",
    "grid_search_cv.best_estimator_\n"
   ]
  },
  {
   "cell_type": "code",
   "execution_count": 56,
   "metadata": {},
   "outputs": [
    {
     "name": "stdout",
     "output_type": "stream",
     "text": [
      "recall для случайного леса на кросс-валидации: 0.6916211984095186\n"
     ]
    }
   ],
   "source": [
    "# инициализируем модель случайного леса\n",
    "model_forest = RandomForestClassifier(n_estimators=1, max_depth=1, random_state=RANDOM_STATE)\n",
    "model_forest.fit(features_train, target_train)\n",
    "    \n",
    "print('recall для случайного леса на кросс-валидации:', cross_val_score(\n",
    "    model_forest, features_train, target_train, cv=3, scoring='recall').mean())\n",
    "    \n"
   ]
  },
  {
   "cell_type": "code",
   "execution_count": 57,
   "metadata": {},
   "outputs": [
    {
     "data": {
      "image/png": "[encoded data removed]",
      "text/plain": [
       "<Figure size 432x288 with 1 Axes>"
      ]
     },
     "metadata": {
      "needs_background": "light"
     },
     "output_type": "display_data"
    }
   ],
   "source": [
    "# выводим график кросс-валидации\n",
    "model_forest = cross_val_plot(model_forest, features_train, target_train)"
   ]
  },
  {
   "cell_type": "markdown",
   "metadata": {},
   "source": [
    "Лучше всех показала себя модель логистической регрессии recall= 0.7272."
   ]
  },
  {
   "cell_type": "markdown",
   "metadata": {},
   "source": [
    "#### Проверим модели на адекватность"
   ]
  },
  {
   "cell_type": "code",
   "execution_count": 58,
   "metadata": {},
   "outputs": [
    {
     "name": "stdout",
     "output_type": "stream",
     "text": [
      "0    0.776428\n",
      "1    0.223572\n",
      "dtype: float64\n"
     ]
    }
   ],
   "source": [
    "# логистическая регрессия\n",
    "\n",
    "model_logistic = LogisticRegression(solver = 'liblinear')\n",
    "model_logistic.fit(features_train, target_train)\n",
    "model_logistic = pd.Series(\n",
    "    model_logistic.predict(features_test)).value_counts(normalize = True)\n",
    "print(model_logistic)"
   ]
  },
  {
   "cell_type": "markdown",
   "metadata": {},
   "source": [
    "#### Борьба с дисбалансом"
   ]
  },
  {
   "cell_type": "markdown",
   "metadata": {},
   "source": [
    "Дисбаланс попробуем побороть следующим методом. Напрямую укажем о дисбалансе при инициализации модели аргумент class_weight='balanced' и посмотрим, как поменяются значения метрик у исследуюмых моделей."
   ]
  },
  {
   "cell_type": "code",
   "execution_count": 59,
   "metadata": {},
   "outputs": [
    {
     "name": "stdout",
     "output_type": "stream",
     "text": [
      "recall для дерева решений с аргументом class_weight = balanced на кросс-валидации: 0.6752521463699258\n"
     ]
    }
   ],
   "source": [
    "# дерево решений\n",
    "\n",
    "model_tree = DecisionTreeClassifier(\n",
    "    random_state=RANDOM_STATE, max_depth=1, class_weight='balanced')\n",
    "model_tree.fit(features_train, target_train)\n",
    "\n",
    "print('recall для дерева решений с аргументом class_weight = balanced на кросс-валидации:', cross_val_score(\n",
    "    model_tree, features_train, target_train, cv=3, scoring='recall').mean())\n"
   ]
  },
  {
   "cell_type": "code",
   "execution_count": 60,
   "metadata": {},
   "outputs": [
    {
     "name": "stdout",
     "output_type": "stream",
     "text": [
      "recall для случайного леса с аргументом class_weight = balanced на кросс-валидации: 0.6916211984095186\n"
     ]
    }
   ],
   "source": [
    "# случайный лес\n",
    "\n",
    "model_forest = RandomForestClassifier(\n",
    "    n_estimators=1, max_depth=1, random_state=RANDOM_STATE, class_weight='balanced')\n",
    "model_forest.fit(features_train, target_train)\n",
    "\n",
    "print('recall для случайного леса с аргументом class_weight = balanced на кросс-валидации:', cross_val_score(\n",
    "    model_forest, features_train, target_train, cv=3, scoring='recall').mean())\n",
    "\n"
   ]
  },
  {
   "cell_type": "code",
   "execution_count": 61,
   "metadata": {
    "scrolled": true
   },
   "outputs": [
    {
     "name": "stdout",
     "output_type": "stream",
     "text": [
      "recall для логистической регрессии с аргументом class_weight = balanced на кросс-валидации: 0.7997399447815353\n"
     ]
    }
   ],
   "source": [
    "# логистическая регрессия\n",
    "\n",
    "model_logistic = LogisticRegression(solver = 'liblinear', class_weight='balanced')\n",
    "model_logistic.fit(features_train, target_train)\n",
    "\n",
    "print('recall для логистической регрессии с аргументом class_weight = balanced на кросс-валидации:', cross_val_score(\n",
    "    model_logistic, features_train, target_train, cv=3, scoring='recall').mean())\n"
   ]
  },
  {
   "cell_type": "markdown",
   "metadata": {},
   "source": [
    "По итогу применения аргумента class_weight='balanced' модель **Случайного леса** показала до: \n",
    "- Recall для модели случайного лес: 0.6916\n",
    "\n",
    "после введения аргумента class_weight='balanced':\n",
    "- Recall для модели случайного лес: 0.6916\n",
    "\n",
    "\n",
    "**Дерево решений** до:\n",
    "- Recall для модели дерева решений: 0.6666\n",
    "\n",
    "после:\n",
    "- Recall для модели дерева решений: 0.6752\n",
    "\n",
    "\n",
    "**Логическая регрессия** до:\n",
    "- Recall для логистической регрессии: 0.7272\n",
    "\n",
    "после:\n",
    "- Recall для логистической регрессии: 0.7997\n",
    "\n",
    "-------------\n",
    " В целом модель логической регрессии показывает лучшие значения метрик после применения аргумента class_weight='balanced'. "
   ]
  },
  {
   "cell_type": "markdown",
   "metadata": {},
   "source": [
    " Финальная модель будет выглядеть следующим образом:"
   ]
  },
  {
   "cell_type": "code",
   "execution_count": 62,
   "metadata": {},
   "outputs": [
    {
     "name": "stdout",
     "output_type": "stream",
     "text": [
      "recall финальной модели логистической регрессии: 0.7997399447815353\n"
     ]
    }
   ],
   "source": [
    "model_logistic = LogisticRegression(solver = 'liblinear', class_weight='balanced')\n",
    "model_logistic.fit(features_train, target_train)\n",
    "\n",
    "print('recall финальной модели логистической регрессии:', cross_val_score(\n",
    "    model_logistic, features_train, target_train, cv=3, scoring='recall').mean())\n"
   ]
  },
  {
   "cell_type": "markdown",
   "metadata": {},
   "source": [
    "#### Тестирование модели"
   ]
  },
  {
   "cell_type": "code",
   "execution_count": 63,
   "metadata": {},
   "outputs": [
    {
     "name": "stdout",
     "output_type": "stream",
     "text": [
      "recall 0.6210191082802548\n",
      "AUC-ROC 0.9198132943069244\n"
     ]
    },
    {
     "data": {
      "image/png": "[encoded data removed]",
      "text/plain": [
       "<Figure size 432x288 with 1 Axes>"
      ]
     },
     "metadata": {
      "needs_background": "light"
     },
     "output_type": "display_data"
    }
   ],
   "source": [
    "# модель логистической регрессии с лучшей полнотой\n",
    "model_test = LogisticRegression(solver = 'liblinear', class_weight='balanced')\n",
    "model_test.fit(features_train, target_train)\n",
    "\n",
    "predicted_test = model_test.predict(features_test)\n",
    "predicted_one_test = model_test.predict_proba(features_test)[:, 1]\n",
    "\n",
    "# выведем метрики полноты и метрику, характеризующую качество модели «площадь под ROC-кривой»\n",
    "print(\"recall\" , recall_score(target_test, predicted_test))\n",
    "print(\"AUC-ROC\", roc_auc_score(target_test, predicted_one_test))\n",
    "\n",
    "fpr, tpr, thresholds = roc_curve(target_test, predicted_one_test)\n",
    "\n",
    "plt.figure()\n",
    "plt.plot(fpr, tpr)\n",
    "plt.plot([0, 1], [0, 1], linestyle='--')\n",
    "plt.xlim([0.0, 1.0])\n",
    "plt.ylim([0.0, 1.0])\n",
    "plt.xlabel('False Positive Rate')\n",
    "plt.ylabel('True Positive Rate')\n",
    "plt.title('ROC-кривая')\n",
    "plt.show()\n",
    "\n"
   ]
  },
  {
   "cell_type": "markdown",
   "metadata": {},
   "source": [
    "На тестировании модели получили хорошие метрики полноты и «площади под ROC-кривой»."
   ]
  },
  {
   "cell_type": "code",
   "execution_count": 64,
   "metadata": {},
   "outputs": [],
   "source": [
    "# оценим качество модели кросс-валидацией\n",
    "#scores = cross_val_score(model_test, features_test, target_test, cv=5)\n",
    "#final_score = scores.mean()\n",
    "#print('Средняя оценка качества модели:', final_score)\n"
   ]
  },
  {
   "cell_type": "code",
   "execution_count": 65,
   "metadata": {},
   "outputs": [],
   "source": [
    "# создаем функцию для рассчета прибыли и убытка в зависимости от отмены брони с депозитом\n",
    "def profit_pred(row, col):\n",
    "    if row['is_canceled'] == 0:\n",
    "        income = row['price_per_night'] * row['koef'] * row['total_nights']\n",
    "        expans = row['service_price'] * (1 + row['total_nights'] // 2)\n",
    "    elif (row['is_canceled'] == 1) and (row[col] == 0):\n",
    "        income = 0\n",
    "        expans = row['service_price'] + (row['price_per_night'] * row['koef'])\n",
    "    elif (row['is_canceled'] == 1) and (row[col] == 1):\n",
    "        income = (row['price_per_night'] * row['koef'] * .8) + (row['service_price'] * .8)\n",
    "        expans = row['service_price'] + (row['price_per_night'] * row['koef'])\n",
    "    profit_pred = income - expans\n",
    "    return profit_pred"
   ]
  },
  {
   "cell_type": "code",
   "execution_count": 66,
   "metadata": {},
   "outputs": [],
   "source": [
    "# добавим столбец с предсказаниями\n",
    "df_profit['predicted_test'] = model_test.predict(features_test)"
   ]
  },
  {
   "cell_type": "code",
   "execution_count": 67,
   "metadata": {},
   "outputs": [
    {
     "name": "stdout",
     "output_type": "stream",
     "text": [
      "Выручка на тестовой выборке после обучения модели дерева решений: 41752070.0\n"
     ]
    }
   ],
   "source": [
    "# выведем выручку на тестовой выборке после обучения модели дерева решений\n",
    "df_profit['profit_pred_dt'] = df_profit.apply(profit_pred, col='predicted_test', axis=1)\n",
    "print('Выручка на тестовой выборке после обучения модели дерева решений:', df_profit['profit_pred_dt'].sum())\n"
   ]
  },
  {
   "cell_type": "code",
   "execution_count": 68,
   "metadata": {},
   "outputs": [
    {
     "name": "stdout",
     "output_type": "stream",
     "text": [
      "Модель дерева решений принесёт компании выручку: 8841480.0 руб\n"
     ]
    }
   ],
   "source": [
    "# выведем чистую выручку от внедрения депозитов\n",
    "print('Модель дерева решений принесёт компании выручку:', df_profit['profit_pred_dt'].sum() - df_profit['total_profit'].sum() - 400000, 'руб')\n",
    "                                                                                                                                                                                                                            \n",
    "                                                                                                              "
   ]
  },
  {
   "cell_type": "markdown",
   "metadata": {},
   "source": [
    "#### Вывод "
   ]
  },
  {
   "cell_type": "markdown",
   "metadata": {},
   "source": [
    "Модель на тестовой выборке показала хорошие результаты\n",
    "\n",
    "- recall: 0.6210\n",
    " \n",
    "- Оценка качества модели AUC-ROC: 0.9198\n",
    "  \n",
    "Модель дерева решений принесёт компании выручку: 8 841 480 руб"
   ]
  },
  {
   "cell_type": "markdown",
   "metadata": {},
   "source": [
    "### Шаг 5. Опишите портрет «ненадёжного» клиента"
   ]
  },
  {
   "cell_type": "code",
   "execution_count": 69,
   "metadata": {},
   "outputs": [
    {
     "data": {
      "image/png": "[encoded data removed]",
      "text/plain": [
       "<Figure size 432x288 with 2 Axes>"
      ]
     },
     "metadata": {
      "needs_background": "light"
     },
     "output_type": "display_data"
    }
   ],
   "source": [
    "# визуализируем корреляцию между признаками к целевому признаку на обобщенном датафрейме\n",
    "hotel_concat = pd.concat([df1, df2])\n",
    "sns.heatmap(hotel_concat.corr()[['is_canceled']].sort_values('is_canceled', ascending=False),\n",
    "                annot = True, annot_kws = {\"size\":12}, cmap='Blues')\n",
    "plt.title('Сводная корреляция к целевому признаку')\n",
    "plt.show()"
   ]
  },
  {
   "cell_type": "markdown",
   "metadata": {},
   "source": [
    "#### Вывод "
   ]
  },
  {
   "cell_type": "markdown",
   "metadata": {},
   "source": [
    "На ненадежность очень сильно влияет время ожидания между датой бронирования и заездом в отель. Конечно же, это связано с тем, что чем больше времени есть на раздумья, тем выше шанс отказа.\n",
    "В то же время есть признаки, которые снижают вероятность отмены - долгие взаимоотношения с отелем, наличие уже осуществленных бронирований ранее, специальные отметки, предзаказанные места на парковке и тд. выявляют серьезные намерения у клиента.\n"
   ]
  },
  {
   "cell_type": "markdown",
   "metadata": {},
   "source": [
    "### Шаг 6. Напишите общий вывод"
   ]
  },
  {
   "cell_type": "markdown",
   "metadata": {},
   "source": [
    "При предработке данных откорректировали целочисленные значения столбцов из 'float' в 'int', выявили аномальные 0 в столбце 'adults', удалили эти данные. Не выявили наличие явных дубликатов. Корреляцией Пирсона выявили зависимости  у значений столбца 'is_canceled' со столбцом 'lead_time' и 'total_nights' с 'stays_in_weekend_nights', 'stays_in_week_nights'. \n",
    "\n",
    "Общая прибыль без внедрения депозита составила 32510590  рублей. На разработку системы прогнозирования заложен бюджет — 400 000 рублей. Для отелей важно предсказать именно тех, кто отменит бронь и взять с таких постояльцев предоплату. Если постоялец всё-таки не отменит бронь, предоплата пойдёт в счёт оплаты. Если постоялец будет предсказан как не отменяющий бронь и предсказание будет неверное, отель понесёт убытки. Поэтому тут для разработки модели стоит ориентироваться на метрику recall, так как нам было важно не отправить потенциальных отказников в список тех, кто точно не откажется от брони. Ведь именно в этом случае мы потеряем деньги.\n",
    "\n",
    "Из созданных моделей лучше всего была модель дерева решений, которая  показала хорошие результаты на тестовой выборке:\n",
    "\n",
    "- recall 0.6210\n",
    "\n",
    "- AUC-ROC «площадь под ROC-кривой»: 0.9198 \n",
    "\n",
    "При оценке \"ненадежности клиента\" влияние сильно оказывает время ожидания между датой бронирования и заездом в отель. Конечно же, это связано с тем, что чем больше времени есть на раздумья, тем выше шанс отказа.\n",
    "В то же время есть признаки, которые снижают вероятность отмены - долгие взаимоотношения с отелем, наличие уже осуществленных бронирований ранее, специальные отметки, предзаказанные места на парковке выявляют серьезные намерения у клиента.\n",
    "  \n",
    "Из полученных данных можно сделать вывод, что наивысшее значение recall и наиболее оптимальные параметры у модели Дерева Решений и лучше выбрать именно её. Модель принесёт компании выручку: 8 841 480 рублей, что является целесообразным действием при затратах на разработку системы прогнозирования 400 000 рублей.  \n",
    "  \n",
    "\n",
    "\n",
    "\n",
    "\n",
    "\n",
    "\n",
    "  "
   ]
  }
 ],
 "metadata": {
  "ExecuteTimeLog": [
   {
    "duration": 46,
    "start_time": "2023-02-20T13:29:40.818Z"
   },
   {
    "duration": 1506,
    "start_time": "2023-02-20T13:29:48.989Z"
   },
   {
    "duration": 826,
    "start_time": "2023-02-20T13:29:50.497Z"
   },
   {
    "duration": 270,
    "start_time": "2023-02-20T13:39:29.510Z"
   },
   {
    "duration": 1358,
    "start_time": "2023-02-20T15:55:36.595Z"
   },
   {
    "duration": 231,
    "start_time": "2023-02-20T16:03:27.120Z"
   },
   {
    "duration": 281,
    "start_time": "2023-02-20T16:04:38.637Z"
   },
   {
    "duration": 1262,
    "start_time": "2023-02-20T16:29:12.032Z"
   },
   {
    "duration": 13,
    "start_time": "2023-02-20T16:31:20.529Z"
   },
   {
    "duration": 15,
    "start_time": "2023-02-20T16:32:07.426Z"
   },
   {
    "duration": 17,
    "start_time": "2023-02-20T16:33:24.887Z"
   },
   {
    "duration": 73,
    "start_time": "2023-02-20T16:33:43.170Z"
   },
   {
    "duration": 10,
    "start_time": "2023-02-20T16:34:09.888Z"
   },
   {
    "duration": 77,
    "start_time": "2023-02-20T16:34:15.593Z"
   },
   {
    "duration": 348,
    "start_time": "2023-02-20T16:38:02.367Z"
   },
   {
    "duration": 18,
    "start_time": "2023-02-20T16:45:51.021Z"
   },
   {
    "duration": 37,
    "start_time": "2023-02-20T16:46:09.829Z"
   },
   {
    "duration": 317,
    "start_time": "2023-02-20T16:51:33.738Z"
   },
   {
    "duration": 75,
    "start_time": "2023-02-20T17:06:44.122Z"
   },
   {
    "duration": 245,
    "start_time": "2023-02-20T17:10:27.396Z"
   },
   {
    "duration": 4431,
    "start_time": "2023-02-20T17:10:38.061Z"
   },
   {
    "duration": 4594,
    "start_time": "2023-02-20T17:13:15.449Z"
   },
   {
    "duration": 34,
    "start_time": "2023-02-20T17:20:11.665Z"
   },
   {
    "duration": 100,
    "start_time": "2023-02-20T17:20:54.127Z"
   },
   {
    "duration": 54,
    "start_time": "2023-02-20T17:21:44.961Z"
   },
   {
    "duration": 74,
    "start_time": "2023-02-20T17:38:05.084Z"
   },
   {
    "duration": 63,
    "start_time": "2023-02-20T17:39:00.284Z"
   },
   {
    "duration": 59,
    "start_time": "2023-02-20T17:39:21.918Z"
   },
   {
    "duration": 84,
    "start_time": "2023-02-20T17:39:42.033Z"
   },
   {
    "duration": 80,
    "start_time": "2023-02-20T17:40:44.077Z"
   },
   {
    "duration": 5604,
    "start_time": "2023-02-20T17:40:51.941Z"
   },
   {
    "duration": 5614,
    "start_time": "2023-02-20T17:41:12.864Z"
   },
   {
    "duration": 49,
    "start_time": "2023-02-20T17:42:06.689Z"
   },
   {
    "duration": 288,
    "start_time": "2023-02-20T20:12:23.910Z"
   },
   {
    "duration": 4285,
    "start_time": "2023-02-20T20:13:09.782Z"
   },
   {
    "duration": 1445,
    "start_time": "2023-02-20T20:14:25.409Z"
   },
   {
    "duration": 339,
    "start_time": "2023-02-20T20:14:26.856Z"
   },
   {
    "duration": 94,
    "start_time": "2023-02-20T20:14:27.197Z"
   },
   {
    "duration": 4740,
    "start_time": "2023-02-20T20:14:27.294Z"
   },
   {
    "duration": 33,
    "start_time": "2023-02-20T20:14:32.036Z"
   },
   {
    "duration": 2038,
    "start_time": "2023-02-20T20:15:50.212Z"
   },
   {
    "duration": 2271,
    "start_time": "2023-02-20T20:15:57.886Z"
   },
   {
    "duration": 81,
    "start_time": "2023-02-20T20:42:58.371Z"
   },
   {
    "duration": 104,
    "start_time": "2023-02-20T20:44:45.065Z"
   },
   {
    "duration": 114,
    "start_time": "2023-02-20T20:46:19.102Z"
   },
   {
    "duration": 101,
    "start_time": "2023-02-20T20:46:28.053Z"
   },
   {
    "duration": 148,
    "start_time": "2023-02-20T20:47:31.759Z"
   },
   {
    "duration": 96,
    "start_time": "2023-02-20T20:47:42.285Z"
   },
   {
    "duration": 174,
    "start_time": "2023-02-20T20:48:06.360Z"
   },
   {
    "duration": 378,
    "start_time": "2023-02-20T20:59:05.192Z"
   },
   {
    "duration": 1278,
    "start_time": "2023-02-20T20:59:26.888Z"
   },
   {
    "duration": 433,
    "start_time": "2023-02-20T20:59:28.167Z"
   },
   {
    "duration": 209,
    "start_time": "2023-02-20T20:59:28.602Z"
   },
   {
    "duration": 2282,
    "start_time": "2023-02-20T20:59:28.814Z"
   },
   {
    "duration": 2160,
    "start_time": "2023-02-20T20:59:31.099Z"
   },
   {
    "duration": 108,
    "start_time": "2023-02-20T20:59:33.260Z"
   },
   {
    "duration": 73,
    "start_time": "2023-02-20T21:00:31.228Z"
   },
   {
    "duration": 385,
    "start_time": "2023-02-20T21:01:42.756Z"
   },
   {
    "duration": 407,
    "start_time": "2023-02-20T21:02:13.446Z"
   },
   {
    "duration": 259,
    "start_time": "2023-02-20T21:02:42.519Z"
   },
   {
    "duration": 125,
    "start_time": "2023-02-20T21:03:29.126Z"
   },
   {
    "duration": 76,
    "start_time": "2023-02-20T21:03:54.640Z"
   },
   {
    "duration": 67,
    "start_time": "2023-02-20T21:03:55.202Z"
   },
   {
    "duration": 26,
    "start_time": "2023-02-20T21:13:08.213Z"
   },
   {
    "duration": 103,
    "start_time": "2023-02-20T21:17:37.419Z"
   },
   {
    "duration": 1301,
    "start_time": "2023-02-20T21:17:47.323Z"
   },
   {
    "duration": 297,
    "start_time": "2023-02-20T21:17:48.626Z"
   },
   {
    "duration": 80,
    "start_time": "2023-02-20T21:17:48.925Z"
   },
   {
    "duration": 2125,
    "start_time": "2023-02-20T21:17:49.007Z"
   },
   {
    "duration": 2114,
    "start_time": "2023-02-20T21:17:51.134Z"
   },
   {
    "duration": 116,
    "start_time": "2023-02-20T21:17:53.250Z"
   },
   {
    "duration": 89,
    "start_time": "2023-02-20T21:17:53.368Z"
   },
   {
    "duration": 66,
    "start_time": "2023-02-20T21:17:53.458Z"
   },
   {
    "duration": 22,
    "start_time": "2023-02-20T21:17:53.525Z"
   },
   {
    "duration": 120,
    "start_time": "2023-02-20T21:17:53.549Z"
   },
   {
    "duration": 367,
    "start_time": "2023-02-20T21:45:00.680Z"
   },
   {
    "duration": 341,
    "start_time": "2023-02-20T21:46:33.716Z"
   },
   {
    "duration": 352,
    "start_time": "2023-02-20T21:47:22.302Z"
   },
   {
    "duration": 529,
    "start_time": "2023-02-20T21:53:02.093Z"
   },
   {
    "duration": 210,
    "start_time": "2023-02-20T21:54:50.734Z"
   },
   {
    "duration": 1283,
    "start_time": "2023-02-20T21:54:58.125Z"
   },
   {
    "duration": 307,
    "start_time": "2023-02-20T21:54:59.411Z"
   },
   {
    "duration": 0,
    "start_time": "2023-02-20T21:54:59.720Z"
   },
   {
    "duration": 0,
    "start_time": "2023-02-20T21:54:59.721Z"
   },
   {
    "duration": 0,
    "start_time": "2023-02-20T21:54:59.722Z"
   },
   {
    "duration": 0,
    "start_time": "2023-02-20T21:54:59.723Z"
   },
   {
    "duration": 0,
    "start_time": "2023-02-20T21:54:59.724Z"
   },
   {
    "duration": 0,
    "start_time": "2023-02-20T21:54:59.726Z"
   },
   {
    "duration": 0,
    "start_time": "2023-02-20T21:54:59.726Z"
   },
   {
    "duration": 212,
    "start_time": "2023-02-20T21:55:22.926Z"
   },
   {
    "duration": 405,
    "start_time": "2023-02-20T21:57:27.029Z"
   },
   {
    "duration": 1467,
    "start_time": "2023-02-20T21:57:43.774Z"
   },
   {
    "duration": 388,
    "start_time": "2023-02-20T21:57:45.243Z"
   },
   {
    "duration": 89,
    "start_time": "2023-02-20T21:57:45.633Z"
   },
   {
    "duration": 2368,
    "start_time": "2023-02-20T21:57:45.724Z"
   },
   {
    "duration": 2180,
    "start_time": "2023-02-20T21:57:48.095Z"
   },
   {
    "duration": 99,
    "start_time": "2023-02-20T21:57:50.276Z"
   },
   {
    "duration": 93,
    "start_time": "2023-02-20T21:57:50.377Z"
   },
   {
    "duration": 69,
    "start_time": "2023-02-20T21:57:50.471Z"
   },
   {
    "duration": 22,
    "start_time": "2023-02-20T21:57:50.541Z"
   },
   {
    "duration": 391,
    "start_time": "2023-02-20T22:03:32.063Z"
   },
   {
    "duration": 75,
    "start_time": "2023-02-20T22:03:54.501Z"
   },
   {
    "duration": 373,
    "start_time": "2023-02-20T22:04:05.180Z"
   },
   {
    "duration": 383,
    "start_time": "2023-02-20T22:10:18.697Z"
   },
   {
    "duration": 411,
    "start_time": "2023-02-20T22:18:31.712Z"
   },
   {
    "duration": 384,
    "start_time": "2023-02-20T22:19:22.552Z"
   },
   {
    "duration": 395,
    "start_time": "2023-02-20T22:21:08.506Z"
   },
   {
    "duration": 408,
    "start_time": "2023-02-20T22:23:07.911Z"
   },
   {
    "duration": 409,
    "start_time": "2023-02-20T22:24:03.038Z"
   },
   {
    "duration": 402,
    "start_time": "2023-02-20T22:25:02.024Z"
   },
   {
    "duration": 388,
    "start_time": "2023-02-20T22:27:51.462Z"
   },
   {
    "duration": 433,
    "start_time": "2023-02-20T22:28:59.662Z"
   },
   {
    "duration": 400,
    "start_time": "2023-02-20T22:29:27.204Z"
   },
   {
    "duration": 418,
    "start_time": "2023-02-20T22:29:48.677Z"
   },
   {
    "duration": 376,
    "start_time": "2023-02-20T22:30:29.278Z"
   },
   {
    "duration": 418,
    "start_time": "2023-02-20T22:31:52.059Z"
   },
   {
    "duration": 440,
    "start_time": "2023-02-20T22:35:06.168Z"
   },
   {
    "duration": 410,
    "start_time": "2023-02-20T22:38:14.510Z"
   },
   {
    "duration": 64,
    "start_time": "2023-02-20T22:38:30.594Z"
   },
   {
    "duration": 1904,
    "start_time": "2023-02-20T22:39:22.793Z"
   },
   {
    "duration": 1832,
    "start_time": "2023-02-20T22:39:24.699Z"
   },
   {
    "duration": 246,
    "start_time": "2023-02-20T22:39:26.532Z"
   },
   {
    "duration": 72,
    "start_time": "2023-02-20T22:39:34.159Z"
   },
   {
    "duration": 52,
    "start_time": "2023-02-20T22:39:36.041Z"
   },
   {
    "duration": 26,
    "start_time": "2023-02-20T22:53:05.935Z"
   },
   {
    "duration": 14,
    "start_time": "2023-02-20T22:53:36.749Z"
   },
   {
    "duration": 22,
    "start_time": "2023-02-20T23:02:42.949Z"
   },
   {
    "duration": 22,
    "start_time": "2023-02-20T23:03:28.289Z"
   },
   {
    "duration": 37,
    "start_time": "2023-02-20T23:03:50.855Z"
   },
   {
    "duration": 39,
    "start_time": "2023-02-20T23:04:05.057Z"
   },
   {
    "duration": 100,
    "start_time": "2023-02-20T23:08:53.601Z"
   },
   {
    "duration": 20,
    "start_time": "2023-02-20T23:09:00.811Z"
   },
   {
    "duration": 20,
    "start_time": "2023-02-20T23:09:14.635Z"
   },
   {
    "duration": 14,
    "start_time": "2023-02-20T23:10:23.968Z"
   },
   {
    "duration": 4,
    "start_time": "2023-02-20T23:11:19.365Z"
   },
   {
    "duration": 4,
    "start_time": "2023-02-20T23:11:31.534Z"
   },
   {
    "duration": 5,
    "start_time": "2023-02-20T23:11:39.917Z"
   },
   {
    "duration": 5,
    "start_time": "2023-02-20T23:11:49.344Z"
   },
   {
    "duration": 71,
    "start_time": "2023-02-20T23:17:22.526Z"
   },
   {
    "duration": 103,
    "start_time": "2023-02-20T23:17:27.005Z"
   },
   {
    "duration": 1221,
    "start_time": "2023-02-20T23:22:51.418Z"
   },
   {
    "duration": 399,
    "start_time": "2023-02-20T23:22:52.641Z"
   },
   {
    "duration": 82,
    "start_time": "2023-02-20T23:22:53.042Z"
   },
   {
    "duration": 1933,
    "start_time": "2023-02-20T23:22:53.127Z"
   },
   {
    "duration": 1929,
    "start_time": "2023-02-20T23:22:55.062Z"
   },
   {
    "duration": 98,
    "start_time": "2023-02-20T23:22:56.993Z"
   },
   {
    "duration": 61,
    "start_time": "2023-02-20T23:22:57.093Z"
   },
   {
    "duration": 72,
    "start_time": "2023-02-20T23:22:57.155Z"
   },
   {
    "duration": 40,
    "start_time": "2023-02-20T23:22:57.228Z"
   },
   {
    "duration": 39,
    "start_time": "2023-02-20T23:22:57.269Z"
   },
   {
    "duration": 12,
    "start_time": "2023-02-20T23:22:57.310Z"
   },
   {
    "duration": 111,
    "start_time": "2023-02-20T23:22:57.324Z"
   },
   {
    "duration": 4,
    "start_time": "2023-02-20T23:26:15.454Z"
   },
   {
    "duration": 1281,
    "start_time": "2023-02-20T23:27:10.884Z"
   },
   {
    "duration": 395,
    "start_time": "2023-02-20T23:27:12.168Z"
   },
   {
    "duration": 71,
    "start_time": "2023-02-20T23:27:12.564Z"
   },
   {
    "duration": 1883,
    "start_time": "2023-02-20T23:27:12.637Z"
   },
   {
    "duration": 1843,
    "start_time": "2023-02-20T23:27:14.522Z"
   },
   {
    "duration": 124,
    "start_time": "2023-02-20T23:27:16.367Z"
   },
   {
    "duration": 62,
    "start_time": "2023-02-20T23:27:16.493Z"
   },
   {
    "duration": 69,
    "start_time": "2023-02-20T23:27:16.557Z"
   },
   {
    "duration": 42,
    "start_time": "2023-02-20T23:27:16.628Z"
   },
   {
    "duration": 42,
    "start_time": "2023-02-20T23:27:16.673Z"
   },
   {
    "duration": 15,
    "start_time": "2023-02-20T23:27:16.716Z"
   },
   {
    "duration": 125,
    "start_time": "2023-02-20T23:27:16.733Z"
   },
   {
    "duration": 151,
    "start_time": "2023-02-20T23:28:17.911Z"
   },
   {
    "duration": 3,
    "start_time": "2023-02-20T23:30:20.153Z"
   },
   {
    "duration": 379,
    "start_time": "2023-02-20T23:30:21.938Z"
   },
   {
    "duration": 62,
    "start_time": "2023-02-20T23:30:27.303Z"
   },
   {
    "duration": 1835,
    "start_time": "2023-02-20T23:30:27.464Z"
   },
   {
    "duration": 1739,
    "start_time": "2023-02-20T23:30:29.301Z"
   },
   {
    "duration": 254,
    "start_time": "2023-02-20T23:30:31.041Z"
   },
   {
    "duration": 63,
    "start_time": "2023-02-20T23:30:31.297Z"
   },
   {
    "duration": 70,
    "start_time": "2023-02-20T23:30:31.361Z"
   },
   {
    "duration": 38,
    "start_time": "2023-02-20T23:30:31.433Z"
   },
   {
    "duration": 34,
    "start_time": "2023-02-20T23:30:31.472Z"
   },
   {
    "duration": 12,
    "start_time": "2023-02-20T23:30:31.508Z"
   },
   {
    "duration": 107,
    "start_time": "2023-02-20T23:30:31.521Z"
   },
   {
    "duration": 240,
    "start_time": "2023-02-21T15:14:49.419Z"
   },
   {
    "duration": 233,
    "start_time": "2023-02-21T15:16:08.607Z"
   },
   {
    "duration": 214,
    "start_time": "2023-02-21T15:16:25.008Z"
   },
   {
    "duration": 206,
    "start_time": "2023-02-21T15:16:50.535Z"
   },
   {
    "duration": 15,
    "start_time": "2023-02-21T19:35:07.401Z"
   },
   {
    "duration": 14,
    "start_time": "2023-02-22T10:55:23.268Z"
   },
   {
    "duration": 5,
    "start_time": "2023-02-22T12:09:52.575Z"
   },
   {
    "duration": 6,
    "start_time": "2023-02-22T12:10:26.079Z"
   },
   {
    "duration": 6,
    "start_time": "2023-02-22T12:11:22.626Z"
   },
   {
    "duration": 110,
    "start_time": "2023-02-22T12:30:05.398Z"
   },
   {
    "duration": 9,
    "start_time": "2023-02-22T12:30:14.346Z"
   },
   {
    "duration": 1155,
    "start_time": "2023-02-22T12:30:18.965Z"
   },
   {
    "duration": 13,
    "start_time": "2023-02-22T12:30:35.324Z"
   },
   {
    "duration": 8,
    "start_time": "2023-02-22T12:30:42.207Z"
   },
   {
    "duration": 15,
    "start_time": "2023-02-22T12:30:44.764Z"
   },
   {
    "duration": 10,
    "start_time": "2023-02-22T14:17:39.795Z"
   },
   {
    "duration": 11,
    "start_time": "2023-02-22T14:17:59.450Z"
   },
   {
    "duration": 68,
    "start_time": "2023-02-22T14:24:52.052Z"
   },
   {
    "duration": 82,
    "start_time": "2023-02-22T14:25:05.302Z"
   },
   {
    "duration": 10,
    "start_time": "2023-02-22T14:25:12.148Z"
   },
   {
    "duration": 9,
    "start_time": "2023-02-22T14:25:19.264Z"
   },
   {
    "duration": 11,
    "start_time": "2023-02-22T14:25:46.871Z"
   },
   {
    "duration": 10,
    "start_time": "2023-02-22T14:25:47.974Z"
   },
   {
    "duration": 23,
    "start_time": "2023-02-22T14:26:52.425Z"
   },
   {
    "duration": 75,
    "start_time": "2023-02-22T14:27:32.205Z"
   },
   {
    "duration": 150,
    "start_time": "2023-02-22T14:27:37.605Z"
   },
   {
    "duration": 89,
    "start_time": "2023-02-22T14:27:50.766Z"
   },
   {
    "duration": 38,
    "start_time": "2023-02-22T14:29:28.888Z"
   },
   {
    "duration": 13,
    "start_time": "2023-02-22T14:29:38.735Z"
   },
   {
    "duration": 13,
    "start_time": "2023-02-22T14:29:55.483Z"
   },
   {
    "duration": 13,
    "start_time": "2023-02-22T14:50:04.922Z"
   },
   {
    "duration": 1232,
    "start_time": "2023-02-22T14:50:10.030Z"
   },
   {
    "duration": 396,
    "start_time": "2023-02-22T14:50:11.264Z"
   },
   {
    "duration": 69,
    "start_time": "2023-02-22T14:50:11.661Z"
   },
   {
    "duration": 2056,
    "start_time": "2023-02-22T14:50:11.732Z"
   },
   {
    "duration": 1911,
    "start_time": "2023-02-22T14:50:13.790Z"
   },
   {
    "duration": 117,
    "start_time": "2023-02-22T14:50:15.703Z"
   },
   {
    "duration": 88,
    "start_time": "2023-02-22T14:50:15.822Z"
   },
   {
    "duration": 62,
    "start_time": "2023-02-22T14:50:15.912Z"
   },
   {
    "duration": 56,
    "start_time": "2023-02-22T14:50:15.975Z"
   },
   {
    "duration": 23,
    "start_time": "2023-02-22T14:50:16.033Z"
   },
   {
    "duration": 120,
    "start_time": "2023-02-22T14:50:16.058Z"
   },
   {
    "duration": 17,
    "start_time": "2023-02-22T14:50:16.179Z"
   },
   {
    "duration": 7,
    "start_time": "2023-02-22T14:50:16.197Z"
   },
   {
    "duration": 13,
    "start_time": "2023-02-22T14:50:16.205Z"
   },
   {
    "duration": 139,
    "start_time": "2023-02-22T14:50:16.220Z"
   },
   {
    "duration": 0,
    "start_time": "2023-02-22T14:50:16.361Z"
   },
   {
    "duration": 23,
    "start_time": "2023-02-22T14:50:52.868Z"
   },
   {
    "duration": 653,
    "start_time": "2023-02-22T14:51:18.260Z"
   },
   {
    "duration": 26,
    "start_time": "2023-02-22T14:52:25.375Z"
   },
   {
    "duration": 17,
    "start_time": "2023-02-22T14:57:13.510Z"
   },
   {
    "duration": 14,
    "start_time": "2023-02-22T15:25:17.393Z"
   },
   {
    "duration": 4,
    "start_time": "2023-02-22T15:29:37.575Z"
   },
   {
    "duration": 15,
    "start_time": "2023-02-22T15:33:22.572Z"
   },
   {
    "duration": 5,
    "start_time": "2023-02-22T15:33:51.627Z"
   },
   {
    "duration": 17,
    "start_time": "2023-02-22T15:34:56.585Z"
   },
   {
    "duration": 13,
    "start_time": "2023-02-22T15:37:48.013Z"
   },
   {
    "duration": 12,
    "start_time": "2023-02-22T15:37:51.522Z"
   },
   {
    "duration": 12,
    "start_time": "2023-02-22T15:37:56.758Z"
   },
   {
    "duration": 12,
    "start_time": "2023-02-22T15:37:59.478Z"
   },
   {
    "duration": 14,
    "start_time": "2023-02-22T15:38:01.817Z"
   },
   {
    "duration": 21,
    "start_time": "2023-02-22T15:42:57.930Z"
   },
   {
    "duration": 18,
    "start_time": "2023-02-22T15:43:00.404Z"
   },
   {
    "duration": 15,
    "start_time": "2023-02-22T15:43:01.048Z"
   },
   {
    "duration": 5,
    "start_time": "2023-02-22T15:43:08.784Z"
   },
   {
    "duration": 36,
    "start_time": "2023-02-22T15:43:26.486Z"
   },
   {
    "duration": 33,
    "start_time": "2023-02-22T15:43:48.119Z"
   },
   {
    "duration": 36,
    "start_time": "2023-02-22T15:43:56.701Z"
   },
   {
    "duration": 97,
    "start_time": "2023-02-22T15:44:19.482Z"
   },
   {
    "duration": 19,
    "start_time": "2023-02-22T15:45:46.609Z"
   },
   {
    "duration": 21,
    "start_time": "2023-02-22T15:45:53.855Z"
   },
   {
    "duration": 94,
    "start_time": "2023-02-22T15:45:54.268Z"
   },
   {
    "duration": 6,
    "start_time": "2023-02-22T15:47:05.060Z"
   },
   {
    "duration": 74,
    "start_time": "2023-02-22T15:47:31.068Z"
   },
   {
    "duration": 69,
    "start_time": "2023-02-22T15:48:08.846Z"
   },
   {
    "duration": 75,
    "start_time": "2023-02-22T15:48:13.859Z"
   },
   {
    "duration": 27,
    "start_time": "2023-02-22T15:48:30.951Z"
   },
   {
    "duration": 15,
    "start_time": "2023-02-22T15:48:39.747Z"
   },
   {
    "duration": 8,
    "start_time": "2023-02-22T15:52:39.303Z"
   },
   {
    "duration": 8,
    "start_time": "2023-02-22T15:52:45.732Z"
   },
   {
    "duration": 20,
    "start_time": "2023-02-22T15:52:58.732Z"
   },
   {
    "duration": 15,
    "start_time": "2023-02-22T15:53:50.744Z"
   },
   {
    "duration": 14,
    "start_time": "2023-02-22T15:54:19.224Z"
   },
   {
    "duration": 105,
    "start_time": "2023-02-22T15:54:24.648Z"
   },
   {
    "duration": 14,
    "start_time": "2023-02-22T15:54:31.487Z"
   },
   {
    "duration": 71,
    "start_time": "2023-02-22T16:02:02.835Z"
   },
   {
    "duration": 14,
    "start_time": "2023-02-22T16:02:34.731Z"
   },
   {
    "duration": 24,
    "start_time": "2023-02-22T16:16:24.543Z"
   },
   {
    "duration": 72,
    "start_time": "2023-02-22T16:17:57.925Z"
   },
   {
    "duration": 71,
    "start_time": "2023-02-22T16:18:31.632Z"
   },
   {
    "duration": 108,
    "start_time": "2023-02-22T16:20:03.330Z"
   },
   {
    "duration": 24,
    "start_time": "2023-02-22T16:20:28.147Z"
   },
   {
    "duration": 27,
    "start_time": "2023-02-22T16:21:17.976Z"
   },
   {
    "duration": 28,
    "start_time": "2023-02-22T16:21:34.230Z"
   },
   {
    "duration": 89,
    "start_time": "2023-02-22T16:28:56.637Z"
   },
   {
    "duration": 27,
    "start_time": "2023-02-22T16:32:07.449Z"
   },
   {
    "duration": 72,
    "start_time": "2023-02-22T16:34:28.150Z"
   },
   {
    "duration": 23,
    "start_time": "2023-02-22T16:34:57.289Z"
   },
   {
    "duration": 27,
    "start_time": "2023-02-22T16:36:30.415Z"
   },
   {
    "duration": 28,
    "start_time": "2023-02-22T16:36:32.374Z"
   },
   {
    "duration": 20,
    "start_time": "2023-02-22T16:36:32.929Z"
   },
   {
    "duration": 23,
    "start_time": "2023-02-22T16:37:36.566Z"
   },
   {
    "duration": 7,
    "start_time": "2023-02-22T21:45:14.799Z"
   },
   {
    "duration": 7,
    "start_time": "2023-02-22T21:45:29.238Z"
   },
   {
    "duration": 21,
    "start_time": "2023-02-22T21:46:29.257Z"
   },
   {
    "duration": 7,
    "start_time": "2023-02-22T21:46:39.246Z"
   },
   {
    "duration": 7,
    "start_time": "2023-02-22T21:47:35.507Z"
   },
   {
    "duration": 7,
    "start_time": "2023-02-22T21:48:53.635Z"
   },
   {
    "duration": 70,
    "start_time": "2023-02-22T21:50:56.860Z"
   },
   {
    "duration": 68,
    "start_time": "2023-02-22T21:51:25.268Z"
   },
   {
    "duration": 69,
    "start_time": "2023-02-22T21:51:49.038Z"
   },
   {
    "duration": 6,
    "start_time": "2023-02-22T21:52:04.955Z"
   },
   {
    "duration": 6,
    "start_time": "2023-02-22T21:52:24.723Z"
   },
   {
    "duration": 4,
    "start_time": "2023-02-22T21:52:25.205Z"
   },
   {
    "duration": 4,
    "start_time": "2023-02-22T21:52:35.051Z"
   },
   {
    "duration": 83,
    "start_time": "2023-02-22T22:03:20.058Z"
   },
   {
    "duration": 22,
    "start_time": "2023-02-22T22:03:36.472Z"
   },
   {
    "duration": 26,
    "start_time": "2023-02-22T22:04:34.535Z"
   },
   {
    "duration": 23,
    "start_time": "2023-02-22T22:04:41.149Z"
   },
   {
    "duration": 76,
    "start_time": "2023-02-22T22:05:14.585Z"
   },
   {
    "duration": 22,
    "start_time": "2023-02-22T22:05:32.707Z"
   },
   {
    "duration": 22,
    "start_time": "2023-02-22T22:05:44.580Z"
   },
   {
    "duration": 25,
    "start_time": "2023-02-22T22:07:14.089Z"
   },
   {
    "duration": 3,
    "start_time": "2023-02-22T22:09:41.702Z"
   },
   {
    "duration": 8,
    "start_time": "2023-02-22T22:10:15.747Z"
   },
   {
    "duration": 33,
    "start_time": "2023-02-22T22:12:41.332Z"
   },
   {
    "duration": 35,
    "start_time": "2023-02-22T22:20:41.177Z"
   },
   {
    "duration": 26,
    "start_time": "2023-02-22T22:21:24.380Z"
   },
   {
    "duration": 25,
    "start_time": "2023-02-22T22:26:29.415Z"
   },
   {
    "duration": 44,
    "start_time": "2023-02-22T22:34:49.715Z"
   },
   {
    "duration": 5,
    "start_time": "2023-02-22T22:50:03.819Z"
   },
   {
    "duration": 26,
    "start_time": "2023-02-22T22:59:53.645Z"
   },
   {
    "duration": 3135,
    "start_time": "2023-02-22T23:02:41.336Z"
   },
   {
    "duration": 3150,
    "start_time": "2023-02-22T23:03:28.330Z"
   },
   {
    "duration": 3173,
    "start_time": "2023-02-22T23:05:05.675Z"
   },
   {
    "duration": 3100,
    "start_time": "2023-02-22T23:05:39.493Z"
   },
   {
    "duration": 12,
    "start_time": "2023-02-23T09:17:59.772Z"
   },
   {
    "duration": 11,
    "start_time": "2023-02-23T09:18:16.904Z"
   },
   {
    "duration": 111,
    "start_time": "2023-02-23T09:39:51.846Z"
   },
   {
    "duration": 10,
    "start_time": "2023-02-23T09:39:59.096Z"
   },
   {
    "duration": 16,
    "start_time": "2023-02-23T09:43:48.481Z"
   },
   {
    "duration": 13,
    "start_time": "2023-02-23T09:44:04.487Z"
   },
   {
    "duration": 13,
    "start_time": "2023-02-23T09:46:14.233Z"
   },
   {
    "duration": 13,
    "start_time": "2023-02-23T09:51:21.777Z"
   },
   {
    "duration": 13,
    "start_time": "2023-02-23T10:08:29.712Z"
   },
   {
    "duration": 20,
    "start_time": "2023-02-23T10:12:23.263Z"
   },
   {
    "duration": 18,
    "start_time": "2023-02-23T10:23:52.673Z"
   },
   {
    "duration": 21,
    "start_time": "2023-02-23T10:24:14.386Z"
   },
   {
    "duration": 24,
    "start_time": "2023-02-23T10:24:32.137Z"
   },
   {
    "duration": 28,
    "start_time": "2023-02-23T10:24:40.952Z"
   },
   {
    "duration": 44,
    "start_time": "2023-02-23T10:42:16.943Z"
   },
   {
    "duration": 46,
    "start_time": "2023-02-23T10:46:25.031Z"
   },
   {
    "duration": 57,
    "start_time": "2023-02-23T10:46:49.223Z"
   },
   {
    "duration": 44,
    "start_time": "2023-02-23T10:55:02.738Z"
   },
   {
    "duration": 23,
    "start_time": "2023-02-23T11:07:16.114Z"
   },
   {
    "duration": 65,
    "start_time": "2023-02-23T12:59:07.813Z"
   },
   {
    "duration": 69,
    "start_time": "2023-02-23T12:59:58.444Z"
   },
   {
    "duration": 60,
    "start_time": "2023-02-23T13:01:21.915Z"
   },
   {
    "duration": 63,
    "start_time": "2023-02-23T13:14:05.981Z"
   },
   {
    "duration": 61,
    "start_time": "2023-02-23T13:14:54.795Z"
   },
   {
    "duration": 49,
    "start_time": "2023-02-23T13:15:13.851Z"
   },
   {
    "duration": 74,
    "start_time": "2023-02-23T13:15:15.031Z"
   },
   {
    "duration": 64,
    "start_time": "2023-02-23T13:16:19.088Z"
   },
   {
    "duration": 53,
    "start_time": "2023-02-23T15:07:02.115Z"
   },
   {
    "duration": 1376,
    "start_time": "2023-02-26T19:59:32.097Z"
   },
   {
    "duration": 955,
    "start_time": "2023-02-26T19:59:33.475Z"
   },
   {
    "duration": 78,
    "start_time": "2023-02-26T19:59:34.432Z"
   },
   {
    "duration": 2032,
    "start_time": "2023-02-26T19:59:34.512Z"
   },
   {
    "duration": 1863,
    "start_time": "2023-02-26T19:59:36.546Z"
   },
   {
    "duration": 117,
    "start_time": "2023-02-26T19:59:38.411Z"
   },
   {
    "duration": 74,
    "start_time": "2023-02-26T19:59:38.530Z"
   },
   {
    "duration": 56,
    "start_time": "2023-02-26T19:59:38.606Z"
   },
   {
    "duration": 57,
    "start_time": "2023-02-26T19:59:38.664Z"
   },
   {
    "duration": 23,
    "start_time": "2023-02-26T19:59:38.723Z"
   },
   {
    "duration": 125,
    "start_time": "2023-02-26T19:59:38.748Z"
   },
   {
    "duration": 17,
    "start_time": "2023-02-26T19:59:38.875Z"
   },
   {
    "duration": 6,
    "start_time": "2023-02-26T19:59:38.894Z"
   },
   {
    "duration": 25,
    "start_time": "2023-02-26T19:59:38.902Z"
   },
   {
    "duration": 20,
    "start_time": "2023-02-26T19:59:38.928Z"
   },
   {
    "duration": 58,
    "start_time": "2023-02-26T19:59:38.950Z"
   },
   {
    "duration": 50,
    "start_time": "2023-02-26T19:59:39.010Z"
   },
   {
    "duration": 68,
    "start_time": "2023-02-26T19:59:39.062Z"
   },
   {
    "duration": 60,
    "start_time": "2023-02-26T19:59:39.132Z"
   },
   {
    "duration": 222,
    "start_time": "2023-02-26T19:59:39.193Z"
   },
   {
    "duration": 0,
    "start_time": "2023-02-26T19:59:39.417Z"
   },
   {
    "duration": 4,
    "start_time": "2023-02-26T20:38:03.201Z"
   },
   {
    "duration": 5,
    "start_time": "2023-02-26T20:38:58.104Z"
   },
   {
    "duration": 100,
    "start_time": "2023-02-26T20:39:12.068Z"
   },
   {
    "duration": 5,
    "start_time": "2023-02-26T20:39:23.287Z"
   },
   {
    "duration": 14,
    "start_time": "2023-02-26T20:42:04.219Z"
   },
   {
    "duration": 13,
    "start_time": "2023-02-26T20:42:05.232Z"
   },
   {
    "duration": 4,
    "start_time": "2023-02-26T20:48:21.220Z"
   },
   {
    "duration": 4,
    "start_time": "2023-02-26T20:50:10.332Z"
   },
   {
    "duration": 5,
    "start_time": "2023-02-26T20:50:16.549Z"
   },
   {
    "duration": 5,
    "start_time": "2023-02-26T20:50:44.663Z"
   },
   {
    "duration": 4,
    "start_time": "2023-02-26T20:51:21.928Z"
   },
   {
    "duration": 4,
    "start_time": "2023-02-26T20:51:39.664Z"
   },
   {
    "duration": 4,
    "start_time": "2023-02-26T20:51:47.968Z"
   },
   {
    "duration": 4,
    "start_time": "2023-02-26T20:51:55.507Z"
   },
   {
    "duration": 5,
    "start_time": "2023-02-26T20:51:58.837Z"
   },
   {
    "duration": 85,
    "start_time": "2023-02-26T21:24:16.116Z"
   },
   {
    "duration": 4,
    "start_time": "2023-02-26T21:24:27.203Z"
   },
   {
    "duration": 147,
    "start_time": "2023-02-27T08:49:48.108Z"
   },
   {
    "duration": 85,
    "start_time": "2023-02-27T14:25:20.887Z"
   },
   {
    "duration": 14,
    "start_time": "2023-02-27T14:25:30.561Z"
   },
   {
    "duration": 15,
    "start_time": "2023-02-27T14:25:34.943Z"
   },
   {
    "duration": 47,
    "start_time": "2023-02-27T14:26:36.551Z"
   },
   {
    "duration": 13,
    "start_time": "2023-02-27T14:27:39.928Z"
   },
   {
    "duration": 3,
    "start_time": "2023-02-27T14:27:53.773Z"
   },
   {
    "duration": 54,
    "start_time": "2023-02-27T14:44:50.953Z"
   },
   {
    "duration": 75,
    "start_time": "2023-02-27T22:37:22.774Z"
   },
   {
    "duration": 9,
    "start_time": "2023-02-27T22:37:35.073Z"
   },
   {
    "duration": 76,
    "start_time": "2023-02-27T22:37:51.227Z"
   },
   {
    "duration": 0,
    "start_time": "2023-02-27T22:37:51.305Z"
   },
   {
    "duration": 0,
    "start_time": "2023-02-27T22:37:51.306Z"
   },
   {
    "duration": 0,
    "start_time": "2023-02-27T22:37:51.307Z"
   },
   {
    "duration": 0,
    "start_time": "2023-02-27T22:37:51.309Z"
   },
   {
    "duration": 0,
    "start_time": "2023-02-27T22:37:51.310Z"
   },
   {
    "duration": 0,
    "start_time": "2023-02-27T22:37:51.311Z"
   },
   {
    "duration": 0,
    "start_time": "2023-02-27T22:37:51.312Z"
   },
   {
    "duration": 42,
    "start_time": "2023-02-27T22:37:51.314Z"
   },
   {
    "duration": 0,
    "start_time": "2023-02-27T22:37:51.357Z"
   },
   {
    "duration": 0,
    "start_time": "2023-02-27T22:37:51.359Z"
   },
   {
    "duration": 0,
    "start_time": "2023-02-27T22:37:51.360Z"
   },
   {
    "duration": 0,
    "start_time": "2023-02-27T22:37:51.361Z"
   },
   {
    "duration": 0,
    "start_time": "2023-02-27T22:37:51.362Z"
   },
   {
    "duration": 0,
    "start_time": "2023-02-27T22:37:51.391Z"
   },
   {
    "duration": 0,
    "start_time": "2023-02-27T22:37:51.392Z"
   },
   {
    "duration": 0,
    "start_time": "2023-02-27T22:37:51.393Z"
   },
   {
    "duration": 0,
    "start_time": "2023-02-27T22:37:51.394Z"
   },
   {
    "duration": 0,
    "start_time": "2023-02-27T22:37:51.395Z"
   },
   {
    "duration": 7,
    "start_time": "2023-02-27T22:37:51.397Z"
   },
   {
    "duration": 0,
    "start_time": "2023-02-27T22:37:51.405Z"
   },
   {
    "duration": 0,
    "start_time": "2023-02-27T22:37:51.406Z"
   },
   {
    "duration": 0,
    "start_time": "2023-02-27T22:37:51.408Z"
   },
   {
    "duration": 0,
    "start_time": "2023-02-27T22:37:51.409Z"
   },
   {
    "duration": 0,
    "start_time": "2023-02-27T22:37:51.410Z"
   },
   {
    "duration": 0,
    "start_time": "2023-02-27T22:37:51.411Z"
   },
   {
    "duration": 0,
    "start_time": "2023-02-27T22:37:51.412Z"
   },
   {
    "duration": 76,
    "start_time": "2023-02-27T22:38:15.702Z"
   },
   {
    "duration": 0,
    "start_time": "2023-02-27T22:38:15.780Z"
   },
   {
    "duration": 1,
    "start_time": "2023-02-27T22:38:15.781Z"
   },
   {
    "duration": 0,
    "start_time": "2023-02-27T22:38:15.783Z"
   },
   {
    "duration": 0,
    "start_time": "2023-02-27T22:38:15.784Z"
   },
   {
    "duration": 0,
    "start_time": "2023-02-27T22:38:15.784Z"
   },
   {
    "duration": 0,
    "start_time": "2023-02-27T22:38:15.786Z"
   },
   {
    "duration": 0,
    "start_time": "2023-02-27T22:38:15.787Z"
   },
   {
    "duration": 0,
    "start_time": "2023-02-27T22:38:15.788Z"
   },
   {
    "duration": 0,
    "start_time": "2023-02-27T22:38:15.789Z"
   },
   {
    "duration": 0,
    "start_time": "2023-02-27T22:38:15.790Z"
   },
   {
    "duration": 0,
    "start_time": "2023-02-27T22:38:15.791Z"
   },
   {
    "duration": 0,
    "start_time": "2023-02-27T22:38:15.791Z"
   },
   {
    "duration": 0,
    "start_time": "2023-02-27T22:38:15.792Z"
   },
   {
    "duration": 0,
    "start_time": "2023-02-27T22:38:15.793Z"
   },
   {
    "duration": 0,
    "start_time": "2023-02-27T22:38:15.794Z"
   },
   {
    "duration": 0,
    "start_time": "2023-02-27T22:38:15.795Z"
   },
   {
    "duration": 0,
    "start_time": "2023-02-27T22:38:15.796Z"
   },
   {
    "duration": 0,
    "start_time": "2023-02-27T22:38:15.798Z"
   },
   {
    "duration": 0,
    "start_time": "2023-02-27T22:38:15.798Z"
   },
   {
    "duration": 0,
    "start_time": "2023-02-27T22:38:15.799Z"
   },
   {
    "duration": 0,
    "start_time": "2023-02-27T22:38:15.800Z"
   },
   {
    "duration": 0,
    "start_time": "2023-02-27T22:38:15.801Z"
   },
   {
    "duration": 0,
    "start_time": "2023-02-27T22:38:15.802Z"
   },
   {
    "duration": 0,
    "start_time": "2023-02-27T22:38:15.803Z"
   },
   {
    "duration": 0,
    "start_time": "2023-02-27T22:38:15.804Z"
   },
   {
    "duration": 0,
    "start_time": "2023-02-27T22:38:15.805Z"
   },
   {
    "duration": 70,
    "start_time": "2023-02-27T22:38:42.018Z"
   },
   {
    "duration": 1251,
    "start_time": "2023-02-27T22:38:55.218Z"
   },
   {
    "duration": 411,
    "start_time": "2023-02-27T22:38:56.964Z"
   },
   {
    "duration": 62,
    "start_time": "2023-02-27T22:39:03.035Z"
   },
   {
    "duration": 2078,
    "start_time": "2023-02-27T22:39:07.866Z"
   },
   {
    "duration": 2014,
    "start_time": "2023-02-27T22:39:09.946Z"
   },
   {
    "duration": 116,
    "start_time": "2023-02-27T22:39:13.785Z"
   },
   {
    "duration": 75,
    "start_time": "2023-02-27T22:39:16.868Z"
   },
   {
    "duration": 55,
    "start_time": "2023-02-27T22:39:17.901Z"
   },
   {
    "duration": 48,
    "start_time": "2023-02-27T22:39:20.933Z"
   },
   {
    "duration": 23,
    "start_time": "2023-02-27T22:39:22.483Z"
   },
   {
    "duration": 113,
    "start_time": "2023-02-27T22:39:23.302Z"
   },
   {
    "duration": 8,
    "start_time": "2023-02-27T22:39:28.835Z"
   },
   {
    "duration": 8,
    "start_time": "2023-02-27T22:39:29.336Z"
   },
   {
    "duration": 12,
    "start_time": "2023-02-27T22:39:29.834Z"
   },
   {
    "duration": 19,
    "start_time": "2023-02-27T22:39:30.335Z"
   },
   {
    "duration": 46,
    "start_time": "2023-02-27T22:39:30.783Z"
   },
   {
    "duration": 50,
    "start_time": "2023-02-27T22:39:31.516Z"
   },
   {
    "duration": 64,
    "start_time": "2023-02-27T22:39:32.752Z"
   },
   {
    "duration": 51,
    "start_time": "2023-02-27T22:39:33.684Z"
   },
   {
    "duration": 4,
    "start_time": "2023-02-27T22:39:35.385Z"
   },
   {
    "duration": 96,
    "start_time": "2023-02-27T22:39:43.806Z"
   },
   {
    "duration": 4,
    "start_time": "2023-02-27T22:39:44.348Z"
   },
   {
    "duration": 37,
    "start_time": "2023-02-27T22:39:45.067Z"
   },
   {
    "duration": 44,
    "start_time": "2023-02-27T22:39:45.668Z"
   },
   {
    "duration": 234,
    "start_time": "2023-02-27T22:39:46.235Z"
   },
   {
    "duration": 14,
    "start_time": "2023-02-27T22:39:46.701Z"
   },
   {
    "duration": 107,
    "start_time": "2023-02-27T23:04:54.009Z"
   },
   {
    "duration": 3,
    "start_time": "2023-02-27T23:04:54.788Z"
   },
   {
    "duration": 17,
    "start_time": "2023-02-27T23:04:55.685Z"
   },
   {
    "duration": 39,
    "start_time": "2023-02-27T23:04:56.180Z"
   },
   {
    "duration": 194,
    "start_time": "2023-02-27T23:04:56.611Z"
   },
   {
    "duration": 35,
    "start_time": "2023-02-27T23:06:01.185Z"
   },
   {
    "duration": 234,
    "start_time": "2023-02-27T23:06:01.891Z"
   },
   {
    "duration": 13,
    "start_time": "2023-02-27T23:06:04.110Z"
   },
   {
    "duration": 50,
    "start_time": "2023-02-27T23:06:05.199Z"
   },
   {
    "duration": 67,
    "start_time": "2023-02-27T23:24:58.284Z"
   },
   {
    "duration": 24,
    "start_time": "2023-02-27T23:24:58.600Z"
   },
   {
    "duration": 3,
    "start_time": "2023-02-27T23:24:59.116Z"
   },
   {
    "duration": 11,
    "start_time": "2023-02-27T23:24:59.699Z"
   },
   {
    "duration": 32,
    "start_time": "2023-02-27T23:25:00.168Z"
   },
   {
    "duration": 207,
    "start_time": "2023-02-27T23:25:00.700Z"
   },
   {
    "duration": 96,
    "start_time": "2023-02-27T23:26:31.342Z"
   },
   {
    "duration": 101,
    "start_time": "2023-02-27T23:29:53.956Z"
   },
   {
    "duration": 102,
    "start_time": "2023-02-27T23:34:29.232Z"
   },
   {
    "duration": 1249,
    "start_time": "2023-02-27T23:34:38.505Z"
   },
   {
    "duration": 397,
    "start_time": "2023-02-27T23:34:39.755Z"
   },
   {
    "duration": 70,
    "start_time": "2023-02-27T23:34:40.153Z"
   },
   {
    "duration": 1887,
    "start_time": "2023-02-27T23:34:40.225Z"
   },
   {
    "duration": 1843,
    "start_time": "2023-02-27T23:34:42.113Z"
   },
   {
    "duration": 97,
    "start_time": "2023-02-27T23:34:43.957Z"
   },
   {
    "duration": 74,
    "start_time": "2023-02-27T23:34:44.055Z"
   },
   {
    "duration": 61,
    "start_time": "2023-02-27T23:34:44.131Z"
   },
   {
    "duration": 41,
    "start_time": "2023-02-27T23:34:44.194Z"
   },
   {
    "duration": 21,
    "start_time": "2023-02-27T23:34:44.239Z"
   },
   {
    "duration": 140,
    "start_time": "2023-02-27T23:34:44.262Z"
   },
   {
    "duration": 7,
    "start_time": "2023-02-27T23:34:44.403Z"
   },
   {
    "duration": 7,
    "start_time": "2023-02-27T23:34:44.412Z"
   },
   {
    "duration": 11,
    "start_time": "2023-02-27T23:34:44.420Z"
   },
   {
    "duration": 18,
    "start_time": "2023-02-27T23:34:44.433Z"
   },
   {
    "duration": 79,
    "start_time": "2023-02-27T23:34:44.453Z"
   },
   {
    "duration": 47,
    "start_time": "2023-02-27T23:34:44.534Z"
   },
   {
    "duration": 58,
    "start_time": "2023-02-27T23:34:44.592Z"
   },
   {
    "duration": 65,
    "start_time": "2023-02-27T23:34:44.652Z"
   },
   {
    "duration": 4,
    "start_time": "2023-02-27T23:34:44.719Z"
   },
   {
    "duration": 133,
    "start_time": "2023-02-27T23:34:44.725Z"
   },
   {
    "duration": 45,
    "start_time": "2023-02-27T23:34:44.859Z"
   },
   {
    "duration": 3,
    "start_time": "2023-02-27T23:34:44.906Z"
   },
   {
    "duration": 23,
    "start_time": "2023-02-27T23:34:44.910Z"
   },
   {
    "duration": 56,
    "start_time": "2023-02-27T23:34:44.935Z"
   },
   {
    "duration": 372,
    "start_time": "2023-02-27T23:34:44.993Z"
   },
   {
    "duration": 0,
    "start_time": "2023-02-27T23:34:45.367Z"
   },
   {
    "duration": 0,
    "start_time": "2023-02-27T23:34:45.368Z"
   },
   {
    "duration": 155,
    "start_time": "2023-02-27T23:36:03.701Z"
   },
   {
    "duration": 101,
    "start_time": "2023-02-27T23:36:25.569Z"
   },
   {
    "duration": 100,
    "start_time": "2023-02-28T08:51:53.093Z"
   },
   {
    "duration": 167,
    "start_time": "2023-02-28T08:52:33.453Z"
   },
   {
    "duration": 99,
    "start_time": "2023-02-28T08:52:51.829Z"
   },
   {
    "duration": 63,
    "start_time": "2023-02-28T12:52:45.380Z"
   },
   {
    "duration": 26,
    "start_time": "2023-02-28T12:52:48.385Z"
   },
   {
    "duration": 7,
    "start_time": "2023-02-28T13:28:54.739Z"
   },
   {
    "duration": 102,
    "start_time": "2023-02-28T13:28:55.710Z"
   },
   {
    "duration": 105,
    "start_time": "2023-02-28T13:29:26.333Z"
   },
   {
    "duration": 233,
    "start_time": "2023-02-28T14:02:39.034Z"
   },
   {
    "duration": 10,
    "start_time": "2023-03-01T10:17:55.261Z"
   },
   {
    "duration": 5,
    "start_time": "2023-03-01T10:18:02.108Z"
   },
   {
    "duration": 11,
    "start_time": "2023-03-01T10:20:16.040Z"
   },
   {
    "duration": 111,
    "start_time": "2023-03-01T10:22:23.030Z"
   },
   {
    "duration": 99,
    "start_time": "2023-03-01T10:22:43.373Z"
   },
   {
    "duration": 12,
    "start_time": "2023-03-01T14:13:14.669Z"
   },
   {
    "duration": 15,
    "start_time": "2023-03-01T15:48:30.032Z"
   },
   {
    "duration": 7,
    "start_time": "2023-03-01T15:48:30.655Z"
   },
   {
    "duration": 252,
    "start_time": "2023-03-01T15:48:31.419Z"
   },
   {
    "duration": 175,
    "start_time": "2023-03-01T15:49:08.455Z"
   },
   {
    "duration": 7,
    "start_time": "2023-03-01T15:50:39.410Z"
   },
   {
    "duration": 165,
    "start_time": "2023-03-01T15:50:39.979Z"
   },
   {
    "duration": 168,
    "start_time": "2023-03-01T15:50:49.092Z"
   },
   {
    "duration": 191,
    "start_time": "2023-03-01T15:50:56.331Z"
   },
   {
    "duration": 124,
    "start_time": "2023-03-01T15:51:12.183Z"
   },
   {
    "duration": 3,
    "start_time": "2023-03-01T16:16:15.502Z"
   },
   {
    "duration": 10,
    "start_time": "2023-03-01T16:16:18.758Z"
   },
   {
    "duration": 119,
    "start_time": "2023-03-01T16:19:37.062Z"
   },
   {
    "duration": 124,
    "start_time": "2023-03-01T16:22:00.587Z"
   },
   {
    "duration": 117,
    "start_time": "2023-03-02T07:57:09.853Z"
   },
   {
    "duration": 14,
    "start_time": "2023-03-02T07:57:26.649Z"
   },
   {
    "duration": 1713,
    "start_time": "2023-03-02T07:57:33.313Z"
   },
   {
    "duration": 605,
    "start_time": "2023-03-02T07:57:35.033Z"
   },
   {
    "duration": 13,
    "start_time": "2023-03-02T07:57:35.642Z"
   },
   {
    "duration": 91,
    "start_time": "2023-03-02T07:57:35.657Z"
   },
   {
    "duration": 2427,
    "start_time": "2023-03-02T07:57:35.749Z"
   },
   {
    "duration": 2266,
    "start_time": "2023-03-02T07:57:38.178Z"
   },
   {
    "duration": 116,
    "start_time": "2023-03-02T07:57:40.445Z"
   },
   {
    "duration": 103,
    "start_time": "2023-03-02T07:57:40.563Z"
   },
   {
    "duration": 78,
    "start_time": "2023-03-02T07:57:40.669Z"
   },
   {
    "duration": 60,
    "start_time": "2023-03-02T07:57:40.750Z"
   },
   {
    "duration": 36,
    "start_time": "2023-03-02T07:57:40.820Z"
   },
   {
    "duration": 186,
    "start_time": "2023-03-02T07:57:40.859Z"
   },
   {
    "duration": 8,
    "start_time": "2023-03-02T07:57:41.047Z"
   },
   {
    "duration": 31,
    "start_time": "2023-03-02T07:57:41.057Z"
   },
   {
    "duration": 70,
    "start_time": "2023-03-02T07:57:41.090Z"
   },
   {
    "duration": 57,
    "start_time": "2023-03-02T07:57:41.162Z"
   },
   {
    "duration": 112,
    "start_time": "2023-03-02T07:57:41.224Z"
   },
   {
    "duration": 46,
    "start_time": "2023-03-02T07:57:41.342Z"
   },
   {
    "duration": 98,
    "start_time": "2023-03-02T07:57:41.390Z"
   },
   {
    "duration": 71,
    "start_time": "2023-03-02T07:57:41.490Z"
   },
   {
    "duration": 12,
    "start_time": "2023-03-02T07:57:41.563Z"
   },
   {
    "duration": 165,
    "start_time": "2023-03-02T07:57:41.576Z"
   },
   {
    "duration": 38,
    "start_time": "2023-03-02T07:57:41.743Z"
   },
   {
    "duration": 18,
    "start_time": "2023-03-02T07:57:41.782Z"
   },
   {
    "duration": 54,
    "start_time": "2023-03-02T07:57:41.812Z"
   },
   {
    "duration": 46,
    "start_time": "2023-03-02T07:57:41.867Z"
   },
   {
    "duration": 11,
    "start_time": "2023-03-02T07:57:41.914Z"
   },
   {
    "duration": 246,
    "start_time": "2023-03-02T07:57:41.929Z"
   },
   {
    "duration": 144,
    "start_time": "2023-03-02T07:57:42.177Z"
   },
   {
    "duration": 0,
    "start_time": "2023-03-02T07:57:42.323Z"
   },
   {
    "duration": 0,
    "start_time": "2023-03-02T07:57:42.324Z"
   },
   {
    "duration": 0,
    "start_time": "2023-03-02T07:57:42.325Z"
   },
   {
    "duration": 1641,
    "start_time": "2023-03-02T08:01:20.254Z"
   },
   {
    "duration": 564,
    "start_time": "2023-03-02T08:01:21.897Z"
   },
   {
    "duration": 11,
    "start_time": "2023-03-02T08:01:22.463Z"
   },
   {
    "duration": 94,
    "start_time": "2023-03-02T08:01:22.493Z"
   },
   {
    "duration": 2466,
    "start_time": "2023-03-02T08:01:22.589Z"
   },
   {
    "duration": 2418,
    "start_time": "2023-03-02T08:01:25.057Z"
   },
   {
    "duration": 173,
    "start_time": "2023-03-02T08:01:27.477Z"
   },
   {
    "duration": 76,
    "start_time": "2023-03-02T08:01:27.653Z"
   },
   {
    "duration": 60,
    "start_time": "2023-03-02T08:01:27.732Z"
   },
   {
    "duration": 62,
    "start_time": "2023-03-02T08:01:27.794Z"
   },
   {
    "duration": 41,
    "start_time": "2023-03-02T08:01:27.858Z"
   },
   {
    "duration": 159,
    "start_time": "2023-03-02T08:01:27.904Z"
   },
   {
    "duration": 7,
    "start_time": "2023-03-02T08:01:28.065Z"
   },
   {
    "duration": 28,
    "start_time": "2023-03-02T08:01:28.075Z"
   },
   {
    "duration": 15,
    "start_time": "2023-03-02T08:01:28.110Z"
   },
   {
    "duration": 42,
    "start_time": "2023-03-02T08:01:28.142Z"
   },
   {
    "duration": 79,
    "start_time": "2023-03-02T08:01:28.187Z"
   },
   {
    "duration": 61,
    "start_time": "2023-03-02T08:01:28.268Z"
   },
   {
    "duration": 72,
    "start_time": "2023-03-02T08:01:28.334Z"
   },
   {
    "duration": 65,
    "start_time": "2023-03-02T08:01:28.408Z"
   },
   {
    "duration": 3,
    "start_time": "2023-03-02T08:01:28.475Z"
   },
   {
    "duration": 151,
    "start_time": "2023-03-02T08:01:28.502Z"
   },
   {
    "duration": 45,
    "start_time": "2023-03-02T08:01:28.655Z"
   },
   {
    "duration": 6,
    "start_time": "2023-03-02T08:01:28.701Z"
   },
   {
    "duration": 64,
    "start_time": "2023-03-02T08:01:28.708Z"
   },
   {
    "duration": 49,
    "start_time": "2023-03-02T08:01:28.774Z"
   },
   {
    "duration": 9,
    "start_time": "2023-03-02T08:01:28.827Z"
   },
   {
    "duration": 275,
    "start_time": "2023-03-02T08:01:28.837Z"
   },
   {
    "duration": 593,
    "start_time": "2023-03-02T08:01:29.114Z"
   },
   {
    "duration": 6221,
    "start_time": "2023-03-02T08:01:29.709Z"
   },
   {
    "duration": 308561,
    "start_time": "2023-03-02T08:01:35.934Z"
   },
   {
    "duration": 70,
    "start_time": "2023-03-02T08:06:44.500Z"
   },
   {
    "duration": 7379,
    "start_time": "2023-03-02T08:10:27.572Z"
   },
   {
    "duration": 394,
    "start_time": "2023-03-02T08:24:51.138Z"
   },
   {
    "duration": 419651,
    "start_time": "2023-03-02T08:24:51.537Z"
   },
   {
    "duration": 704,
    "start_time": "2023-03-02T08:31:52.614Z"
   },
   {
    "duration": 16,
    "start_time": "2023-03-02T08:31:53.329Z"
   },
   {
    "duration": 584,
    "start_time": "2023-03-02T08:31:53.358Z"
   },
   {
    "duration": 17,
    "start_time": "2023-03-02T08:31:53.952Z"
   },
   {
    "duration": 113,
    "start_time": "2023-03-02T08:31:53.971Z"
   },
   {
    "duration": 730,
    "start_time": "2023-03-02T08:33:32.107Z"
   },
   {
    "duration": 134,
    "start_time": "2023-03-02T08:40:34.735Z"
   },
   {
    "duration": 127,
    "start_time": "2023-03-02T08:41:03.450Z"
   },
   {
    "duration": 128,
    "start_time": "2023-03-02T08:44:23.281Z"
   },
   {
    "duration": 2,
    "start_time": "2023-03-02T08:46:37.188Z"
   },
   {
    "duration": 554,
    "start_time": "2023-03-02T08:49:02.348Z"
   },
   {
    "duration": 560,
    "start_time": "2023-03-02T08:49:13.128Z"
   },
   {
    "duration": 5508,
    "start_time": "2023-03-02T08:50:19.143Z"
   },
   {
    "duration": 10,
    "start_time": "2023-03-02T08:51:03.636Z"
   },
   {
    "duration": 1475,
    "start_time": "2023-03-02T08:51:42.227Z"
   },
   {
    "duration": 505,
    "start_time": "2023-03-02T08:51:43.713Z"
   },
   {
    "duration": 16,
    "start_time": "2023-03-02T08:51:44.229Z"
   },
   {
    "duration": 114,
    "start_time": "2023-03-02T08:51:44.247Z"
   },
   {
    "duration": 2525,
    "start_time": "2023-03-02T08:51:44.363Z"
   },
   {
    "duration": 2272,
    "start_time": "2023-03-02T08:51:46.890Z"
   },
   {
    "duration": 133,
    "start_time": "2023-03-02T08:51:49.163Z"
   },
   {
    "duration": 91,
    "start_time": "2023-03-02T08:51:49.298Z"
   },
   {
    "duration": 74,
    "start_time": "2023-03-02T08:51:49.391Z"
   },
   {
    "duration": 52,
    "start_time": "2023-03-02T08:51:49.466Z"
   },
   {
    "duration": 29,
    "start_time": "2023-03-02T08:51:49.522Z"
   },
   {
    "duration": 131,
    "start_time": "2023-03-02T08:51:49.553Z"
   },
   {
    "duration": 23,
    "start_time": "2023-03-02T08:51:49.697Z"
   },
   {
    "duration": 38,
    "start_time": "2023-03-02T08:51:49.730Z"
   },
   {
    "duration": 17,
    "start_time": "2023-03-02T08:51:49.770Z"
   },
   {
    "duration": 120,
    "start_time": "2023-03-02T08:51:49.789Z"
   },
   {
    "duration": 117,
    "start_time": "2023-03-02T08:51:49.912Z"
   },
   {
    "duration": 57,
    "start_time": "2023-03-02T08:51:50.030Z"
   },
   {
    "duration": 83,
    "start_time": "2023-03-02T08:51:50.088Z"
   },
   {
    "duration": 79,
    "start_time": "2023-03-02T08:51:50.173Z"
   },
   {
    "duration": 4,
    "start_time": "2023-03-02T08:51:50.254Z"
   },
   {
    "duration": 144,
    "start_time": "2023-03-02T08:51:50.260Z"
   },
   {
    "duration": 44,
    "start_time": "2023-03-02T08:51:50.411Z"
   },
   {
    "duration": 3,
    "start_time": "2023-03-02T08:51:50.456Z"
   },
   {
    "duration": 15,
    "start_time": "2023-03-02T08:51:50.461Z"
   },
   {
    "duration": 55,
    "start_time": "2023-03-02T08:51:50.477Z"
   },
   {
    "duration": 23,
    "start_time": "2023-03-02T08:51:50.535Z"
   },
   {
    "duration": 243,
    "start_time": "2023-03-02T08:51:50.559Z"
   },
   {
    "duration": 502,
    "start_time": "2023-03-02T08:51:50.809Z"
   },
   {
    "duration": 8256,
    "start_time": "2023-03-02T08:51:51.313Z"
   },
   {
    "duration": 563,
    "start_time": "2023-03-02T08:51:59.574Z"
   },
   {
    "duration": 446228,
    "start_time": "2023-03-02T08:52:00.142Z"
   },
   {
    "duration": 7456,
    "start_time": "2023-03-02T08:59:26.373Z"
   },
   {
    "duration": 200,
    "start_time": "2023-03-02T08:59:33.832Z"
   },
   {
    "duration": 177,
    "start_time": "2023-03-02T08:59:34.041Z"
   },
   {
    "duration": 830,
    "start_time": "2023-03-02T08:59:34.225Z"
   },
   {
    "duration": 698,
    "start_time": "2023-03-02T08:59:35.063Z"
   },
   {
    "duration": 6840,
    "start_time": "2023-03-02T08:59:35.773Z"
   },
   {
    "duration": 19,
    "start_time": "2023-03-02T08:59:42.631Z"
   },
   {
    "duration": 37,
    "start_time": "2023-03-02T09:08:50.307Z"
   },
   {
    "duration": 26,
    "start_time": "2023-03-02T09:08:52.640Z"
   },
   {
    "duration": 24,
    "start_time": "2023-03-02T09:12:19.019Z"
   },
   {
    "duration": 14,
    "start_time": "2023-03-02T09:12:21.153Z"
   },
   {
    "duration": 1632,
    "start_time": "2023-03-02T09:12:36.740Z"
   },
   {
    "duration": 292,
    "start_time": "2023-03-02T09:12:38.375Z"
   },
   {
    "duration": 128,
    "start_time": "2023-03-02T09:12:38.669Z"
   },
   {
    "duration": 31,
    "start_time": "2023-03-02T09:12:38.799Z"
   },
   {
    "duration": 32,
    "start_time": "2023-03-02T09:12:38.835Z"
   },
   {
    "duration": 449,
    "start_time": "2023-03-02T09:12:38.868Z"
   },
   {
    "duration": 23,
    "start_time": "2023-03-02T09:12:39.319Z"
   },
   {
    "duration": 94,
    "start_time": "2023-03-02T09:12:39.344Z"
   },
   {
    "duration": 2413,
    "start_time": "2023-03-02T09:12:39.445Z"
   },
   {
    "duration": 2317,
    "start_time": "2023-03-02T09:12:41.863Z"
   },
   {
    "duration": 170,
    "start_time": "2023-03-02T09:12:44.182Z"
   },
   {
    "duration": 103,
    "start_time": "2023-03-02T09:12:44.355Z"
   },
   {
    "duration": 89,
    "start_time": "2023-03-02T09:12:44.460Z"
   },
   {
    "duration": 81,
    "start_time": "2023-03-02T09:12:44.555Z"
   },
   {
    "duration": 29,
    "start_time": "2023-03-02T09:12:44.637Z"
   },
   {
    "duration": 170,
    "start_time": "2023-03-02T09:12:44.669Z"
   },
   {
    "duration": 9,
    "start_time": "2023-03-02T09:12:44.841Z"
   },
   {
    "duration": 21,
    "start_time": "2023-03-02T09:12:44.854Z"
   },
   {
    "duration": 23,
    "start_time": "2023-03-02T09:12:44.877Z"
   },
   {
    "duration": 72,
    "start_time": "2023-03-02T09:12:44.905Z"
   },
   {
    "duration": 66,
    "start_time": "2023-03-02T09:12:44.978Z"
   },
   {
    "duration": 53,
    "start_time": "2023-03-02T09:12:45.049Z"
   },
   {
    "duration": 77,
    "start_time": "2023-03-02T09:12:45.104Z"
   },
   {
    "duration": 71,
    "start_time": "2023-03-02T09:12:45.183Z"
   },
   {
    "duration": 8,
    "start_time": "2023-03-02T09:12:45.256Z"
   },
   {
    "duration": 161,
    "start_time": "2023-03-02T09:12:45.265Z"
   },
   {
    "duration": 41,
    "start_time": "2023-03-02T09:12:45.428Z"
   },
   {
    "duration": 3,
    "start_time": "2023-03-02T09:12:45.471Z"
   },
   {
    "duration": 84,
    "start_time": "2023-03-02T09:12:45.476Z"
   },
   {
    "duration": 43,
    "start_time": "2023-03-02T09:12:45.562Z"
   },
   {
    "duration": 96,
    "start_time": "2023-03-02T09:12:45.606Z"
   },
   {
    "duration": 340,
    "start_time": "2023-03-02T09:12:45.704Z"
   },
   {
    "duration": 679,
    "start_time": "2023-03-02T09:12:46.053Z"
   },
   {
    "duration": 7804,
    "start_time": "2023-03-02T09:12:46.735Z"
   },
   {
    "duration": 534,
    "start_time": "2023-03-02T09:12:54.549Z"
   },
   {
    "duration": 8,
    "start_time": "2023-03-02T09:20:23.958Z"
   },
   {
    "duration": 247,
    "start_time": "2023-03-02T09:20:24.106Z"
   },
   {
    "duration": 102,
    "start_time": "2023-03-02T09:20:24.699Z"
   },
   {
    "duration": 22,
    "start_time": "2023-03-02T09:20:25.108Z"
   },
   {
    "duration": 18,
    "start_time": "2023-03-02T09:20:25.249Z"
   },
   {
    "duration": 8,
    "start_time": "2023-03-02T09:20:37.453Z"
   },
   {
    "duration": 168,
    "start_time": "2023-03-02T09:20:38.146Z"
   },
   {
    "duration": 118,
    "start_time": "2023-03-02T09:20:38.764Z"
   },
   {
    "duration": 13,
    "start_time": "2023-03-02T09:20:44.089Z"
   },
   {
    "duration": 173,
    "start_time": "2023-03-02T09:20:45.544Z"
   },
   {
    "duration": 94,
    "start_time": "2023-03-02T09:20:45.972Z"
   },
   {
    "duration": 21,
    "start_time": "2023-03-02T09:20:46.943Z"
   },
   {
    "duration": 46,
    "start_time": "2023-03-02T09:20:47.390Z"
   },
   {
    "duration": 8,
    "start_time": "2023-03-02T09:26:38.766Z"
   },
   {
    "duration": 15,
    "start_time": "2023-03-02T09:27:07.771Z"
   },
   {
    "duration": 22,
    "start_time": "2023-03-02T09:27:16.124Z"
   },
   {
    "duration": 20,
    "start_time": "2023-03-02T09:28:27.348Z"
   },
   {
    "duration": 10,
    "start_time": "2023-03-02T09:28:28.681Z"
   },
   {
    "duration": 33,
    "start_time": "2023-03-02T09:29:26.488Z"
   },
   {
    "duration": 18,
    "start_time": "2023-03-02T09:29:29.959Z"
   },
   {
    "duration": 185,
    "start_time": "2023-03-02T09:39:36.649Z"
   },
   {
    "duration": 13,
    "start_time": "2023-03-02T15:59:06.141Z"
   },
   {
    "duration": 25,
    "start_time": "2023-03-02T15:59:35.217Z"
   },
   {
    "duration": 13,
    "start_time": "2023-03-02T16:00:19.033Z"
   },
   {
    "duration": 18,
    "start_time": "2023-03-02T16:00:21.922Z"
   },
   {
    "duration": 13,
    "start_time": "2023-03-02T16:02:48.410Z"
   },
   {
    "duration": 8,
    "start_time": "2023-03-02T16:02:59.725Z"
   },
   {
    "duration": 7,
    "start_time": "2023-03-02T16:03:19.068Z"
   },
   {
    "duration": 33,
    "start_time": "2023-03-02T16:14:33.473Z"
   },
   {
    "duration": 17,
    "start_time": "2023-03-02T16:14:58.007Z"
   },
   {
    "duration": 14,
    "start_time": "2023-03-02T16:15:36.081Z"
   },
   {
    "duration": 13,
    "start_time": "2023-03-02T16:16:42.276Z"
   },
   {
    "duration": 11,
    "start_time": "2023-03-02T16:17:03.773Z"
   },
   {
    "duration": 19,
    "start_time": "2023-03-02T16:19:18.187Z"
   },
   {
    "duration": 8,
    "start_time": "2023-03-02T16:19:51.803Z"
   },
   {
    "duration": 6,
    "start_time": "2023-03-02T16:21:21.410Z"
   },
   {
    "duration": 12,
    "start_time": "2023-03-02T16:45:19.993Z"
   },
   {
    "duration": 45,
    "start_time": "2023-03-02T16:45:36.453Z"
   },
   {
    "duration": 41,
    "start_time": "2023-03-02T16:46:17.122Z"
   },
   {
    "duration": 42,
    "start_time": "2023-03-02T16:47:05.090Z"
   },
   {
    "duration": 46,
    "start_time": "2023-03-02T16:47:30.358Z"
   },
   {
    "duration": 22,
    "start_time": "2023-03-02T16:47:31.786Z"
   },
   {
    "duration": 7,
    "start_time": "2023-03-02T16:48:41.929Z"
   },
   {
    "duration": 11,
    "start_time": "2023-03-02T16:48:56.069Z"
   },
   {
    "duration": 16,
    "start_time": "2023-03-02T16:49:12.263Z"
   },
   {
    "duration": 10,
    "start_time": "2023-03-02T16:49:20.700Z"
   },
   {
    "duration": 6,
    "start_time": "2023-03-02T16:49:26.624Z"
   },
   {
    "duration": 11,
    "start_time": "2023-03-02T16:51:51.933Z"
   },
   {
    "duration": 13,
    "start_time": "2023-03-02T16:52:12.036Z"
   },
   {
    "duration": 101,
    "start_time": "2023-03-03T12:33:24.717Z"
   },
   {
    "duration": 88,
    "start_time": "2023-03-03T12:33:34.712Z"
   },
   {
    "duration": 96,
    "start_time": "2023-03-03T12:33:43.220Z"
   },
   {
    "duration": 81,
    "start_time": "2023-03-03T12:33:50.958Z"
   },
   {
    "duration": 106,
    "start_time": "2023-03-03T12:33:55.830Z"
   },
   {
    "duration": 97,
    "start_time": "2023-03-03T12:34:20.089Z"
   },
   {
    "duration": 85,
    "start_time": "2023-03-03T12:34:40.885Z"
   },
   {
    "duration": 7,
    "start_time": "2023-03-03T12:35:16.570Z"
   },
   {
    "duration": 424,
    "start_time": "2023-03-03T12:35:17.416Z"
   },
   {
    "duration": 8,
    "start_time": "2023-03-03T12:38:46.756Z"
   },
   {
    "duration": 5,
    "start_time": "2023-03-03T12:51:52.846Z"
   },
   {
    "duration": 9,
    "start_time": "2023-03-03T13:01:04.932Z"
   },
   {
    "duration": 4,
    "start_time": "2023-03-03T13:01:11.793Z"
   },
   {
    "duration": 9,
    "start_time": "2023-03-03T13:01:12.441Z"
   },
   {
    "duration": 6,
    "start_time": "2023-03-03T13:01:17.045Z"
   },
   {
    "duration": 97,
    "start_time": "2023-03-03T13:01:33.633Z"
   },
   {
    "duration": 4,
    "start_time": "2023-03-03T13:01:45.938Z"
   },
   {
    "duration": 7,
    "start_time": "2023-03-03T13:01:49.550Z"
   },
   {
    "duration": 7,
    "start_time": "2023-03-03T13:07:02.458Z"
   },
   {
    "duration": 6,
    "start_time": "2023-03-03T13:07:14.591Z"
   },
   {
    "duration": 8,
    "start_time": "2023-03-03T13:07:26.832Z"
   },
   {
    "duration": 7,
    "start_time": "2023-03-03T13:35:21.152Z"
   },
   {
    "duration": 8,
    "start_time": "2023-03-03T13:35:27.188Z"
   },
   {
    "duration": 8,
    "start_time": "2023-03-03T13:35:33.383Z"
   },
   {
    "duration": 72,
    "start_time": "2023-03-03T13:35:39.281Z"
   },
   {
    "duration": 7,
    "start_time": "2023-03-03T13:35:39.824Z"
   },
   {
    "duration": 7,
    "start_time": "2023-03-03T13:35:50.038Z"
   },
   {
    "duration": 6,
    "start_time": "2023-03-03T13:35:52.090Z"
   },
   {
    "duration": 20,
    "start_time": "2023-03-03T13:35:58.159Z"
   },
   {
    "duration": 1350,
    "start_time": "2023-03-03T13:36:05.794Z"
   },
   {
    "duration": 393,
    "start_time": "2023-03-03T13:36:07.146Z"
   },
   {
    "duration": 7,
    "start_time": "2023-03-03T13:36:07.540Z"
   },
   {
    "duration": 98,
    "start_time": "2023-03-03T13:36:07.549Z"
   },
   {
    "duration": 24,
    "start_time": "2023-03-03T13:36:07.649Z"
   },
   {
    "duration": 58,
    "start_time": "2023-03-03T13:36:07.675Z"
   },
   {
    "duration": 33,
    "start_time": "2023-03-03T13:36:07.735Z"
   },
   {
    "duration": 143,
    "start_time": "2023-03-03T13:36:07.770Z"
   },
   {
    "duration": 0,
    "start_time": "2023-03-03T13:36:07.916Z"
   },
   {
    "duration": 1,
    "start_time": "2023-03-03T13:36:07.916Z"
   },
   {
    "duration": 0,
    "start_time": "2023-03-03T13:36:07.917Z"
   },
   {
    "duration": 0,
    "start_time": "2023-03-03T13:36:07.919Z"
   },
   {
    "duration": 0,
    "start_time": "2023-03-03T13:36:07.919Z"
   },
   {
    "duration": 0,
    "start_time": "2023-03-03T13:36:07.921Z"
   },
   {
    "duration": 0,
    "start_time": "2023-03-03T13:36:07.921Z"
   },
   {
    "duration": 0,
    "start_time": "2023-03-03T13:36:07.922Z"
   },
   {
    "duration": 0,
    "start_time": "2023-03-03T13:36:07.923Z"
   },
   {
    "duration": 0,
    "start_time": "2023-03-03T13:36:07.924Z"
   },
   {
    "duration": 0,
    "start_time": "2023-03-03T13:36:07.925Z"
   },
   {
    "duration": 0,
    "start_time": "2023-03-03T13:36:07.926Z"
   },
   {
    "duration": 0,
    "start_time": "2023-03-03T13:36:07.927Z"
   },
   {
    "duration": 0,
    "start_time": "2023-03-03T13:36:07.928Z"
   },
   {
    "duration": 0,
    "start_time": "2023-03-03T13:36:07.929Z"
   },
   {
    "duration": 0,
    "start_time": "2023-03-03T13:36:07.930Z"
   },
   {
    "duration": 0,
    "start_time": "2023-03-03T13:36:07.931Z"
   },
   {
    "duration": 0,
    "start_time": "2023-03-03T13:36:07.931Z"
   },
   {
    "duration": 0,
    "start_time": "2023-03-03T13:36:07.932Z"
   },
   {
    "duration": 0,
    "start_time": "2023-03-03T13:36:07.933Z"
   },
   {
    "duration": 0,
    "start_time": "2023-03-03T13:36:07.934Z"
   },
   {
    "duration": 0,
    "start_time": "2023-03-03T13:36:07.935Z"
   },
   {
    "duration": 0,
    "start_time": "2023-03-03T13:36:07.936Z"
   },
   {
    "duration": 0,
    "start_time": "2023-03-03T13:36:07.937Z"
   },
   {
    "duration": 0,
    "start_time": "2023-03-03T13:36:07.937Z"
   },
   {
    "duration": 0,
    "start_time": "2023-03-03T13:36:07.938Z"
   },
   {
    "duration": 0,
    "start_time": "2023-03-03T13:36:07.939Z"
   },
   {
    "duration": 0,
    "start_time": "2023-03-03T13:36:07.940Z"
   },
   {
    "duration": 0,
    "start_time": "2023-03-03T13:36:07.941Z"
   },
   {
    "duration": 0,
    "start_time": "2023-03-03T13:36:07.942Z"
   },
   {
    "duration": 0,
    "start_time": "2023-03-03T13:36:07.943Z"
   },
   {
    "duration": 0,
    "start_time": "2023-03-03T13:36:07.944Z"
   },
   {
    "duration": 0,
    "start_time": "2023-03-03T13:36:07.945Z"
   },
   {
    "duration": 0,
    "start_time": "2023-03-03T13:36:07.992Z"
   },
   {
    "duration": 0,
    "start_time": "2023-03-03T13:36:07.993Z"
   },
   {
    "duration": 0,
    "start_time": "2023-03-03T13:36:07.995Z"
   },
   {
    "duration": 9,
    "start_time": "2023-03-03T13:43:10.741Z"
   },
   {
    "duration": 1321,
    "start_time": "2023-03-03T13:43:20.566Z"
   },
   {
    "duration": 383,
    "start_time": "2023-03-03T13:43:21.889Z"
   },
   {
    "duration": 7,
    "start_time": "2023-03-03T13:43:22.274Z"
   },
   {
    "duration": 41,
    "start_time": "2023-03-03T13:43:22.291Z"
   },
   {
    "duration": 20,
    "start_time": "2023-03-03T13:43:22.334Z"
   },
   {
    "duration": 36,
    "start_time": "2023-03-03T13:43:22.356Z"
   },
   {
    "duration": 10,
    "start_time": "2023-03-03T13:43:22.394Z"
   },
   {
    "duration": 67,
    "start_time": "2023-03-03T13:43:22.406Z"
   },
   {
    "duration": 1885,
    "start_time": "2023-03-03T13:43:22.475Z"
   },
   {
    "duration": 1840,
    "start_time": "2023-03-03T13:43:24.361Z"
   },
   {
    "duration": 109,
    "start_time": "2023-03-03T13:43:26.203Z"
   },
   {
    "duration": 62,
    "start_time": "2023-03-03T13:43:26.313Z"
   },
   {
    "duration": 83,
    "start_time": "2023-03-03T13:43:26.376Z"
   },
   {
    "duration": 70,
    "start_time": "2023-03-03T13:43:26.464Z"
   },
   {
    "duration": 24,
    "start_time": "2023-03-03T13:43:26.536Z"
   },
   {
    "duration": 160,
    "start_time": "2023-03-03T13:43:26.562Z"
   },
   {
    "duration": 6,
    "start_time": "2023-03-03T13:43:26.724Z"
   },
   {
    "duration": 7,
    "start_time": "2023-03-03T13:43:26.732Z"
   },
   {
    "duration": 13,
    "start_time": "2023-03-03T13:43:26.740Z"
   },
   {
    "duration": 44,
    "start_time": "2023-03-03T13:43:26.754Z"
   },
   {
    "duration": 45,
    "start_time": "2023-03-03T13:43:26.800Z"
   },
   {
    "duration": 61,
    "start_time": "2023-03-03T13:43:26.847Z"
   },
   {
    "duration": 63,
    "start_time": "2023-03-03T13:43:26.910Z"
   },
   {
    "duration": 69,
    "start_time": "2023-03-03T13:43:26.975Z"
   },
   {
    "duration": 4,
    "start_time": "2023-03-03T13:43:27.046Z"
   },
   {
    "duration": 143,
    "start_time": "2023-03-03T13:43:27.051Z"
   },
   {
    "duration": 40,
    "start_time": "2023-03-03T13:43:27.195Z"
   },
   {
    "duration": 3,
    "start_time": "2023-03-03T13:43:27.236Z"
   },
   {
    "duration": 24,
    "start_time": "2023-03-03T13:43:27.241Z"
   },
   {
    "duration": 47,
    "start_time": "2023-03-03T13:43:27.267Z"
   },
   {
    "duration": 8,
    "start_time": "2023-03-03T13:43:27.316Z"
   },
   {
    "duration": 247,
    "start_time": "2023-03-03T13:43:27.325Z"
   },
   {
    "duration": 522,
    "start_time": "2023-03-03T13:43:27.574Z"
   },
   {
    "duration": 6228,
    "start_time": "2023-03-03T13:43:28.098Z"
   },
   {
    "duration": 394,
    "start_time": "2023-03-03T13:43:34.327Z"
   },
   {
    "duration": 1281,
    "start_time": "2023-03-03T13:44:19.891Z"
   },
   {
    "duration": 402,
    "start_time": "2023-03-03T13:44:21.173Z"
   },
   {
    "duration": 7,
    "start_time": "2023-03-03T13:44:21.577Z"
   },
   {
    "duration": 47,
    "start_time": "2023-03-03T13:44:21.592Z"
   },
   {
    "duration": 20,
    "start_time": "2023-03-03T13:44:21.641Z"
   },
   {
    "duration": 30,
    "start_time": "2023-03-03T13:44:21.662Z"
   },
   {
    "duration": 17,
    "start_time": "2023-03-03T13:44:21.694Z"
   },
   {
    "duration": 72,
    "start_time": "2023-03-03T13:44:21.713Z"
   },
   {
    "duration": 1909,
    "start_time": "2023-03-03T13:44:21.787Z"
   },
   {
    "duration": 1867,
    "start_time": "2023-03-03T13:44:23.698Z"
   },
   {
    "duration": 98,
    "start_time": "2023-03-03T13:44:25.567Z"
   },
   {
    "duration": 81,
    "start_time": "2023-03-03T13:44:25.667Z"
   },
   {
    "duration": 64,
    "start_time": "2023-03-03T13:44:25.749Z"
   },
   {
    "duration": 47,
    "start_time": "2023-03-03T13:44:25.815Z"
   },
   {
    "duration": 42,
    "start_time": "2023-03-03T13:44:25.864Z"
   },
   {
    "duration": 112,
    "start_time": "2023-03-03T13:44:25.908Z"
   },
   {
    "duration": 8,
    "start_time": "2023-03-03T13:44:26.022Z"
   },
   {
    "duration": 25,
    "start_time": "2023-03-03T13:44:26.031Z"
   },
   {
    "duration": 15,
    "start_time": "2023-03-03T13:44:26.058Z"
   },
   {
    "duration": 27,
    "start_time": "2023-03-03T13:44:26.075Z"
   },
   {
    "duration": 49,
    "start_time": "2023-03-03T13:44:26.103Z"
   },
   {
    "duration": 55,
    "start_time": "2023-03-03T13:44:26.154Z"
   },
   {
    "duration": 68,
    "start_time": "2023-03-03T13:44:26.211Z"
   },
   {
    "duration": 66,
    "start_time": "2023-03-03T13:44:26.292Z"
   },
   {
    "duration": 4,
    "start_time": "2023-03-03T13:44:26.360Z"
   },
   {
    "duration": 157,
    "start_time": "2023-03-03T13:44:26.366Z"
   },
   {
    "duration": 40,
    "start_time": "2023-03-03T13:44:26.525Z"
   },
   {
    "duration": 3,
    "start_time": "2023-03-03T13:44:26.568Z"
   },
   {
    "duration": 28,
    "start_time": "2023-03-03T13:44:26.573Z"
   },
   {
    "duration": 49,
    "start_time": "2023-03-03T13:44:26.603Z"
   },
   {
    "duration": 8,
    "start_time": "2023-03-03T13:44:26.654Z"
   },
   {
    "duration": 396,
    "start_time": "2023-03-03T13:44:26.664Z"
   },
   {
    "duration": 0,
    "start_time": "2023-03-03T13:44:27.061Z"
   },
   {
    "duration": 0,
    "start_time": "2023-03-03T13:44:27.062Z"
   },
   {
    "duration": 0,
    "start_time": "2023-03-03T13:44:27.063Z"
   },
   {
    "duration": 0,
    "start_time": "2023-03-03T13:44:27.064Z"
   },
   {
    "duration": 0,
    "start_time": "2023-03-03T13:44:27.065Z"
   },
   {
    "duration": 0,
    "start_time": "2023-03-03T13:44:27.066Z"
   },
   {
    "duration": 0,
    "start_time": "2023-03-03T13:44:27.067Z"
   },
   {
    "duration": 0,
    "start_time": "2023-03-03T13:44:27.068Z"
   },
   {
    "duration": 0,
    "start_time": "2023-03-03T13:44:27.069Z"
   },
   {
    "duration": 0,
    "start_time": "2023-03-03T13:44:27.070Z"
   },
   {
    "duration": 0,
    "start_time": "2023-03-03T13:44:27.091Z"
   },
   {
    "duration": 15,
    "start_time": "2023-03-03T13:48:27.257Z"
   },
   {
    "duration": 13,
    "start_time": "2023-03-03T13:58:15.602Z"
   },
   {
    "duration": 10,
    "start_time": "2023-03-03T14:07:55.692Z"
   },
   {
    "duration": 305,
    "start_time": "2023-03-03T14:08:14.181Z"
   },
   {
    "duration": 168,
    "start_time": "2023-03-03T14:09:30.525Z"
   },
   {
    "duration": 35,
    "start_time": "2023-03-03T14:09:31.035Z"
   },
   {
    "duration": 12,
    "start_time": "2023-03-03T14:13:04.609Z"
   },
   {
    "duration": 26,
    "start_time": "2023-03-03T14:13:05.220Z"
   },
   {
    "duration": 17,
    "start_time": "2023-03-03T14:13:11.879Z"
   },
   {
    "duration": 32,
    "start_time": "2023-03-03T14:13:12.397Z"
   },
   {
    "duration": 21,
    "start_time": "2023-03-03T14:13:13.320Z"
   },
   {
    "duration": 1310,
    "start_time": "2023-03-03T14:13:50.793Z"
   },
   {
    "duration": 408,
    "start_time": "2023-03-03T14:13:52.105Z"
   },
   {
    "duration": 8,
    "start_time": "2023-03-03T14:13:52.514Z"
   },
   {
    "duration": 13,
    "start_time": "2023-03-03T14:13:52.524Z"
   },
   {
    "duration": 63,
    "start_time": "2023-03-03T14:13:52.539Z"
   },
   {
    "duration": 20,
    "start_time": "2023-03-03T14:13:52.604Z"
   },
   {
    "duration": 14,
    "start_time": "2023-03-03T14:13:52.625Z"
   },
   {
    "duration": 12,
    "start_time": "2023-03-03T14:13:52.640Z"
   },
   {
    "duration": 85,
    "start_time": "2023-03-03T14:13:52.654Z"
   },
   {
    "duration": 1959,
    "start_time": "2023-03-03T14:13:52.741Z"
   },
   {
    "duration": 1914,
    "start_time": "2023-03-03T14:13:54.701Z"
   },
   {
    "duration": 126,
    "start_time": "2023-03-03T14:13:56.617Z"
   },
   {
    "duration": 83,
    "start_time": "2023-03-03T14:13:56.745Z"
   },
   {
    "duration": 51,
    "start_time": "2023-03-03T14:13:56.830Z"
   },
   {
    "duration": 42,
    "start_time": "2023-03-03T14:13:56.891Z"
   },
   {
    "duration": 19,
    "start_time": "2023-03-03T14:13:56.935Z"
   },
   {
    "duration": 120,
    "start_time": "2023-03-03T14:13:56.956Z"
   },
   {
    "duration": 17,
    "start_time": "2023-03-03T14:13:57.078Z"
   },
   {
    "duration": 10,
    "start_time": "2023-03-03T14:13:57.096Z"
   },
   {
    "duration": 14,
    "start_time": "2023-03-03T14:13:57.107Z"
   },
   {
    "duration": 18,
    "start_time": "2023-03-03T14:13:57.122Z"
   },
   {
    "duration": 63,
    "start_time": "2023-03-03T14:13:57.142Z"
   },
   {
    "duration": 46,
    "start_time": "2023-03-03T14:13:57.207Z"
   },
   {
    "duration": 75,
    "start_time": "2023-03-03T14:13:57.254Z"
   },
   {
    "duration": 47,
    "start_time": "2023-03-03T14:13:57.331Z"
   },
   {
    "duration": 13,
    "start_time": "2023-03-03T14:13:57.380Z"
   },
   {
    "duration": 127,
    "start_time": "2023-03-03T14:13:57.394Z"
   },
   {
    "duration": 37,
    "start_time": "2023-03-03T14:13:57.524Z"
   },
   {
    "duration": 3,
    "start_time": "2023-03-03T14:13:57.563Z"
   },
   {
    "duration": 31,
    "start_time": "2023-03-03T14:13:57.568Z"
   },
   {
    "duration": 32,
    "start_time": "2023-03-03T14:13:57.601Z"
   },
   {
    "duration": 7,
    "start_time": "2023-03-03T14:13:57.635Z"
   },
   {
    "duration": 400,
    "start_time": "2023-03-03T14:13:57.644Z"
   },
   {
    "duration": 0,
    "start_time": "2023-03-03T14:13:58.046Z"
   },
   {
    "duration": 0,
    "start_time": "2023-03-03T14:13:58.047Z"
   },
   {
    "duration": 0,
    "start_time": "2023-03-03T14:13:58.048Z"
   },
   {
    "duration": 0,
    "start_time": "2023-03-03T14:13:58.049Z"
   },
   {
    "duration": 0,
    "start_time": "2023-03-03T14:13:58.051Z"
   },
   {
    "duration": 0,
    "start_time": "2023-03-03T14:13:58.051Z"
   },
   {
    "duration": 0,
    "start_time": "2023-03-03T14:13:58.052Z"
   },
   {
    "duration": 0,
    "start_time": "2023-03-03T14:13:58.053Z"
   },
   {
    "duration": 0,
    "start_time": "2023-03-03T14:13:58.054Z"
   },
   {
    "duration": 0,
    "start_time": "2023-03-03T14:13:58.056Z"
   },
   {
    "duration": 0,
    "start_time": "2023-03-03T14:13:58.057Z"
   },
   {
    "duration": 13,
    "start_time": "2023-03-03T14:19:03.050Z"
   },
   {
    "duration": 46,
    "start_time": "2023-03-03T14:19:04.865Z"
   },
   {
    "duration": 20,
    "start_time": "2023-03-03T14:19:10.926Z"
   },
   {
    "duration": 13,
    "start_time": "2023-03-03T14:19:11.964Z"
   },
   {
    "duration": 1297,
    "start_time": "2023-03-03T14:19:26.442Z"
   },
   {
    "duration": 410,
    "start_time": "2023-03-03T14:19:27.741Z"
   },
   {
    "duration": 7,
    "start_time": "2023-03-03T14:19:28.152Z"
   },
   {
    "duration": 31,
    "start_time": "2023-03-03T14:19:28.161Z"
   },
   {
    "duration": 45,
    "start_time": "2023-03-03T14:19:28.193Z"
   },
   {
    "duration": 22,
    "start_time": "2023-03-03T14:19:28.240Z"
   },
   {
    "duration": 31,
    "start_time": "2023-03-03T14:19:28.264Z"
   },
   {
    "duration": 12,
    "start_time": "2023-03-03T14:19:28.296Z"
   },
   {
    "duration": 95,
    "start_time": "2023-03-03T14:19:28.309Z"
   },
   {
    "duration": 1909,
    "start_time": "2023-03-03T14:19:28.407Z"
   },
   {
    "duration": 2046,
    "start_time": "2023-03-03T14:19:30.318Z"
   },
   {
    "duration": 105,
    "start_time": "2023-03-03T14:19:32.366Z"
   },
   {
    "duration": 72,
    "start_time": "2023-03-03T14:19:32.472Z"
   },
   {
    "duration": 54,
    "start_time": "2023-03-03T14:19:32.546Z"
   },
   {
    "duration": 39,
    "start_time": "2023-03-03T14:19:32.601Z"
   },
   {
    "duration": 22,
    "start_time": "2023-03-03T14:19:32.642Z"
   },
   {
    "duration": 132,
    "start_time": "2023-03-03T14:19:32.666Z"
   },
   {
    "duration": 6,
    "start_time": "2023-03-03T14:19:32.799Z"
   },
   {
    "duration": 10,
    "start_time": "2023-03-03T14:19:32.807Z"
   },
   {
    "duration": 13,
    "start_time": "2023-03-03T14:19:32.819Z"
   },
   {
    "duration": 19,
    "start_time": "2023-03-03T14:19:32.834Z"
   },
   {
    "duration": 76,
    "start_time": "2023-03-03T14:19:32.855Z"
   },
   {
    "duration": 89,
    "start_time": "2023-03-03T14:19:32.933Z"
   },
   {
    "duration": 95,
    "start_time": "2023-03-03T14:19:33.024Z"
   },
   {
    "duration": 47,
    "start_time": "2023-03-03T14:19:33.121Z"
   },
   {
    "duration": 4,
    "start_time": "2023-03-03T14:19:33.170Z"
   },
   {
    "duration": 139,
    "start_time": "2023-03-03T14:19:33.175Z"
   },
   {
    "duration": 39,
    "start_time": "2023-03-03T14:19:33.317Z"
   },
   {
    "duration": 4,
    "start_time": "2023-03-03T14:19:33.357Z"
   },
   {
    "duration": 44,
    "start_time": "2023-03-03T14:19:33.362Z"
   },
   {
    "duration": 33,
    "start_time": "2023-03-03T14:19:33.407Z"
   },
   {
    "duration": 9,
    "start_time": "2023-03-03T14:19:33.441Z"
   },
   {
    "duration": 381,
    "start_time": "2023-03-03T14:19:33.451Z"
   },
   {
    "duration": 0,
    "start_time": "2023-03-03T14:19:33.835Z"
   },
   {
    "duration": 0,
    "start_time": "2023-03-03T14:19:33.836Z"
   },
   {
    "duration": 0,
    "start_time": "2023-03-03T14:19:33.837Z"
   },
   {
    "duration": 0,
    "start_time": "2023-03-03T14:19:33.839Z"
   },
   {
    "duration": 0,
    "start_time": "2023-03-03T14:19:33.841Z"
   },
   {
    "duration": 0,
    "start_time": "2023-03-03T14:19:33.842Z"
   },
   {
    "duration": 0,
    "start_time": "2023-03-03T14:19:33.844Z"
   },
   {
    "duration": 0,
    "start_time": "2023-03-03T14:19:33.845Z"
   },
   {
    "duration": 0,
    "start_time": "2023-03-03T14:19:33.847Z"
   },
   {
    "duration": 0,
    "start_time": "2023-03-03T14:19:33.848Z"
   },
   {
    "duration": 0,
    "start_time": "2023-03-03T14:19:33.849Z"
   },
   {
    "duration": 82,
    "start_time": "2023-03-03T14:22:17.472Z"
   },
   {
    "duration": 14,
    "start_time": "2023-03-03T14:22:36.499Z"
   },
   {
    "duration": 1363,
    "start_time": "2023-03-03T14:22:43.960Z"
   },
   {
    "duration": 408,
    "start_time": "2023-03-03T14:22:45.325Z"
   },
   {
    "duration": 6,
    "start_time": "2023-03-03T14:22:45.735Z"
   },
   {
    "duration": 14,
    "start_time": "2023-03-03T14:22:45.743Z"
   },
   {
    "duration": 56,
    "start_time": "2023-03-03T14:22:45.759Z"
   },
   {
    "duration": 24,
    "start_time": "2023-03-03T14:22:45.817Z"
   },
   {
    "duration": 20,
    "start_time": "2023-03-03T14:22:45.843Z"
   },
   {
    "duration": 28,
    "start_time": "2023-03-03T14:22:45.865Z"
   },
   {
    "duration": 62,
    "start_time": "2023-03-03T14:22:45.894Z"
   },
   {
    "duration": 1990,
    "start_time": "2023-03-03T14:22:45.958Z"
   },
   {
    "duration": 1825,
    "start_time": "2023-03-03T14:22:47.950Z"
   },
   {
    "duration": 115,
    "start_time": "2023-03-03T14:22:49.777Z"
   },
   {
    "duration": 60,
    "start_time": "2023-03-03T14:22:49.894Z"
   },
   {
    "duration": 66,
    "start_time": "2023-03-03T14:22:49.955Z"
   },
   {
    "duration": 38,
    "start_time": "2023-03-03T14:22:50.022Z"
   },
   {
    "duration": 44,
    "start_time": "2023-03-03T14:22:50.062Z"
   },
   {
    "duration": 109,
    "start_time": "2023-03-03T14:22:50.108Z"
   },
   {
    "duration": 6,
    "start_time": "2023-03-03T14:22:50.219Z"
   },
   {
    "duration": 6,
    "start_time": "2023-03-03T14:22:50.227Z"
   },
   {
    "duration": 11,
    "start_time": "2023-03-03T14:22:50.235Z"
   },
   {
    "duration": 51,
    "start_time": "2023-03-03T14:22:50.248Z"
   },
   {
    "duration": 50,
    "start_time": "2023-03-03T14:22:50.301Z"
   },
   {
    "duration": 61,
    "start_time": "2023-03-03T14:22:50.353Z"
   },
   {
    "duration": 58,
    "start_time": "2023-03-03T14:22:50.416Z"
   },
   {
    "duration": 49,
    "start_time": "2023-03-03T14:22:50.491Z"
   },
   {
    "duration": 4,
    "start_time": "2023-03-03T14:22:50.542Z"
   },
   {
    "duration": 140,
    "start_time": "2023-03-03T14:22:50.548Z"
   },
   {
    "duration": 39,
    "start_time": "2023-03-03T14:22:50.692Z"
   },
   {
    "duration": 3,
    "start_time": "2023-03-03T14:22:50.733Z"
   },
   {
    "duration": 23,
    "start_time": "2023-03-03T14:22:50.738Z"
   },
   {
    "duration": 59,
    "start_time": "2023-03-03T14:22:50.763Z"
   },
   {
    "duration": 9,
    "start_time": "2023-03-03T14:22:50.825Z"
   },
   {
    "duration": 364,
    "start_time": "2023-03-03T14:22:50.835Z"
   },
   {
    "duration": 0,
    "start_time": "2023-03-03T14:22:51.200Z"
   },
   {
    "duration": 0,
    "start_time": "2023-03-03T14:22:51.202Z"
   },
   {
    "duration": 0,
    "start_time": "2023-03-03T14:22:51.203Z"
   },
   {
    "duration": 0,
    "start_time": "2023-03-03T14:22:51.205Z"
   },
   {
    "duration": 0,
    "start_time": "2023-03-03T14:22:51.207Z"
   },
   {
    "duration": 0,
    "start_time": "2023-03-03T14:22:51.208Z"
   },
   {
    "duration": 0,
    "start_time": "2023-03-03T14:22:51.209Z"
   },
   {
    "duration": 0,
    "start_time": "2023-03-03T14:22:51.211Z"
   },
   {
    "duration": 0,
    "start_time": "2023-03-03T14:22:51.212Z"
   },
   {
    "duration": 0,
    "start_time": "2023-03-03T14:22:51.214Z"
   },
   {
    "duration": 0,
    "start_time": "2023-03-03T14:22:51.215Z"
   },
   {
    "duration": 15,
    "start_time": "2023-03-03T14:27:10.238Z"
   },
   {
    "duration": 40,
    "start_time": "2023-03-03T14:27:11.067Z"
   },
   {
    "duration": 19,
    "start_time": "2023-03-03T14:27:12.054Z"
   },
   {
    "duration": 12,
    "start_time": "2023-03-03T14:27:12.771Z"
   },
   {
    "duration": 12,
    "start_time": "2023-03-03T14:27:34.971Z"
   },
   {
    "duration": 40,
    "start_time": "2023-03-03T14:27:35.432Z"
   },
   {
    "duration": 20,
    "start_time": "2023-03-03T14:27:35.870Z"
   },
   {
    "duration": 22,
    "start_time": "2023-03-03T14:27:36.287Z"
   },
   {
    "duration": 12,
    "start_time": "2023-03-03T14:27:53.421Z"
   },
   {
    "duration": 42,
    "start_time": "2023-03-03T14:27:53.916Z"
   },
   {
    "duration": 19,
    "start_time": "2023-03-03T14:27:54.286Z"
   },
   {
    "duration": 13,
    "start_time": "2023-03-03T14:27:54.714Z"
   },
   {
    "duration": 15,
    "start_time": "2023-03-03T14:29:23.815Z"
   },
   {
    "duration": 43,
    "start_time": "2023-03-03T14:29:24.311Z"
   },
   {
    "duration": 22,
    "start_time": "2023-03-03T14:29:24.681Z"
   },
   {
    "duration": 13,
    "start_time": "2023-03-03T14:29:25.069Z"
   },
   {
    "duration": 14,
    "start_time": "2023-03-03T14:30:30.867Z"
   },
   {
    "duration": 54,
    "start_time": "2023-03-03T14:30:31.258Z"
   },
   {
    "duration": 22,
    "start_time": "2023-03-03T14:30:31.628Z"
   },
   {
    "duration": 12,
    "start_time": "2023-03-03T14:30:32.147Z"
   },
   {
    "duration": 15,
    "start_time": "2023-03-03T14:30:56.391Z"
   },
   {
    "duration": 41,
    "start_time": "2023-03-03T14:30:57.763Z"
   },
   {
    "duration": 20,
    "start_time": "2023-03-03T14:30:58.518Z"
   },
   {
    "duration": 13,
    "start_time": "2023-03-03T14:31:00.230Z"
   },
   {
    "duration": 10,
    "start_time": "2023-03-03T14:31:03.590Z"
   },
   {
    "duration": 13,
    "start_time": "2023-03-03T14:31:49.569Z"
   },
   {
    "duration": 40,
    "start_time": "2023-03-03T14:31:49.920Z"
   },
   {
    "duration": 20,
    "start_time": "2023-03-03T14:31:50.279Z"
   },
   {
    "duration": 13,
    "start_time": "2023-03-03T14:31:51.570Z"
   },
   {
    "duration": 11,
    "start_time": "2023-03-03T14:32:13.600Z"
   },
   {
    "duration": 41,
    "start_time": "2023-03-03T14:32:13.927Z"
   },
   {
    "duration": 21,
    "start_time": "2023-03-03T14:32:14.443Z"
   },
   {
    "duration": 13,
    "start_time": "2023-03-03T14:32:15.295Z"
   },
   {
    "duration": 1299,
    "start_time": "2023-03-03T14:32:31.945Z"
   },
   {
    "duration": 402,
    "start_time": "2023-03-03T14:32:33.246Z"
   },
   {
    "duration": 7,
    "start_time": "2023-03-03T14:32:33.649Z"
   },
   {
    "duration": 17,
    "start_time": "2023-03-03T14:32:33.657Z"
   },
   {
    "duration": 54,
    "start_time": "2023-03-03T14:32:33.675Z"
   },
   {
    "duration": 20,
    "start_time": "2023-03-03T14:32:33.730Z"
   },
   {
    "duration": 11,
    "start_time": "2023-03-03T14:32:33.752Z"
   },
   {
    "duration": 27,
    "start_time": "2023-03-03T14:32:33.765Z"
   },
   {
    "duration": 63,
    "start_time": "2023-03-03T14:32:33.793Z"
   },
   {
    "duration": 1874,
    "start_time": "2023-03-03T14:32:33.858Z"
   },
   {
    "duration": 1843,
    "start_time": "2023-03-03T14:32:35.733Z"
   },
   {
    "duration": 90,
    "start_time": "2023-03-03T14:32:37.577Z"
   },
   {
    "duration": 78,
    "start_time": "2023-03-03T14:32:37.669Z"
   },
   {
    "duration": 64,
    "start_time": "2023-03-03T14:32:37.749Z"
   },
   {
    "duration": 44,
    "start_time": "2023-03-03T14:32:37.815Z"
   },
   {
    "duration": 43,
    "start_time": "2023-03-03T14:32:37.861Z"
   },
   {
    "duration": 110,
    "start_time": "2023-03-03T14:32:37.906Z"
   },
   {
    "duration": 6,
    "start_time": "2023-03-03T14:32:38.018Z"
   },
   {
    "duration": 8,
    "start_time": "2023-03-03T14:32:38.025Z"
   },
   {
    "duration": 12,
    "start_time": "2023-03-03T14:32:38.035Z"
   },
   {
    "duration": 43,
    "start_time": "2023-03-03T14:32:38.048Z"
   },
   {
    "duration": 43,
    "start_time": "2023-03-03T14:32:38.093Z"
   },
   {
    "duration": 57,
    "start_time": "2023-03-03T14:32:38.137Z"
   },
   {
    "duration": 57,
    "start_time": "2023-03-03T14:32:38.195Z"
   },
   {
    "duration": 62,
    "start_time": "2023-03-03T14:32:38.253Z"
   },
   {
    "duration": 4,
    "start_time": "2023-03-03T14:32:38.317Z"
   },
   {
    "duration": 129,
    "start_time": "2023-03-03T14:32:38.323Z"
   },
   {
    "duration": 53,
    "start_time": "2023-03-03T14:32:38.455Z"
   },
   {
    "duration": 3,
    "start_time": "2023-03-03T14:32:38.510Z"
   },
   {
    "duration": 17,
    "start_time": "2023-03-03T14:32:38.514Z"
   },
   {
    "duration": 36,
    "start_time": "2023-03-03T14:32:38.533Z"
   },
   {
    "duration": 20,
    "start_time": "2023-03-03T14:32:38.571Z"
   },
   {
    "duration": 350,
    "start_time": "2023-03-03T14:32:38.593Z"
   },
   {
    "duration": 0,
    "start_time": "2023-03-03T14:32:38.944Z"
   },
   {
    "duration": 0,
    "start_time": "2023-03-03T14:32:38.945Z"
   },
   {
    "duration": 0,
    "start_time": "2023-03-03T14:32:38.946Z"
   },
   {
    "duration": 0,
    "start_time": "2023-03-03T14:32:38.947Z"
   },
   {
    "duration": 0,
    "start_time": "2023-03-03T14:32:38.948Z"
   },
   {
    "duration": 0,
    "start_time": "2023-03-03T14:32:38.950Z"
   },
   {
    "duration": 0,
    "start_time": "2023-03-03T14:32:38.952Z"
   },
   {
    "duration": 0,
    "start_time": "2023-03-03T14:32:38.953Z"
   },
   {
    "duration": 0,
    "start_time": "2023-03-03T14:32:38.954Z"
   },
   {
    "duration": 0,
    "start_time": "2023-03-03T14:32:38.955Z"
   },
   {
    "duration": 0,
    "start_time": "2023-03-03T14:32:38.956Z"
   },
   {
    "duration": 13,
    "start_time": "2023-03-03T14:33:58.011Z"
   },
   {
    "duration": 41,
    "start_time": "2023-03-03T14:33:58.452Z"
   },
   {
    "duration": 20,
    "start_time": "2023-03-03T14:33:58.800Z"
   },
   {
    "duration": 12,
    "start_time": "2023-03-03T14:33:59.524Z"
   },
   {
    "duration": 12,
    "start_time": "2023-03-03T14:34:28.083Z"
   },
   {
    "duration": 45,
    "start_time": "2023-03-03T14:34:28.445Z"
   },
   {
    "duration": 22,
    "start_time": "2023-03-03T14:34:28.816Z"
   },
   {
    "duration": 13,
    "start_time": "2023-03-03T14:34:29.591Z"
   },
   {
    "duration": 12,
    "start_time": "2023-03-03T14:34:31.011Z"
   },
   {
    "duration": 13,
    "start_time": "2023-03-03T14:34:42.346Z"
   },
   {
    "duration": 43,
    "start_time": "2023-03-03T14:34:42.910Z"
   },
   {
    "duration": 20,
    "start_time": "2023-03-03T14:34:43.623Z"
   },
   {
    "duration": 13,
    "start_time": "2023-03-03T14:34:44.825Z"
   },
   {
    "duration": 10,
    "start_time": "2023-03-03T14:34:46.174Z"
   },
   {
    "duration": 1387,
    "start_time": "2023-03-03T14:34:51.224Z"
   },
   {
    "duration": 392,
    "start_time": "2023-03-03T14:34:52.613Z"
   },
   {
    "duration": 9,
    "start_time": "2023-03-03T14:34:53.006Z"
   },
   {
    "duration": 30,
    "start_time": "2023-03-03T14:34:53.018Z"
   },
   {
    "duration": 56,
    "start_time": "2023-03-03T14:34:53.050Z"
   },
   {
    "duration": 32,
    "start_time": "2023-03-03T14:34:53.107Z"
   },
   {
    "duration": 21,
    "start_time": "2023-03-03T14:34:53.141Z"
   },
   {
    "duration": 36,
    "start_time": "2023-03-03T14:34:53.164Z"
   },
   {
    "duration": 77,
    "start_time": "2023-03-03T14:34:53.202Z"
   },
   {
    "duration": 1916,
    "start_time": "2023-03-03T14:34:53.292Z"
   },
   {
    "duration": 1985,
    "start_time": "2023-03-03T14:34:55.210Z"
   },
   {
    "duration": 109,
    "start_time": "2023-03-03T14:34:57.197Z"
   },
   {
    "duration": 59,
    "start_time": "2023-03-03T14:34:57.307Z"
   },
   {
    "duration": 64,
    "start_time": "2023-03-03T14:34:57.368Z"
   },
   {
    "duration": 56,
    "start_time": "2023-03-03T14:34:57.435Z"
   },
   {
    "duration": 21,
    "start_time": "2023-03-03T14:34:57.493Z"
   },
   {
    "duration": 112,
    "start_time": "2023-03-03T14:34:57.516Z"
   },
   {
    "duration": 7,
    "start_time": "2023-03-03T14:34:57.630Z"
   },
   {
    "duration": 18,
    "start_time": "2023-03-03T14:34:57.638Z"
   },
   {
    "duration": 30,
    "start_time": "2023-03-03T14:34:57.657Z"
   },
   {
    "duration": 26,
    "start_time": "2023-03-03T14:34:57.688Z"
   },
   {
    "duration": 62,
    "start_time": "2023-03-03T14:34:57.716Z"
   },
   {
    "duration": 53,
    "start_time": "2023-03-03T14:34:57.779Z"
   },
   {
    "duration": 65,
    "start_time": "2023-03-03T14:34:57.834Z"
   },
   {
    "duration": 49,
    "start_time": "2023-03-03T14:34:57.900Z"
   },
   {
    "duration": 4,
    "start_time": "2023-03-03T14:34:57.950Z"
   },
   {
    "duration": 139,
    "start_time": "2023-03-03T14:34:57.956Z"
   },
   {
    "duration": 41,
    "start_time": "2023-03-03T14:34:58.098Z"
   },
   {
    "duration": 3,
    "start_time": "2023-03-03T14:34:58.141Z"
   },
   {
    "duration": 14,
    "start_time": "2023-03-03T14:34:58.146Z"
   },
   {
    "duration": 54,
    "start_time": "2023-03-03T14:34:58.162Z"
   },
   {
    "duration": 8,
    "start_time": "2023-03-03T14:34:58.217Z"
   },
   {
    "duration": 282,
    "start_time": "2023-03-03T14:34:58.226Z"
   },
   {
    "duration": 482,
    "start_time": "2023-03-03T14:34:58.511Z"
   },
   {
    "duration": 5419,
    "start_time": "2023-03-03T14:34:58.995Z"
   },
   {
    "duration": 347,
    "start_time": "2023-03-03T14:35:04.416Z"
   },
   {
    "duration": 336989,
    "start_time": "2023-03-03T14:35:04.765Z"
   },
   {
    "duration": 4296,
    "start_time": "2023-03-03T14:40:41.755Z"
   },
   {
    "duration": 96,
    "start_time": "2023-03-03T14:40:46.053Z"
   },
   {
    "duration": 110,
    "start_time": "2023-03-03T14:40:46.150Z"
   },
   {
    "duration": 430,
    "start_time": "2023-03-03T14:40:46.262Z"
   },
   {
    "duration": 533,
    "start_time": "2023-03-03T14:40:46.694Z"
   },
   {
    "duration": 4352,
    "start_time": "2023-03-03T14:40:47.228Z"
   },
   {
    "duration": 11,
    "start_time": "2023-03-03T14:40:51.581Z"
   },
   {
    "duration": 6,
    "start_time": "2023-03-03T16:02:29.615Z"
   },
   {
    "duration": 356,
    "start_time": "2023-03-03T16:02:30.371Z"
   },
   {
    "duration": 20,
    "start_time": "2023-03-03T16:02:32.231Z"
   },
   {
    "duration": 15,
    "start_time": "2023-03-04T11:48:44.791Z"
   },
   {
    "duration": 1282,
    "start_time": "2023-03-04T11:48:51.294Z"
   },
   {
    "duration": 382,
    "start_time": "2023-03-04T11:48:52.578Z"
   },
   {
    "duration": 42,
    "start_time": "2023-03-04T11:48:52.961Z"
   },
   {
    "duration": 96,
    "start_time": "2023-03-04T11:48:53.005Z"
   },
   {
    "duration": 10,
    "start_time": "2023-03-04T11:48:53.102Z"
   },
   {
    "duration": 19,
    "start_time": "2023-03-04T11:48:53.114Z"
   },
   {
    "duration": 16,
    "start_time": "2023-03-04T11:48:53.135Z"
   },
   {
    "duration": 79,
    "start_time": "2023-03-04T11:48:53.153Z"
   },
   {
    "duration": 1958,
    "start_time": "2023-03-04T11:48:53.234Z"
   },
   {
    "duration": 1919,
    "start_time": "2023-03-04T11:48:55.194Z"
   },
   {
    "duration": 103,
    "start_time": "2023-03-04T11:48:57.115Z"
   },
   {
    "duration": 77,
    "start_time": "2023-03-04T11:48:57.220Z"
   },
   {
    "duration": 54,
    "start_time": "2023-03-04T11:48:57.299Z"
   },
   {
    "duration": 57,
    "start_time": "2023-03-04T11:48:57.354Z"
   },
   {
    "duration": 21,
    "start_time": "2023-03-04T11:48:57.412Z"
   },
   {
    "duration": 122,
    "start_time": "2023-03-04T11:48:57.435Z"
   },
   {
    "duration": 6,
    "start_time": "2023-03-04T11:48:57.559Z"
   },
   {
    "duration": 26,
    "start_time": "2023-03-04T11:48:57.566Z"
   },
   {
    "duration": 11,
    "start_time": "2023-03-04T11:48:57.593Z"
   },
   {
    "duration": 18,
    "start_time": "2023-03-04T11:48:57.605Z"
   },
   {
    "duration": 42,
    "start_time": "2023-03-04T11:48:57.625Z"
   },
   {
    "duration": 66,
    "start_time": "2023-03-04T11:48:57.669Z"
   },
   {
    "duration": 70,
    "start_time": "2023-03-04T11:48:57.737Z"
   },
   {
    "duration": 56,
    "start_time": "2023-03-04T11:48:57.809Z"
   },
   {
    "duration": 4,
    "start_time": "2023-03-04T11:48:57.867Z"
   },
   {
    "duration": 124,
    "start_time": "2023-03-04T11:48:57.892Z"
   },
   {
    "duration": 38,
    "start_time": "2023-03-04T11:48:58.018Z"
   },
   {
    "duration": 2,
    "start_time": "2023-03-04T11:48:58.060Z"
   },
   {
    "duration": 31,
    "start_time": "2023-03-04T11:48:58.064Z"
   },
   {
    "duration": 31,
    "start_time": "2023-03-04T11:48:58.097Z"
   },
   {
    "duration": 7,
    "start_time": "2023-03-04T11:48:58.130Z"
   },
   {
    "duration": 280,
    "start_time": "2023-03-04T11:48:58.138Z"
   },
   {
    "duration": 473,
    "start_time": "2023-03-04T11:48:58.420Z"
   },
   {
    "duration": 5281,
    "start_time": "2023-03-04T11:48:58.895Z"
   },
   {
    "duration": 372,
    "start_time": "2023-03-04T11:49:04.177Z"
   },
   {
    "duration": 1380,
    "start_time": "2023-03-04T11:50:59.000Z"
   },
   {
    "duration": 439,
    "start_time": "2023-03-04T11:51:00.382Z"
   },
   {
    "duration": 13,
    "start_time": "2023-03-04T11:51:00.823Z"
   },
   {
    "duration": 63,
    "start_time": "2023-03-04T11:51:00.838Z"
   },
   {
    "duration": 11,
    "start_time": "2023-03-04T11:51:00.902Z"
   },
   {
    "duration": 39,
    "start_time": "2023-03-04T11:51:00.914Z"
   },
   {
    "duration": 22,
    "start_time": "2023-03-04T11:51:00.955Z"
   },
   {
    "duration": 24,
    "start_time": "2023-03-04T11:51:00.979Z"
   },
   {
    "duration": 72,
    "start_time": "2023-03-04T11:51:01.004Z"
   },
   {
    "duration": 1954,
    "start_time": "2023-03-04T11:51:01.078Z"
   },
   {
    "duration": 1917,
    "start_time": "2023-03-04T11:51:03.034Z"
   },
   {
    "duration": 101,
    "start_time": "2023-03-04T11:51:04.953Z"
   },
   {
    "duration": 75,
    "start_time": "2023-03-04T11:51:05.056Z"
   },
   {
    "duration": 59,
    "start_time": "2023-03-04T11:51:05.133Z"
   },
   {
    "duration": 42,
    "start_time": "2023-03-04T11:51:05.194Z"
   },
   {
    "duration": 22,
    "start_time": "2023-03-04T11:51:05.238Z"
   },
   {
    "duration": 139,
    "start_time": "2023-03-04T11:51:05.262Z"
   },
   {
    "duration": 6,
    "start_time": "2023-03-04T11:51:05.402Z"
   },
   {
    "duration": 7,
    "start_time": "2023-03-04T11:51:05.410Z"
   },
   {
    "duration": 15,
    "start_time": "2023-03-04T11:51:05.418Z"
   },
   {
    "duration": 19,
    "start_time": "2023-03-04T11:51:05.434Z"
   },
   {
    "duration": 69,
    "start_time": "2023-03-04T11:51:05.455Z"
   },
   {
    "duration": 46,
    "start_time": "2023-03-04T11:51:05.525Z"
   },
   {
    "duration": 72,
    "start_time": "2023-03-04T11:51:05.572Z"
   },
   {
    "duration": 60,
    "start_time": "2023-03-04T11:51:05.646Z"
   },
   {
    "duration": 4,
    "start_time": "2023-03-04T11:51:05.708Z"
   },
   {
    "duration": 129,
    "start_time": "2023-03-04T11:51:05.713Z"
   },
   {
    "duration": 51,
    "start_time": "2023-03-04T11:51:05.846Z"
   },
   {
    "duration": 4,
    "start_time": "2023-03-04T11:51:05.898Z"
   },
   {
    "duration": 38,
    "start_time": "2023-03-04T11:51:05.903Z"
   },
   {
    "duration": 32,
    "start_time": "2023-03-04T11:51:05.943Z"
   },
   {
    "duration": 9,
    "start_time": "2023-03-04T11:51:05.976Z"
   },
   {
    "duration": 276,
    "start_time": "2023-03-04T11:51:05.986Z"
   },
   {
    "duration": 528,
    "start_time": "2023-03-04T11:51:06.264Z"
   },
   {
    "duration": 5483,
    "start_time": "2023-03-04T11:51:06.795Z"
   },
   {
    "duration": 338,
    "start_time": "2023-03-04T11:51:12.279Z"
   },
   {
    "duration": 1359,
    "start_time": "2023-03-04T11:53:25.643Z"
   },
   {
    "duration": 401,
    "start_time": "2023-03-04T11:53:27.004Z"
   },
   {
    "duration": 22,
    "start_time": "2023-03-04T11:53:27.406Z"
   },
   {
    "duration": 46,
    "start_time": "2023-03-04T11:53:27.430Z"
   },
   {
    "duration": 21,
    "start_time": "2023-03-04T11:53:27.478Z"
   },
   {
    "duration": 73,
    "start_time": "2023-03-04T11:53:27.500Z"
   },
   {
    "duration": 2182,
    "start_time": "2023-03-04T11:53:27.574Z"
   },
   {
    "duration": 1969,
    "start_time": "2023-03-04T11:53:29.759Z"
   },
   {
    "duration": 98,
    "start_time": "2023-03-04T11:53:31.729Z"
   },
   {
    "duration": 76,
    "start_time": "2023-03-04T11:53:31.830Z"
   },
   {
    "duration": 60,
    "start_time": "2023-03-04T11:53:31.908Z"
   },
   {
    "duration": 51,
    "start_time": "2023-03-04T11:53:31.970Z"
   },
   {
    "duration": 22,
    "start_time": "2023-03-04T11:53:32.023Z"
   },
   {
    "duration": 146,
    "start_time": "2023-03-04T11:53:32.046Z"
   },
   {
    "duration": 6,
    "start_time": "2023-03-04T11:53:32.194Z"
   },
   {
    "duration": 8,
    "start_time": "2023-03-04T11:53:32.202Z"
   },
   {
    "duration": 16,
    "start_time": "2023-03-04T11:53:32.212Z"
   },
   {
    "duration": 30,
    "start_time": "2023-03-04T11:53:32.230Z"
   },
   {
    "duration": 71,
    "start_time": "2023-03-04T11:53:32.262Z"
   },
   {
    "duration": 61,
    "start_time": "2023-03-04T11:53:32.335Z"
   },
   {
    "duration": 61,
    "start_time": "2023-03-04T11:53:32.398Z"
   },
   {
    "duration": 71,
    "start_time": "2023-03-04T11:53:32.461Z"
   },
   {
    "duration": 4,
    "start_time": "2023-03-04T11:53:32.534Z"
   },
   {
    "duration": 131,
    "start_time": "2023-03-04T11:53:32.539Z"
   },
   {
    "duration": 49,
    "start_time": "2023-03-04T11:53:32.672Z"
   },
   {
    "duration": 3,
    "start_time": "2023-03-04T11:53:32.723Z"
   },
   {
    "duration": 14,
    "start_time": "2023-03-04T11:53:32.728Z"
   },
   {
    "duration": 48,
    "start_time": "2023-03-04T11:53:32.746Z"
   },
   {
    "duration": 7,
    "start_time": "2023-03-04T11:53:32.796Z"
   },
   {
    "duration": 271,
    "start_time": "2023-03-04T11:53:32.805Z"
   },
   {
    "duration": 416,
    "start_time": "2023-03-04T11:53:33.078Z"
   },
   {
    "duration": 5584,
    "start_time": "2023-03-04T11:53:33.496Z"
   },
   {
    "duration": 382,
    "start_time": "2023-03-04T11:53:39.082Z"
   },
   {
    "duration": 333455,
    "start_time": "2023-03-04T11:53:39.466Z"
   },
   {
    "duration": 4191,
    "start_time": "2023-03-04T11:59:12.922Z"
   },
   {
    "duration": 97,
    "start_time": "2023-03-04T11:59:17.115Z"
   },
   {
    "duration": 105,
    "start_time": "2023-03-04T11:59:17.214Z"
   },
   {
    "duration": 571,
    "start_time": "2023-03-04T11:59:17.321Z"
   },
   {
    "duration": 353,
    "start_time": "2023-03-04T11:59:17.893Z"
   },
   {
    "duration": 4067,
    "start_time": "2023-03-04T11:59:18.247Z"
   },
   {
    "duration": 9,
    "start_time": "2023-03-04T11:59:22.315Z"
   },
   {
    "duration": 329014,
    "start_time": "2023-03-04T12:07:02.907Z"
   },
   {
    "duration": 4148,
    "start_time": "2023-03-04T12:12:31.923Z"
   },
   {
    "duration": 97,
    "start_time": "2023-03-04T12:45:16.653Z"
   },
   {
    "duration": 137,
    "start_time": "2023-03-04T12:46:45.361Z"
   },
   {
    "duration": 127,
    "start_time": "2023-03-04T12:47:42.882Z"
   },
   {
    "duration": 1224,
    "start_time": "2023-03-04T12:48:21.151Z"
   },
   {
    "duration": 389,
    "start_time": "2023-03-04T12:48:22.377Z"
   },
   {
    "duration": 26,
    "start_time": "2023-03-04T12:48:22.768Z"
   },
   {
    "duration": 14,
    "start_time": "2023-03-04T12:48:22.796Z"
   },
   {
    "duration": 19,
    "start_time": "2023-03-04T12:48:22.811Z"
   },
   {
    "duration": 80,
    "start_time": "2023-03-04T12:48:22.832Z"
   },
   {
    "duration": 1922,
    "start_time": "2023-03-04T12:48:22.914Z"
   },
   {
    "duration": 1938,
    "start_time": "2023-03-04T12:48:24.837Z"
   },
   {
    "duration": 94,
    "start_time": "2023-03-04T12:48:26.776Z"
   },
   {
    "duration": 74,
    "start_time": "2023-03-04T12:48:26.872Z"
   },
   {
    "duration": 63,
    "start_time": "2023-03-04T12:48:26.947Z"
   },
   {
    "duration": 38,
    "start_time": "2023-03-04T12:48:27.012Z"
   },
   {
    "duration": 39,
    "start_time": "2023-03-04T12:48:27.052Z"
   },
   {
    "duration": 105,
    "start_time": "2023-03-04T12:48:27.093Z"
   },
   {
    "duration": 15,
    "start_time": "2023-03-04T12:48:27.199Z"
   },
   {
    "duration": 9,
    "start_time": "2023-03-04T12:48:27.216Z"
   },
   {
    "duration": 13,
    "start_time": "2023-03-04T12:48:27.227Z"
   },
   {
    "duration": 22,
    "start_time": "2023-03-04T12:48:27.242Z"
   },
   {
    "duration": 62,
    "start_time": "2023-03-04T12:48:27.266Z"
   },
   {
    "duration": 46,
    "start_time": "2023-03-04T12:48:27.329Z"
   },
   {
    "duration": 69,
    "start_time": "2023-03-04T12:48:27.376Z"
   },
   {
    "duration": 61,
    "start_time": "2023-03-04T12:48:27.447Z"
   },
   {
    "duration": 5,
    "start_time": "2023-03-04T12:48:27.509Z"
   },
   {
    "duration": 126,
    "start_time": "2023-03-04T12:48:27.515Z"
   },
   {
    "duration": 38,
    "start_time": "2023-03-04T12:48:27.642Z"
   },
   {
    "duration": 3,
    "start_time": "2023-03-04T12:48:27.681Z"
   },
   {
    "duration": 17,
    "start_time": "2023-03-04T12:48:27.691Z"
   },
   {
    "duration": 31,
    "start_time": "2023-03-04T12:48:27.711Z"
   },
   {
    "duration": 8,
    "start_time": "2023-03-04T12:48:27.743Z"
   },
   {
    "duration": 281,
    "start_time": "2023-03-04T12:48:27.752Z"
   },
   {
    "duration": 461,
    "start_time": "2023-03-04T12:48:28.034Z"
   },
   {
    "duration": 5333,
    "start_time": "2023-03-04T12:48:28.497Z"
   },
   {
    "duration": 353,
    "start_time": "2023-03-04T12:48:33.832Z"
   },
   {
    "duration": 339478,
    "start_time": "2023-03-04T12:48:34.187Z"
   },
   {
    "duration": 5374,
    "start_time": "2023-03-04T12:54:13.667Z"
   },
   {
    "duration": 99,
    "start_time": "2023-03-04T12:54:19.043Z"
   },
   {
    "duration": 102,
    "start_time": "2023-03-04T12:54:19.144Z"
   },
   {
    "duration": 401,
    "start_time": "2023-03-04T12:54:19.248Z"
   },
   {
    "duration": 472,
    "start_time": "2023-03-04T12:54:19.702Z"
   },
   {
    "duration": 4251,
    "start_time": "2023-03-04T12:54:20.176Z"
   },
   {
    "duration": 8,
    "start_time": "2023-03-04T12:54:24.429Z"
   },
   {
    "duration": 171,
    "start_time": "2023-03-04T12:54:24.439Z"
   },
   {
    "duration": 355,
    "start_time": "2023-03-04T12:54:24.611Z"
   },
   {
    "duration": 356,
    "start_time": "2023-03-04T12:54:24.969Z"
   },
   {
    "duration": 77,
    "start_time": "2023-03-04T12:56:59.378Z"
   },
   {
    "duration": 9110,
    "start_time": "2023-03-04T13:03:14.115Z"
   },
   {
    "duration": 35530,
    "start_time": "2023-03-04T13:04:08.914Z"
   },
   {
    "duration": 9333,
    "start_time": "2023-03-04T13:05:02.479Z"
   },
   {
    "duration": 536,
    "start_time": "2023-03-04T13:10:24.719Z"
   },
   {
    "duration": 556,
    "start_time": "2023-03-04T13:13:58.708Z"
   },
   {
    "duration": 705,
    "start_time": "2023-03-04T13:15:20.230Z"
   },
   {
    "duration": 6483,
    "start_time": "2023-03-04T13:17:32.247Z"
   },
   {
    "duration": 708,
    "start_time": "2023-03-04T13:18:58.012Z"
   },
   {
    "duration": 109,
    "start_time": "2023-03-04T14:12:57.077Z"
   },
   {
    "duration": 4,
    "start_time": "2023-03-04T14:13:09.082Z"
   },
   {
    "duration": 59,
    "start_time": "2023-03-04T14:13:09.829Z"
   },
   {
    "duration": 5,
    "start_time": "2023-03-04T14:13:31.676Z"
   },
   {
    "duration": 67,
    "start_time": "2023-03-04T14:13:32.392Z"
   },
   {
    "duration": 66,
    "start_time": "2023-03-04T14:14:24.298Z"
   },
   {
    "duration": 3,
    "start_time": "2023-03-04T14:15:12.616Z"
   },
   {
    "duration": 1377,
    "start_time": "2023-03-04T14:17:56.521Z"
   },
   {
    "duration": 441,
    "start_time": "2023-03-04T14:17:57.900Z"
   },
   {
    "duration": 24,
    "start_time": "2023-03-04T14:17:58.342Z"
   },
   {
    "duration": 49,
    "start_time": "2023-03-04T14:17:58.367Z"
   },
   {
    "duration": 31,
    "start_time": "2023-03-04T14:17:58.419Z"
   },
   {
    "duration": 92,
    "start_time": "2023-03-04T14:17:58.455Z"
   },
   {
    "duration": 2419,
    "start_time": "2023-03-04T14:17:58.549Z"
   },
   {
    "duration": 2216,
    "start_time": "2023-03-04T14:18:00.970Z"
   },
   {
    "duration": 118,
    "start_time": "2023-03-04T14:18:03.195Z"
   },
   {
    "duration": 99,
    "start_time": "2023-03-04T14:18:03.317Z"
   },
   {
    "duration": 60,
    "start_time": "2023-03-04T14:18:03.418Z"
   },
   {
    "duration": 50,
    "start_time": "2023-03-04T14:18:03.479Z"
   },
   {
    "duration": 24,
    "start_time": "2023-03-04T14:18:03.531Z"
   },
   {
    "duration": 127,
    "start_time": "2023-03-04T14:18:03.558Z"
   },
   {
    "duration": 15,
    "start_time": "2023-03-04T14:18:03.686Z"
   },
   {
    "duration": 19,
    "start_time": "2023-03-04T14:18:03.703Z"
   },
   {
    "duration": 14,
    "start_time": "2023-03-04T14:18:03.724Z"
   },
   {
    "duration": 31,
    "start_time": "2023-03-04T14:18:03.739Z"
   },
   {
    "duration": 66,
    "start_time": "2023-03-04T14:18:03.771Z"
   },
   {
    "duration": 69,
    "start_time": "2023-03-04T14:18:03.839Z"
   },
   {
    "duration": 60,
    "start_time": "2023-03-04T14:18:03.911Z"
   },
   {
    "duration": 66,
    "start_time": "2023-03-04T14:18:03.972Z"
   },
   {
    "duration": 5,
    "start_time": "2023-03-04T14:18:04.040Z"
   },
   {
    "duration": 149,
    "start_time": "2023-03-04T14:18:04.046Z"
   },
   {
    "duration": 42,
    "start_time": "2023-03-04T14:18:04.197Z"
   },
   {
    "duration": 3,
    "start_time": "2023-03-04T14:18:04.241Z"
   },
   {
    "duration": 21,
    "start_time": "2023-03-04T14:18:04.247Z"
   },
   {
    "duration": 48,
    "start_time": "2023-03-04T14:18:04.270Z"
   },
   {
    "duration": 7,
    "start_time": "2023-03-04T14:18:04.320Z"
   },
   {
    "duration": 299,
    "start_time": "2023-03-04T14:18:04.329Z"
   },
   {
    "duration": 483,
    "start_time": "2023-03-04T14:18:04.631Z"
   },
   {
    "duration": 10120,
    "start_time": "2023-03-04T14:18:05.192Z"
   },
   {
    "duration": 388,
    "start_time": "2023-03-04T14:18:15.314Z"
   },
   {
    "duration": 378665,
    "start_time": "2023-03-04T14:18:15.705Z"
   },
   {
    "duration": 5475,
    "start_time": "2023-03-04T14:24:34.371Z"
   },
   {
    "duration": 107,
    "start_time": "2023-03-04T14:24:39.847Z"
   },
   {
    "duration": 110,
    "start_time": "2023-03-04T14:24:39.956Z"
   },
   {
    "duration": 523,
    "start_time": "2023-03-04T14:24:40.068Z"
   },
   {
    "duration": 397,
    "start_time": "2023-03-04T14:24:40.594Z"
   },
   {
    "duration": 4245,
    "start_time": "2023-03-04T14:24:40.993Z"
   },
   {
    "duration": 7,
    "start_time": "2023-03-04T14:24:45.241Z"
   },
   {
    "duration": 168,
    "start_time": "2023-03-04T14:24:45.250Z"
   },
   {
    "duration": 361,
    "start_time": "2023-03-04T14:24:45.420Z"
   },
   {
    "duration": 322,
    "start_time": "2023-03-04T14:24:45.783Z"
   },
   {
    "duration": 598,
    "start_time": "2023-03-04T14:24:46.107Z"
   },
   {
    "duration": 6113,
    "start_time": "2023-03-04T14:24:46.708Z"
   },
   {
    "duration": 813,
    "start_time": "2023-03-04T14:24:52.823Z"
   },
   {
    "duration": 5,
    "start_time": "2023-03-04T14:24:53.638Z"
   },
   {
    "duration": 173,
    "start_time": "2023-03-04T14:24:53.644Z"
   },
   {
    "duration": 396,
    "start_time": "2023-03-04T14:32:42.525Z"
   },
   {
    "duration": 4,
    "start_time": "2023-03-04T14:35:00.964Z"
   },
   {
    "duration": 64,
    "start_time": "2023-03-04T14:35:41.601Z"
   },
   {
    "duration": 64,
    "start_time": "2023-03-04T14:35:47.479Z"
   },
   {
    "duration": 69,
    "start_time": "2023-03-04T14:36:13.588Z"
   },
   {
    "duration": 75,
    "start_time": "2023-03-04T14:36:26.433Z"
   },
   {
    "duration": 66,
    "start_time": "2023-03-04T14:36:32.329Z"
   },
   {
    "duration": 5,
    "start_time": "2023-03-04T14:55:10.590Z"
   },
   {
    "duration": 62,
    "start_time": "2023-03-04T14:55:12.258Z"
   },
   {
    "duration": 5,
    "start_time": "2023-03-05T14:23:53.341Z"
   },
   {
    "duration": 63,
    "start_time": "2023-03-05T14:23:54.839Z"
   },
   {
    "duration": 14,
    "start_time": "2023-03-05T14:38:29.378Z"
   },
   {
    "duration": 5,
    "start_time": "2023-03-05T14:54:34.903Z"
   },
   {
    "duration": 5,
    "start_time": "2023-03-05T14:55:14.988Z"
   },
   {
    "duration": 10,
    "start_time": "2023-03-05T15:14:48.975Z"
   },
   {
    "duration": 15,
    "start_time": "2023-03-05T15:16:41.243Z"
   },
   {
    "duration": 17,
    "start_time": "2023-03-05T15:17:14.903Z"
   },
   {
    "duration": 15,
    "start_time": "2023-03-05T15:17:58.347Z"
   },
   {
    "duration": 14,
    "start_time": "2023-03-05T15:31:06.730Z"
   },
   {
    "duration": 10,
    "start_time": "2023-03-05T15:31:14.277Z"
   },
   {
    "duration": 4,
    "start_time": "2023-03-05T15:31:22.084Z"
   },
   {
    "duration": 4,
    "start_time": "2023-03-05T15:31:29.724Z"
   },
   {
    "duration": 13,
    "start_time": "2023-03-05T15:32:20.934Z"
   },
   {
    "duration": 4,
    "start_time": "2023-03-05T15:32:22.247Z"
   },
   {
    "duration": 11,
    "start_time": "2023-03-05T15:34:00.592Z"
   },
   {
    "duration": 10,
    "start_time": "2023-03-05T15:37:24.683Z"
   },
   {
    "duration": 11,
    "start_time": "2023-03-05T15:40:02.716Z"
   },
   {
    "duration": 17,
    "start_time": "2023-03-05T15:42:26.659Z"
   },
   {
    "duration": 4,
    "start_time": "2023-03-05T15:42:29.537Z"
   },
   {
    "duration": 15,
    "start_time": "2023-03-05T15:43:47.513Z"
   },
   {
    "duration": 5,
    "start_time": "2023-03-05T15:47:47.656Z"
   },
   {
    "duration": 1490,
    "start_time": "2023-03-06T11:54:41.956Z"
   },
   {
    "duration": 563,
    "start_time": "2023-03-06T11:54:43.450Z"
   },
   {
    "duration": 30,
    "start_time": "2023-03-06T11:54:44.015Z"
   },
   {
    "duration": 29,
    "start_time": "2023-03-06T11:54:44.049Z"
   },
   {
    "duration": 22,
    "start_time": "2023-03-06T11:54:44.080Z"
   },
   {
    "duration": 88,
    "start_time": "2023-03-06T11:54:44.103Z"
   },
   {
    "duration": 2273,
    "start_time": "2023-03-06T11:54:44.193Z"
   },
   {
    "duration": 2555,
    "start_time": "2023-03-06T11:54:46.470Z"
   },
   {
    "duration": 132,
    "start_time": "2023-03-06T11:54:49.027Z"
   },
   {
    "duration": 63,
    "start_time": "2023-03-06T11:54:49.162Z"
   },
   {
    "duration": 65,
    "start_time": "2023-03-06T11:54:49.227Z"
   },
   {
    "duration": 66,
    "start_time": "2023-03-06T11:54:49.294Z"
   },
   {
    "duration": 24,
    "start_time": "2023-03-06T11:54:49.361Z"
   },
   {
    "duration": 130,
    "start_time": "2023-03-06T11:54:49.390Z"
   },
   {
    "duration": 33,
    "start_time": "2023-03-06T11:54:49.522Z"
   },
   {
    "duration": 29,
    "start_time": "2023-03-06T11:54:49.556Z"
   },
   {
    "duration": 30,
    "start_time": "2023-03-06T11:54:49.586Z"
   },
   {
    "duration": 64,
    "start_time": "2023-03-06T11:54:49.618Z"
   },
   {
    "duration": 53,
    "start_time": "2023-03-06T11:54:49.683Z"
   },
   {
    "duration": 52,
    "start_time": "2023-03-06T11:54:49.745Z"
   },
   {
    "duration": 70,
    "start_time": "2023-03-06T11:54:49.799Z"
   },
   {
    "duration": 49,
    "start_time": "2023-03-06T11:54:49.873Z"
   },
   {
    "duration": 21,
    "start_time": "2023-03-06T11:54:49.924Z"
   },
   {
    "duration": 163,
    "start_time": "2023-03-06T11:54:49.947Z"
   },
   {
    "duration": 65,
    "start_time": "2023-03-06T11:54:50.112Z"
   },
   {
    "duration": 3,
    "start_time": "2023-03-06T11:54:50.179Z"
   },
   {
    "duration": 39,
    "start_time": "2023-03-06T11:54:50.184Z"
   },
   {
    "duration": 46,
    "start_time": "2023-03-06T11:54:50.225Z"
   },
   {
    "duration": 18,
    "start_time": "2023-03-06T11:54:50.272Z"
   },
   {
    "duration": 399,
    "start_time": "2023-03-06T11:54:50.291Z"
   },
   {
    "duration": 458,
    "start_time": "2023-03-06T11:54:50.692Z"
   },
   {
    "duration": 10786,
    "start_time": "2023-03-06T11:54:51.152Z"
   },
   {
    "duration": 395,
    "start_time": "2023-03-06T11:55:01.944Z"
   },
   {
    "duration": 375405,
    "start_time": "2023-03-06T11:55:02.347Z"
   },
   {
    "duration": 5739,
    "start_time": "2023-03-06T12:01:17.758Z"
   },
   {
    "duration": 123,
    "start_time": "2023-03-06T12:01:23.499Z"
   },
   {
    "duration": 102,
    "start_time": "2023-03-06T12:01:23.624Z"
   },
   {
    "duration": 413,
    "start_time": "2023-03-06T12:01:23.739Z"
   },
   {
    "duration": 515,
    "start_time": "2023-03-06T12:01:24.166Z"
   },
   {
    "duration": 4607,
    "start_time": "2023-03-06T12:01:24.683Z"
   },
   {
    "duration": 7,
    "start_time": "2023-03-06T12:01:29.294Z"
   },
   {
    "duration": 173,
    "start_time": "2023-03-06T12:01:29.303Z"
   },
   {
    "duration": 370,
    "start_time": "2023-03-06T12:01:29.477Z"
   },
   {
    "duration": 316,
    "start_time": "2023-03-06T12:01:29.853Z"
   },
   {
    "duration": 590,
    "start_time": "2023-03-06T12:01:30.171Z"
   },
   {
    "duration": 6259,
    "start_time": "2023-03-06T12:01:30.763Z"
   },
   {
    "duration": 844,
    "start_time": "2023-03-06T12:01:37.024Z"
   },
   {
    "duration": 4,
    "start_time": "2023-03-06T12:01:37.870Z"
   },
   {
    "duration": 6,
    "start_time": "2023-03-06T12:01:37.876Z"
   },
   {
    "duration": 181,
    "start_time": "2023-03-06T12:01:37.883Z"
   },
   {
    "duration": 0,
    "start_time": "2023-03-06T12:01:38.066Z"
   },
   {
    "duration": 0,
    "start_time": "2023-03-06T12:01:38.067Z"
   },
   {
    "duration": 5,
    "start_time": "2023-03-06T12:01:50.601Z"
   },
   {
    "duration": 5,
    "start_time": "2023-03-06T12:01:51.601Z"
   },
   {
    "duration": 9,
    "start_time": "2023-03-06T12:08:30.558Z"
   },
   {
    "duration": 4,
    "start_time": "2023-03-06T12:08:56.610Z"
   },
   {
    "duration": 9,
    "start_time": "2023-03-06T12:32:12.864Z"
   },
   {
    "duration": 7,
    "start_time": "2023-03-06T12:32:28.156Z"
   },
   {
    "duration": 21,
    "start_time": "2023-03-06T12:32:28.724Z"
   },
   {
    "duration": 9,
    "start_time": "2023-03-06T12:33:19.160Z"
   },
   {
    "duration": 4,
    "start_time": "2023-03-06T12:36:55.700Z"
   },
   {
    "duration": 39,
    "start_time": "2023-03-06T12:37:34.913Z"
   },
   {
    "duration": 43,
    "start_time": "2023-03-06T12:38:10.119Z"
   },
   {
    "duration": 3,
    "start_time": "2023-03-06T12:38:11.591Z"
   },
   {
    "duration": 64,
    "start_time": "2023-03-06T12:38:12.359Z"
   },
   {
    "duration": 16,
    "start_time": "2023-03-06T12:39:14.249Z"
   },
   {
    "duration": 39,
    "start_time": "2023-03-06T12:41:26.391Z"
   },
   {
    "duration": 4,
    "start_time": "2023-03-06T12:41:27.957Z"
   },
   {
    "duration": 65,
    "start_time": "2023-03-06T12:41:28.859Z"
   },
   {
    "duration": 9,
    "start_time": "2023-03-06T12:42:32.899Z"
   },
   {
    "duration": 13,
    "start_time": "2023-03-06T12:43:06.756Z"
   },
   {
    "duration": 10,
    "start_time": "2023-03-06T12:53:56.390Z"
   },
   {
    "duration": 9,
    "start_time": "2023-03-06T12:54:13.208Z"
   },
   {
    "duration": 10,
    "start_time": "2023-03-06T14:07:58.775Z"
   },
   {
    "duration": 52,
    "start_time": "2023-03-06T14:08:15.000Z"
   },
   {
    "duration": 9,
    "start_time": "2023-03-06T14:08:43.296Z"
   },
   {
    "duration": 9,
    "start_time": "2023-03-06T14:09:09.260Z"
   },
   {
    "duration": 9,
    "start_time": "2023-03-06T14:09:17.886Z"
   },
   {
    "duration": 14,
    "start_time": "2023-03-06T14:10:37.836Z"
   },
   {
    "duration": 9,
    "start_time": "2023-03-06T14:10:50.179Z"
   },
   {
    "duration": 6,
    "start_time": "2023-03-06T14:11:46.896Z"
   },
   {
    "duration": 4,
    "start_time": "2023-03-06T14:11:53.080Z"
   },
   {
    "duration": 99,
    "start_time": "2023-03-06T14:11:53.710Z"
   },
   {
    "duration": 5,
    "start_time": "2023-03-06T14:13:18.402Z"
   },
   {
    "duration": 1535,
    "start_time": "2023-03-06T14:13:23.746Z"
   },
   {
    "duration": 4,
    "start_time": "2023-03-06T14:13:26.977Z"
   },
   {
    "duration": 65,
    "start_time": "2023-03-06T14:13:35.210Z"
   },
   {
    "duration": 19,
    "start_time": "2023-03-06T14:19:49.687Z"
   },
   {
    "duration": 4,
    "start_time": "2023-03-06T14:21:23.594Z"
   },
   {
    "duration": 4,
    "start_time": "2023-03-06T14:21:30.697Z"
   },
   {
    "duration": 24,
    "start_time": "2023-03-06T14:21:31.595Z"
   },
   {
    "duration": 190,
    "start_time": "2023-03-06T14:21:49.423Z"
   },
   {
    "duration": 567,
    "start_time": "2023-03-06T14:26:26.049Z"
   },
   {
    "duration": 448,
    "start_time": "2023-03-06T14:41:52.706Z"
   },
   {
    "duration": 633,
    "start_time": "2023-03-06T14:42:21.257Z"
   },
   {
    "duration": 9,
    "start_time": "2023-03-06T14:49:33.988Z"
   },
   {
    "duration": 1342,
    "start_time": "2023-03-06T14:49:44.241Z"
   },
   {
    "duration": 429,
    "start_time": "2023-03-06T14:49:45.585Z"
   },
   {
    "duration": 36,
    "start_time": "2023-03-06T14:49:46.016Z"
   },
   {
    "duration": 38,
    "start_time": "2023-03-06T14:49:46.056Z"
   },
   {
    "duration": 20,
    "start_time": "2023-03-06T14:49:46.096Z"
   },
   {
    "duration": 80,
    "start_time": "2023-03-06T14:49:46.117Z"
   },
   {
    "duration": 2157,
    "start_time": "2023-03-06T14:49:46.199Z"
   },
   {
    "duration": 1959,
    "start_time": "2023-03-06T14:49:48.358Z"
   },
   {
    "duration": 106,
    "start_time": "2023-03-06T14:49:50.318Z"
   },
   {
    "duration": 74,
    "start_time": "2023-03-06T14:49:50.427Z"
   },
   {
    "duration": 121,
    "start_time": "2023-03-06T14:49:50.503Z"
   },
   {
    "duration": 53,
    "start_time": "2023-03-06T14:49:50.625Z"
   },
   {
    "duration": 21,
    "start_time": "2023-03-06T14:49:50.679Z"
   },
   {
    "duration": 148,
    "start_time": "2023-03-06T14:49:50.701Z"
   },
   {
    "duration": 12,
    "start_time": "2023-03-06T14:49:50.850Z"
   },
   {
    "duration": 10,
    "start_time": "2023-03-06T14:49:50.863Z"
   },
   {
    "duration": 14,
    "start_time": "2023-03-06T14:49:50.875Z"
   },
   {
    "duration": 22,
    "start_time": "2023-03-06T14:49:50.890Z"
   },
   {
    "duration": 56,
    "start_time": "2023-03-06T14:49:50.913Z"
   },
   {
    "duration": 45,
    "start_time": "2023-03-06T14:49:50.971Z"
   },
   {
    "duration": 82,
    "start_time": "2023-03-06T14:49:51.018Z"
   },
   {
    "duration": 63,
    "start_time": "2023-03-06T14:49:51.102Z"
   },
   {
    "duration": 4,
    "start_time": "2023-03-06T14:49:51.167Z"
   },
   {
    "duration": 128,
    "start_time": "2023-03-06T14:49:51.172Z"
   },
   {
    "duration": 48,
    "start_time": "2023-03-06T14:49:51.302Z"
   },
   {
    "duration": 9,
    "start_time": "2023-03-06T14:49:51.353Z"
   },
   {
    "duration": 12,
    "start_time": "2023-03-06T14:49:51.364Z"
   },
   {
    "duration": 49,
    "start_time": "2023-03-06T14:49:51.379Z"
   },
   {
    "duration": 15,
    "start_time": "2023-03-06T14:49:51.429Z"
   },
   {
    "duration": 311,
    "start_time": "2023-03-06T14:49:51.445Z"
   },
   {
    "duration": 485,
    "start_time": "2023-03-06T14:49:51.758Z"
   },
   {
    "duration": 9933,
    "start_time": "2023-03-06T14:49:52.249Z"
   },
   {
    "duration": 386,
    "start_time": "2023-03-06T14:50:02.183Z"
   },
   {
    "duration": 373243,
    "start_time": "2023-03-06T14:50:02.570Z"
   },
   {
    "duration": 5658,
    "start_time": "2023-03-06T14:56:15.814Z"
   },
   {
    "duration": 113,
    "start_time": "2023-03-06T14:56:21.474Z"
   },
   {
    "duration": 110,
    "start_time": "2023-03-06T14:56:21.588Z"
   },
   {
    "duration": 468,
    "start_time": "2023-03-06T14:56:21.700Z"
   },
   {
    "duration": 598,
    "start_time": "2023-03-06T14:56:22.174Z"
   },
   {
    "duration": 4887,
    "start_time": "2023-03-06T14:56:22.773Z"
   },
   {
    "duration": 16,
    "start_time": "2023-03-06T14:56:27.662Z"
   },
   {
    "duration": 172,
    "start_time": "2023-03-06T14:56:27.680Z"
   },
   {
    "duration": 370,
    "start_time": "2023-03-06T14:56:27.853Z"
   },
   {
    "duration": 345,
    "start_time": "2023-03-06T14:56:28.224Z"
   },
   {
    "duration": 567,
    "start_time": "2023-03-06T14:56:28.571Z"
   },
   {
    "duration": 6348,
    "start_time": "2023-03-06T14:56:29.139Z"
   },
   {
    "duration": 891,
    "start_time": "2023-03-06T14:56:35.489Z"
   },
   {
    "duration": 617,
    "start_time": "2023-03-06T14:56:36.381Z"
   },
   {
    "duration": 591,
    "start_time": "2023-03-06T14:56:37.000Z"
   },
   {
    "duration": 782,
    "start_time": "2023-03-06T14:56:37.592Z"
   },
   {
    "duration": 25,
    "start_time": "2023-03-06T16:09:54.893Z"
   },
   {
    "duration": 5,
    "start_time": "2023-03-06T16:13:08.926Z"
   },
   {
    "duration": 2,
    "start_time": "2023-03-06T16:45:29.902Z"
   },
   {
    "duration": 29,
    "start_time": "2023-03-06T16:45:32.550Z"
   },
   {
    "duration": 5,
    "start_time": "2023-03-06T16:49:07.816Z"
   },
   {
    "duration": 36,
    "start_time": "2023-03-06T16:55:26.182Z"
   },
   {
    "duration": 126,
    "start_time": "2023-03-06T16:59:10.198Z"
   },
   {
    "duration": 8,
    "start_time": "2023-03-06T17:00:19.196Z"
   },
   {
    "duration": 9,
    "start_time": "2023-03-06T17:00:25.579Z"
   },
   {
    "duration": 4,
    "start_time": "2023-03-06T17:01:11.800Z"
   },
   {
    "duration": 5,
    "start_time": "2023-03-06T17:01:30.585Z"
   },
   {
    "duration": 9,
    "start_time": "2023-03-06T17:04:13.790Z"
   },
   {
    "duration": 13,
    "start_time": "2023-03-06T17:04:35.565Z"
   },
   {
    "duration": 66,
    "start_time": "2023-03-06T17:05:44.205Z"
   },
   {
    "duration": 54,
    "start_time": "2023-03-06T17:13:21.214Z"
   },
   {
    "duration": 8,
    "start_time": "2023-03-07T13:40:01.108Z"
   },
   {
    "duration": 32,
    "start_time": "2023-03-07T13:40:55.276Z"
   },
   {
    "duration": 8,
    "start_time": "2023-03-07T13:40:55.792Z"
   },
   {
    "duration": 14,
    "start_time": "2023-03-07T13:41:43.141Z"
   },
   {
    "duration": 11,
    "start_time": "2023-03-07T13:42:43.810Z"
   },
   {
    "duration": 12,
    "start_time": "2023-03-07T13:42:57.199Z"
   },
   {
    "duration": 9,
    "start_time": "2023-03-07T13:43:49.951Z"
   },
   {
    "duration": 10,
    "start_time": "2023-03-07T13:43:59.201Z"
   },
   {
    "duration": 13,
    "start_time": "2023-03-07T13:47:05.249Z"
   },
   {
    "duration": 20,
    "start_time": "2023-03-07T13:47:10.798Z"
   },
   {
    "duration": 17,
    "start_time": "2023-03-07T13:59:26.073Z"
   },
   {
    "duration": 23,
    "start_time": "2023-03-07T14:00:24.634Z"
   },
   {
    "duration": 24,
    "start_time": "2023-03-07T14:00:31.203Z"
   },
   {
    "duration": 26,
    "start_time": "2023-03-07T14:00:34.138Z"
   },
   {
    "duration": 1397,
    "start_time": "2023-03-07T14:01:20.164Z"
   },
   {
    "duration": 618,
    "start_time": "2023-03-07T14:01:21.564Z"
   },
   {
    "duration": 22,
    "start_time": "2023-03-07T14:01:22.184Z"
   },
   {
    "duration": 39,
    "start_time": "2023-03-07T14:01:22.208Z"
   },
   {
    "duration": 24,
    "start_time": "2023-03-07T14:01:22.250Z"
   },
   {
    "duration": 100,
    "start_time": "2023-03-07T14:01:22.276Z"
   },
   {
    "duration": 2168,
    "start_time": "2023-03-07T14:01:22.378Z"
   },
   {
    "duration": 2120,
    "start_time": "2023-03-07T14:01:24.549Z"
   },
   {
    "duration": 134,
    "start_time": "2023-03-07T14:01:26.671Z"
   },
   {
    "duration": 86,
    "start_time": "2023-03-07T14:01:26.807Z"
   },
   {
    "duration": 62,
    "start_time": "2023-03-07T14:01:26.895Z"
   },
   {
    "duration": 41,
    "start_time": "2023-03-07T14:01:26.959Z"
   },
   {
    "duration": 51,
    "start_time": "2023-03-07T14:01:27.002Z"
   },
   {
    "duration": 131,
    "start_time": "2023-03-07T14:01:27.058Z"
   },
   {
    "duration": 7,
    "start_time": "2023-03-07T14:01:27.190Z"
   },
   {
    "duration": 6,
    "start_time": "2023-03-07T14:01:27.199Z"
   },
   {
    "duration": 35,
    "start_time": "2023-03-07T14:01:27.207Z"
   },
   {
    "duration": 22,
    "start_time": "2023-03-07T14:01:27.244Z"
   },
   {
    "duration": 14,
    "start_time": "2023-03-07T14:01:27.268Z"
   },
   {
    "duration": 11,
    "start_time": "2023-03-07T14:01:27.284Z"
   },
   {
    "duration": 49,
    "start_time": "2023-03-07T14:01:27.296Z"
   },
   {
    "duration": 43,
    "start_time": "2023-03-07T14:01:27.347Z"
   },
   {
    "duration": 73,
    "start_time": "2023-03-07T14:01:27.391Z"
   },
   {
    "duration": 74,
    "start_time": "2023-03-07T14:01:27.466Z"
   },
   {
    "duration": 48,
    "start_time": "2023-03-07T14:01:27.542Z"
   },
   {
    "duration": 5,
    "start_time": "2023-03-07T14:01:27.591Z"
   },
   {
    "duration": 147,
    "start_time": "2023-03-07T14:01:27.597Z"
   },
   {
    "duration": 37,
    "start_time": "2023-03-07T14:01:27.746Z"
   },
   {
    "duration": 3,
    "start_time": "2023-03-07T14:01:27.785Z"
   },
   {
    "duration": 21,
    "start_time": "2023-03-07T14:01:27.790Z"
   },
   {
    "duration": 42,
    "start_time": "2023-03-07T14:01:27.833Z"
   },
   {
    "duration": 9,
    "start_time": "2023-03-07T14:01:27.877Z"
   },
   {
    "duration": 290,
    "start_time": "2023-03-07T14:01:27.887Z"
   },
   {
    "duration": 555,
    "start_time": "2023-03-07T14:01:28.179Z"
   },
   {
    "duration": 10084,
    "start_time": "2023-03-07T14:01:28.736Z"
   },
   {
    "duration": 386,
    "start_time": "2023-03-07T14:01:38.822Z"
   },
   {
    "duration": 362087,
    "start_time": "2023-03-07T14:01:39.209Z"
   },
   {
    "duration": 5068,
    "start_time": "2023-03-07T14:07:41.297Z"
   },
   {
    "duration": 121,
    "start_time": "2023-03-07T14:07:46.368Z"
   },
   {
    "duration": 129,
    "start_time": "2023-03-07T14:07:46.491Z"
   },
   {
    "duration": 416,
    "start_time": "2023-03-07T14:07:46.632Z"
   },
   {
    "duration": 539,
    "start_time": "2023-03-07T14:07:47.050Z"
   },
   {
    "duration": 4075,
    "start_time": "2023-03-07T14:07:47.590Z"
   },
   {
    "duration": 10,
    "start_time": "2023-03-07T14:07:51.667Z"
   },
   {
    "duration": 179,
    "start_time": "2023-03-07T14:07:51.679Z"
   },
   {
    "duration": 348,
    "start_time": "2023-03-07T14:07:51.860Z"
   },
   {
    "duration": 355,
    "start_time": "2023-03-07T14:07:52.210Z"
   },
   {
    "duration": 505,
    "start_time": "2023-03-07T14:07:52.567Z"
   },
   {
    "duration": 5640,
    "start_time": "2023-03-07T14:07:53.074Z"
   },
   {
    "duration": 841,
    "start_time": "2023-03-07T14:07:58.716Z"
   },
   {
    "duration": 495,
    "start_time": "2023-03-07T14:07:59.559Z"
   },
   {
    "duration": 522,
    "start_time": "2023-03-07T14:08:00.055Z"
   },
   {
    "duration": 726,
    "start_time": "2023-03-07T14:08:00.579Z"
   },
   {
    "duration": 4,
    "start_time": "2023-03-07T14:08:01.306Z"
   },
   {
    "duration": 142,
    "start_time": "2023-03-07T14:08:01.311Z"
   },
   {
    "duration": 1318,
    "start_time": "2023-03-07T14:08:38.545Z"
   },
   {
    "duration": 3,
    "start_time": "2023-03-07T14:08:45.001Z"
   },
   {
    "duration": 535,
    "start_time": "2023-03-07T14:08:46.649Z"
   },
   {
    "duration": 15,
    "start_time": "2023-03-07T14:08:57.895Z"
   },
   {
    "duration": 21,
    "start_time": "2023-03-07T14:11:05.426Z"
   },
   {
    "duration": 15,
    "start_time": "2023-03-07T14:11:15.156Z"
   },
   {
    "duration": 5,
    "start_time": "2023-03-07T14:46:44.885Z"
   },
   {
    "duration": 35,
    "start_time": "2023-03-07T14:47:07.383Z"
   },
   {
    "duration": 3,
    "start_time": "2023-03-07T14:47:39.577Z"
   },
   {
    "duration": 34,
    "start_time": "2023-03-07T14:47:45.083Z"
   },
   {
    "duration": 3,
    "start_time": "2023-03-07T14:48:48.112Z"
   },
   {
    "duration": 33,
    "start_time": "2023-03-07T14:48:48.645Z"
   },
   {
    "duration": 5,
    "start_time": "2023-03-07T14:49:12.086Z"
   },
   {
    "duration": 1312,
    "start_time": "2023-03-07T14:50:21.246Z"
   },
   {
    "duration": 9,
    "start_time": "2023-03-07T14:51:17.234Z"
   },
   {
    "duration": 1309,
    "start_time": "2023-03-07T14:51:17.883Z"
   },
   {
    "duration": 44,
    "start_time": "2023-03-07T14:53:20.139Z"
   },
   {
    "duration": 18,
    "start_time": "2023-03-07T14:53:53.887Z"
   },
   {
    "duration": 5,
    "start_time": "2023-03-07T15:00:45.145Z"
   },
   {
    "duration": 1207,
    "start_time": "2023-03-07T15:00:45.753Z"
   },
   {
    "duration": 15,
    "start_time": "2023-03-07T15:05:43.183Z"
   },
   {
    "duration": 1294,
    "start_time": "2023-03-07T15:05:52.241Z"
   },
   {
    "duration": 603,
    "start_time": "2023-03-07T15:05:53.537Z"
   },
   {
    "duration": 18,
    "start_time": "2023-03-07T15:05:54.142Z"
   },
   {
    "duration": 12,
    "start_time": "2023-03-07T15:05:54.162Z"
   },
   {
    "duration": 19,
    "start_time": "2023-03-07T15:05:54.176Z"
   },
   {
    "duration": 86,
    "start_time": "2023-03-07T15:05:54.197Z"
   },
   {
    "duration": 2048,
    "start_time": "2023-03-07T15:05:54.285Z"
   },
   {
    "duration": 1894,
    "start_time": "2023-03-07T15:05:56.335Z"
   },
   {
    "duration": 108,
    "start_time": "2023-03-07T15:05:58.230Z"
   },
   {
    "duration": 61,
    "start_time": "2023-03-07T15:05:58.341Z"
   },
   {
    "duration": 70,
    "start_time": "2023-03-07T15:05:58.404Z"
   },
   {
    "duration": 41,
    "start_time": "2023-03-07T15:05:58.475Z"
   },
   {
    "duration": 21,
    "start_time": "2023-03-07T15:05:58.534Z"
   },
   {
    "duration": 115,
    "start_time": "2023-03-07T15:05:58.557Z"
   },
   {
    "duration": 6,
    "start_time": "2023-03-07T15:05:58.673Z"
   },
   {
    "duration": 5,
    "start_time": "2023-03-07T15:05:58.681Z"
   },
   {
    "duration": 13,
    "start_time": "2023-03-07T15:05:58.687Z"
   },
   {
    "duration": 47,
    "start_time": "2023-03-07T15:05:58.701Z"
   },
   {
    "duration": 11,
    "start_time": "2023-03-07T15:05:58.749Z"
   },
   {
    "duration": 13,
    "start_time": "2023-03-07T15:05:58.762Z"
   },
   {
    "duration": 20,
    "start_time": "2023-03-07T15:05:58.776Z"
   },
   {
    "duration": 35,
    "start_time": "2023-03-07T15:05:58.798Z"
   },
   {
    "duration": 487,
    "start_time": "2023-03-07T15:05:58.835Z"
   },
   {
    "duration": 20,
    "start_time": "2023-03-07T15:05:59.323Z"
   },
   {
    "duration": 125,
    "start_time": "2023-03-07T15:05:59.344Z"
   },
   {
    "duration": 39,
    "start_time": "2023-03-07T15:05:59.472Z"
   },
   {
    "duration": 3,
    "start_time": "2023-03-07T15:05:59.512Z"
   },
   {
    "duration": 12,
    "start_time": "2023-03-07T15:05:59.532Z"
   },
   {
    "duration": 33,
    "start_time": "2023-03-07T15:05:59.546Z"
   },
   {
    "duration": 7,
    "start_time": "2023-03-07T15:05:59.581Z"
   },
   {
    "duration": 280,
    "start_time": "2023-03-07T15:05:59.589Z"
   },
   {
    "duration": 470,
    "start_time": "2023-03-07T15:05:59.870Z"
   },
   {
    "duration": 8891,
    "start_time": "2023-03-07T15:06:00.433Z"
   },
   {
    "duration": 389,
    "start_time": "2023-03-07T15:06:09.326Z"
   },
   {
    "duration": 339896,
    "start_time": "2023-03-07T15:06:09.717Z"
   },
   {
    "duration": 5280,
    "start_time": "2023-03-07T15:11:49.614Z"
   },
   {
    "duration": 97,
    "start_time": "2023-03-07T15:11:54.896Z"
   },
   {
    "duration": 108,
    "start_time": "2023-03-07T15:11:54.994Z"
   },
   {
    "duration": 433,
    "start_time": "2023-03-07T15:11:55.104Z"
   },
   {
    "duration": 476,
    "start_time": "2023-03-07T15:11:55.539Z"
   },
   {
    "duration": 4371,
    "start_time": "2023-03-07T15:11:56.016Z"
   },
   {
    "duration": 8,
    "start_time": "2023-03-07T15:12:00.388Z"
   },
   {
    "duration": 164,
    "start_time": "2023-03-07T15:12:00.398Z"
   },
   {
    "duration": 348,
    "start_time": "2023-03-07T15:12:00.564Z"
   },
   {
    "duration": 354,
    "start_time": "2023-03-07T15:12:00.914Z"
   },
   {
    "duration": 552,
    "start_time": "2023-03-07T15:12:01.270Z"
   },
   {
    "duration": 5692,
    "start_time": "2023-03-07T15:12:01.824Z"
   },
   {
    "duration": 752,
    "start_time": "2023-03-07T15:12:07.518Z"
   },
   {
    "duration": 657,
    "start_time": "2023-03-07T15:12:08.271Z"
   },
   {
    "duration": 546,
    "start_time": "2023-03-07T15:12:08.933Z"
   },
   {
    "duration": 737,
    "start_time": "2023-03-07T15:12:09.481Z"
   },
   {
    "duration": 22,
    "start_time": "2023-03-07T15:12:10.220Z"
   },
   {
    "duration": 5,
    "start_time": "2023-03-07T15:21:33.403Z"
   },
   {
    "duration": 4,
    "start_time": "2023-03-07T15:43:51.104Z"
   },
   {
    "duration": 14,
    "start_time": "2023-03-07T15:43:51.555Z"
   },
   {
    "duration": 605,
    "start_time": "2023-03-07T15:43:53.264Z"
   },
   {
    "duration": 20,
    "start_time": "2023-03-07T15:44:30.758Z"
   },
   {
    "duration": 557,
    "start_time": "2023-03-07T15:59:39.859Z"
   },
   {
    "duration": 570,
    "start_time": "2023-03-07T16:00:03.205Z"
   },
   {
    "duration": 6,
    "start_time": "2023-03-07T16:02:32.467Z"
   },
   {
    "duration": 4,
    "start_time": "2023-03-07T16:03:05.605Z"
   },
   {
    "duration": 4,
    "start_time": "2023-03-07T16:04:09.511Z"
   },
   {
    "duration": 100,
    "start_time": "2023-03-07T16:10:55.147Z"
   },
   {
    "duration": 9,
    "start_time": "2023-03-07T16:11:08.204Z"
   },
   {
    "duration": 9,
    "start_time": "2023-03-07T16:13:51.615Z"
   },
   {
    "duration": 9,
    "start_time": "2023-03-07T16:13:56.825Z"
   },
   {
    "duration": 24,
    "start_time": "2023-03-07T16:15:15.911Z"
   },
   {
    "duration": 54,
    "start_time": "2023-03-07T16:15:58.350Z"
   },
   {
    "duration": 15,
    "start_time": "2023-03-07T16:16:07.899Z"
   },
   {
    "duration": 512,
    "start_time": "2023-03-07T16:16:13.505Z"
   },
   {
    "duration": 4,
    "start_time": "2023-03-07T17:00:13.463Z"
   },
   {
    "duration": 1314,
    "start_time": "2023-03-07T17:00:19.294Z"
   },
   {
    "duration": 443,
    "start_time": "2023-03-07T17:00:20.610Z"
   },
   {
    "duration": 22,
    "start_time": "2023-03-07T17:00:21.055Z"
   },
   {
    "duration": 14,
    "start_time": "2023-03-07T17:00:21.079Z"
   },
   {
    "duration": 43,
    "start_time": "2023-03-07T17:00:21.095Z"
   },
   {
    "duration": 96,
    "start_time": "2023-03-07T17:00:21.140Z"
   },
   {
    "duration": 2073,
    "start_time": "2023-03-07T17:00:21.237Z"
   },
   {
    "duration": 1960,
    "start_time": "2023-03-07T17:00:23.311Z"
   },
   {
    "duration": 105,
    "start_time": "2023-03-07T17:00:25.273Z"
   },
   {
    "duration": 78,
    "start_time": "2023-03-07T17:00:25.381Z"
   },
   {
    "duration": 53,
    "start_time": "2023-03-07T17:00:25.461Z"
   },
   {
    "duration": 54,
    "start_time": "2023-03-07T17:00:25.515Z"
   },
   {
    "duration": 23,
    "start_time": "2023-03-07T17:00:25.570Z"
   },
   {
    "duration": 141,
    "start_time": "2023-03-07T17:00:25.595Z"
   },
   {
    "duration": 6,
    "start_time": "2023-03-07T17:00:25.737Z"
   },
   {
    "duration": 7,
    "start_time": "2023-03-07T17:00:25.745Z"
   },
   {
    "duration": 12,
    "start_time": "2023-03-07T17:00:25.754Z"
   },
   {
    "duration": 21,
    "start_time": "2023-03-07T17:00:25.768Z"
   },
   {
    "duration": 47,
    "start_time": "2023-03-07T17:00:25.791Z"
   },
   {
    "duration": 17,
    "start_time": "2023-03-07T17:00:25.840Z"
   },
   {
    "duration": 22,
    "start_time": "2023-03-07T17:00:25.859Z"
   },
   {
    "duration": 3,
    "start_time": "2023-03-07T17:00:25.883Z"
   },
   {
    "duration": 551,
    "start_time": "2023-03-07T17:00:25.888Z"
   },
   {
    "duration": 22,
    "start_time": "2023-03-07T17:00:26.441Z"
   },
   {
    "duration": 149,
    "start_time": "2023-03-07T17:00:26.465Z"
   },
   {
    "duration": 45,
    "start_time": "2023-03-07T17:00:26.616Z"
   },
   {
    "duration": 3,
    "start_time": "2023-03-07T17:00:26.664Z"
   },
   {
    "duration": 15,
    "start_time": "2023-03-07T17:00:26.672Z"
   },
   {
    "duration": 53,
    "start_time": "2023-03-07T17:00:26.689Z"
   },
   {
    "duration": 7,
    "start_time": "2023-03-07T17:00:26.744Z"
   },
   {
    "duration": 277,
    "start_time": "2023-03-07T17:00:26.752Z"
   },
   {
    "duration": 504,
    "start_time": "2023-03-07T17:00:27.033Z"
   },
   {
    "duration": 9134,
    "start_time": "2023-03-07T17:00:27.633Z"
   },
   {
    "duration": 370,
    "start_time": "2023-03-07T17:00:36.769Z"
   },
   {
    "duration": 334783,
    "start_time": "2023-03-07T17:00:37.141Z"
   },
   {
    "duration": 5457,
    "start_time": "2023-03-07T17:06:11.926Z"
   },
   {
    "duration": 97,
    "start_time": "2023-03-07T17:06:17.385Z"
   },
   {
    "duration": 104,
    "start_time": "2023-03-07T17:06:17.483Z"
   },
   {
    "duration": 446,
    "start_time": "2023-03-07T17:06:17.588Z"
   },
   {
    "duration": 436,
    "start_time": "2023-03-07T17:06:18.040Z"
   },
   {
    "duration": 4056,
    "start_time": "2023-03-07T17:06:18.477Z"
   },
   {
    "duration": 7,
    "start_time": "2023-03-07T17:06:22.535Z"
   },
   {
    "duration": 155,
    "start_time": "2023-03-07T17:06:22.543Z"
   },
   {
    "duration": 370,
    "start_time": "2023-03-07T17:06:22.699Z"
   },
   {
    "duration": 291,
    "start_time": "2023-03-07T17:06:23.070Z"
   },
   {
    "duration": 511,
    "start_time": "2023-03-07T17:06:23.363Z"
   },
   {
    "duration": 5759,
    "start_time": "2023-03-07T17:06:23.876Z"
   },
   {
    "duration": 716,
    "start_time": "2023-03-07T17:06:29.637Z"
   },
   {
    "duration": 509,
    "start_time": "2023-03-07T17:06:30.355Z"
   },
   {
    "duration": 563,
    "start_time": "2023-03-07T17:06:30.865Z"
   },
   {
    "duration": 732,
    "start_time": "2023-03-07T17:06:31.433Z"
   },
   {
    "duration": 5,
    "start_time": "2023-03-07T17:06:32.167Z"
   },
   {
    "duration": 26,
    "start_time": "2023-03-07T17:06:32.173Z"
   },
   {
    "duration": 556,
    "start_time": "2023-03-07T17:06:32.200Z"
   },
   {
    "duration": 6,
    "start_time": "2023-03-07T17:06:32.768Z"
   },
   {
    "duration": 550,
    "start_time": "2023-03-07T17:06:32.776Z"
   },
   {
    "duration": 1584,
    "start_time": "2023-03-09T07:26:42.725Z"
   },
   {
    "duration": 642,
    "start_time": "2023-03-09T07:26:44.311Z"
   },
   {
    "duration": 35,
    "start_time": "2023-03-09T07:26:44.956Z"
   },
   {
    "duration": 39,
    "start_time": "2023-03-09T07:26:45.002Z"
   },
   {
    "duration": 23,
    "start_time": "2023-03-09T07:26:45.043Z"
   },
   {
    "duration": 71,
    "start_time": "2023-03-09T07:26:45.068Z"
   },
   {
    "duration": 2288,
    "start_time": "2023-03-09T07:26:45.141Z"
   },
   {
    "duration": 2197,
    "start_time": "2023-03-09T07:26:47.431Z"
   },
   {
    "duration": 102,
    "start_time": "2023-03-09T07:26:49.630Z"
   },
   {
    "duration": 89,
    "start_time": "2023-03-09T07:26:49.736Z"
   },
   {
    "duration": 59,
    "start_time": "2023-03-09T07:26:49.826Z"
   },
   {
    "duration": 58,
    "start_time": "2023-03-09T07:26:49.887Z"
   },
   {
    "duration": 26,
    "start_time": "2023-03-09T07:26:49.947Z"
   },
   {
    "duration": 139,
    "start_time": "2023-03-09T07:26:49.976Z"
   },
   {
    "duration": 7,
    "start_time": "2023-03-09T07:26:50.117Z"
   },
   {
    "duration": 11,
    "start_time": "2023-03-09T07:26:50.125Z"
   },
   {
    "duration": 15,
    "start_time": "2023-03-09T07:26:50.138Z"
   },
   {
    "duration": 19,
    "start_time": "2023-03-09T07:26:50.155Z"
   },
   {
    "duration": 49,
    "start_time": "2023-03-09T07:26:50.176Z"
   },
   {
    "duration": 14,
    "start_time": "2023-03-09T07:26:50.227Z"
   },
   {
    "duration": 22,
    "start_time": "2023-03-09T07:26:50.243Z"
   },
   {
    "duration": 4,
    "start_time": "2023-03-09T07:26:50.266Z"
   },
   {
    "duration": 606,
    "start_time": "2023-03-09T07:26:50.272Z"
   },
   {
    "duration": 24,
    "start_time": "2023-03-09T07:26:50.880Z"
   },
   {
    "duration": 124,
    "start_time": "2023-03-09T07:26:50.906Z"
   },
   {
    "duration": 41,
    "start_time": "2023-03-09T07:26:51.032Z"
   },
   {
    "duration": 3,
    "start_time": "2023-03-09T07:26:51.075Z"
   },
   {
    "duration": 47,
    "start_time": "2023-03-09T07:26:51.082Z"
   },
   {
    "duration": 70,
    "start_time": "2023-03-09T07:26:51.131Z"
   },
   {
    "duration": 9,
    "start_time": "2023-03-09T07:26:51.203Z"
   },
   {
    "duration": 302,
    "start_time": "2023-03-09T07:26:51.214Z"
   },
   {
    "duration": 490,
    "start_time": "2023-03-09T07:26:51.518Z"
   },
   {
    "duration": 11367,
    "start_time": "2023-03-09T07:26:52.012Z"
   },
   {
    "duration": 445,
    "start_time": "2023-03-09T07:27:03.381Z"
   },
   {
    "duration": 424447,
    "start_time": "2023-03-09T07:27:03.827Z"
   },
   {
    "duration": 6665,
    "start_time": "2023-03-09T07:34:08.275Z"
   },
   {
    "duration": 119,
    "start_time": "2023-03-09T07:34:14.942Z"
   },
   {
    "duration": 121,
    "start_time": "2023-03-09T07:34:15.064Z"
   },
   {
    "duration": 456,
    "start_time": "2023-03-09T07:34:15.186Z"
   },
   {
    "duration": 521,
    "start_time": "2023-03-09T07:34:15.706Z"
   },
   {
    "duration": 5315,
    "start_time": "2023-03-09T07:34:16.229Z"
   },
   {
    "duration": 8,
    "start_time": "2023-03-09T07:34:21.546Z"
   },
   {
    "duration": 165,
    "start_time": "2023-03-09T07:34:21.556Z"
   },
   {
    "duration": 401,
    "start_time": "2023-03-09T07:34:21.723Z"
   },
   {
    "duration": 310,
    "start_time": "2023-03-09T07:34:22.125Z"
   },
   {
    "duration": 608,
    "start_time": "2023-03-09T07:34:22.436Z"
   },
   {
    "duration": 7114,
    "start_time": "2023-03-09T07:34:23.045Z"
   },
   {
    "duration": 783,
    "start_time": "2023-03-09T07:34:30.161Z"
   },
   {
    "duration": 615,
    "start_time": "2023-03-09T07:34:30.946Z"
   },
   {
    "duration": 648,
    "start_time": "2023-03-09T07:34:31.562Z"
   },
   {
    "duration": 819,
    "start_time": "2023-03-09T07:34:32.212Z"
   },
   {
    "duration": 5,
    "start_time": "2023-03-09T07:34:33.033Z"
   },
   {
    "duration": 36,
    "start_time": "2023-03-09T07:34:33.039Z"
   },
   {
    "duration": 604,
    "start_time": "2023-03-09T07:34:33.077Z"
   },
   {
    "duration": 5,
    "start_time": "2023-03-09T07:34:33.683Z"
   },
   {
    "duration": 561,
    "start_time": "2023-03-09T07:34:33.690Z"
   },
   {
    "duration": 49,
    "start_time": "2023-03-10T07:55:52.654Z"
   },
   {
    "duration": 1746,
    "start_time": "2023-03-10T07:55:58.550Z"
   },
   {
    "duration": 686,
    "start_time": "2023-03-10T07:56:00.298Z"
   },
   {
    "duration": 24,
    "start_time": "2023-03-10T07:56:00.987Z"
   },
   {
    "duration": 52,
    "start_time": "2023-03-10T07:56:01.014Z"
   },
   {
    "duration": 26,
    "start_time": "2023-03-10T07:56:01.068Z"
   },
   {
    "duration": 87,
    "start_time": "2023-03-10T07:56:01.096Z"
   },
   {
    "duration": 2171,
    "start_time": "2023-03-10T07:56:01.185Z"
   },
   {
    "duration": 2122,
    "start_time": "2023-03-10T07:56:03.357Z"
   },
   {
    "duration": 110,
    "start_time": "2023-03-10T07:56:05.480Z"
   },
   {
    "duration": 91,
    "start_time": "2023-03-10T07:56:05.592Z"
   },
   {
    "duration": 59,
    "start_time": "2023-03-10T07:56:05.684Z"
   },
   {
    "duration": 63,
    "start_time": "2023-03-10T07:56:05.745Z"
   },
   {
    "duration": 26,
    "start_time": "2023-03-10T07:56:05.810Z"
   },
   {
    "duration": 142,
    "start_time": "2023-03-10T07:56:05.838Z"
   },
   {
    "duration": 7,
    "start_time": "2023-03-10T07:56:05.982Z"
   },
   {
    "duration": 12,
    "start_time": "2023-03-10T07:56:05.990Z"
   },
   {
    "duration": 18,
    "start_time": "2023-03-10T07:56:06.004Z"
   },
   {
    "duration": 43,
    "start_time": "2023-03-10T07:56:06.024Z"
   },
   {
    "duration": 16,
    "start_time": "2023-03-10T07:56:06.070Z"
   },
   {
    "duration": 14,
    "start_time": "2023-03-10T07:56:06.088Z"
   },
   {
    "duration": 25,
    "start_time": "2023-03-10T07:56:06.104Z"
   },
   {
    "duration": 22,
    "start_time": "2023-03-10T07:56:06.131Z"
   },
   {
    "duration": 525,
    "start_time": "2023-03-10T07:56:06.163Z"
   },
   {
    "duration": 24,
    "start_time": "2023-03-10T07:56:06.690Z"
   },
   {
    "duration": 141,
    "start_time": "2023-03-10T07:56:06.716Z"
   },
   {
    "duration": 46,
    "start_time": "2023-03-10T07:56:06.859Z"
   },
   {
    "duration": 3,
    "start_time": "2023-03-10T07:56:06.906Z"
   },
   {
    "duration": 19,
    "start_time": "2023-03-10T07:56:06.913Z"
   },
   {
    "duration": 55,
    "start_time": "2023-03-10T07:56:06.934Z"
   },
   {
    "duration": 11,
    "start_time": "2023-03-10T07:56:06.991Z"
   },
   {
    "duration": 291,
    "start_time": "2023-03-10T07:56:07.003Z"
   },
   {
    "duration": 574,
    "start_time": "2023-03-10T07:56:07.296Z"
   },
   {
    "duration": 11107,
    "start_time": "2023-03-10T07:56:07.873Z"
   },
   {
    "duration": 437,
    "start_time": "2023-03-10T07:56:18.982Z"
   },
   {
    "duration": 408903,
    "start_time": "2023-03-10T07:56:19.421Z"
   },
   {
    "duration": 6230,
    "start_time": "2023-03-10T08:03:08.326Z"
   },
   {
    "duration": 109,
    "start_time": "2023-03-10T08:03:14.557Z"
   },
   {
    "duration": 115,
    "start_time": "2023-03-10T08:03:14.668Z"
   },
   {
    "duration": 485,
    "start_time": "2023-03-10T08:03:14.785Z"
   },
   {
    "duration": 602,
    "start_time": "2023-03-10T08:03:15.272Z"
   },
   {
    "duration": 5080,
    "start_time": "2023-03-10T08:03:15.876Z"
   },
   {
    "duration": 12,
    "start_time": "2023-03-10T08:03:20.958Z"
   },
   {
    "duration": 175,
    "start_time": "2023-03-10T08:03:20.972Z"
   },
   {
    "duration": 397,
    "start_time": "2023-03-10T08:03:21.149Z"
   },
   {
    "duration": 364,
    "start_time": "2023-03-10T08:03:21.548Z"
   },
   {
    "duration": 614,
    "start_time": "2023-03-10T08:03:21.914Z"
   },
   {
    "duration": 6978,
    "start_time": "2023-03-10T08:03:22.530Z"
   },
   {
    "duration": 781,
    "start_time": "2023-03-10T08:03:29.510Z"
   },
   {
    "duration": 584,
    "start_time": "2023-03-10T08:03:30.292Z"
   },
   {
    "duration": 82,
    "start_time": "2023-03-10T08:03:30.878Z"
   },
   {
    "duration": 0,
    "start_time": "2023-03-10T08:03:30.962Z"
   },
   {
    "duration": 0,
    "start_time": "2023-03-10T08:03:30.963Z"
   },
   {
    "duration": 0,
    "start_time": "2023-03-10T08:03:30.965Z"
   },
   {
    "duration": 0,
    "start_time": "2023-03-10T08:03:30.966Z"
   },
   {
    "duration": 0,
    "start_time": "2023-03-10T08:03:30.967Z"
   },
   {
    "duration": 0,
    "start_time": "2023-03-10T08:03:30.968Z"
   },
   {
    "duration": 0,
    "start_time": "2023-03-10T08:03:30.969Z"
   },
   {
    "duration": 171,
    "start_time": "2023-03-10T14:45:24.641Z"
   },
   {
    "duration": 1680,
    "start_time": "2023-03-10T14:45:33.178Z"
   },
   {
    "duration": 630,
    "start_time": "2023-03-10T14:45:34.860Z"
   },
   {
    "duration": 24,
    "start_time": "2023-03-10T14:45:35.492Z"
   },
   {
    "duration": 17,
    "start_time": "2023-03-10T14:45:35.518Z"
   },
   {
    "duration": 59,
    "start_time": "2023-03-10T14:45:35.537Z"
   },
   {
    "duration": 109,
    "start_time": "2023-03-10T14:45:35.598Z"
   },
   {
    "duration": 2542,
    "start_time": "2023-03-10T14:45:35.710Z"
   },
   {
    "duration": 2425,
    "start_time": "2023-03-10T14:45:38.254Z"
   },
   {
    "duration": 122,
    "start_time": "2023-03-10T14:45:40.681Z"
   },
   {
    "duration": 98,
    "start_time": "2023-03-10T14:45:40.805Z"
   },
   {
    "duration": 84,
    "start_time": "2023-03-10T14:45:40.905Z"
   },
   {
    "duration": 51,
    "start_time": "2023-03-10T14:45:40.991Z"
   },
   {
    "duration": 32,
    "start_time": "2023-03-10T14:45:41.064Z"
   },
   {
    "duration": 151,
    "start_time": "2023-03-10T14:45:41.100Z"
   },
   {
    "duration": 30,
    "start_time": "2023-03-10T14:45:41.253Z"
   },
   {
    "duration": 25,
    "start_time": "2023-03-10T14:45:41.284Z"
   },
   {
    "duration": 15,
    "start_time": "2023-03-10T14:45:41.311Z"
   },
   {
    "duration": 37,
    "start_time": "2023-03-10T14:45:41.328Z"
   },
   {
    "duration": 18,
    "start_time": "2023-03-10T14:45:41.367Z"
   },
   {
    "duration": 14,
    "start_time": "2023-03-10T14:45:41.387Z"
   },
   {
    "duration": 24,
    "start_time": "2023-03-10T14:45:41.402Z"
   },
   {
    "duration": 4,
    "start_time": "2023-03-10T14:45:41.428Z"
   },
   {
    "duration": 630,
    "start_time": "2023-03-10T14:45:41.467Z"
   },
   {
    "duration": 21,
    "start_time": "2023-03-10T14:45:42.099Z"
   },
   {
    "duration": 12,
    "start_time": "2023-03-10T14:45:42.122Z"
   },
   {
    "duration": 8,
    "start_time": "2023-03-10T14:45:42.136Z"
   },
   {
    "duration": 159,
    "start_time": "2023-03-10T14:45:42.146Z"
   },
   {
    "duration": 0,
    "start_time": "2023-03-10T14:45:42.308Z"
   },
   {
    "duration": 0,
    "start_time": "2023-03-10T14:45:42.310Z"
   },
   {
    "duration": 0,
    "start_time": "2023-03-10T14:45:42.311Z"
   },
   {
    "duration": 0,
    "start_time": "2023-03-10T14:45:42.313Z"
   },
   {
    "duration": 0,
    "start_time": "2023-03-10T14:45:42.314Z"
   },
   {
    "duration": 0,
    "start_time": "2023-03-10T14:45:42.315Z"
   },
   {
    "duration": 0,
    "start_time": "2023-03-10T14:45:42.316Z"
   },
   {
    "duration": 0,
    "start_time": "2023-03-10T14:45:42.318Z"
   },
   {
    "duration": 0,
    "start_time": "2023-03-10T14:45:42.319Z"
   },
   {
    "duration": 0,
    "start_time": "2023-03-10T14:45:42.321Z"
   },
   {
    "duration": 0,
    "start_time": "2023-03-10T14:45:42.324Z"
   },
   {
    "duration": 0,
    "start_time": "2023-03-10T14:45:42.325Z"
   },
   {
    "duration": 0,
    "start_time": "2023-03-10T14:45:42.326Z"
   },
   {
    "duration": 0,
    "start_time": "2023-03-10T14:45:42.364Z"
   },
   {
    "duration": 0,
    "start_time": "2023-03-10T14:45:42.368Z"
   },
   {
    "duration": 0,
    "start_time": "2023-03-10T14:45:42.369Z"
   },
   {
    "duration": 0,
    "start_time": "2023-03-10T14:45:42.372Z"
   },
   {
    "duration": 0,
    "start_time": "2023-03-10T14:45:42.374Z"
   },
   {
    "duration": 0,
    "start_time": "2023-03-10T14:45:42.375Z"
   },
   {
    "duration": 0,
    "start_time": "2023-03-10T14:45:42.376Z"
   },
   {
    "duration": 0,
    "start_time": "2023-03-10T14:45:42.378Z"
   },
   {
    "duration": 0,
    "start_time": "2023-03-10T14:45:42.379Z"
   },
   {
    "duration": 0,
    "start_time": "2023-03-10T14:45:42.380Z"
   },
   {
    "duration": 0,
    "start_time": "2023-03-10T14:45:42.381Z"
   },
   {
    "duration": 0,
    "start_time": "2023-03-10T14:45:42.382Z"
   },
   {
    "duration": 0,
    "start_time": "2023-03-10T14:45:42.384Z"
   },
   {
    "duration": 0,
    "start_time": "2023-03-10T14:45:42.386Z"
   },
   {
    "duration": 0,
    "start_time": "2023-03-10T14:45:42.388Z"
   },
   {
    "duration": 0,
    "start_time": "2023-03-10T14:45:42.389Z"
   },
   {
    "duration": 0,
    "start_time": "2023-03-10T14:45:42.391Z"
   },
   {
    "duration": 30,
    "start_time": "2023-03-10T14:47:43.498Z"
   },
   {
    "duration": 246,
    "start_time": "2023-03-10T14:48:24.596Z"
   },
   {
    "duration": 219,
    "start_time": "2023-03-10T14:48:28.602Z"
   },
   {
    "duration": 102,
    "start_time": "2023-03-10T14:51:22.081Z"
   },
   {
    "duration": 7,
    "start_time": "2023-03-10T14:51:36.708Z"
   },
   {
    "duration": 214,
    "start_time": "2023-03-10T16:34:15.506Z"
   },
   {
    "duration": 221,
    "start_time": "2023-03-10T16:34:19.751Z"
   },
   {
    "duration": 10,
    "start_time": "2023-03-10T16:40:11.120Z"
   },
   {
    "duration": 7,
    "start_time": "2023-03-10T16:40:11.637Z"
   },
   {
    "duration": 5,
    "start_time": "2023-03-10T16:40:36.910Z"
   },
   {
    "duration": 226,
    "start_time": "2023-03-10T16:41:33.200Z"
   },
   {
    "duration": 77,
    "start_time": "2023-03-10T16:41:33.706Z"
   },
   {
    "duration": 10,
    "start_time": "2023-03-10T16:41:44.631Z"
   },
   {
    "duration": 3,
    "start_time": "2023-03-10T16:44:40.027Z"
   },
   {
    "duration": 46,
    "start_time": "2023-03-10T16:44:40.478Z"
   },
   {
    "duration": 24,
    "start_time": "2023-03-10T16:44:41.045Z"
   },
   {
    "duration": 468,
    "start_time": "2023-03-10T16:44:55.872Z"
   },
   {
    "duration": 111,
    "start_time": "2023-03-10T16:47:59.931Z"
   },
   {
    "duration": 11,
    "start_time": "2023-03-10T16:48:03.082Z"
   },
   {
    "duration": 12,
    "start_time": "2023-03-10T16:48:44.080Z"
   },
   {
    "duration": 9246,
    "start_time": "2023-03-10T16:51:28.664Z"
   },
   {
    "duration": 9445,
    "start_time": "2023-03-10T16:53:31.120Z"
   },
   {
    "duration": 9654,
    "start_time": "2023-03-10T16:54:17.515Z"
   },
   {
    "duration": 12597,
    "start_time": "2023-03-10T16:56:07.295Z"
   },
   {
    "duration": 1955,
    "start_time": "2023-03-10T17:01:47.084Z"
   },
   {
    "duration": 631,
    "start_time": "2023-03-10T17:01:49.042Z"
   },
   {
    "duration": 43,
    "start_time": "2023-03-10T17:01:49.675Z"
   },
   {
    "duration": 20,
    "start_time": "2023-03-10T17:01:49.721Z"
   },
   {
    "duration": 47,
    "start_time": "2023-03-10T17:01:49.766Z"
   },
   {
    "duration": 147,
    "start_time": "2023-03-10T17:01:49.815Z"
   },
   {
    "duration": 3082,
    "start_time": "2023-03-10T17:01:49.967Z"
   },
   {
    "duration": 2763,
    "start_time": "2023-03-10T17:01:53.051Z"
   },
   {
    "duration": 202,
    "start_time": "2023-03-10T17:01:55.817Z"
   },
   {
    "duration": 99,
    "start_time": "2023-03-10T17:01:56.023Z"
   },
   {
    "duration": 104,
    "start_time": "2023-03-10T17:01:56.124Z"
   },
   {
    "duration": 82,
    "start_time": "2023-03-10T17:01:56.230Z"
   },
   {
    "duration": 31,
    "start_time": "2023-03-10T17:01:56.314Z"
   },
   {
    "duration": 168,
    "start_time": "2023-03-10T17:01:56.348Z"
   },
   {
    "duration": 8,
    "start_time": "2023-03-10T17:01:56.519Z"
   },
   {
    "duration": 37,
    "start_time": "2023-03-10T17:01:56.529Z"
   },
   {
    "duration": 47,
    "start_time": "2023-03-10T17:01:56.567Z"
   },
   {
    "duration": 40,
    "start_time": "2023-03-10T17:01:56.616Z"
   },
   {
    "duration": 65,
    "start_time": "2023-03-10T17:01:56.658Z"
   },
   {
    "duration": 19,
    "start_time": "2023-03-10T17:01:56.725Z"
   },
   {
    "duration": 147,
    "start_time": "2023-03-10T17:01:56.746Z"
   },
   {
    "duration": 10,
    "start_time": "2023-03-10T17:01:56.898Z"
   },
   {
    "duration": 748,
    "start_time": "2023-03-10T17:01:56.913Z"
   },
   {
    "duration": 24,
    "start_time": "2023-03-10T17:01:57.663Z"
   },
   {
    "duration": 31,
    "start_time": "2023-03-10T17:01:57.690Z"
   },
   {
    "duration": 156,
    "start_time": "2023-03-10T17:01:57.723Z"
   },
   {
    "duration": 4,
    "start_time": "2023-03-10T17:01:57.882Z"
   },
   {
    "duration": 277,
    "start_time": "2023-03-10T17:01:57.889Z"
   },
   {
    "duration": 280,
    "start_time": "2023-03-10T17:01:58.168Z"
   },
   {
    "duration": 0,
    "start_time": "2023-03-10T17:01:58.450Z"
   },
   {
    "duration": 0,
    "start_time": "2023-03-10T17:01:58.456Z"
   },
   {
    "duration": 0,
    "start_time": "2023-03-10T17:01:58.458Z"
   },
   {
    "duration": 0,
    "start_time": "2023-03-10T17:01:58.469Z"
   },
   {
    "duration": 0,
    "start_time": "2023-03-10T17:01:58.471Z"
   },
   {
    "duration": 0,
    "start_time": "2023-03-10T17:01:58.473Z"
   },
   {
    "duration": 0,
    "start_time": "2023-03-10T17:01:58.474Z"
   },
   {
    "duration": 0,
    "start_time": "2023-03-10T17:01:58.475Z"
   },
   {
    "duration": 0,
    "start_time": "2023-03-10T17:01:58.477Z"
   },
   {
    "duration": 0,
    "start_time": "2023-03-10T17:01:58.479Z"
   },
   {
    "duration": 0,
    "start_time": "2023-03-10T17:01:58.480Z"
   },
   {
    "duration": 0,
    "start_time": "2023-03-10T17:01:58.481Z"
   },
   {
    "duration": 0,
    "start_time": "2023-03-10T17:01:58.483Z"
   },
   {
    "duration": 0,
    "start_time": "2023-03-10T17:01:58.485Z"
   },
   {
    "duration": 0,
    "start_time": "2023-03-10T17:01:58.486Z"
   },
   {
    "duration": 0,
    "start_time": "2023-03-10T17:01:58.488Z"
   },
   {
    "duration": 0,
    "start_time": "2023-03-10T17:01:58.490Z"
   },
   {
    "duration": 0,
    "start_time": "2023-03-10T17:01:58.492Z"
   },
   {
    "duration": 0,
    "start_time": "2023-03-10T17:01:58.493Z"
   },
   {
    "duration": 0,
    "start_time": "2023-03-10T17:01:58.495Z"
   },
   {
    "duration": 0,
    "start_time": "2023-03-10T17:01:58.497Z"
   },
   {
    "duration": 0,
    "start_time": "2023-03-10T17:01:58.498Z"
   },
   {
    "duration": 0,
    "start_time": "2023-03-10T17:01:58.500Z"
   },
   {
    "duration": 0,
    "start_time": "2023-03-10T17:01:58.501Z"
   },
   {
    "duration": 0,
    "start_time": "2023-03-10T17:01:58.503Z"
   },
   {
    "duration": 0,
    "start_time": "2023-03-10T17:01:58.505Z"
   },
   {
    "duration": 0,
    "start_time": "2023-03-10T17:01:58.507Z"
   },
   {
    "duration": 0,
    "start_time": "2023-03-10T17:01:58.510Z"
   },
   {
    "duration": 0,
    "start_time": "2023-03-10T17:01:58.512Z"
   },
   {
    "duration": 0,
    "start_time": "2023-03-10T17:01:58.514Z"
   },
   {
    "duration": 0,
    "start_time": "2023-03-10T17:01:58.515Z"
   },
   {
    "duration": 0,
    "start_time": "2023-03-10T17:01:58.517Z"
   },
   {
    "duration": 0,
    "start_time": "2023-03-10T17:01:58.518Z"
   },
   {
    "duration": 0,
    "start_time": "2023-03-10T17:01:58.519Z"
   },
   {
    "duration": 0,
    "start_time": "2023-03-10T17:01:58.520Z"
   },
   {
    "duration": 0,
    "start_time": "2023-03-10T17:01:58.564Z"
   },
   {
    "duration": 1965,
    "start_time": "2023-03-10T17:03:07.235Z"
   },
   {
    "duration": 639,
    "start_time": "2023-03-10T17:03:09.202Z"
   },
   {
    "duration": 65,
    "start_time": "2023-03-10T17:03:09.844Z"
   },
   {
    "duration": 26,
    "start_time": "2023-03-10T17:03:09.912Z"
   },
   {
    "duration": 68,
    "start_time": "2023-03-10T17:03:09.941Z"
   },
   {
    "duration": 130,
    "start_time": "2023-03-10T17:03:10.012Z"
   },
   {
    "duration": 2620,
    "start_time": "2023-03-10T17:03:10.144Z"
   },
   {
    "duration": 3169,
    "start_time": "2023-03-10T17:03:12.767Z"
   },
   {
    "duration": 150,
    "start_time": "2023-03-10T17:03:15.939Z"
   },
   {
    "duration": 119,
    "start_time": "2023-03-10T17:03:16.094Z"
   },
   {
    "duration": 108,
    "start_time": "2023-03-10T17:03:16.215Z"
   },
   {
    "duration": 76,
    "start_time": "2023-03-10T17:03:16.325Z"
   },
   {
    "duration": 34,
    "start_time": "2023-03-10T17:03:16.404Z"
   },
   {
    "duration": 219,
    "start_time": "2023-03-10T17:03:16.441Z"
   },
   {
    "duration": 9,
    "start_time": "2023-03-10T17:03:16.665Z"
   },
   {
    "duration": 50,
    "start_time": "2023-03-10T17:03:16.677Z"
   },
   {
    "duration": 75,
    "start_time": "2023-03-10T17:03:16.732Z"
   },
   {
    "duration": 38,
    "start_time": "2023-03-10T17:03:16.809Z"
   },
   {
    "duration": 25,
    "start_time": "2023-03-10T17:03:16.850Z"
   },
   {
    "duration": 30,
    "start_time": "2023-03-10T17:03:16.878Z"
   },
   {
    "duration": 24,
    "start_time": "2023-03-10T17:03:16.910Z"
   },
   {
    "duration": 6,
    "start_time": "2023-03-10T17:03:16.936Z"
   },
   {
    "duration": 782,
    "start_time": "2023-03-10T17:03:16.944Z"
   },
   {
    "duration": 36,
    "start_time": "2023-03-10T17:03:17.728Z"
   },
   {
    "duration": 6,
    "start_time": "2023-03-10T17:03:17.771Z"
   },
   {
    "duration": 135,
    "start_time": "2023-03-10T17:03:17.779Z"
   },
   {
    "duration": 4,
    "start_time": "2023-03-10T17:03:17.916Z"
   },
   {
    "duration": 277,
    "start_time": "2023-03-10T17:03:17.924Z"
   },
   {
    "duration": 144,
    "start_time": "2023-03-10T17:03:18.203Z"
   },
   {
    "duration": 5,
    "start_time": "2023-03-10T17:03:18.350Z"
   },
   {
    "duration": 35,
    "start_time": "2023-03-10T17:03:18.363Z"
   },
   {
    "duration": 11,
    "start_time": "2023-03-10T17:03:18.401Z"
   },
   {
    "duration": 7,
    "start_time": "2023-03-10T17:03:18.415Z"
   },
   {
    "duration": 188,
    "start_time": "2023-03-10T17:03:18.424Z"
   },
   {
    "duration": 80,
    "start_time": "2023-03-10T17:03:18.614Z"
   },
   {
    "duration": 6,
    "start_time": "2023-03-10T17:03:18.696Z"
   },
   {
    "duration": 8,
    "start_time": "2023-03-10T17:03:18.705Z"
   },
   {
    "duration": 71,
    "start_time": "2023-03-10T17:03:18.716Z"
   },
   {
    "duration": 28,
    "start_time": "2023-03-10T17:03:18.790Z"
   },
   {
    "duration": 946,
    "start_time": "2023-03-10T17:03:18.820Z"
   },
   {
    "duration": 12618,
    "start_time": "2023-03-10T17:03:19.769Z"
   },
   {
    "duration": 15118,
    "start_time": "2023-03-10T17:03:32.389Z"
   },
   {
    "duration": 535,
    "start_time": "2023-03-10T17:03:47.512Z"
   },
   {
    "duration": 1704,
    "start_time": "2023-03-10T17:10:21.909Z"
   },
   {
    "duration": 610,
    "start_time": "2023-03-10T17:10:23.615Z"
   },
   {
    "duration": 41,
    "start_time": "2023-03-10T17:10:24.227Z"
   },
   {
    "duration": 24,
    "start_time": "2023-03-10T17:10:24.277Z"
   },
   {
    "duration": 32,
    "start_time": "2023-03-10T17:10:24.304Z"
   },
   {
    "duration": 133,
    "start_time": "2023-03-10T17:10:24.338Z"
   },
   {
    "duration": 2721,
    "start_time": "2023-03-10T17:10:24.473Z"
   },
   {
    "duration": 2536,
    "start_time": "2023-03-10T17:10:27.196Z"
   },
   {
    "duration": 160,
    "start_time": "2023-03-10T17:10:29.734Z"
   },
   {
    "duration": 115,
    "start_time": "2023-03-10T17:10:29.901Z"
   },
   {
    "duration": 82,
    "start_time": "2023-03-10T17:10:30.019Z"
   },
   {
    "duration": 69,
    "start_time": "2023-03-10T17:10:30.102Z"
   },
   {
    "duration": 34,
    "start_time": "2023-03-10T17:10:30.173Z"
   },
   {
    "duration": 144,
    "start_time": "2023-03-10T17:10:30.209Z"
   },
   {
    "duration": 17,
    "start_time": "2023-03-10T17:10:30.374Z"
   },
   {
    "duration": 50,
    "start_time": "2023-03-10T17:10:30.393Z"
   },
   {
    "duration": 53,
    "start_time": "2023-03-10T17:10:30.445Z"
   },
   {
    "duration": 44,
    "start_time": "2023-03-10T17:10:30.503Z"
   },
   {
    "duration": 65,
    "start_time": "2023-03-10T17:10:30.549Z"
   },
   {
    "duration": 27,
    "start_time": "2023-03-10T17:10:30.616Z"
   },
   {
    "duration": 80,
    "start_time": "2023-03-10T17:10:30.646Z"
   },
   {
    "duration": 14,
    "start_time": "2023-03-10T17:10:30.728Z"
   },
   {
    "duration": 737,
    "start_time": "2023-03-10T17:10:30.744Z"
   },
   {
    "duration": 29,
    "start_time": "2023-03-10T17:10:31.491Z"
   },
   {
    "duration": 48,
    "start_time": "2023-03-10T17:10:31.523Z"
   },
   {
    "duration": 183,
    "start_time": "2023-03-10T17:10:31.574Z"
   },
   {
    "duration": 5,
    "start_time": "2023-03-10T17:10:31.764Z"
   },
   {
    "duration": 273,
    "start_time": "2023-03-10T17:10:31.777Z"
   },
   {
    "duration": 140,
    "start_time": "2023-03-10T17:10:32.054Z"
   },
   {
    "duration": 12,
    "start_time": "2023-03-10T17:10:32.196Z"
   },
   {
    "duration": 9,
    "start_time": "2023-03-10T17:10:32.210Z"
   },
   {
    "duration": 13,
    "start_time": "2023-03-10T17:10:32.221Z"
   },
   {
    "duration": 6,
    "start_time": "2023-03-10T17:10:32.236Z"
   },
   {
    "duration": 178,
    "start_time": "2023-03-10T17:10:32.244Z"
   },
   {
    "duration": 78,
    "start_time": "2023-03-10T17:10:32.424Z"
   },
   {
    "duration": 6,
    "start_time": "2023-03-10T17:10:32.506Z"
   },
   {
    "duration": 13,
    "start_time": "2023-03-10T17:10:32.513Z"
   },
   {
    "duration": 62,
    "start_time": "2023-03-10T17:10:32.528Z"
   },
   {
    "duration": 48,
    "start_time": "2023-03-10T17:10:32.592Z"
   },
   {
    "duration": 604,
    "start_time": "2023-03-10T17:10:32.642Z"
   },
   {
    "duration": 47440,
    "start_time": "2023-03-10T17:10:33.248Z"
   },
   {
    "duration": 0,
    "start_time": "2023-03-10T17:11:20.691Z"
   },
   {
    "duration": 0,
    "start_time": "2023-03-10T17:11:20.694Z"
   },
   {
    "duration": 0,
    "start_time": "2023-03-10T17:11:20.695Z"
   },
   {
    "duration": 0,
    "start_time": "2023-03-10T17:11:20.697Z"
   },
   {
    "duration": 0,
    "start_time": "2023-03-10T17:11:20.698Z"
   },
   {
    "duration": 0,
    "start_time": "2023-03-10T17:11:20.700Z"
   },
   {
    "duration": 0,
    "start_time": "2023-03-10T17:11:20.701Z"
   },
   {
    "duration": 0,
    "start_time": "2023-03-10T17:11:20.703Z"
   },
   {
    "duration": 0,
    "start_time": "2023-03-10T17:11:20.704Z"
   },
   {
    "duration": 0,
    "start_time": "2023-03-10T17:11:20.708Z"
   },
   {
    "duration": 0,
    "start_time": "2023-03-10T17:11:20.709Z"
   },
   {
    "duration": 0,
    "start_time": "2023-03-10T17:11:20.711Z"
   },
   {
    "duration": 0,
    "start_time": "2023-03-10T17:11:20.713Z"
   },
   {
    "duration": 0,
    "start_time": "2023-03-10T17:11:20.713Z"
   },
   {
    "duration": 0,
    "start_time": "2023-03-10T17:11:20.715Z"
   },
   {
    "duration": 0,
    "start_time": "2023-03-10T17:11:20.716Z"
   },
   {
    "duration": 0,
    "start_time": "2023-03-10T17:11:20.716Z"
   },
   {
    "duration": 0,
    "start_time": "2023-03-10T17:11:20.717Z"
   },
   {
    "duration": 0,
    "start_time": "2023-03-10T17:11:20.719Z"
   },
   {
    "duration": 0,
    "start_time": "2023-03-10T17:11:20.720Z"
   },
   {
    "duration": 0,
    "start_time": "2023-03-10T17:11:20.721Z"
   },
   {
    "duration": 0,
    "start_time": "2023-03-10T17:11:20.722Z"
   },
   {
    "duration": 0,
    "start_time": "2023-03-10T17:11:20.723Z"
   },
   {
    "duration": 0,
    "start_time": "2023-03-10T17:11:20.724Z"
   },
   {
    "duration": 0,
    "start_time": "2023-03-10T17:11:20.725Z"
   },
   {
    "duration": 47848,
    "start_time": "2023-03-10T17:11:29.523Z"
   },
   {
    "duration": 93,
    "start_time": "2023-03-10T17:12:17.373Z"
   },
   {
    "duration": 101,
    "start_time": "2023-03-10T17:12:52.297Z"
   },
   {
    "duration": 1734,
    "start_time": "2023-03-11T12:23:46.397Z"
   },
   {
    "duration": 564,
    "start_time": "2023-03-11T12:23:48.134Z"
   },
   {
    "duration": 25,
    "start_time": "2023-03-11T12:23:48.701Z"
   },
   {
    "duration": 43,
    "start_time": "2023-03-11T12:23:48.728Z"
   },
   {
    "duration": 31,
    "start_time": "2023-03-11T12:23:48.774Z"
   },
   {
    "duration": 111,
    "start_time": "2023-03-11T12:23:48.807Z"
   },
   {
    "duration": 2436,
    "start_time": "2023-03-11T12:23:48.920Z"
   },
   {
    "duration": 2355,
    "start_time": "2023-03-11T12:23:51.358Z"
   },
   {
    "duration": 121,
    "start_time": "2023-03-11T12:23:53.714Z"
   },
   {
    "duration": 94,
    "start_time": "2023-03-11T12:23:53.838Z"
   },
   {
    "duration": 83,
    "start_time": "2023-03-11T12:23:53.933Z"
   },
   {
    "duration": 64,
    "start_time": "2023-03-11T12:23:54.018Z"
   },
   {
    "duration": 30,
    "start_time": "2023-03-11T12:23:54.084Z"
   },
   {
    "duration": 149,
    "start_time": "2023-03-11T12:23:54.116Z"
   },
   {
    "duration": 9,
    "start_time": "2023-03-11T12:23:54.268Z"
   },
   {
    "duration": 11,
    "start_time": "2023-03-11T12:23:54.279Z"
   },
   {
    "duration": 15,
    "start_time": "2023-03-11T12:23:54.292Z"
   },
   {
    "duration": 71,
    "start_time": "2023-03-11T12:23:54.310Z"
   },
   {
    "duration": 17,
    "start_time": "2023-03-11T12:23:54.384Z"
   },
   {
    "duration": 16,
    "start_time": "2023-03-11T12:23:54.404Z"
   },
   {
    "duration": 63,
    "start_time": "2023-03-11T12:23:54.421Z"
   },
   {
    "duration": 7,
    "start_time": "2023-03-11T12:23:54.486Z"
   },
   {
    "duration": 727,
    "start_time": "2023-03-11T12:23:54.495Z"
   },
   {
    "duration": 19,
    "start_time": "2023-03-11T12:23:55.225Z"
   },
   {
    "duration": 19,
    "start_time": "2023-03-11T12:23:55.246Z"
   },
   {
    "duration": 134,
    "start_time": "2023-03-11T12:23:55.268Z"
   },
   {
    "duration": 3,
    "start_time": "2023-03-11T12:23:55.404Z"
   },
   {
    "duration": 246,
    "start_time": "2023-03-11T12:23:55.411Z"
   },
   {
    "duration": 126,
    "start_time": "2023-03-11T12:23:55.659Z"
   },
   {
    "duration": 4,
    "start_time": "2023-03-11T12:23:55.787Z"
   },
   {
    "duration": 24,
    "start_time": "2023-03-11T12:23:55.793Z"
   },
   {
    "duration": 20,
    "start_time": "2023-03-11T12:23:55.819Z"
   },
   {
    "duration": 7,
    "start_time": "2023-03-11T12:23:55.841Z"
   },
   {
    "duration": 214,
    "start_time": "2023-03-11T12:23:55.850Z"
   },
   {
    "duration": 97,
    "start_time": "2023-03-11T12:23:56.067Z"
   },
   {
    "duration": 6,
    "start_time": "2023-03-11T12:23:56.167Z"
   },
   {
    "duration": 8,
    "start_time": "2023-03-11T12:23:56.175Z"
   },
   {
    "duration": 46,
    "start_time": "2023-03-11T12:23:56.186Z"
   },
   {
    "duration": 50,
    "start_time": "2023-03-11T12:23:56.234Z"
   },
   {
    "duration": 463,
    "start_time": "2023-03-11T12:23:56.286Z"
   },
   {
    "duration": 48116,
    "start_time": "2023-03-11T12:23:56.751Z"
   },
   {
    "duration": 202,
    "start_time": "2023-03-11T12:24:44.870Z"
   },
   {
    "duration": 13450,
    "start_time": "2023-03-11T12:24:45.074Z"
   },
   {
    "duration": 503,
    "start_time": "2023-03-11T12:24:58.526Z"
   },
   {
    "duration": 1619,
    "start_time": "2023-03-11T12:32:36.898Z"
   },
   {
    "duration": 560,
    "start_time": "2023-03-11T12:32:38.519Z"
   },
   {
    "duration": 33,
    "start_time": "2023-03-11T12:32:39.081Z"
   },
   {
    "duration": 19,
    "start_time": "2023-03-11T12:32:39.116Z"
   },
   {
    "duration": 53,
    "start_time": "2023-03-11T12:32:39.137Z"
   },
   {
    "duration": 117,
    "start_time": "2023-03-11T12:32:39.192Z"
   },
   {
    "duration": 2613,
    "start_time": "2023-03-11T12:32:39.311Z"
   },
   {
    "duration": 2512,
    "start_time": "2023-03-11T12:32:41.926Z"
   },
   {
    "duration": 141,
    "start_time": "2023-03-11T12:32:44.440Z"
   },
   {
    "duration": 100,
    "start_time": "2023-03-11T12:32:44.585Z"
   },
   {
    "duration": 99,
    "start_time": "2023-03-11T12:32:44.687Z"
   },
   {
    "duration": 85,
    "start_time": "2023-03-11T12:32:44.788Z"
   },
   {
    "duration": 34,
    "start_time": "2023-03-11T12:32:44.875Z"
   },
   {
    "duration": 184,
    "start_time": "2023-03-11T12:32:44.912Z"
   },
   {
    "duration": 12,
    "start_time": "2023-03-11T12:32:45.098Z"
   },
   {
    "duration": 11,
    "start_time": "2023-03-11T12:32:45.113Z"
   },
   {
    "duration": 52,
    "start_time": "2023-03-11T12:32:45.126Z"
   },
   {
    "duration": 27,
    "start_time": "2023-03-11T12:32:45.181Z"
   },
   {
    "duration": 18,
    "start_time": "2023-03-11T12:32:45.211Z"
   },
   {
    "duration": 40,
    "start_time": "2023-03-11T12:32:45.231Z"
   },
   {
    "duration": 26,
    "start_time": "2023-03-11T12:32:45.273Z"
   },
   {
    "duration": 5,
    "start_time": "2023-03-11T12:32:45.301Z"
   },
   {
    "duration": 646,
    "start_time": "2023-03-11T12:32:45.308Z"
   },
   {
    "duration": 31,
    "start_time": "2023-03-11T12:32:45.957Z"
   },
   {
    "duration": 20,
    "start_time": "2023-03-11T12:32:45.990Z"
   },
   {
    "duration": 136,
    "start_time": "2023-03-11T12:32:46.012Z"
   },
   {
    "duration": 3,
    "start_time": "2023-03-11T12:32:46.150Z"
   },
   {
    "duration": 232,
    "start_time": "2023-03-11T12:32:46.164Z"
   },
   {
    "duration": 121,
    "start_time": "2023-03-11T12:32:46.397Z"
   },
   {
    "duration": 3,
    "start_time": "2023-03-11T12:32:46.520Z"
   },
   {
    "duration": 13,
    "start_time": "2023-03-11T12:32:46.525Z"
   },
   {
    "duration": 26,
    "start_time": "2023-03-11T12:32:46.540Z"
   },
   {
    "duration": 10,
    "start_time": "2023-03-11T12:32:46.569Z"
   },
   {
    "duration": 172,
    "start_time": "2023-03-11T12:32:46.581Z"
   },
   {
    "duration": 74,
    "start_time": "2023-03-11T12:32:46.755Z"
   },
   {
    "duration": 4,
    "start_time": "2023-03-11T12:32:46.831Z"
   },
   {
    "duration": 9,
    "start_time": "2023-03-11T12:32:46.837Z"
   },
   {
    "duration": 61,
    "start_time": "2023-03-11T12:32:46.848Z"
   },
   {
    "duration": 27,
    "start_time": "2023-03-11T12:32:46.911Z"
   },
   {
    "duration": 459,
    "start_time": "2023-03-11T12:32:46.940Z"
   },
   {
    "duration": 45773,
    "start_time": "2023-03-11T12:32:47.401Z"
   },
   {
    "duration": 287,
    "start_time": "2023-03-11T12:33:33.178Z"
   },
   {
    "duration": 13684,
    "start_time": "2023-03-11T12:33:33.467Z"
   },
   {
    "duration": 4172,
    "start_time": "2023-03-11T12:33:47.152Z"
   },
   {
    "duration": 74,
    "start_time": "2023-03-11T12:33:51.326Z"
   },
   {
    "duration": 1651,
    "start_time": "2023-03-11T12:42:11.245Z"
   },
   {
    "duration": 552,
    "start_time": "2023-03-11T12:42:12.901Z"
   },
   {
    "duration": 31,
    "start_time": "2023-03-11T12:42:13.465Z"
   },
   {
    "duration": 21,
    "start_time": "2023-03-11T12:42:13.499Z"
   },
   {
    "duration": 59,
    "start_time": "2023-03-11T12:42:13.522Z"
   },
   {
    "duration": 117,
    "start_time": "2023-03-11T12:42:13.583Z"
   },
   {
    "duration": 2553,
    "start_time": "2023-03-11T12:42:13.703Z"
   },
   {
    "duration": 2413,
    "start_time": "2023-03-11T12:42:16.258Z"
   },
   {
    "duration": 141,
    "start_time": "2023-03-11T12:42:18.673Z"
   },
   {
    "duration": 97,
    "start_time": "2023-03-11T12:42:18.816Z"
   },
   {
    "duration": 74,
    "start_time": "2023-03-11T12:42:18.915Z"
   },
   {
    "duration": 49,
    "start_time": "2023-03-11T12:42:18.992Z"
   },
   {
    "duration": 30,
    "start_time": "2023-03-11T12:42:19.064Z"
   },
   {
    "duration": 138,
    "start_time": "2023-03-11T12:42:19.097Z"
   },
   {
    "duration": 6,
    "start_time": "2023-03-11T12:42:19.236Z"
   },
   {
    "duration": 29,
    "start_time": "2023-03-11T12:42:19.244Z"
   },
   {
    "duration": 17,
    "start_time": "2023-03-11T12:42:19.275Z"
   },
   {
    "duration": 26,
    "start_time": "2023-03-11T12:42:19.294Z"
   },
   {
    "duration": 45,
    "start_time": "2023-03-11T12:42:19.321Z"
   },
   {
    "duration": 18,
    "start_time": "2023-03-11T12:42:19.368Z"
   },
   {
    "duration": 27,
    "start_time": "2023-03-11T12:42:19.389Z"
   },
   {
    "duration": 4,
    "start_time": "2023-03-11T12:42:19.418Z"
   },
   {
    "duration": 625,
    "start_time": "2023-03-11T12:42:19.424Z"
   },
   {
    "duration": 27,
    "start_time": "2023-03-11T12:42:20.051Z"
   },
   {
    "duration": 4,
    "start_time": "2023-03-11T12:42:20.081Z"
   },
   {
    "duration": 131,
    "start_time": "2023-03-11T12:42:20.087Z"
   },
   {
    "duration": 2,
    "start_time": "2023-03-11T12:42:20.220Z"
   },
   {
    "duration": 219,
    "start_time": "2023-03-11T12:42:20.228Z"
   },
   {
    "duration": 116,
    "start_time": "2023-03-11T12:42:20.449Z"
   },
   {
    "duration": 5,
    "start_time": "2023-03-11T12:42:20.568Z"
   },
   {
    "duration": 23,
    "start_time": "2023-03-11T12:42:20.576Z"
   },
   {
    "duration": 29,
    "start_time": "2023-03-11T12:42:20.601Z"
   },
   {
    "duration": 9,
    "start_time": "2023-03-11T12:42:20.633Z"
   },
   {
    "duration": 157,
    "start_time": "2023-03-11T12:42:20.644Z"
   },
   {
    "duration": 79,
    "start_time": "2023-03-11T12:42:20.804Z"
   },
   {
    "duration": 5,
    "start_time": "2023-03-11T12:42:20.886Z"
   },
   {
    "duration": 17,
    "start_time": "2023-03-11T12:42:20.893Z"
   },
   {
    "duration": 54,
    "start_time": "2023-03-11T12:42:20.912Z"
   },
   {
    "duration": 44,
    "start_time": "2023-03-11T12:42:20.969Z"
   },
   {
    "duration": 457,
    "start_time": "2023-03-11T12:42:21.015Z"
   },
   {
    "duration": 43597,
    "start_time": "2023-03-11T12:42:21.475Z"
   },
   {
    "duration": 208,
    "start_time": "2023-03-11T12:43:05.166Z"
   },
   {
    "duration": 431,
    "start_time": "2023-03-11T12:43:05.377Z"
   },
   {
    "duration": 0,
    "start_time": "2023-03-11T12:43:05.809Z"
   },
   {
    "duration": 0,
    "start_time": "2023-03-11T12:43:05.810Z"
   },
   {
    "duration": 0,
    "start_time": "2023-03-11T12:43:05.812Z"
   },
   {
    "duration": 0,
    "start_time": "2023-03-11T12:43:05.813Z"
   },
   {
    "duration": 0,
    "start_time": "2023-03-11T12:43:05.814Z"
   },
   {
    "duration": 0,
    "start_time": "2023-03-11T12:43:05.815Z"
   },
   {
    "duration": 0,
    "start_time": "2023-03-11T12:43:05.816Z"
   },
   {
    "duration": 0,
    "start_time": "2023-03-11T12:43:05.817Z"
   },
   {
    "duration": 0,
    "start_time": "2023-03-11T12:43:05.818Z"
   },
   {
    "duration": 0,
    "start_time": "2023-03-11T12:43:05.819Z"
   },
   {
    "duration": 0,
    "start_time": "2023-03-11T12:43:05.820Z"
   },
   {
    "duration": 0,
    "start_time": "2023-03-11T12:43:05.821Z"
   },
   {
    "duration": 0,
    "start_time": "2023-03-11T12:43:05.823Z"
   },
   {
    "duration": 0,
    "start_time": "2023-03-11T12:43:05.824Z"
   },
   {
    "duration": 0,
    "start_time": "2023-03-11T12:43:05.825Z"
   },
   {
    "duration": 0,
    "start_time": "2023-03-11T12:43:05.826Z"
   },
   {
    "duration": 0,
    "start_time": "2023-03-11T12:43:05.827Z"
   },
   {
    "duration": 0,
    "start_time": "2023-03-11T12:43:05.865Z"
   },
   {
    "duration": 0,
    "start_time": "2023-03-11T12:43:05.866Z"
   },
   {
    "duration": 0,
    "start_time": "2023-03-11T12:43:05.868Z"
   },
   {
    "duration": 0,
    "start_time": "2023-03-11T12:43:05.870Z"
   },
   {
    "duration": 0,
    "start_time": "2023-03-11T12:43:05.872Z"
   },
   {
    "duration": 0,
    "start_time": "2023-03-11T12:43:05.874Z"
   },
   {
    "duration": 0,
    "start_time": "2023-03-11T12:43:05.876Z"
   },
   {
    "duration": 13405,
    "start_time": "2023-03-11T12:43:34.354Z"
   },
   {
    "duration": 4102,
    "start_time": "2023-03-11T12:43:55.656Z"
   },
   {
    "duration": 57,
    "start_time": "2023-03-11T12:44:05.214Z"
   },
   {
    "duration": 19250,
    "start_time": "2023-03-11T12:44:27.962Z"
   },
   {
    "duration": 349,
    "start_time": "2023-03-11T12:45:18.089Z"
   },
   {
    "duration": 2806,
    "start_time": "2023-03-11T12:46:34.851Z"
   },
   {
    "duration": 120,
    "start_time": "2023-03-11T12:46:39.483Z"
   },
   {
    "duration": 148,
    "start_time": "2023-03-11T12:46:48.036Z"
   },
   {
    "duration": 19270,
    "start_time": "2023-03-11T12:51:04.805Z"
   },
   {
    "duration": 2479,
    "start_time": "2023-03-11T12:51:30.858Z"
   },
   {
    "duration": 126,
    "start_time": "2023-03-11T12:51:34.447Z"
   },
   {
    "duration": 46033,
    "start_time": "2023-03-11T12:57:47.842Z"
   },
   {
    "duration": 4799,
    "start_time": "2023-03-11T12:58:33.879Z"
   },
   {
    "duration": 1685,
    "start_time": "2023-03-11T12:59:32.134Z"
   },
   {
    "duration": 651,
    "start_time": "2023-03-11T12:59:33.821Z"
   },
   {
    "duration": 48,
    "start_time": "2023-03-11T12:59:34.475Z"
   },
   {
    "duration": 45,
    "start_time": "2023-03-11T12:59:34.526Z"
   },
   {
    "duration": 45,
    "start_time": "2023-03-11T12:59:34.573Z"
   },
   {
    "duration": 120,
    "start_time": "2023-03-11T12:59:34.621Z"
   },
   {
    "duration": 2894,
    "start_time": "2023-03-11T12:59:34.743Z"
   },
   {
    "duration": 2504,
    "start_time": "2023-03-11T12:59:37.639Z"
   },
   {
    "duration": 152,
    "start_time": "2023-03-11T12:59:40.146Z"
   },
   {
    "duration": 101,
    "start_time": "2023-03-11T12:59:40.302Z"
   },
   {
    "duration": 91,
    "start_time": "2023-03-11T12:59:40.405Z"
   },
   {
    "duration": 89,
    "start_time": "2023-03-11T12:59:40.499Z"
   },
   {
    "duration": 29,
    "start_time": "2023-03-11T12:59:40.590Z"
   },
   {
    "duration": 191,
    "start_time": "2023-03-11T12:59:40.621Z"
   },
   {
    "duration": 11,
    "start_time": "2023-03-11T12:59:40.815Z"
   },
   {
    "duration": 41,
    "start_time": "2023-03-11T12:59:40.828Z"
   },
   {
    "duration": 18,
    "start_time": "2023-03-11T12:59:40.871Z"
   },
   {
    "duration": 41,
    "start_time": "2023-03-11T12:59:40.892Z"
   },
   {
    "duration": 32,
    "start_time": "2023-03-11T12:59:40.935Z"
   },
   {
    "duration": 22,
    "start_time": "2023-03-11T12:59:40.969Z"
   },
   {
    "duration": 27,
    "start_time": "2023-03-11T12:59:40.994Z"
   },
   {
    "duration": 5,
    "start_time": "2023-03-11T12:59:41.023Z"
   },
   {
    "duration": 736,
    "start_time": "2023-03-11T12:59:41.029Z"
   },
   {
    "duration": 26,
    "start_time": "2023-03-11T12:59:41.767Z"
   },
   {
    "duration": 13,
    "start_time": "2023-03-11T12:59:41.796Z"
   },
   {
    "duration": 171,
    "start_time": "2023-03-11T12:59:41.811Z"
   },
   {
    "duration": 4,
    "start_time": "2023-03-11T12:59:41.986Z"
   },
   {
    "duration": 248,
    "start_time": "2023-03-11T12:59:41.996Z"
   },
   {
    "duration": 129,
    "start_time": "2023-03-11T12:59:42.247Z"
   },
   {
    "duration": 5,
    "start_time": "2023-03-11T12:59:42.378Z"
   },
   {
    "duration": 26,
    "start_time": "2023-03-11T12:59:42.385Z"
   },
   {
    "duration": 18,
    "start_time": "2023-03-11T12:59:42.413Z"
   },
   {
    "duration": 10,
    "start_time": "2023-03-11T12:59:42.433Z"
   },
   {
    "duration": 184,
    "start_time": "2023-03-11T12:59:42.445Z"
   },
   {
    "duration": 86,
    "start_time": "2023-03-11T12:59:42.631Z"
   },
   {
    "duration": 5,
    "start_time": "2023-03-11T12:59:42.718Z"
   },
   {
    "duration": 8,
    "start_time": "2023-03-11T12:59:42.725Z"
   },
   {
    "duration": 67,
    "start_time": "2023-03-11T12:59:42.735Z"
   },
   {
    "duration": 42,
    "start_time": "2023-03-11T12:59:42.805Z"
   },
   {
    "duration": 463,
    "start_time": "2023-03-11T12:59:42.849Z"
   },
   {
    "duration": 45158,
    "start_time": "2023-03-11T12:59:43.315Z"
   },
   {
    "duration": 302,
    "start_time": "2023-03-11T13:00:28.479Z"
   },
   {
    "duration": 14321,
    "start_time": "2023-03-11T13:00:28.783Z"
   },
   {
    "duration": 4532,
    "start_time": "2023-03-11T13:00:43.107Z"
   },
   {
    "duration": 74,
    "start_time": "2023-03-11T13:00:47.641Z"
   },
   {
    "duration": 19027,
    "start_time": "2023-03-11T13:00:47.717Z"
   },
   {
    "duration": 2561,
    "start_time": "2023-03-11T13:01:06.746Z"
   },
   {
    "duration": 143,
    "start_time": "2023-03-11T13:01:09.310Z"
   },
   {
    "duration": 177,
    "start_time": "2023-03-11T13:01:09.454Z"
   },
   {
    "duration": 9696,
    "start_time": "2023-03-11T13:01:09.633Z"
   },
   {
    "duration": 0,
    "start_time": "2023-03-11T13:01:19.331Z"
   },
   {
    "duration": 0,
    "start_time": "2023-03-11T13:01:19.332Z"
   },
   {
    "duration": 0,
    "start_time": "2023-03-11T13:01:19.334Z"
   },
   {
    "duration": 0,
    "start_time": "2023-03-11T13:01:19.335Z"
   },
   {
    "duration": 0,
    "start_time": "2023-03-11T13:01:19.336Z"
   },
   {
    "duration": 0,
    "start_time": "2023-03-11T13:01:19.338Z"
   },
   {
    "duration": 0,
    "start_time": "2023-03-11T13:01:19.339Z"
   },
   {
    "duration": 0,
    "start_time": "2023-03-11T13:01:19.341Z"
   },
   {
    "duration": 0,
    "start_time": "2023-03-11T13:01:19.341Z"
   },
   {
    "duration": 0,
    "start_time": "2023-03-11T13:01:19.342Z"
   },
   {
    "duration": 0,
    "start_time": "2023-03-11T13:01:19.344Z"
   },
   {
    "duration": 0,
    "start_time": "2023-03-11T13:01:19.365Z"
   },
   {
    "duration": 0,
    "start_time": "2023-03-11T13:01:19.367Z"
   },
   {
    "duration": 0,
    "start_time": "2023-03-11T13:01:19.368Z"
   },
   {
    "duration": 0,
    "start_time": "2023-03-11T13:01:19.369Z"
   },
   {
    "duration": 0,
    "start_time": "2023-03-11T13:01:19.371Z"
   },
   {
    "duration": 0,
    "start_time": "2023-03-11T13:01:19.373Z"
   },
   {
    "duration": 0,
    "start_time": "2023-03-11T13:01:19.375Z"
   },
   {
    "duration": 857,
    "start_time": "2023-03-11T13:06:16.569Z"
   },
   {
    "duration": 71,
    "start_time": "2023-03-11T13:06:23.690Z"
   },
   {
    "duration": 155,
    "start_time": "2023-03-11T13:06:33.442Z"
   },
   {
    "duration": 64,
    "start_time": "2023-03-11T13:09:23.984Z"
   },
   {
    "duration": 67,
    "start_time": "2023-03-11T13:10:01.803Z"
   },
   {
    "duration": 185,
    "start_time": "2023-03-11T13:10:04.158Z"
   },
   {
    "duration": 11670,
    "start_time": "2023-03-11T13:13:10.895Z"
   },
   {
    "duration": 522,
    "start_time": "2023-03-11T13:14:02.015Z"
   },
   {
    "duration": 10925,
    "start_time": "2023-03-11T13:14:17.854Z"
   },
   {
    "duration": 509,
    "start_time": "2023-03-11T13:16:23.894Z"
   },
   {
    "duration": 7019,
    "start_time": "2023-03-11T13:16:51.359Z"
   },
   {
    "duration": 102,
    "start_time": "2023-03-11T13:17:28.732Z"
   },
   {
    "duration": 14,
    "start_time": "2023-03-11T13:17:44.729Z"
   },
   {
    "duration": 15,
    "start_time": "2023-03-11T13:18:02.704Z"
   },
   {
    "duration": 9,
    "start_time": "2023-03-11T13:18:13.437Z"
   },
   {
    "duration": 5,
    "start_time": "2023-03-11T13:28:27.423Z"
   },
   {
    "duration": 11,
    "start_time": "2023-03-11T13:29:34.237Z"
   },
   {
    "duration": 22522,
    "start_time": "2023-03-11T13:30:19.104Z"
   },
   {
    "duration": 4,
    "start_time": "2023-03-11T13:31:28.787Z"
   },
   {
    "duration": 1671,
    "start_time": "2023-03-11T13:32:15.983Z"
   },
   {
    "duration": 601,
    "start_time": "2023-03-11T13:32:17.656Z"
   },
   {
    "duration": 34,
    "start_time": "2023-03-11T13:32:18.265Z"
   },
   {
    "duration": 20,
    "start_time": "2023-03-11T13:32:18.301Z"
   },
   {
    "duration": 68,
    "start_time": "2023-03-11T13:32:18.324Z"
   },
   {
    "duration": 99,
    "start_time": "2023-03-11T13:32:18.394Z"
   },
   {
    "duration": 2665,
    "start_time": "2023-03-11T13:32:18.495Z"
   },
   {
    "duration": 2648,
    "start_time": "2023-03-11T13:32:21.163Z"
   },
   {
    "duration": 188,
    "start_time": "2023-03-11T13:32:23.813Z"
   },
   {
    "duration": 106,
    "start_time": "2023-03-11T13:32:24.003Z"
   },
   {
    "duration": 113,
    "start_time": "2023-03-11T13:32:24.111Z"
   },
   {
    "duration": 77,
    "start_time": "2023-03-11T13:32:24.226Z"
   },
   {
    "duration": 31,
    "start_time": "2023-03-11T13:32:24.305Z"
   },
   {
    "duration": 181,
    "start_time": "2023-03-11T13:32:24.339Z"
   },
   {
    "duration": 11,
    "start_time": "2023-03-11T13:32:24.523Z"
   },
   {
    "duration": 38,
    "start_time": "2023-03-11T13:32:24.537Z"
   },
   {
    "duration": 48,
    "start_time": "2023-03-11T13:32:24.577Z"
   },
   {
    "duration": 29,
    "start_time": "2023-03-11T13:32:24.628Z"
   },
   {
    "duration": 47,
    "start_time": "2023-03-11T13:32:24.659Z"
   },
   {
    "duration": 33,
    "start_time": "2023-03-11T13:32:24.710Z"
   },
   {
    "duration": 39,
    "start_time": "2023-03-11T13:32:24.746Z"
   },
   {
    "duration": 15,
    "start_time": "2023-03-11T13:32:24.787Z"
   },
   {
    "duration": 715,
    "start_time": "2023-03-11T13:32:24.804Z"
   },
   {
    "duration": 27,
    "start_time": "2023-03-11T13:32:25.531Z"
   },
   {
    "duration": 4,
    "start_time": "2023-03-11T13:32:25.561Z"
   },
   {
    "duration": 174,
    "start_time": "2023-03-11T13:32:25.568Z"
   },
   {
    "duration": 3,
    "start_time": "2023-03-11T13:32:25.745Z"
   },
   {
    "duration": 257,
    "start_time": "2023-03-11T13:32:25.750Z"
   },
   {
    "duration": 135,
    "start_time": "2023-03-11T13:32:26.009Z"
   },
   {
    "duration": 5,
    "start_time": "2023-03-11T13:32:26.146Z"
   },
   {
    "duration": 18,
    "start_time": "2023-03-11T13:32:26.169Z"
   },
   {
    "duration": 21,
    "start_time": "2023-03-11T13:32:26.189Z"
   },
   {
    "duration": 29,
    "start_time": "2023-03-11T13:32:26.213Z"
   },
   {
    "duration": 163,
    "start_time": "2023-03-11T13:32:26.244Z"
   },
   {
    "duration": 90,
    "start_time": "2023-03-11T13:32:26.410Z"
   },
   {
    "duration": 5,
    "start_time": "2023-03-11T13:32:26.503Z"
   },
   {
    "duration": 17,
    "start_time": "2023-03-11T13:32:26.511Z"
   },
   {
    "duration": 59,
    "start_time": "2023-03-11T13:32:26.530Z"
   },
   {
    "duration": 43,
    "start_time": "2023-03-11T13:32:26.593Z"
   },
   {
    "duration": 517,
    "start_time": "2023-03-11T13:32:26.638Z"
   },
   {
    "duration": 11,
    "start_time": "2023-03-11T13:32:27.168Z"
   },
   {
    "duration": 46686,
    "start_time": "2023-03-11T13:32:27.183Z"
   },
   {
    "duration": 215,
    "start_time": "2023-03-11T13:33:13.878Z"
   },
   {
    "duration": 58351,
    "start_time": "2023-03-11T13:33:14.168Z"
   },
   {
    "duration": 14326,
    "start_time": "2023-03-11T13:34:12.521Z"
   },
   {
    "duration": 4434,
    "start_time": "2023-03-11T13:34:26.849Z"
   },
   {
    "duration": 63,
    "start_time": "2023-03-11T13:34:31.287Z"
   },
   {
    "duration": 20945,
    "start_time": "2023-03-11T13:34:31.352Z"
   },
   {
    "duration": 914,
    "start_time": "2023-03-11T13:34:52.299Z"
   },
   {
    "duration": 90,
    "start_time": "2023-03-11T13:34:53.216Z"
   },
   {
    "duration": 215,
    "start_time": "2023-03-11T13:34:53.308Z"
   },
   {
    "duration": 12241,
    "start_time": "2023-03-11T13:34:53.526Z"
   },
   {
    "duration": 617,
    "start_time": "2023-03-11T13:35:05.788Z"
   },
   {
    "duration": 116,
    "start_time": "2023-03-11T13:35:06.408Z"
   },
   {
    "duration": 12,
    "start_time": "2023-03-11T13:35:06.526Z"
   },
   {
    "duration": 733,
    "start_time": "2023-03-11T13:35:06.540Z"
   },
   {
    "duration": 0,
    "start_time": "2023-03-11T13:35:07.275Z"
   },
   {
    "duration": 0,
    "start_time": "2023-03-11T13:35:07.276Z"
   },
   {
    "duration": 0,
    "start_time": "2023-03-11T13:35:07.277Z"
   },
   {
    "duration": 1,
    "start_time": "2023-03-11T13:35:07.278Z"
   },
   {
    "duration": 0,
    "start_time": "2023-03-11T13:35:07.280Z"
   },
   {
    "duration": 0,
    "start_time": "2023-03-11T13:35:07.281Z"
   },
   {
    "duration": 0,
    "start_time": "2023-03-11T13:35:07.282Z"
   },
   {
    "duration": 0,
    "start_time": "2023-03-11T13:35:07.283Z"
   },
   {
    "duration": 0,
    "start_time": "2023-03-11T13:35:07.284Z"
   },
   {
    "duration": 0,
    "start_time": "2023-03-11T13:35:07.285Z"
   },
   {
    "duration": 0,
    "start_time": "2023-03-11T13:35:07.288Z"
   },
   {
    "duration": 1863,
    "start_time": "2023-03-11T13:38:25.103Z"
   },
   {
    "duration": 769,
    "start_time": "2023-03-11T13:38:26.968Z"
   },
   {
    "duration": 43,
    "start_time": "2023-03-11T13:38:27.739Z"
   },
   {
    "duration": 36,
    "start_time": "2023-03-11T13:38:27.785Z"
   },
   {
    "duration": 26,
    "start_time": "2023-03-11T13:38:27.823Z"
   },
   {
    "duration": 123,
    "start_time": "2023-03-11T13:38:27.864Z"
   },
   {
    "duration": 2791,
    "start_time": "2023-03-11T13:38:27.991Z"
   },
   {
    "duration": 3009,
    "start_time": "2023-03-11T13:38:30.787Z"
   },
   {
    "duration": 189,
    "start_time": "2023-03-11T13:38:33.799Z"
   },
   {
    "duration": 106,
    "start_time": "2023-03-11T13:38:33.991Z"
   },
   {
    "duration": 110,
    "start_time": "2023-03-11T13:38:34.101Z"
   },
   {
    "duration": 63,
    "start_time": "2023-03-11T13:38:34.214Z"
   },
   {
    "duration": 35,
    "start_time": "2023-03-11T13:38:34.280Z"
   },
   {
    "duration": 191,
    "start_time": "2023-03-11T13:38:34.317Z"
   },
   {
    "duration": 12,
    "start_time": "2023-03-11T13:38:34.511Z"
   },
   {
    "duration": 55,
    "start_time": "2023-03-11T13:38:34.526Z"
   },
   {
    "duration": 57,
    "start_time": "2023-03-11T13:38:34.584Z"
   },
   {
    "duration": 34,
    "start_time": "2023-03-11T13:38:34.647Z"
   },
   {
    "duration": 39,
    "start_time": "2023-03-11T13:38:34.692Z"
   },
   {
    "duration": 26,
    "start_time": "2023-03-11T13:38:34.733Z"
   },
   {
    "duration": 68,
    "start_time": "2023-03-11T13:38:34.761Z"
   },
   {
    "duration": 7,
    "start_time": "2023-03-11T13:38:34.832Z"
   },
   {
    "duration": 784,
    "start_time": "2023-03-11T13:38:34.841Z"
   },
   {
    "duration": 22,
    "start_time": "2023-03-11T13:38:35.627Z"
   },
   {
    "duration": 21,
    "start_time": "2023-03-11T13:38:35.651Z"
   },
   {
    "duration": 133,
    "start_time": "2023-03-11T13:38:35.673Z"
   },
   {
    "duration": 4,
    "start_time": "2023-03-11T13:38:35.808Z"
   },
   {
    "duration": 280,
    "start_time": "2023-03-11T13:38:35.819Z"
   },
   {
    "duration": 168,
    "start_time": "2023-03-11T13:38:36.102Z"
   },
   {
    "duration": 8,
    "start_time": "2023-03-11T13:38:36.276Z"
   },
   {
    "duration": 16,
    "start_time": "2023-03-11T13:38:36.286Z"
   },
   {
    "duration": 13,
    "start_time": "2023-03-11T13:38:36.305Z"
   },
   {
    "duration": 35,
    "start_time": "2023-03-11T13:38:36.320Z"
   },
   {
    "duration": 177,
    "start_time": "2023-03-11T13:38:36.357Z"
   },
   {
    "duration": 127,
    "start_time": "2023-03-11T13:38:36.564Z"
   },
   {
    "duration": 5,
    "start_time": "2023-03-11T13:38:36.697Z"
   },
   {
    "duration": 59,
    "start_time": "2023-03-11T13:38:36.705Z"
   },
   {
    "duration": 56,
    "start_time": "2023-03-11T13:38:36.766Z"
   },
   {
    "duration": 49,
    "start_time": "2023-03-11T13:38:36.825Z"
   },
   {
    "duration": 606,
    "start_time": "2023-03-11T13:38:36.878Z"
   },
   {
    "duration": 6,
    "start_time": "2023-03-11T13:38:37.487Z"
   },
   {
    "duration": 1692,
    "start_time": "2023-03-11T13:39:46.254Z"
   },
   {
    "duration": 583,
    "start_time": "2023-03-11T13:39:47.948Z"
   },
   {
    "duration": 49,
    "start_time": "2023-03-11T13:39:48.533Z"
   },
   {
    "duration": 21,
    "start_time": "2023-03-11T13:39:48.586Z"
   },
   {
    "duration": 28,
    "start_time": "2023-03-11T13:39:48.609Z"
   },
   {
    "duration": 116,
    "start_time": "2023-03-11T13:39:48.665Z"
   },
   {
    "duration": 2616,
    "start_time": "2023-03-11T13:39:48.784Z"
   },
   {
    "duration": 2558,
    "start_time": "2023-03-11T13:39:51.403Z"
   },
   {
    "duration": 145,
    "start_time": "2023-03-11T13:39:53.967Z"
   },
   {
    "duration": 130,
    "start_time": "2023-03-11T13:39:54.116Z"
   },
   {
    "duration": 91,
    "start_time": "2023-03-11T13:39:54.249Z"
   },
   {
    "duration": 77,
    "start_time": "2023-03-11T13:39:54.342Z"
   },
   {
    "duration": 55,
    "start_time": "2023-03-11T13:39:54.422Z"
   },
   {
    "duration": 169,
    "start_time": "2023-03-11T13:39:54.479Z"
   },
   {
    "duration": 19,
    "start_time": "2023-03-11T13:39:54.668Z"
   },
   {
    "duration": 24,
    "start_time": "2023-03-11T13:39:54.689Z"
   },
   {
    "duration": 35,
    "start_time": "2023-03-11T13:39:54.716Z"
   },
   {
    "duration": 39,
    "start_time": "2023-03-11T13:39:54.753Z"
   },
   {
    "duration": 46,
    "start_time": "2023-03-11T13:39:54.794Z"
   },
   {
    "duration": 19,
    "start_time": "2023-03-11T13:39:54.842Z"
   },
   {
    "duration": 46,
    "start_time": "2023-03-11T13:39:54.863Z"
   },
   {
    "duration": 15,
    "start_time": "2023-03-11T13:39:54.911Z"
   },
   {
    "duration": 696,
    "start_time": "2023-03-11T13:39:54.929Z"
   },
   {
    "duration": 17,
    "start_time": "2023-03-11T13:39:55.627Z"
   },
   {
    "duration": 16,
    "start_time": "2023-03-11T13:39:55.647Z"
   },
   {
    "duration": 139,
    "start_time": "2023-03-11T13:39:55.666Z"
   },
   {
    "duration": 4,
    "start_time": "2023-03-11T13:39:55.808Z"
   },
   {
    "duration": 264,
    "start_time": "2023-03-11T13:39:55.817Z"
   },
   {
    "duration": 121,
    "start_time": "2023-03-11T13:39:56.084Z"
   },
   {
    "duration": 5,
    "start_time": "2023-03-11T13:39:56.208Z"
   },
   {
    "duration": 12,
    "start_time": "2023-03-11T13:39:56.216Z"
   },
   {
    "duration": 10,
    "start_time": "2023-03-11T13:39:56.230Z"
   },
   {
    "duration": 37,
    "start_time": "2023-03-11T13:39:56.241Z"
   },
   {
    "duration": 166,
    "start_time": "2023-03-11T13:39:56.281Z"
   },
   {
    "duration": 88,
    "start_time": "2023-03-11T13:39:56.449Z"
   },
   {
    "duration": 4,
    "start_time": "2023-03-11T13:39:56.539Z"
   },
   {
    "duration": 26,
    "start_time": "2023-03-11T13:39:56.545Z"
   },
   {
    "duration": 56,
    "start_time": "2023-03-11T13:39:56.577Z"
   },
   {
    "duration": 44,
    "start_time": "2023-03-11T13:39:56.636Z"
   },
   {
    "duration": 468,
    "start_time": "2023-03-11T13:39:56.683Z"
   },
   {
    "duration": 16,
    "start_time": "2023-03-11T13:39:57.153Z"
   },
   {
    "duration": 1875,
    "start_time": "2023-03-11T13:40:28.710Z"
   },
   {
    "duration": 750,
    "start_time": "2023-03-11T13:40:30.589Z"
   },
   {
    "duration": 51,
    "start_time": "2023-03-11T13:40:31.341Z"
   },
   {
    "duration": 46,
    "start_time": "2023-03-11T13:40:31.396Z"
   },
   {
    "duration": 90,
    "start_time": "2023-03-11T13:40:31.444Z"
   },
   {
    "duration": 114,
    "start_time": "2023-03-11T13:40:31.537Z"
   },
   {
    "duration": 2864,
    "start_time": "2023-03-11T13:40:31.668Z"
   },
   {
    "duration": 2969,
    "start_time": "2023-03-11T13:40:34.535Z"
   },
   {
    "duration": 142,
    "start_time": "2023-03-11T13:40:37.507Z"
   },
   {
    "duration": 102,
    "start_time": "2023-03-11T13:40:37.652Z"
   },
   {
    "duration": 84,
    "start_time": "2023-03-11T13:40:37.755Z"
   },
   {
    "duration": 82,
    "start_time": "2023-03-11T13:40:37.841Z"
   },
   {
    "duration": 43,
    "start_time": "2023-03-11T13:40:37.925Z"
   },
   {
    "duration": 159,
    "start_time": "2023-03-11T13:40:37.976Z"
   },
   {
    "duration": 8,
    "start_time": "2023-03-11T13:40:38.137Z"
   },
   {
    "duration": 12,
    "start_time": "2023-03-11T13:40:38.171Z"
   },
   {
    "duration": 16,
    "start_time": "2023-03-11T13:40:38.185Z"
   },
   {
    "duration": 27,
    "start_time": "2023-03-11T13:40:38.203Z"
   },
   {
    "duration": 47,
    "start_time": "2023-03-11T13:40:38.232Z"
   },
   {
    "duration": 18,
    "start_time": "2023-03-11T13:40:38.283Z"
   },
   {
    "duration": 29,
    "start_time": "2023-03-11T13:40:38.304Z"
   },
   {
    "duration": 30,
    "start_time": "2023-03-11T13:40:38.336Z"
   },
   {
    "duration": 695,
    "start_time": "2023-03-11T13:40:38.376Z"
   },
   {
    "duration": 25,
    "start_time": "2023-03-11T13:40:39.073Z"
   },
   {
    "duration": 9,
    "start_time": "2023-03-11T13:40:39.100Z"
   },
   {
    "duration": 155,
    "start_time": "2023-03-11T13:40:39.113Z"
   },
   {
    "duration": 4,
    "start_time": "2023-03-11T13:40:39.272Z"
   },
   {
    "duration": 252,
    "start_time": "2023-03-11T13:40:39.281Z"
   },
   {
    "duration": 137,
    "start_time": "2023-03-11T13:40:39.535Z"
   },
   {
    "duration": 4,
    "start_time": "2023-03-11T13:40:39.674Z"
   },
   {
    "duration": 22,
    "start_time": "2023-03-11T13:40:39.680Z"
   },
   {
    "duration": 16,
    "start_time": "2023-03-11T13:40:39.704Z"
   },
   {
    "duration": 10,
    "start_time": "2023-03-11T13:40:39.723Z"
   },
   {
    "duration": 196,
    "start_time": "2023-03-11T13:40:39.735Z"
   },
   {
    "duration": 93,
    "start_time": "2023-03-11T13:40:39.932Z"
   },
   {
    "duration": 4,
    "start_time": "2023-03-11T13:40:40.027Z"
   },
   {
    "duration": 11,
    "start_time": "2023-03-11T13:40:40.033Z"
   },
   {
    "duration": 80,
    "start_time": "2023-03-11T13:40:40.045Z"
   },
   {
    "duration": 29,
    "start_time": "2023-03-11T13:40:40.127Z"
   },
   {
    "duration": 480,
    "start_time": "2023-03-11T13:40:40.158Z"
   },
   {
    "duration": 5,
    "start_time": "2023-03-11T13:40:40.641Z"
   },
   {
    "duration": 47125,
    "start_time": "2023-03-11T13:40:40.648Z"
   },
   {
    "duration": 227,
    "start_time": "2023-03-11T13:41:27.776Z"
   },
   {
    "duration": 22303,
    "start_time": "2023-03-11T13:41:28.071Z"
   },
   {
    "duration": 14361,
    "start_time": "2023-03-11T13:41:50.376Z"
   },
   {
    "duration": 4480,
    "start_time": "2023-03-11T13:42:04.739Z"
   },
   {
    "duration": 74,
    "start_time": "2023-03-11T13:42:09.221Z"
   },
   {
    "duration": 1187,
    "start_time": "2023-03-11T13:42:09.297Z"
   },
   {
    "duration": 20254,
    "start_time": "2023-03-11T13:42:10.487Z"
   },
   {
    "duration": 894,
    "start_time": "2023-03-11T13:42:30.743Z"
   },
   {
    "duration": 85,
    "start_time": "2023-03-11T13:42:31.639Z"
   },
   {
    "duration": 561,
    "start_time": "2023-03-11T13:42:31.727Z"
   },
   {
    "duration": 147,
    "start_time": "2023-03-11T13:42:32.290Z"
   },
   {
    "duration": 0,
    "start_time": "2023-03-11T13:42:32.439Z"
   },
   {
    "duration": 0,
    "start_time": "2023-03-11T13:42:32.440Z"
   },
   {
    "duration": 0,
    "start_time": "2023-03-11T13:42:32.441Z"
   },
   {
    "duration": 0,
    "start_time": "2023-03-11T13:42:32.443Z"
   },
   {
    "duration": 0,
    "start_time": "2023-03-11T13:42:32.444Z"
   },
   {
    "duration": 0,
    "start_time": "2023-03-11T13:42:32.445Z"
   },
   {
    "duration": 0,
    "start_time": "2023-03-11T13:42:32.473Z"
   },
   {
    "duration": 0,
    "start_time": "2023-03-11T13:42:32.474Z"
   },
   {
    "duration": 0,
    "start_time": "2023-03-11T13:42:32.478Z"
   },
   {
    "duration": 0,
    "start_time": "2023-03-11T13:42:32.479Z"
   },
   {
    "duration": 0,
    "start_time": "2023-03-11T13:42:32.481Z"
   },
   {
    "duration": 0,
    "start_time": "2023-03-11T13:42:32.482Z"
   },
   {
    "duration": 0,
    "start_time": "2023-03-11T13:42:32.483Z"
   },
   {
    "duration": 1,
    "start_time": "2023-03-11T13:42:32.484Z"
   },
   {
    "duration": 0,
    "start_time": "2023-03-11T13:42:32.486Z"
   },
   {
    "duration": 1,
    "start_time": "2023-03-11T13:42:32.487Z"
   },
   {
    "duration": 11,
    "start_time": "2023-03-11T13:43:23.920Z"
   },
   {
    "duration": 10602,
    "start_time": "2023-03-11T13:43:26.569Z"
   },
   {
    "duration": 571,
    "start_time": "2023-03-11T13:43:39.634Z"
   },
   {
    "duration": 101,
    "start_time": "2023-03-11T13:43:40.668Z"
   },
   {
    "duration": 11,
    "start_time": "2023-03-11T13:43:42.092Z"
   },
   {
    "duration": 164,
    "start_time": "2023-03-11T13:44:50.858Z"
   },
   {
    "duration": 622,
    "start_time": "2023-03-11T13:50:16.198Z"
   },
   {
    "duration": 179,
    "start_time": "2023-03-11T13:50:54.651Z"
   },
   {
    "duration": 9451,
    "start_time": "2023-03-11T13:51:34.320Z"
   },
   {
    "duration": 501,
    "start_time": "2023-03-11T13:59:49.419Z"
   },
   {
    "duration": 527,
    "start_time": "2023-03-11T14:01:16.150Z"
   },
   {
    "duration": 108,
    "start_time": "2023-03-11T14:01:43.459Z"
   },
   {
    "duration": 621,
    "start_time": "2023-03-11T14:01:53.070Z"
   },
   {
    "duration": 630,
    "start_time": "2023-03-11T14:02:22.779Z"
   },
   {
    "duration": 752,
    "start_time": "2023-03-11T14:02:31.829Z"
   },
   {
    "duration": 15,
    "start_time": "2023-03-11T14:04:17.437Z"
   },
   {
    "duration": 11,
    "start_time": "2023-03-11T14:04:18.182Z"
   },
   {
    "duration": 1634,
    "start_time": "2023-03-11T14:04:34.001Z"
   },
   {
    "duration": 631,
    "start_time": "2023-03-11T14:04:35.637Z"
   },
   {
    "duration": 31,
    "start_time": "2023-03-11T14:04:36.269Z"
   },
   {
    "duration": 19,
    "start_time": "2023-03-11T14:04:36.302Z"
   },
   {
    "duration": 25,
    "start_time": "2023-03-11T14:04:36.323Z"
   },
   {
    "duration": 78,
    "start_time": "2023-03-11T14:04:36.364Z"
   },
   {
    "duration": 2615,
    "start_time": "2023-03-11T14:04:36.465Z"
   },
   {
    "duration": 2293,
    "start_time": "2023-03-11T14:04:39.082Z"
   },
   {
    "duration": 122,
    "start_time": "2023-03-11T14:04:41.377Z"
   },
   {
    "duration": 97,
    "start_time": "2023-03-11T14:04:41.503Z"
   },
   {
    "duration": 82,
    "start_time": "2023-03-11T14:04:41.602Z"
   },
   {
    "duration": 54,
    "start_time": "2023-03-11T14:04:41.686Z"
   },
   {
    "duration": 45,
    "start_time": "2023-03-11T14:04:41.742Z"
   },
   {
    "duration": 146,
    "start_time": "2023-03-11T14:04:41.789Z"
   },
   {
    "duration": 30,
    "start_time": "2023-03-11T14:04:41.937Z"
   },
   {
    "duration": 7,
    "start_time": "2023-03-11T14:04:41.969Z"
   },
   {
    "duration": 14,
    "start_time": "2023-03-11T14:04:41.978Z"
   },
   {
    "duration": 24,
    "start_time": "2023-03-11T14:04:41.995Z"
   },
   {
    "duration": 51,
    "start_time": "2023-03-11T14:04:42.021Z"
   },
   {
    "duration": 13,
    "start_time": "2023-03-11T14:04:42.074Z"
   },
   {
    "duration": 56,
    "start_time": "2023-03-11T14:04:42.089Z"
   },
   {
    "duration": 26,
    "start_time": "2023-03-11T14:04:42.147Z"
   },
   {
    "duration": 669,
    "start_time": "2023-03-11T14:04:42.174Z"
   },
   {
    "duration": 27,
    "start_time": "2023-03-11T14:04:42.845Z"
   },
   {
    "duration": 12,
    "start_time": "2023-03-11T14:04:42.874Z"
   },
   {
    "duration": 139,
    "start_time": "2023-03-11T14:04:42.888Z"
   },
   {
    "duration": 3,
    "start_time": "2023-03-11T14:04:43.029Z"
   },
   {
    "duration": 238,
    "start_time": "2023-03-11T14:04:43.037Z"
   },
   {
    "duration": 111,
    "start_time": "2023-03-11T14:04:43.277Z"
   },
   {
    "duration": 4,
    "start_time": "2023-03-11T14:04:43.390Z"
   },
   {
    "duration": 19,
    "start_time": "2023-03-11T14:04:43.396Z"
   },
   {
    "duration": 18,
    "start_time": "2023-03-11T14:04:43.417Z"
   },
   {
    "duration": 9,
    "start_time": "2023-03-11T14:04:43.437Z"
   },
   {
    "duration": 197,
    "start_time": "2023-03-11T14:04:43.465Z"
   },
   {
    "duration": 83,
    "start_time": "2023-03-11T14:04:43.664Z"
   },
   {
    "duration": 15,
    "start_time": "2023-03-11T14:04:43.749Z"
   },
   {
    "duration": 6,
    "start_time": "2023-03-11T14:04:43.766Z"
   },
   {
    "duration": 47,
    "start_time": "2023-03-11T14:04:43.775Z"
   },
   {
    "duration": 42,
    "start_time": "2023-03-11T14:04:43.824Z"
   },
   {
    "duration": 471,
    "start_time": "2023-03-11T14:04:43.867Z"
   },
   {
    "duration": 5,
    "start_time": "2023-03-11T14:04:44.342Z"
   },
   {
    "duration": 50417,
    "start_time": "2023-03-11T14:04:44.349Z"
   },
   {
    "duration": 203,
    "start_time": "2023-03-11T14:05:34.768Z"
   },
   {
    "duration": 24712,
    "start_time": "2023-03-11T14:05:34.973Z"
   },
   {
    "duration": 12669,
    "start_time": "2023-03-11T14:05:59.687Z"
   },
   {
    "duration": 4076,
    "start_time": "2023-03-11T14:06:12.358Z"
   },
   {
    "duration": 68,
    "start_time": "2023-03-11T14:06:16.436Z"
   },
   {
    "duration": 1079,
    "start_time": "2023-03-11T14:06:16.506Z"
   },
   {
    "duration": 18017,
    "start_time": "2023-03-11T14:06:17.587Z"
   },
   {
    "duration": 887,
    "start_time": "2023-03-11T14:06:35.606Z"
   },
   {
    "duration": 118,
    "start_time": "2023-03-11T14:06:36.495Z"
   },
   {
    "duration": 592,
    "start_time": "2023-03-11T14:06:36.615Z"
   },
   {
    "duration": 126,
    "start_time": "2023-03-11T14:06:37.209Z"
   },
   {
    "duration": 0,
    "start_time": "2023-03-11T14:06:37.337Z"
   },
   {
    "duration": 0,
    "start_time": "2023-03-11T14:06:37.339Z"
   },
   {
    "duration": 0,
    "start_time": "2023-03-11T14:06:37.341Z"
   },
   {
    "duration": 0,
    "start_time": "2023-03-11T14:06:37.342Z"
   },
   {
    "duration": 0,
    "start_time": "2023-03-11T14:06:37.364Z"
   },
   {
    "duration": 0,
    "start_time": "2023-03-11T14:06:37.365Z"
   },
   {
    "duration": 0,
    "start_time": "2023-03-11T14:06:37.367Z"
   },
   {
    "duration": 0,
    "start_time": "2023-03-11T14:06:37.368Z"
   },
   {
    "duration": 0,
    "start_time": "2023-03-11T14:06:37.370Z"
   },
   {
    "duration": 0,
    "start_time": "2023-03-11T14:06:37.371Z"
   },
   {
    "duration": 0,
    "start_time": "2023-03-11T14:06:37.372Z"
   },
   {
    "duration": 0,
    "start_time": "2023-03-11T14:06:37.373Z"
   },
   {
    "duration": 0,
    "start_time": "2023-03-11T14:06:37.375Z"
   },
   {
    "duration": 0,
    "start_time": "2023-03-11T14:06:37.376Z"
   },
   {
    "duration": 0,
    "start_time": "2023-03-11T14:06:37.377Z"
   },
   {
    "duration": 0,
    "start_time": "2023-03-11T14:06:37.378Z"
   },
   {
    "duration": 10,
    "start_time": "2023-03-11T14:06:45.981Z"
   },
   {
    "duration": 10,
    "start_time": "2023-03-11T14:06:54.249Z"
   },
   {
    "duration": 1603,
    "start_time": "2023-03-11T14:07:05.456Z"
   },
   {
    "duration": 509,
    "start_time": "2023-03-11T14:07:07.061Z"
   },
   {
    "duration": 25,
    "start_time": "2023-03-11T14:07:07.571Z"
   },
   {
    "duration": 20,
    "start_time": "2023-03-11T14:07:07.598Z"
   },
   {
    "duration": 53,
    "start_time": "2023-03-11T14:07:07.619Z"
   },
   {
    "duration": 94,
    "start_time": "2023-03-11T14:07:07.674Z"
   },
   {
    "duration": 2250,
    "start_time": "2023-03-11T14:07:07.770Z"
   },
   {
    "duration": 2201,
    "start_time": "2023-03-11T14:07:10.022Z"
   },
   {
    "duration": 113,
    "start_time": "2023-03-11T14:07:12.225Z"
   },
   {
    "duration": 85,
    "start_time": "2023-03-11T14:07:12.341Z"
   },
   {
    "duration": 73,
    "start_time": "2023-03-11T14:07:12.428Z"
   },
   {
    "duration": 64,
    "start_time": "2023-03-11T14:07:12.502Z"
   },
   {
    "duration": 25,
    "start_time": "2023-03-11T14:07:12.567Z"
   },
   {
    "duration": 135,
    "start_time": "2023-03-11T14:07:12.593Z"
   },
   {
    "duration": 7,
    "start_time": "2023-03-11T14:07:12.730Z"
   },
   {
    "duration": 29,
    "start_time": "2023-03-11T14:07:12.738Z"
   },
   {
    "duration": 12,
    "start_time": "2023-03-11T14:07:12.769Z"
   },
   {
    "duration": 22,
    "start_time": "2023-03-11T14:07:12.783Z"
   },
   {
    "duration": 26,
    "start_time": "2023-03-11T14:07:12.807Z"
   },
   {
    "duration": 29,
    "start_time": "2023-03-11T14:07:12.835Z"
   },
   {
    "duration": 21,
    "start_time": "2023-03-11T14:07:12.867Z"
   },
   {
    "duration": 4,
    "start_time": "2023-03-11T14:07:12.889Z"
   },
   {
    "duration": 563,
    "start_time": "2023-03-11T14:07:12.895Z"
   },
   {
    "duration": 19,
    "start_time": "2023-03-11T14:07:13.460Z"
   },
   {
    "duration": 2,
    "start_time": "2023-03-11T14:07:13.481Z"
   },
   {
    "duration": 127,
    "start_time": "2023-03-11T14:07:13.485Z"
   },
   {
    "duration": 2,
    "start_time": "2023-03-11T14:07:13.614Z"
   },
   {
    "duration": 216,
    "start_time": "2023-03-11T14:07:13.620Z"
   },
   {
    "duration": 113,
    "start_time": "2023-03-11T14:07:13.838Z"
   },
   {
    "duration": 16,
    "start_time": "2023-03-11T14:07:13.953Z"
   },
   {
    "duration": 12,
    "start_time": "2023-03-11T14:07:13.972Z"
   },
   {
    "duration": 14,
    "start_time": "2023-03-11T14:07:13.987Z"
   },
   {
    "duration": 7,
    "start_time": "2023-03-11T14:07:14.003Z"
   },
   {
    "duration": 211,
    "start_time": "2023-03-11T14:07:14.011Z"
   },
   {
    "duration": 96,
    "start_time": "2023-03-11T14:07:14.224Z"
   },
   {
    "duration": 4,
    "start_time": "2023-03-11T14:07:14.322Z"
   },
   {
    "duration": 8,
    "start_time": "2023-03-11T14:07:14.327Z"
   },
   {
    "duration": 59,
    "start_time": "2023-03-11T14:07:14.336Z"
   },
   {
    "duration": 29,
    "start_time": "2023-03-11T14:07:14.397Z"
   },
   {
    "duration": 473,
    "start_time": "2023-03-11T14:07:14.428Z"
   },
   {
    "duration": 5,
    "start_time": "2023-03-11T14:07:14.903Z"
   },
   {
    "duration": 51360,
    "start_time": "2023-03-11T14:07:14.909Z"
   },
   {
    "duration": 200,
    "start_time": "2023-03-11T14:08:06.271Z"
   },
   {
    "duration": 24924,
    "start_time": "2023-03-11T14:08:06.474Z"
   },
   {
    "duration": 13624,
    "start_time": "2023-03-11T14:08:31.400Z"
   },
   {
    "duration": 3964,
    "start_time": "2023-03-11T14:08:45.027Z"
   },
   {
    "duration": 72,
    "start_time": "2023-03-11T14:08:48.993Z"
   },
   {
    "duration": 1053,
    "start_time": "2023-03-11T14:08:49.067Z"
   },
   {
    "duration": 18589,
    "start_time": "2023-03-11T14:08:50.121Z"
   },
   {
    "duration": 818,
    "start_time": "2023-03-11T14:09:08.712Z"
   },
   {
    "duration": 79,
    "start_time": "2023-03-11T14:09:09.533Z"
   },
   {
    "duration": 494,
    "start_time": "2023-03-11T14:09:09.614Z"
   },
   {
    "duration": 10453,
    "start_time": "2023-03-11T14:09:10.110Z"
   },
   {
    "duration": 566,
    "start_time": "2023-03-11T14:09:20.572Z"
   },
   {
    "duration": 101,
    "start_time": "2023-03-11T14:09:21.140Z"
   },
   {
    "duration": 10,
    "start_time": "2023-03-11T14:09:21.242Z"
   },
   {
    "duration": 548,
    "start_time": "2023-03-11T14:09:21.265Z"
   },
   {
    "duration": 162,
    "start_time": "2023-03-11T14:09:21.815Z"
   },
   {
    "duration": 10184,
    "start_time": "2023-03-11T14:09:21.979Z"
   },
   {
    "duration": 601,
    "start_time": "2023-03-11T14:09:32.166Z"
   },
   {
    "duration": 619,
    "start_time": "2023-03-11T14:09:32.769Z"
   },
   {
    "duration": 0,
    "start_time": "2023-03-11T14:09:33.390Z"
   },
   {
    "duration": 0,
    "start_time": "2023-03-11T14:09:33.392Z"
   },
   {
    "duration": 0,
    "start_time": "2023-03-11T14:09:33.393Z"
   },
   {
    "duration": 0,
    "start_time": "2023-03-11T14:09:33.395Z"
   },
   {
    "duration": 0,
    "start_time": "2023-03-11T14:09:33.396Z"
   },
   {
    "duration": 0,
    "start_time": "2023-03-11T14:09:33.398Z"
   },
   {
    "duration": 0,
    "start_time": "2023-03-11T14:09:33.400Z"
   },
   {
    "duration": 626,
    "start_time": "2023-03-11T14:10:00.546Z"
   },
   {
    "duration": 488,
    "start_time": "2023-03-11T14:11:01.104Z"
   },
   {
    "duration": 485,
    "start_time": "2023-03-11T14:13:18.407Z"
   },
   {
    "duration": 2,
    "start_time": "2023-03-11T14:13:20.358Z"
   },
   {
    "duration": 5,
    "start_time": "2023-03-11T14:13:23.338Z"
   },
   {
    "duration": 17,
    "start_time": "2023-03-11T14:13:25.871Z"
   },
   {
    "duration": 633,
    "start_time": "2023-03-11T14:13:26.797Z"
   },
   {
    "duration": 5,
    "start_time": "2023-03-11T14:13:27.503Z"
   },
   {
    "duration": 76,
    "start_time": "2023-03-11T14:13:31.825Z"
   },
   {
    "duration": 71,
    "start_time": "2023-03-11T14:13:49.907Z"
   },
   {
    "duration": 16,
    "start_time": "2023-03-11T14:14:25.855Z"
   },
   {
    "duration": 668,
    "start_time": "2023-03-11T14:14:26.573Z"
   },
   {
    "duration": 5,
    "start_time": "2023-03-11T14:14:28.105Z"
   },
   {
    "duration": 5,
    "start_time": "2023-03-11T14:14:44.732Z"
   },
   {
    "duration": 5,
    "start_time": "2023-03-11T14:14:57.773Z"
   },
   {
    "duration": 512,
    "start_time": "2023-03-11T14:23:44.097Z"
   },
   {
    "duration": 485,
    "start_time": "2023-03-11T14:23:56.229Z"
   },
   {
    "duration": 1509,
    "start_time": "2023-03-11T14:24:38.320Z"
   },
   {
    "duration": 471,
    "start_time": "2023-03-11T14:24:39.831Z"
   },
   {
    "duration": 24,
    "start_time": "2023-03-11T14:24:40.303Z"
   },
   {
    "duration": 38,
    "start_time": "2023-03-11T14:24:40.329Z"
   },
   {
    "duration": 25,
    "start_time": "2023-03-11T14:24:40.369Z"
   },
   {
    "duration": 103,
    "start_time": "2023-03-11T14:24:40.396Z"
   },
   {
    "duration": 2303,
    "start_time": "2023-03-11T14:24:40.501Z"
   },
   {
    "duration": 2198,
    "start_time": "2023-03-11T14:24:42.806Z"
   },
   {
    "duration": 112,
    "start_time": "2023-03-11T14:24:45.006Z"
   },
   {
    "duration": 85,
    "start_time": "2023-03-11T14:24:45.121Z"
   },
   {
    "duration": 72,
    "start_time": "2023-03-11T14:24:45.208Z"
   },
   {
    "duration": 48,
    "start_time": "2023-03-11T14:24:45.281Z"
   },
   {
    "duration": 51,
    "start_time": "2023-03-11T14:24:45.331Z"
   },
   {
    "duration": 129,
    "start_time": "2023-03-11T14:24:45.383Z"
   },
   {
    "duration": 7,
    "start_time": "2023-03-11T14:24:45.514Z"
   },
   {
    "duration": 30,
    "start_time": "2023-03-11T14:24:45.523Z"
   },
   {
    "duration": 28,
    "start_time": "2023-03-11T14:24:45.554Z"
   },
   {
    "duration": 29,
    "start_time": "2023-03-11T14:24:45.584Z"
   },
   {
    "duration": 24,
    "start_time": "2023-03-11T14:24:45.615Z"
   },
   {
    "duration": 19,
    "start_time": "2023-03-11T14:24:45.641Z"
   },
   {
    "duration": 28,
    "start_time": "2023-03-11T14:24:45.663Z"
   },
   {
    "duration": 23,
    "start_time": "2023-03-11T14:24:45.693Z"
   },
   {
    "duration": 577,
    "start_time": "2023-03-11T14:24:45.717Z"
   },
   {
    "duration": 18,
    "start_time": "2023-03-11T14:24:46.296Z"
   },
   {
    "duration": 20,
    "start_time": "2023-03-11T14:24:46.316Z"
   },
   {
    "duration": 126,
    "start_time": "2023-03-11T14:24:46.338Z"
   },
   {
    "duration": 3,
    "start_time": "2023-03-11T14:24:46.466Z"
   },
   {
    "duration": 221,
    "start_time": "2023-03-11T14:24:46.472Z"
   },
   {
    "duration": 134,
    "start_time": "2023-03-11T14:24:46.694Z"
   },
   {
    "duration": 4,
    "start_time": "2023-03-11T14:24:46.830Z"
   },
   {
    "duration": 31,
    "start_time": "2023-03-11T14:24:46.836Z"
   },
   {
    "duration": 34,
    "start_time": "2023-03-11T14:24:46.869Z"
   },
   {
    "duration": 7,
    "start_time": "2023-03-11T14:24:46.904Z"
   },
   {
    "duration": 185,
    "start_time": "2023-03-11T14:24:46.913Z"
   },
   {
    "duration": 92,
    "start_time": "2023-03-11T14:24:47.099Z"
   },
   {
    "duration": 3,
    "start_time": "2023-03-11T14:24:47.193Z"
   },
   {
    "duration": 33,
    "start_time": "2023-03-11T14:24:47.198Z"
   },
   {
    "duration": 49,
    "start_time": "2023-03-11T14:24:47.233Z"
   },
   {
    "duration": 45,
    "start_time": "2023-03-11T14:24:47.284Z"
   },
   {
    "duration": 427,
    "start_time": "2023-03-11T14:24:47.330Z"
   },
   {
    "duration": 4,
    "start_time": "2023-03-11T14:24:47.764Z"
   },
   {
    "duration": 46301,
    "start_time": "2023-03-11T14:24:47.769Z"
   },
   {
    "duration": 299,
    "start_time": "2023-03-11T14:25:34.072Z"
   },
   {
    "duration": 22423,
    "start_time": "2023-03-11T14:25:34.373Z"
   },
   {
    "duration": 12187,
    "start_time": "2023-03-11T14:25:56.798Z"
   },
   {
    "duration": 3843,
    "start_time": "2023-03-11T14:26:08.987Z"
   },
   {
    "duration": 65,
    "start_time": "2023-03-11T14:26:12.832Z"
   },
   {
    "duration": 1084,
    "start_time": "2023-03-11T14:26:12.900Z"
   },
   {
    "duration": 17447,
    "start_time": "2023-03-11T14:26:13.986Z"
   },
   {
    "duration": 815,
    "start_time": "2023-03-11T14:26:31.435Z"
   },
   {
    "duration": 69,
    "start_time": "2023-03-11T14:26:32.252Z"
   },
   {
    "duration": 473,
    "start_time": "2023-03-11T14:26:32.323Z"
   },
   {
    "duration": 10469,
    "start_time": "2023-03-11T14:26:32.798Z"
   },
   {
    "duration": 576,
    "start_time": "2023-03-11T14:26:43.270Z"
   },
   {
    "duration": 100,
    "start_time": "2023-03-11T14:26:43.848Z"
   },
   {
    "duration": 23,
    "start_time": "2023-03-11T14:26:43.950Z"
   },
   {
    "duration": 575,
    "start_time": "2023-03-11T14:26:43.977Z"
   },
   {
    "duration": 149,
    "start_time": "2023-03-11T14:26:44.555Z"
   },
   {
    "duration": 10068,
    "start_time": "2023-03-11T14:26:44.706Z"
   },
   {
    "duration": 605,
    "start_time": "2023-03-11T14:26:54.866Z"
   },
   {
    "duration": 589,
    "start_time": "2023-03-11T14:26:55.473Z"
   },
   {
    "duration": 0,
    "start_time": "2023-03-11T14:26:56.064Z"
   },
   {
    "duration": 0,
    "start_time": "2023-03-11T14:26:56.065Z"
   },
   {
    "duration": 0,
    "start_time": "2023-03-11T14:26:56.066Z"
   },
   {
    "duration": 0,
    "start_time": "2023-03-11T14:26:56.067Z"
   },
   {
    "duration": 0,
    "start_time": "2023-03-11T14:26:56.068Z"
   },
   {
    "duration": 0,
    "start_time": "2023-03-11T14:26:56.069Z"
   },
   {
    "duration": 469,
    "start_time": "2023-03-11T14:27:31.031Z"
   },
   {
    "duration": 1149,
    "start_time": "2023-03-11T14:34:22.639Z"
   },
   {
    "duration": 1586,
    "start_time": "2023-03-11T14:34:33.613Z"
   },
   {
    "duration": 474,
    "start_time": "2023-03-11T14:34:35.201Z"
   },
   {
    "duration": 26,
    "start_time": "2023-03-11T14:34:35.676Z"
   },
   {
    "duration": 24,
    "start_time": "2023-03-11T14:34:35.704Z"
   },
   {
    "duration": 55,
    "start_time": "2023-03-11T14:34:35.730Z"
   },
   {
    "duration": 96,
    "start_time": "2023-03-11T14:34:35.787Z"
   },
   {
    "duration": 2543,
    "start_time": "2023-03-11T14:34:35.885Z"
   },
   {
    "duration": 2250,
    "start_time": "2023-03-11T14:34:38.430Z"
   },
   {
    "duration": 118,
    "start_time": "2023-03-11T14:34:40.682Z"
   },
   {
    "duration": 93,
    "start_time": "2023-03-11T14:34:40.803Z"
   },
   {
    "duration": 73,
    "start_time": "2023-03-11T14:34:40.898Z"
   },
   {
    "duration": 91,
    "start_time": "2023-03-11T14:34:40.973Z"
   },
   {
    "duration": 30,
    "start_time": "2023-03-11T14:34:41.067Z"
   },
   {
    "duration": 139,
    "start_time": "2023-03-11T14:34:41.101Z"
   },
   {
    "duration": 22,
    "start_time": "2023-03-11T14:34:41.242Z"
   },
   {
    "duration": 7,
    "start_time": "2023-03-11T14:34:41.266Z"
   },
   {
    "duration": 16,
    "start_time": "2023-03-11T14:34:41.275Z"
   },
   {
    "duration": 21,
    "start_time": "2023-03-11T14:34:41.293Z"
   },
   {
    "duration": 55,
    "start_time": "2023-03-11T14:34:41.316Z"
   },
   {
    "duration": 13,
    "start_time": "2023-03-11T14:34:41.372Z"
   },
   {
    "duration": 24,
    "start_time": "2023-03-11T14:34:41.388Z"
   },
   {
    "duration": 4,
    "start_time": "2023-03-11T14:34:41.414Z"
   },
   {
    "duration": 641,
    "start_time": "2023-03-11T14:34:41.420Z"
   },
   {
    "duration": 20,
    "start_time": "2023-03-11T14:34:42.064Z"
   },
   {
    "duration": 2,
    "start_time": "2023-03-11T14:34:42.086Z"
   },
   {
    "duration": 144,
    "start_time": "2023-03-11T14:34:42.090Z"
   },
   {
    "duration": 2,
    "start_time": "2023-03-11T14:34:42.236Z"
   },
   {
    "duration": 243,
    "start_time": "2023-03-11T14:34:42.243Z"
   },
   {
    "duration": 120,
    "start_time": "2023-03-11T14:34:42.488Z"
   },
   {
    "duration": 4,
    "start_time": "2023-03-11T14:34:42.610Z"
   },
   {
    "duration": 26,
    "start_time": "2023-03-11T14:34:42.616Z"
   },
   {
    "duration": 20,
    "start_time": "2023-03-11T14:34:42.644Z"
   },
   {
    "duration": 11,
    "start_time": "2023-03-11T14:34:42.666Z"
   },
   {
    "duration": 197,
    "start_time": "2023-03-11T14:34:42.680Z"
   },
   {
    "duration": 97,
    "start_time": "2023-03-11T14:34:42.879Z"
   },
   {
    "duration": 4,
    "start_time": "2023-03-11T14:34:42.978Z"
   },
   {
    "duration": 6,
    "start_time": "2023-03-11T14:34:42.985Z"
   },
   {
    "duration": 46,
    "start_time": "2023-03-11T14:34:42.993Z"
   },
   {
    "duration": 48,
    "start_time": "2023-03-11T14:34:43.041Z"
   },
   {
    "duration": 463,
    "start_time": "2023-03-11T14:34:43.091Z"
   },
   {
    "duration": 9,
    "start_time": "2023-03-11T14:34:43.556Z"
   },
   {
    "duration": 49599,
    "start_time": "2023-03-11T14:34:43.567Z"
   },
   {
    "duration": 207,
    "start_time": "2023-03-11T14:35:33.168Z"
   },
   {
    "duration": 23520,
    "start_time": "2023-03-11T14:35:33.377Z"
   },
   {
    "duration": 12559,
    "start_time": "2023-03-11T14:35:56.899Z"
   },
   {
    "duration": 3859,
    "start_time": "2023-03-11T14:36:09.460Z"
   },
   {
    "duration": 68,
    "start_time": "2023-03-11T14:36:13.320Z"
   },
   {
    "duration": 1048,
    "start_time": "2023-03-11T14:36:13.390Z"
   },
   {
    "duration": 17632,
    "start_time": "2023-03-11T14:36:14.440Z"
   },
   {
    "duration": 794,
    "start_time": "2023-03-11T14:36:32.074Z"
   },
   {
    "duration": 62,
    "start_time": "2023-03-11T14:36:32.870Z"
   },
   {
    "duration": 479,
    "start_time": "2023-03-11T14:36:32.934Z"
   },
   {
    "duration": 9966,
    "start_time": "2023-03-11T14:36:33.415Z"
   },
   {
    "duration": 562,
    "start_time": "2023-03-11T14:36:43.465Z"
   },
   {
    "duration": 95,
    "start_time": "2023-03-11T14:36:44.028Z"
   },
   {
    "duration": 8,
    "start_time": "2023-03-11T14:36:44.125Z"
   },
   {
    "duration": 584,
    "start_time": "2023-03-11T14:36:44.135Z"
   },
   {
    "duration": 147,
    "start_time": "2023-03-11T14:36:44.721Z"
   },
   {
    "duration": 9202,
    "start_time": "2023-03-11T14:36:44.870Z"
   },
   {
    "duration": 714,
    "start_time": "2023-03-11T14:36:54.075Z"
   },
   {
    "duration": 464,
    "start_time": "2023-03-11T14:36:54.791Z"
   },
   {
    "duration": 8,
    "start_time": "2023-03-11T14:36:55.257Z"
   },
   {
    "duration": 6,
    "start_time": "2023-03-11T14:36:55.266Z"
   },
   {
    "duration": 26,
    "start_time": "2023-03-11T14:36:55.274Z"
   },
   {
    "duration": 682,
    "start_time": "2023-03-11T14:36:55.302Z"
   },
   {
    "duration": 6,
    "start_time": "2023-03-11T14:36:55.986Z"
   },
   {
    "duration": 548,
    "start_time": "2023-03-11T14:36:55.994Z"
   },
   {
    "duration": 5,
    "start_time": "2023-03-11T14:53:01.594Z"
   },
   {
    "duration": 21,
    "start_time": "2023-03-11T14:53:09.327Z"
   },
   {
    "duration": 635,
    "start_time": "2023-03-11T14:53:10.404Z"
   },
   {
    "duration": 5,
    "start_time": "2023-03-11T14:53:12.543Z"
   },
   {
    "duration": 1571,
    "start_time": "2023-03-11T15:07:41.537Z"
   },
   {
    "duration": 505,
    "start_time": "2023-03-11T15:07:43.110Z"
   },
   {
    "duration": 26,
    "start_time": "2023-03-11T15:07:43.617Z"
   },
   {
    "duration": 34,
    "start_time": "2023-03-11T15:07:43.646Z"
   },
   {
    "duration": 24,
    "start_time": "2023-03-11T15:07:43.682Z"
   },
   {
    "duration": 111,
    "start_time": "2023-03-11T15:07:43.708Z"
   },
   {
    "duration": 2340,
    "start_time": "2023-03-11T15:07:43.820Z"
   },
   {
    "duration": 2172,
    "start_time": "2023-03-11T15:07:46.161Z"
   },
   {
    "duration": 112,
    "start_time": "2023-03-11T15:07:48.335Z"
   },
   {
    "duration": 85,
    "start_time": "2023-03-11T15:07:48.449Z"
   },
   {
    "duration": 81,
    "start_time": "2023-03-11T15:07:48.536Z"
   },
   {
    "duration": 65,
    "start_time": "2023-03-11T15:07:48.620Z"
   },
   {
    "duration": 25,
    "start_time": "2023-03-11T15:07:48.687Z"
   },
   {
    "duration": 143,
    "start_time": "2023-03-11T15:07:48.714Z"
   },
   {
    "duration": 9,
    "start_time": "2023-03-11T15:07:48.863Z"
   },
   {
    "duration": 11,
    "start_time": "2023-03-11T15:07:48.875Z"
   },
   {
    "duration": 19,
    "start_time": "2023-03-11T15:07:48.888Z"
   },
   {
    "duration": 55,
    "start_time": "2023-03-11T15:07:48.909Z"
   },
   {
    "duration": 13,
    "start_time": "2023-03-11T15:07:48.967Z"
   },
   {
    "duration": 18,
    "start_time": "2023-03-11T15:07:48.983Z"
   },
   {
    "duration": 24,
    "start_time": "2023-03-11T15:07:49.003Z"
   },
   {
    "duration": 34,
    "start_time": "2023-03-11T15:07:49.030Z"
   },
   {
    "duration": 582,
    "start_time": "2023-03-11T15:07:49.066Z"
   },
   {
    "duration": 24,
    "start_time": "2023-03-11T15:07:49.649Z"
   },
   {
    "duration": 5,
    "start_time": "2023-03-11T15:07:49.675Z"
   },
   {
    "duration": 118,
    "start_time": "2023-03-11T15:07:49.682Z"
   },
   {
    "duration": 3,
    "start_time": "2023-03-11T15:07:49.802Z"
   },
   {
    "duration": 259,
    "start_time": "2023-03-11T15:07:49.810Z"
   },
   {
    "duration": 106,
    "start_time": "2023-03-11T15:07:50.070Z"
   },
   {
    "duration": 6,
    "start_time": "2023-03-11T15:07:50.177Z"
   },
   {
    "duration": 16,
    "start_time": "2023-03-11T15:07:50.185Z"
   },
   {
    "duration": 13,
    "start_time": "2023-03-11T15:07:50.203Z"
   },
   {
    "duration": 7,
    "start_time": "2023-03-11T15:07:50.218Z"
   },
   {
    "duration": 211,
    "start_time": "2023-03-11T15:07:50.227Z"
   },
   {
    "duration": 90,
    "start_time": "2023-03-11T15:07:50.440Z"
   },
   {
    "duration": 4,
    "start_time": "2023-03-11T15:07:50.532Z"
   },
   {
    "duration": 14,
    "start_time": "2023-03-11T15:07:50.538Z"
   },
   {
    "duration": 52,
    "start_time": "2023-03-11T15:07:50.554Z"
   },
   {
    "duration": 33,
    "start_time": "2023-03-11T15:07:50.608Z"
   },
   {
    "duration": 469,
    "start_time": "2023-03-11T15:07:50.643Z"
   },
   {
    "duration": 8,
    "start_time": "2023-03-11T15:07:51.115Z"
   },
   {
    "duration": 47645,
    "start_time": "2023-03-11T15:07:51.125Z"
   },
   {
    "duration": 292,
    "start_time": "2023-03-11T15:08:38.774Z"
   },
   {
    "duration": 22427,
    "start_time": "2023-03-11T15:08:39.068Z"
   },
   {
    "duration": 12585,
    "start_time": "2023-03-11T15:09:01.496Z"
   },
   {
    "duration": 3890,
    "start_time": "2023-03-11T15:09:14.083Z"
   },
   {
    "duration": 61,
    "start_time": "2023-03-11T15:09:17.975Z"
   },
   {
    "duration": 1055,
    "start_time": "2023-03-11T15:09:18.037Z"
   },
   {
    "duration": 17922,
    "start_time": "2023-03-11T15:09:19.094Z"
   },
   {
    "duration": 820,
    "start_time": "2023-03-11T15:09:37.018Z"
   },
   {
    "duration": 77,
    "start_time": "2023-03-11T15:09:37.840Z"
   },
   {
    "duration": 473,
    "start_time": "2023-03-11T15:09:37.919Z"
   },
   {
    "duration": 10071,
    "start_time": "2023-03-11T15:09:38.394Z"
   },
   {
    "duration": 566,
    "start_time": "2023-03-11T15:09:48.467Z"
   },
   {
    "duration": 97,
    "start_time": "2023-03-11T15:09:49.035Z"
   },
   {
    "duration": 11,
    "start_time": "2023-03-11T15:09:49.135Z"
   },
   {
    "duration": 549,
    "start_time": "2023-03-11T15:09:49.164Z"
   },
   {
    "duration": 149,
    "start_time": "2023-03-11T15:09:49.715Z"
   },
   {
    "duration": 9598,
    "start_time": "2023-03-11T15:09:49.867Z"
   },
   {
    "duration": 612,
    "start_time": "2023-03-11T15:09:59.467Z"
   },
   {
    "duration": 479,
    "start_time": "2023-03-11T15:10:00.081Z"
   },
   {
    "duration": 3,
    "start_time": "2023-03-11T15:10:00.562Z"
   },
   {
    "duration": 30,
    "start_time": "2023-03-11T15:10:00.568Z"
   },
   {
    "duration": 53,
    "start_time": "2023-03-11T15:10:00.600Z"
   },
   {
    "duration": 126,
    "start_time": "2023-03-11T15:10:00.655Z"
   },
   {
    "duration": 0,
    "start_time": "2023-03-11T15:10:00.782Z"
   },
   {
    "duration": 0,
    "start_time": "2023-03-11T15:10:00.783Z"
   },
   {
    "duration": 11,
    "start_time": "2023-03-11T15:11:50.012Z"
   },
   {
    "duration": 12,
    "start_time": "2023-03-11T15:12:01.269Z"
   },
   {
    "duration": 12,
    "start_time": "2023-03-11T15:13:12.068Z"
   },
   {
    "duration": 1250,
    "start_time": "2023-03-11T15:13:16.377Z"
   },
   {
    "duration": 11,
    "start_time": "2023-03-11T15:14:47.627Z"
   },
   {
    "duration": 6,
    "start_time": "2023-03-11T15:16:48.790Z"
   },
   {
    "duration": 11,
    "start_time": "2023-03-11T15:16:57.623Z"
   },
   {
    "duration": 5,
    "start_time": "2023-03-11T15:17:02.707Z"
   },
   {
    "duration": 17,
    "start_time": "2023-03-11T15:17:04.823Z"
   },
   {
    "duration": 12,
    "start_time": "2023-03-11T15:17:06.073Z"
   },
   {
    "duration": 1142,
    "start_time": "2023-03-11T15:18:29.847Z"
   },
   {
    "duration": 1512,
    "start_time": "2023-03-11T15:18:38.420Z"
   },
   {
    "duration": 496,
    "start_time": "2023-03-11T15:18:39.934Z"
   },
   {
    "duration": 41,
    "start_time": "2023-03-11T15:18:40.432Z"
   },
   {
    "duration": 21,
    "start_time": "2023-03-11T15:18:40.475Z"
   },
   {
    "duration": 25,
    "start_time": "2023-03-11T15:18:40.498Z"
   },
   {
    "duration": 113,
    "start_time": "2023-03-11T15:18:40.525Z"
   },
   {
    "duration": 2328,
    "start_time": "2023-03-11T15:18:40.640Z"
   },
   {
    "duration": 2431,
    "start_time": "2023-03-11T15:18:42.970Z"
   },
   {
    "duration": 123,
    "start_time": "2023-03-11T15:18:45.402Z"
   },
   {
    "duration": 94,
    "start_time": "2023-03-11T15:18:45.529Z"
   },
   {
    "duration": 77,
    "start_time": "2023-03-11T15:18:45.625Z"
   },
   {
    "duration": 67,
    "start_time": "2023-03-11T15:18:45.704Z"
   },
   {
    "duration": 26,
    "start_time": "2023-03-11T15:18:45.773Z"
   },
   {
    "duration": 138,
    "start_time": "2023-03-11T15:18:45.801Z"
   },
   {
    "duration": 26,
    "start_time": "2023-03-11T15:18:45.941Z"
   },
   {
    "duration": 20,
    "start_time": "2023-03-11T15:18:45.969Z"
   },
   {
    "duration": 13,
    "start_time": "2023-03-11T15:18:45.991Z"
   },
   {
    "duration": 23,
    "start_time": "2023-03-11T15:18:46.006Z"
   },
   {
    "duration": 39,
    "start_time": "2023-03-11T15:18:46.032Z"
   },
   {
    "duration": 16,
    "start_time": "2023-03-11T15:18:46.074Z"
   },
   {
    "duration": 27,
    "start_time": "2023-03-11T15:18:46.092Z"
   },
   {
    "duration": 4,
    "start_time": "2023-03-11T15:18:46.121Z"
   },
   {
    "duration": 590,
    "start_time": "2023-03-11T15:18:46.163Z"
   },
   {
    "duration": 27,
    "start_time": "2023-03-11T15:18:46.754Z"
   },
   {
    "duration": 3,
    "start_time": "2023-03-11T15:18:46.783Z"
   },
   {
    "duration": 144,
    "start_time": "2023-03-11T15:18:46.789Z"
   },
   {
    "duration": 3,
    "start_time": "2023-03-11T15:18:46.936Z"
   },
   {
    "duration": 237,
    "start_time": "2023-03-11T15:18:46.946Z"
   },
   {
    "duration": 108,
    "start_time": "2023-03-11T15:18:47.185Z"
   },
   {
    "duration": 5,
    "start_time": "2023-03-11T15:18:47.295Z"
   },
   {
    "duration": 21,
    "start_time": "2023-03-11T15:18:47.302Z"
   },
   {
    "duration": 13,
    "start_time": "2023-03-11T15:18:47.325Z"
   },
   {
    "duration": 24,
    "start_time": "2023-03-11T15:18:47.340Z"
   },
   {
    "duration": 194,
    "start_time": "2023-03-11T15:18:47.366Z"
   },
   {
    "duration": 83,
    "start_time": "2023-03-11T15:18:47.565Z"
   },
   {
    "duration": 16,
    "start_time": "2023-03-11T15:18:47.650Z"
   },
   {
    "duration": 5,
    "start_time": "2023-03-11T15:18:47.668Z"
   },
   {
    "duration": 55,
    "start_time": "2023-03-11T15:18:47.675Z"
   },
   {
    "duration": 44,
    "start_time": "2023-03-11T15:18:47.732Z"
   },
   {
    "duration": 442,
    "start_time": "2023-03-11T15:18:47.778Z"
   },
   {
    "duration": 5,
    "start_time": "2023-03-11T15:18:48.221Z"
   },
   {
    "duration": 43946,
    "start_time": "2023-03-11T15:18:48.228Z"
   },
   {
    "duration": 208,
    "start_time": "2023-03-11T15:19:32.265Z"
   },
   {
    "duration": 21328,
    "start_time": "2023-03-11T15:19:32.663Z"
   },
   {
    "duration": 12565,
    "start_time": "2023-03-11T15:19:53.993Z"
   },
   {
    "duration": 3841,
    "start_time": "2023-03-11T15:20:06.564Z"
   },
   {
    "duration": 66,
    "start_time": "2023-03-11T15:20:10.407Z"
   },
   {
    "duration": 999,
    "start_time": "2023-03-11T15:20:10.475Z"
   },
   {
    "duration": 18118,
    "start_time": "2023-03-11T15:20:11.476Z"
   },
   {
    "duration": 809,
    "start_time": "2023-03-11T15:20:29.596Z"
   },
   {
    "duration": 72,
    "start_time": "2023-03-11T15:20:30.408Z"
   },
   {
    "duration": 465,
    "start_time": "2023-03-11T15:20:30.482Z"
   },
   {
    "duration": 9917,
    "start_time": "2023-03-11T15:20:30.949Z"
   },
   {
    "duration": 670,
    "start_time": "2023-03-11T15:20:40.868Z"
   },
   {
    "duration": 96,
    "start_time": "2023-03-11T15:20:41.540Z"
   },
   {
    "duration": 10,
    "start_time": "2023-03-11T15:20:41.638Z"
   },
   {
    "duration": 541,
    "start_time": "2023-03-11T15:20:41.664Z"
   },
   {
    "duration": 150,
    "start_time": "2023-03-11T15:20:42.207Z"
   },
   {
    "duration": 9308,
    "start_time": "2023-03-11T15:20:42.364Z"
   },
   {
    "duration": 675,
    "start_time": "2023-03-11T15:20:51.673Z"
   },
   {
    "duration": 460,
    "start_time": "2023-03-11T15:20:52.350Z"
   },
   {
    "duration": 2,
    "start_time": "2023-03-11T15:20:52.812Z"
   },
   {
    "duration": 15,
    "start_time": "2023-03-11T15:20:52.815Z"
   },
   {
    "duration": 20,
    "start_time": "2023-03-11T15:20:52.831Z"
   },
   {
    "duration": 127,
    "start_time": "2023-03-11T15:20:52.853Z"
   },
   {
    "duration": 0,
    "start_time": "2023-03-11T15:20:52.982Z"
   },
   {
    "duration": 0,
    "start_time": "2023-03-11T15:20:52.983Z"
   },
   {
    "duration": 5,
    "start_time": "2023-03-11T15:22:15.756Z"
   },
   {
    "duration": 15,
    "start_time": "2023-03-11T15:22:18.154Z"
   },
   {
    "duration": 27,
    "start_time": "2023-03-11T15:22:19.057Z"
   },
   {
    "duration": 5,
    "start_time": "2023-03-11T15:23:16.192Z"
   },
   {
    "duration": 15,
    "start_time": "2023-03-11T15:23:17.990Z"
   },
   {
    "duration": 762,
    "start_time": "2023-03-11T15:23:18.811Z"
   },
   {
    "duration": 6,
    "start_time": "2023-03-11T15:23:21.724Z"
   },
   {
    "duration": 5,
    "start_time": "2023-03-11T15:29:06.924Z"
   },
   {
    "duration": 15,
    "start_time": "2023-03-11T15:29:10.188Z"
   },
   {
    "duration": 782,
    "start_time": "2023-03-11T15:29:11.471Z"
   },
   {
    "duration": 10,
    "start_time": "2023-03-11T15:29:12.255Z"
   },
   {
    "duration": 1611,
    "start_time": "2023-03-11T15:34:03.764Z"
   },
   {
    "duration": 514,
    "start_time": "2023-03-11T15:34:05.377Z"
   },
   {
    "duration": 25,
    "start_time": "2023-03-11T15:34:05.893Z"
   },
   {
    "duration": 43,
    "start_time": "2023-03-11T15:34:05.921Z"
   },
   {
    "duration": 28,
    "start_time": "2023-03-11T15:34:05.966Z"
   },
   {
    "duration": 104,
    "start_time": "2023-03-11T15:34:05.996Z"
   },
   {
    "duration": 2390,
    "start_time": "2023-03-11T15:34:06.101Z"
   },
   {
    "duration": 2362,
    "start_time": "2023-03-11T15:34:08.493Z"
   },
   {
    "duration": 121,
    "start_time": "2023-03-11T15:34:10.857Z"
   },
   {
    "duration": 88,
    "start_time": "2023-03-11T15:34:10.981Z"
   },
   {
    "duration": 60,
    "start_time": "2023-03-11T15:34:11.071Z"
   },
   {
    "duration": 65,
    "start_time": "2023-03-11T15:34:11.133Z"
   },
   {
    "duration": 25,
    "start_time": "2023-03-11T15:34:11.200Z"
   },
   {
    "duration": 160,
    "start_time": "2023-03-11T15:34:11.227Z"
   },
   {
    "duration": 7,
    "start_time": "2023-03-11T15:34:11.389Z"
   },
   {
    "duration": 10,
    "start_time": "2023-03-11T15:34:11.397Z"
   },
   {
    "duration": 14,
    "start_time": "2023-03-11T15:34:11.409Z"
   },
   {
    "duration": 55,
    "start_time": "2023-03-11T15:34:11.424Z"
   },
   {
    "duration": 14,
    "start_time": "2023-03-11T15:34:11.481Z"
   },
   {
    "duration": 12,
    "start_time": "2023-03-11T15:34:11.497Z"
   },
   {
    "duration": 21,
    "start_time": "2023-03-11T15:34:11.511Z"
   },
   {
    "duration": 5,
    "start_time": "2023-03-11T15:34:11.564Z"
   },
   {
    "duration": 558,
    "start_time": "2023-03-11T15:34:11.570Z"
   },
   {
    "duration": 18,
    "start_time": "2023-03-11T15:34:12.129Z"
   },
   {
    "duration": 17,
    "start_time": "2023-03-11T15:34:12.149Z"
   },
   {
    "duration": 106,
    "start_time": "2023-03-11T15:34:12.169Z"
   },
   {
    "duration": 3,
    "start_time": "2023-03-11T15:34:12.276Z"
   },
   {
    "duration": 208,
    "start_time": "2023-03-11T15:34:12.283Z"
   },
   {
    "duration": 108,
    "start_time": "2023-03-11T15:34:12.493Z"
   },
   {
    "duration": 3,
    "start_time": "2023-03-11T15:34:12.603Z"
   },
   {
    "duration": 18,
    "start_time": "2023-03-11T15:34:12.608Z"
   },
   {
    "duration": 18,
    "start_time": "2023-03-11T15:34:12.629Z"
   },
   {
    "duration": 15,
    "start_time": "2023-03-11T15:34:12.649Z"
   },
   {
    "duration": 163,
    "start_time": "2023-03-11T15:34:12.666Z"
   },
   {
    "duration": 82,
    "start_time": "2023-03-11T15:34:12.831Z"
   },
   {
    "duration": 3,
    "start_time": "2023-03-11T15:34:12.915Z"
   },
   {
    "duration": 14,
    "start_time": "2023-03-11T15:34:12.920Z"
   },
   {
    "duration": 50,
    "start_time": "2023-03-11T15:34:12.935Z"
   },
   {
    "duration": 28,
    "start_time": "2023-03-11T15:34:12.986Z"
   },
   {
    "duration": 447,
    "start_time": "2023-03-11T15:34:13.016Z"
   },
   {
    "duration": 5,
    "start_time": "2023-03-11T15:34:13.465Z"
   },
   {
    "duration": 42896,
    "start_time": "2023-03-11T15:34:13.472Z"
   },
   {
    "duration": 295,
    "start_time": "2023-03-11T15:34:56.370Z"
   },
   {
    "duration": 20615,
    "start_time": "2023-03-11T15:34:56.667Z"
   },
   {
    "duration": 12471,
    "start_time": "2023-03-11T15:35:17.283Z"
   },
   {
    "duration": 4006,
    "start_time": "2023-03-11T15:35:29.756Z"
   },
   {
    "duration": 59,
    "start_time": "2023-03-11T15:35:33.764Z"
   },
   {
    "duration": 1137,
    "start_time": "2023-03-11T15:35:33.825Z"
   },
   {
    "duration": 17828,
    "start_time": "2023-03-11T15:35:34.965Z"
   },
   {
    "duration": 785,
    "start_time": "2023-03-11T15:35:52.795Z"
   },
   {
    "duration": 63,
    "start_time": "2023-03-11T15:35:53.581Z"
   },
   {
    "duration": 477,
    "start_time": "2023-03-11T15:35:53.646Z"
   },
   {
    "duration": 9340,
    "start_time": "2023-03-11T15:35:54.125Z"
   },
   {
    "duration": 565,
    "start_time": "2023-03-11T15:36:03.467Z"
   },
   {
    "duration": 95,
    "start_time": "2023-03-11T15:36:04.033Z"
   },
   {
    "duration": 9,
    "start_time": "2023-03-11T15:36:04.130Z"
   },
   {
    "duration": 616,
    "start_time": "2023-03-11T15:36:04.140Z"
   },
   {
    "duration": 149,
    "start_time": "2023-03-11T15:36:04.757Z"
   },
   {
    "duration": 9066,
    "start_time": "2023-03-11T15:36:04.908Z"
   },
   {
    "duration": 733,
    "start_time": "2023-03-11T15:36:13.977Z"
   },
   {
    "duration": 480,
    "start_time": "2023-03-11T15:36:14.711Z"
   },
   {
    "duration": 3,
    "start_time": "2023-03-11T15:36:15.193Z"
   },
   {
    "duration": 13,
    "start_time": "2023-03-11T15:36:15.198Z"
   },
   {
    "duration": 23,
    "start_time": "2023-03-11T15:36:15.213Z"
   },
   {
    "duration": 774,
    "start_time": "2023-03-11T15:36:15.238Z"
   },
   {
    "duration": 6,
    "start_time": "2023-03-11T15:36:16.014Z"
   },
   {
    "duration": 597,
    "start_time": "2023-03-11T15:36:16.022Z"
   },
   {
    "duration": 1670,
    "start_time": "2023-03-12T11:13:35.678Z"
   },
   {
    "duration": 570,
    "start_time": "2023-03-12T11:13:37.350Z"
   },
   {
    "duration": 23,
    "start_time": "2023-03-12T11:13:37.921Z"
   },
   {
    "duration": 18,
    "start_time": "2023-03-12T11:13:37.946Z"
   },
   {
    "duration": 40,
    "start_time": "2023-03-12T11:13:37.966Z"
   },
   {
    "duration": 84,
    "start_time": "2023-03-12T11:13:38.007Z"
   },
   {
    "duration": 2206,
    "start_time": "2023-03-12T11:13:38.092Z"
   },
   {
    "duration": 2137,
    "start_time": "2023-03-12T11:13:40.300Z"
   },
   {
    "duration": 118,
    "start_time": "2023-03-12T11:13:42.439Z"
   },
   {
    "duration": 89,
    "start_time": "2023-03-12T11:13:42.560Z"
   },
   {
    "duration": 67,
    "start_time": "2023-03-12T11:13:42.651Z"
   },
   {
    "duration": 42,
    "start_time": "2023-03-12T11:13:42.720Z"
   },
   {
    "duration": 43,
    "start_time": "2023-03-12T11:13:42.764Z"
   },
   {
    "duration": 117,
    "start_time": "2023-03-12T11:13:42.809Z"
   },
   {
    "duration": 8,
    "start_time": "2023-03-12T11:13:42.928Z"
   },
   {
    "duration": 10,
    "start_time": "2023-03-12T11:13:42.939Z"
   },
   {
    "duration": 40,
    "start_time": "2023-03-12T11:13:42.952Z"
   },
   {
    "duration": 23,
    "start_time": "2023-03-12T11:13:42.994Z"
   },
   {
    "duration": 14,
    "start_time": "2023-03-12T11:13:43.019Z"
   },
   {
    "duration": 13,
    "start_time": "2023-03-12T11:13:43.035Z"
   },
   {
    "duration": 46,
    "start_time": "2023-03-12T11:13:43.050Z"
   },
   {
    "duration": 4,
    "start_time": "2023-03-12T11:13:43.098Z"
   },
   {
    "duration": 591,
    "start_time": "2023-03-12T11:13:43.103Z"
   },
   {
    "duration": 17,
    "start_time": "2023-03-12T11:13:43.696Z"
   },
   {
    "duration": 12,
    "start_time": "2023-03-12T11:13:43.714Z"
   },
   {
    "duration": 137,
    "start_time": "2023-03-12T11:13:43.727Z"
   },
   {
    "duration": 3,
    "start_time": "2023-03-12T11:13:43.866Z"
   },
   {
    "duration": 277,
    "start_time": "2023-03-12T11:13:43.875Z"
   },
   {
    "duration": 128,
    "start_time": "2023-03-12T11:13:44.154Z"
   },
   {
    "duration": 3,
    "start_time": "2023-03-12T11:13:44.284Z"
   },
   {
    "duration": 19,
    "start_time": "2023-03-12T11:13:44.289Z"
   },
   {
    "duration": 25,
    "start_time": "2023-03-12T11:13:44.310Z"
   },
   {
    "duration": 11,
    "start_time": "2023-03-12T11:13:44.337Z"
   },
   {
    "duration": 177,
    "start_time": "2023-03-12T11:13:44.349Z"
   },
   {
    "duration": 88,
    "start_time": "2023-03-12T11:13:44.528Z"
   },
   {
    "duration": 4,
    "start_time": "2023-03-12T11:13:44.618Z"
   },
   {
    "duration": 6,
    "start_time": "2023-03-12T11:13:44.624Z"
   },
   {
    "duration": 46,
    "start_time": "2023-03-12T11:13:44.631Z"
   },
   {
    "duration": 27,
    "start_time": "2023-03-12T11:13:44.679Z"
   },
   {
    "duration": 455,
    "start_time": "2023-03-12T11:13:44.708Z"
   },
   {
    "duration": 4,
    "start_time": "2023-03-12T11:13:45.165Z"
   },
   {
    "duration": 45420,
    "start_time": "2023-03-12T11:13:45.171Z"
   },
   {
    "duration": 299,
    "start_time": "2023-03-12T11:14:30.595Z"
   },
   {
    "duration": 21122,
    "start_time": "2023-03-12T11:14:30.989Z"
   },
   {
    "duration": 12201,
    "start_time": "2023-03-12T11:14:52.113Z"
   },
   {
    "duration": 3464,
    "start_time": "2023-03-12T11:15:04.316Z"
   },
   {
    "duration": 55,
    "start_time": "2023-03-12T11:15:07.782Z"
   },
   {
    "duration": 933,
    "start_time": "2023-03-12T11:15:07.838Z"
   },
   {
    "duration": 16849,
    "start_time": "2023-03-12T11:15:08.773Z"
   },
   {
    "duration": 769,
    "start_time": "2023-03-12T11:15:25.624Z"
   },
   {
    "duration": 71,
    "start_time": "2023-03-12T11:15:26.395Z"
   },
   {
    "duration": 457,
    "start_time": "2023-03-12T11:15:26.467Z"
   },
   {
    "duration": 10064,
    "start_time": "2023-03-12T11:15:26.926Z"
   },
   {
    "duration": 453,
    "start_time": "2023-03-12T11:15:36.992Z"
   },
   {
    "duration": 89,
    "start_time": "2023-03-12T11:15:37.447Z"
   },
   {
    "duration": 8,
    "start_time": "2023-03-12T11:15:37.537Z"
   },
   {
    "duration": 510,
    "start_time": "2023-03-12T11:15:37.546Z"
   },
   {
    "duration": 148,
    "start_time": "2023-03-12T11:15:38.058Z"
   },
   {
    "duration": 9489,
    "start_time": "2023-03-12T11:15:38.208Z"
   },
   {
    "duration": 659,
    "start_time": "2023-03-12T11:15:47.699Z"
   },
   {
    "duration": 464,
    "start_time": "2023-03-12T11:15:48.360Z"
   },
   {
    "duration": 3,
    "start_time": "2023-03-12T11:15:48.825Z"
   },
   {
    "duration": 10,
    "start_time": "2023-03-12T11:15:48.829Z"
   },
   {
    "duration": 19,
    "start_time": "2023-03-12T11:15:48.840Z"
   },
   {
    "duration": 782,
    "start_time": "2023-03-12T11:15:48.860Z"
   },
   {
    "duration": 5,
    "start_time": "2023-03-12T11:15:49.644Z"
   },
   {
    "duration": 565,
    "start_time": "2023-03-12T11:15:49.650Z"
   },
   {
    "duration": 48,
    "start_time": "2023-03-12T14:21:59.214Z"
   },
   {
    "duration": 1589,
    "start_time": "2023-03-12T14:22:06.247Z"
   },
   {
    "duration": 948,
    "start_time": "2023-03-12T14:22:07.839Z"
   },
   {
    "duration": 20,
    "start_time": "2023-03-12T14:22:08.789Z"
   },
   {
    "duration": 14,
    "start_time": "2023-03-12T14:22:08.811Z"
   },
   {
    "duration": 40,
    "start_time": "2023-03-12T14:22:08.827Z"
   },
   {
    "duration": 57,
    "start_time": "2023-03-12T14:22:08.868Z"
   },
   {
    "duration": 1963,
    "start_time": "2023-03-12T14:22:08.954Z"
   },
   {
    "duration": 1805,
    "start_time": "2023-03-12T14:22:10.919Z"
   },
   {
    "duration": 98,
    "start_time": "2023-03-12T14:22:12.726Z"
   },
   {
    "duration": 77,
    "start_time": "2023-03-12T14:22:12.826Z"
   },
   {
    "duration": 57,
    "start_time": "2023-03-12T14:22:12.905Z"
   },
   {
    "duration": 53,
    "start_time": "2023-03-12T14:22:12.964Z"
   },
   {
    "duration": 49,
    "start_time": "2023-03-12T14:22:13.019Z"
   },
   {
    "duration": 121,
    "start_time": "2023-03-12T14:22:13.069Z"
   },
   {
    "duration": 7,
    "start_time": "2023-03-12T14:22:13.191Z"
   },
   {
    "duration": 6,
    "start_time": "2023-03-12T14:22:13.200Z"
   },
   {
    "duration": 7,
    "start_time": "2023-03-12T14:22:13.208Z"
   },
   {
    "duration": 50,
    "start_time": "2023-03-12T14:22:13.216Z"
   },
   {
    "duration": 11,
    "start_time": "2023-03-12T14:22:13.267Z"
   },
   {
    "duration": 10,
    "start_time": "2023-03-12T14:22:13.280Z"
   },
   {
    "duration": 20,
    "start_time": "2023-03-12T14:22:13.292Z"
   },
   {
    "duration": 3,
    "start_time": "2023-03-12T14:22:13.314Z"
   },
   {
    "duration": 566,
    "start_time": "2023-03-12T14:22:13.319Z"
   },
   {
    "duration": 15,
    "start_time": "2023-03-12T14:22:13.886Z"
   },
   {
    "duration": 3,
    "start_time": "2023-03-12T14:22:13.902Z"
   },
   {
    "duration": 112,
    "start_time": "2023-03-12T14:22:13.906Z"
   },
   {
    "duration": 2,
    "start_time": "2023-03-12T14:22:14.020Z"
   },
   {
    "duration": 181,
    "start_time": "2023-03-12T14:22:14.025Z"
   },
   {
    "duration": 99,
    "start_time": "2023-03-12T14:22:14.207Z"
   },
   {
    "duration": 4,
    "start_time": "2023-03-12T14:22:14.307Z"
   },
   {
    "duration": 8,
    "start_time": "2023-03-12T14:22:14.312Z"
   },
   {
    "duration": 7,
    "start_time": "2023-03-12T14:22:14.321Z"
   },
   {
    "duration": 26,
    "start_time": "2023-03-12T14:22:14.329Z"
   },
   {
    "duration": 71,
    "start_time": "2023-03-12T14:22:14.357Z"
   },
   {
    "duration": 60,
    "start_time": "2023-03-12T14:22:14.430Z"
   },
   {
    "duration": 3,
    "start_time": "2023-03-12T14:22:14.491Z"
   },
   {
    "duration": 4,
    "start_time": "2023-03-12T14:22:14.495Z"
   },
   {
    "duration": 54,
    "start_time": "2023-03-12T14:22:14.501Z"
   },
   {
    "duration": 18,
    "start_time": "2023-03-12T14:22:14.557Z"
   },
   {
    "duration": 1332,
    "start_time": "2023-03-12T14:22:16.110Z"
   },
   {
    "duration": 370,
    "start_time": "2023-03-12T14:22:17.444Z"
   },
   {
    "duration": 40,
    "start_time": "2023-03-12T14:22:17.816Z"
   },
   {
    "duration": 17,
    "start_time": "2023-03-12T14:22:17.858Z"
   },
   {
    "duration": 19,
    "start_time": "2023-03-12T14:22:17.876Z"
   },
   {
    "duration": 85,
    "start_time": "2023-03-12T14:22:17.896Z"
   },
   {
    "duration": 1843,
    "start_time": "2023-03-12T14:22:17.983Z"
   },
   {
    "duration": 1748,
    "start_time": "2023-03-12T14:22:19.827Z"
   },
   {
    "duration": 108,
    "start_time": "2023-03-12T14:22:21.576Z"
   },
   {
    "duration": 56,
    "start_time": "2023-03-12T14:22:21.686Z"
   },
   {
    "duration": 62,
    "start_time": "2023-03-12T14:22:21.743Z"
   },
   {
    "duration": 60,
    "start_time": "2023-03-12T14:22:21.806Z"
   },
   {
    "duration": 20,
    "start_time": "2023-03-12T14:22:21.867Z"
   },
   {
    "duration": 131,
    "start_time": "2023-03-12T14:22:21.889Z"
   },
   {
    "duration": 8,
    "start_time": "2023-03-12T14:22:22.022Z"
   },
   {
    "duration": 26,
    "start_time": "2023-03-12T14:22:22.031Z"
   },
   {
    "duration": 13,
    "start_time": "2023-03-12T14:22:22.058Z"
   },
   {
    "duration": 31,
    "start_time": "2023-03-12T14:22:22.072Z"
   },
   {
    "duration": 17,
    "start_time": "2023-03-12T14:22:22.105Z"
   },
   {
    "duration": 11,
    "start_time": "2023-03-12T14:22:22.124Z"
   },
   {
    "duration": 35,
    "start_time": "2023-03-12T14:22:22.137Z"
   },
   {
    "duration": 4,
    "start_time": "2023-03-12T14:22:22.174Z"
   },
   {
    "duration": 578,
    "start_time": "2023-03-12T14:22:22.179Z"
   },
   {
    "duration": 15,
    "start_time": "2023-03-12T14:22:22.759Z"
   },
   {
    "duration": 3,
    "start_time": "2023-03-12T14:22:22.775Z"
   },
   {
    "duration": 108,
    "start_time": "2023-03-12T14:22:22.779Z"
   },
   {
    "duration": 3,
    "start_time": "2023-03-12T14:22:22.888Z"
   },
   {
    "duration": 184,
    "start_time": "2023-03-12T14:22:22.895Z"
   },
   {
    "duration": 94,
    "start_time": "2023-03-12T14:22:23.080Z"
   },
   {
    "duration": 4,
    "start_time": "2023-03-12T14:22:23.175Z"
   },
   {
    "duration": 12,
    "start_time": "2023-03-12T14:22:23.180Z"
   },
   {
    "duration": 16,
    "start_time": "2023-03-12T14:22:23.193Z"
   },
   {
    "duration": 19,
    "start_time": "2023-03-12T14:22:23.211Z"
   },
   {
    "duration": 88,
    "start_time": "2023-03-12T14:22:23.231Z"
   },
   {
    "duration": 41,
    "start_time": "2023-03-12T14:22:23.321Z"
   },
   {
    "duration": 4,
    "start_time": "2023-03-12T14:22:23.363Z"
   },
   {
    "duration": 3,
    "start_time": "2023-03-12T14:22:23.369Z"
   },
   {
    "duration": 32,
    "start_time": "2023-03-12T14:22:23.373Z"
   },
   {
    "duration": 20,
    "start_time": "2023-03-12T14:22:23.406Z"
   },
   {
    "duration": 354,
    "start_time": "2023-03-12T14:22:23.428Z"
   },
   {
    "duration": 3,
    "start_time": "2023-03-12T14:22:23.783Z"
   },
   {
    "duration": 41988,
    "start_time": "2023-03-12T14:22:23.788Z"
   },
   {
    "duration": 107,
    "start_time": "2023-03-12T14:23:05.855Z"
   },
   {
    "duration": 21378,
    "start_time": "2023-03-12T14:23:05.964Z"
   },
   {
    "duration": 11766,
    "start_time": "2023-03-12T14:23:27.354Z"
   },
   {
    "duration": 2881,
    "start_time": "2023-03-12T14:23:39.121Z"
   },
   {
    "duration": 58,
    "start_time": "2023-03-12T14:23:42.004Z"
   },
   {
    "duration": 772,
    "start_time": "2023-03-12T14:23:42.063Z"
   },
   {
    "duration": 15257,
    "start_time": "2023-03-12T14:23:42.837Z"
   },
   {
    "duration": 599,
    "start_time": "2023-03-12T14:23:58.095Z"
   },
   {
    "duration": 66,
    "start_time": "2023-03-12T14:23:58.695Z"
   },
   {
    "duration": 371,
    "start_time": "2023-03-12T14:23:58.762Z"
   },
   {
    "duration": 9524,
    "start_time": "2023-03-12T14:23:59.135Z"
   },
   {
    "duration": 532,
    "start_time": "2023-03-12T14:24:08.661Z"
   },
   {
    "duration": 83,
    "start_time": "2023-03-12T14:24:09.195Z"
   },
   {
    "duration": 8,
    "start_time": "2023-03-12T14:24:09.279Z"
   },
   {
    "duration": 505,
    "start_time": "2023-03-12T14:24:09.288Z"
   },
   {
    "duration": 122,
    "start_time": "2023-03-12T14:24:09.794Z"
   },
   {
    "duration": 8943,
    "start_time": "2023-03-12T14:24:09.917Z"
   },
   {
    "duration": 652,
    "start_time": "2023-03-12T14:24:18.862Z"
   },
   {
    "duration": 456,
    "start_time": "2023-03-12T14:24:19.516Z"
   },
   {
    "duration": 2,
    "start_time": "2023-03-12T14:24:19.973Z"
   },
   {
    "duration": 5,
    "start_time": "2023-03-12T14:24:19.977Z"
   },
   {
    "duration": 15,
    "start_time": "2023-03-12T14:24:19.983Z"
   },
   {
    "duration": 784,
    "start_time": "2023-03-12T14:24:20.000Z"
   },
   {
    "duration": 4,
    "start_time": "2023-03-12T14:24:20.786Z"
   },
   {
    "duration": 519,
    "start_time": "2023-03-12T14:24:20.791Z"
   },
   {
    "duration": 1301,
    "start_time": "2023-03-12T14:24:47.278Z"
   },
   {
    "duration": 376,
    "start_time": "2023-03-12T14:24:48.581Z"
   },
   {
    "duration": 20,
    "start_time": "2023-03-12T14:24:48.958Z"
   },
   {
    "duration": 15,
    "start_time": "2023-03-12T14:24:48.980Z"
   },
   {
    "duration": 18,
    "start_time": "2023-03-12T14:24:48.996Z"
   },
   {
    "duration": 94,
    "start_time": "2023-03-12T14:24:49.016Z"
   },
   {
    "duration": 1858,
    "start_time": "2023-03-12T14:24:49.111Z"
   },
   {
    "duration": 1806,
    "start_time": "2023-03-12T14:24:50.971Z"
   },
   {
    "duration": 103,
    "start_time": "2023-03-12T14:24:52.779Z"
   },
   {
    "duration": 81,
    "start_time": "2023-03-12T14:24:52.885Z"
   },
   {
    "duration": 54,
    "start_time": "2023-03-12T14:24:52.968Z"
   },
   {
    "duration": 61,
    "start_time": "2023-03-12T14:24:53.023Z"
   },
   {
    "duration": 22,
    "start_time": "2023-03-12T14:24:53.085Z"
   },
   {
    "duration": 142,
    "start_time": "2023-03-12T14:24:53.109Z"
   },
   {
    "duration": 6,
    "start_time": "2023-03-12T14:24:53.255Z"
   },
   {
    "duration": 6,
    "start_time": "2023-03-12T14:24:53.263Z"
   },
   {
    "duration": 7,
    "start_time": "2023-03-12T14:24:53.271Z"
   },
   {
    "duration": 27,
    "start_time": "2023-03-12T14:24:53.279Z"
   },
   {
    "duration": 51,
    "start_time": "2023-03-12T14:24:53.308Z"
   },
   {
    "duration": 12,
    "start_time": "2023-03-12T14:24:53.360Z"
   },
   {
    "duration": 26,
    "start_time": "2023-03-12T14:24:53.373Z"
   },
   {
    "duration": 3,
    "start_time": "2023-03-12T14:24:53.401Z"
   },
   {
    "duration": 599,
    "start_time": "2023-03-12T14:24:53.405Z"
   },
   {
    "duration": 20,
    "start_time": "2023-03-12T14:24:54.006Z"
   },
   {
    "duration": 2,
    "start_time": "2023-03-12T14:24:54.028Z"
   },
   {
    "duration": 112,
    "start_time": "2023-03-12T14:24:54.031Z"
   },
   {
    "duration": 11,
    "start_time": "2023-03-12T14:24:54.144Z"
   },
   {
    "duration": 193,
    "start_time": "2023-03-12T14:24:54.158Z"
   },
   {
    "duration": 101,
    "start_time": "2023-03-12T14:24:54.354Z"
   },
   {
    "duration": 4,
    "start_time": "2023-03-12T14:24:54.457Z"
   },
   {
    "duration": 10,
    "start_time": "2023-03-12T14:24:54.462Z"
   },
   {
    "duration": 9,
    "start_time": "2023-03-12T14:24:54.474Z"
   },
   {
    "duration": 4,
    "start_time": "2023-03-12T14:24:54.485Z"
   },
   {
    "duration": 129,
    "start_time": "2023-03-12T14:24:54.491Z"
   },
   {
    "duration": 52,
    "start_time": "2023-03-12T14:24:54.622Z"
   },
   {
    "duration": 4,
    "start_time": "2023-03-12T14:24:54.675Z"
   },
   {
    "duration": 5,
    "start_time": "2023-03-12T14:24:54.681Z"
   },
   {
    "duration": 42,
    "start_time": "2023-03-12T14:24:54.687Z"
   },
   {
    "duration": 30,
    "start_time": "2023-03-12T14:24:54.731Z"
   },
   {
    "duration": 344,
    "start_time": "2023-03-12T14:24:54.763Z"
   },
   {
    "duration": 4,
    "start_time": "2023-03-12T14:24:55.108Z"
   },
   {
    "duration": 40979,
    "start_time": "2023-03-12T14:24:55.113Z"
   },
   {
    "duration": 216,
    "start_time": "2023-03-12T14:25:36.158Z"
   },
   {
    "duration": 0,
    "start_time": "2023-03-12T14:25:36.375Z"
   },
   {
    "duration": 0,
    "start_time": "2023-03-12T14:25:36.377Z"
   },
   {
    "duration": 0,
    "start_time": "2023-03-12T14:25:36.378Z"
   },
   {
    "duration": 0,
    "start_time": "2023-03-12T14:25:36.379Z"
   },
   {
    "duration": 0,
    "start_time": "2023-03-12T14:25:36.380Z"
   },
   {
    "duration": 0,
    "start_time": "2023-03-12T14:25:36.381Z"
   },
   {
    "duration": 0,
    "start_time": "2023-03-12T14:25:36.382Z"
   },
   {
    "duration": 0,
    "start_time": "2023-03-12T14:25:36.383Z"
   },
   {
    "duration": 0,
    "start_time": "2023-03-12T14:25:36.383Z"
   },
   {
    "duration": 0,
    "start_time": "2023-03-12T14:25:36.385Z"
   },
   {
    "duration": 0,
    "start_time": "2023-03-12T14:25:36.386Z"
   },
   {
    "duration": 0,
    "start_time": "2023-03-12T14:25:36.387Z"
   },
   {
    "duration": 0,
    "start_time": "2023-03-12T14:25:36.388Z"
   },
   {
    "duration": 0,
    "start_time": "2023-03-12T14:25:36.389Z"
   },
   {
    "duration": 0,
    "start_time": "2023-03-12T14:25:36.390Z"
   },
   {
    "duration": 0,
    "start_time": "2023-03-12T14:25:36.390Z"
   },
   {
    "duration": 0,
    "start_time": "2023-03-12T14:25:36.391Z"
   },
   {
    "duration": 0,
    "start_time": "2023-03-12T14:25:36.393Z"
   },
   {
    "duration": 0,
    "start_time": "2023-03-12T14:25:36.394Z"
   },
   {
    "duration": 0,
    "start_time": "2023-03-12T14:25:36.395Z"
   },
   {
    "duration": 0,
    "start_time": "2023-03-12T14:25:36.396Z"
   },
   {
    "duration": 0,
    "start_time": "2023-03-12T14:25:36.398Z"
   },
   {
    "duration": 0,
    "start_time": "2023-03-12T14:25:36.398Z"
   },
   {
    "duration": 0,
    "start_time": "2023-03-12T14:25:36.400Z"
   },
   {
    "duration": 40014,
    "start_time": "2023-03-12T14:36:22.970Z"
   },
   {
    "duration": 77,
    "start_time": "2023-03-12T14:37:02.986Z"
   },
   {
    "duration": 9,
    "start_time": "2023-03-12T14:37:08.748Z"
   },
   {
    "duration": 40480,
    "start_time": "2023-03-12T14:37:58.979Z"
   },
   {
    "duration": 97,
    "start_time": "2023-03-12T14:38:39.461Z"
   },
   {
    "duration": 32680,
    "start_time": "2023-03-12T14:39:05.761Z"
   },
   {
    "duration": 33816,
    "start_time": "2023-03-12T15:35:20.625Z"
   },
   {
    "duration": 9,
    "start_time": "2023-03-12T15:37:32.115Z"
   },
   {
    "duration": 1367,
    "start_time": "2023-03-12T15:38:44.378Z"
   },
   {
    "duration": 388,
    "start_time": "2023-03-12T15:38:45.747Z"
   },
   {
    "duration": 32,
    "start_time": "2023-03-12T15:38:46.138Z"
   },
   {
    "duration": 16,
    "start_time": "2023-03-12T15:38:46.172Z"
   },
   {
    "duration": 21,
    "start_time": "2023-03-12T15:38:46.189Z"
   },
   {
    "duration": 86,
    "start_time": "2023-03-12T15:38:46.211Z"
   },
   {
    "duration": 1916,
    "start_time": "2023-03-12T15:38:46.298Z"
   },
   {
    "duration": 1792,
    "start_time": "2023-03-12T15:38:48.215Z"
   },
   {
    "duration": 99,
    "start_time": "2023-03-12T15:38:50.008Z"
   },
   {
    "duration": 75,
    "start_time": "2023-03-12T15:38:50.110Z"
   },
   {
    "duration": 48,
    "start_time": "2023-03-12T15:38:50.187Z"
   },
   {
    "duration": 58,
    "start_time": "2023-03-12T15:38:50.237Z"
   },
   {
    "duration": 21,
    "start_time": "2023-03-12T15:38:50.297Z"
   },
   {
    "duration": 137,
    "start_time": "2023-03-12T15:38:50.320Z"
   },
   {
    "duration": 6,
    "start_time": "2023-03-12T15:38:50.458Z"
   },
   {
    "duration": 10,
    "start_time": "2023-03-12T15:38:50.466Z"
   },
   {
    "duration": 16,
    "start_time": "2023-03-12T15:38:50.477Z"
   },
   {
    "duration": 18,
    "start_time": "2023-03-12T15:38:50.495Z"
   },
   {
    "duration": 10,
    "start_time": "2023-03-12T15:38:50.515Z"
   },
   {
    "duration": 37,
    "start_time": "2023-03-12T15:38:50.526Z"
   },
   {
    "duration": 17,
    "start_time": "2023-03-12T15:38:50.565Z"
   },
   {
    "duration": 3,
    "start_time": "2023-03-12T15:38:50.584Z"
   },
   {
    "duration": 601,
    "start_time": "2023-03-12T15:38:50.589Z"
   },
   {
    "duration": 16,
    "start_time": "2023-03-12T15:38:51.192Z"
   },
   {
    "duration": 3,
    "start_time": "2023-03-12T15:38:51.210Z"
   },
   {
    "duration": 161,
    "start_time": "2023-03-12T15:38:51.214Z"
   },
   {
    "duration": 2,
    "start_time": "2023-03-12T15:38:51.377Z"
   },
   {
    "duration": 288,
    "start_time": "2023-03-12T15:38:51.382Z"
   },
   {
    "duration": 137,
    "start_time": "2023-03-12T15:38:51.671Z"
   },
   {
    "duration": 3,
    "start_time": "2023-03-12T15:38:51.810Z"
   },
   {
    "duration": 14,
    "start_time": "2023-03-12T15:38:51.815Z"
   },
   {
    "duration": 25,
    "start_time": "2023-03-12T15:38:51.830Z"
   },
   {
    "duration": 18,
    "start_time": "2023-03-12T15:38:51.856Z"
   },
   {
    "duration": 114,
    "start_time": "2023-03-12T15:38:51.875Z"
   },
   {
    "duration": 40,
    "start_time": "2023-03-12T15:38:51.991Z"
   },
   {
    "duration": 4,
    "start_time": "2023-03-12T15:38:52.032Z"
   },
   {
    "duration": 19,
    "start_time": "2023-03-12T15:38:52.037Z"
   },
   {
    "duration": 38,
    "start_time": "2023-03-12T15:38:52.057Z"
   },
   {
    "duration": 28,
    "start_time": "2023-03-12T15:38:52.097Z"
   },
   {
    "duration": 339,
    "start_time": "2023-03-12T15:38:52.126Z"
   },
   {
    "duration": 3,
    "start_time": "2023-03-12T15:38:52.467Z"
   },
   {
    "duration": 40103,
    "start_time": "2023-03-12T15:38:52.472Z"
   },
   {
    "duration": 81,
    "start_time": "2023-03-12T15:39:32.576Z"
   },
   {
    "duration": 32075,
    "start_time": "2023-03-12T15:39:32.659Z"
   },
   {
    "duration": 11815,
    "start_time": "2023-03-12T15:40:04.736Z"
   },
   {
    "duration": 3015,
    "start_time": "2023-03-12T15:40:16.555Z"
   },
   {
    "duration": 51,
    "start_time": "2023-03-12T15:40:19.571Z"
   },
   {
    "duration": 808,
    "start_time": "2023-03-12T15:40:19.624Z"
   },
   {
    "duration": 15107,
    "start_time": "2023-03-12T15:40:20.435Z"
   },
   {
    "duration": 595,
    "start_time": "2023-03-12T15:40:35.544Z"
   },
   {
    "duration": 64,
    "start_time": "2023-03-12T15:40:36.141Z"
   },
   {
    "duration": 359,
    "start_time": "2023-03-12T15:40:36.206Z"
   },
   {
    "duration": 8922,
    "start_time": "2023-03-12T15:40:36.566Z"
   },
   {
    "duration": 549,
    "start_time": "2023-03-12T15:40:45.558Z"
   },
   {
    "duration": 82,
    "start_time": "2023-03-12T15:40:46.108Z"
   },
   {
    "duration": 9,
    "start_time": "2023-03-12T15:40:46.191Z"
   },
   {
    "duration": 569,
    "start_time": "2023-03-12T15:40:46.201Z"
   },
   {
    "duration": 156,
    "start_time": "2023-03-12T15:40:46.771Z"
   },
   {
    "duration": 8339,
    "start_time": "2023-03-12T15:40:46.929Z"
   },
   {
    "duration": 668,
    "start_time": "2023-03-12T15:40:55.270Z"
   },
   {
    "duration": 486,
    "start_time": "2023-03-12T15:40:55.941Z"
   },
   {
    "duration": 3,
    "start_time": "2023-03-12T15:40:56.429Z"
   },
   {
    "duration": 22,
    "start_time": "2023-03-12T15:40:56.433Z"
   },
   {
    "duration": 15,
    "start_time": "2023-03-12T15:40:56.457Z"
   },
   {
    "duration": 923,
    "start_time": "2023-03-12T15:40:56.474Z"
   },
   {
    "duration": 4,
    "start_time": "2023-03-12T15:40:57.399Z"
   },
   {
    "duration": 535,
    "start_time": "2023-03-12T15:40:57.405Z"
   },
   {
    "duration": 2013,
    "start_time": "2023-03-13T15:36:53.155Z"
   },
   {
    "duration": 628,
    "start_time": "2023-03-13T15:36:55.170Z"
   },
   {
    "duration": 33,
    "start_time": "2023-03-13T15:36:55.799Z"
   },
   {
    "duration": 47,
    "start_time": "2023-03-13T15:36:55.845Z"
   },
   {
    "duration": 36,
    "start_time": "2023-03-13T15:36:55.894Z"
   },
   {
    "duration": 136,
    "start_time": "2023-03-13T15:36:55.932Z"
   },
   {
    "duration": 3042,
    "start_time": "2023-03-13T15:36:56.074Z"
   },
   {
    "duration": 3038,
    "start_time": "2023-03-13T15:36:59.118Z"
   },
   {
    "duration": 194,
    "start_time": "2023-03-13T15:37:02.158Z"
   },
   {
    "duration": 100,
    "start_time": "2023-03-13T15:37:02.376Z"
   },
   {
    "duration": 82,
    "start_time": "2023-03-13T15:37:02.478Z"
   },
   {
    "duration": 98,
    "start_time": "2023-03-13T15:37:02.562Z"
   },
   {
    "duration": 37,
    "start_time": "2023-03-13T15:37:02.664Z"
   },
   {
    "duration": 180,
    "start_time": "2023-03-13T15:37:02.708Z"
   },
   {
    "duration": 13,
    "start_time": "2023-03-13T15:37:02.892Z"
   },
   {
    "duration": 14,
    "start_time": "2023-03-13T15:37:02.906Z"
   },
   {
    "duration": 20,
    "start_time": "2023-03-13T15:37:02.925Z"
   },
   {
    "duration": 40,
    "start_time": "2023-03-13T15:37:02.949Z"
   },
   {
    "duration": 19,
    "start_time": "2023-03-13T15:37:02.995Z"
   },
   {
    "duration": 36,
    "start_time": "2023-03-13T15:37:03.020Z"
   },
   {
    "duration": 32,
    "start_time": "2023-03-13T15:37:03.062Z"
   },
   {
    "duration": 13,
    "start_time": "2023-03-13T15:37:03.099Z"
   },
   {
    "duration": 915,
    "start_time": "2023-03-13T15:37:03.117Z"
   },
   {
    "duration": 39,
    "start_time": "2023-03-13T15:37:04.037Z"
   },
   {
    "duration": 5,
    "start_time": "2023-03-13T15:37:04.085Z"
   },
   {
    "duration": 131,
    "start_time": "2023-03-13T15:37:04.091Z"
   },
   {
    "duration": 3,
    "start_time": "2023-03-13T15:37:04.223Z"
   },
   {
    "duration": 256,
    "start_time": "2023-03-13T15:37:04.228Z"
   },
   {
    "duration": 154,
    "start_time": "2023-03-13T15:37:04.485Z"
   },
   {
    "duration": 8,
    "start_time": "2023-03-13T15:37:04.640Z"
   },
   {
    "duration": 14,
    "start_time": "2023-03-13T15:37:04.650Z"
   },
   {
    "duration": 30,
    "start_time": "2023-03-13T15:37:04.670Z"
   },
   {
    "duration": 9,
    "start_time": "2023-03-13T15:37:04.702Z"
   },
   {
    "duration": 204,
    "start_time": "2023-03-13T15:37:04.712Z"
   },
   {
    "duration": 87,
    "start_time": "2023-03-13T15:37:04.933Z"
   },
   {
    "duration": 14,
    "start_time": "2023-03-13T15:37:05.026Z"
   },
   {
    "duration": 22,
    "start_time": "2023-03-13T15:37:05.046Z"
   },
   {
    "duration": 80,
    "start_time": "2023-03-13T15:37:05.074Z"
   },
   {
    "duration": 42,
    "start_time": "2023-03-13T15:37:05.165Z"
   },
   {
    "duration": 466,
    "start_time": "2023-03-13T15:37:05.213Z"
   },
   {
    "duration": 33,
    "start_time": "2023-03-13T15:37:05.699Z"
   },
   {
    "duration": 55753,
    "start_time": "2023-03-13T15:37:05.739Z"
   },
   {
    "duration": 27,
    "start_time": "2023-03-13T15:38:01.505Z"
   },
   {
    "duration": 51122,
    "start_time": "2023-03-13T15:38:01.555Z"
   },
   {
    "duration": 18810,
    "start_time": "2023-03-13T15:38:52.681Z"
   },
   {
    "duration": 4439,
    "start_time": "2023-03-13T15:39:11.496Z"
   },
   {
    "duration": 112,
    "start_time": "2023-03-13T15:39:15.952Z"
   },
   {
    "duration": 1237,
    "start_time": "2023-03-13T15:39:16.074Z"
   },
   {
    "duration": 23942,
    "start_time": "2023-03-13T15:39:17.313Z"
   },
   {
    "duration": 797,
    "start_time": "2023-03-13T15:39:41.259Z"
   },
   {
    "duration": 93,
    "start_time": "2023-03-13T15:39:42.059Z"
   },
   {
    "duration": 542,
    "start_time": "2023-03-13T15:39:42.154Z"
   },
   {
    "duration": 11345,
    "start_time": "2023-03-13T15:39:42.702Z"
   },
   {
    "duration": 817,
    "start_time": "2023-03-13T15:39:54.067Z"
   },
   {
    "duration": 106,
    "start_time": "2023-03-13T15:39:54.890Z"
   },
   {
    "duration": 19,
    "start_time": "2023-03-13T15:39:55.001Z"
   },
   {
    "duration": 795,
    "start_time": "2023-03-13T15:39:55.025Z"
   },
   {
    "duration": 202,
    "start_time": "2023-03-13T15:39:55.826Z"
   },
   {
    "duration": 11644,
    "start_time": "2023-03-13T15:39:56.037Z"
   },
   {
    "duration": 1052,
    "start_time": "2023-03-13T15:40:07.696Z"
   },
   {
    "duration": 917,
    "start_time": "2023-03-13T15:40:08.754Z"
   },
   {
    "duration": 10,
    "start_time": "2023-03-13T15:40:09.678Z"
   },
   {
    "duration": 13,
    "start_time": "2023-03-13T15:40:09.694Z"
   },
   {
    "duration": 26,
    "start_time": "2023-03-13T15:40:09.714Z"
   },
   {
    "duration": 1224,
    "start_time": "2023-03-13T15:40:09.747Z"
   },
   {
    "duration": 11,
    "start_time": "2023-03-13T15:40:10.977Z"
   },
   {
    "duration": 679,
    "start_time": "2023-03-13T15:40:10.993Z"
   },
   {
    "duration": 2703,
    "start_time": "2023-03-13T16:01:58.561Z"
   },
   {
    "duration": 789,
    "start_time": "2023-03-13T16:02:01.267Z"
   },
   {
    "duration": 50,
    "start_time": "2023-03-13T16:02:02.058Z"
   },
   {
    "duration": 58,
    "start_time": "2023-03-13T16:02:02.110Z"
   },
   {
    "duration": 65,
    "start_time": "2023-03-13T16:02:02.171Z"
   },
   {
    "duration": 160,
    "start_time": "2023-03-13T16:02:02.240Z"
   },
   {
    "duration": 3165,
    "start_time": "2023-03-13T16:02:02.410Z"
   },
   {
    "duration": 3590,
    "start_time": "2023-03-13T16:02:05.578Z"
   },
   {
    "duration": 365,
    "start_time": "2023-03-13T16:02:09.171Z"
   },
   {
    "duration": 210,
    "start_time": "2023-03-13T16:02:09.542Z"
   },
   {
    "duration": 106,
    "start_time": "2023-03-13T16:02:09.764Z"
   },
   {
    "duration": 75,
    "start_time": "2023-03-13T16:02:09.877Z"
   },
   {
    "duration": 66,
    "start_time": "2023-03-13T16:02:09.954Z"
   },
   {
    "duration": 371,
    "start_time": "2023-03-13T16:02:10.025Z"
   },
   {
    "duration": 32,
    "start_time": "2023-03-13T16:02:10.408Z"
   },
   {
    "duration": 38,
    "start_time": "2023-03-13T16:02:10.450Z"
   },
   {
    "duration": 37,
    "start_time": "2023-03-13T16:02:10.495Z"
   },
   {
    "duration": 80,
    "start_time": "2023-03-13T16:02:10.540Z"
   },
   {
    "duration": 32,
    "start_time": "2023-03-13T16:02:10.636Z"
   },
   {
    "duration": 53,
    "start_time": "2023-03-13T16:02:10.675Z"
   },
   {
    "duration": 73,
    "start_time": "2023-03-13T16:02:10.735Z"
   },
   {
    "duration": 21,
    "start_time": "2023-03-13T16:02:10.815Z"
   },
   {
    "duration": 1240,
    "start_time": "2023-03-13T16:02:10.844Z"
   },
   {
    "duration": 63,
    "start_time": "2023-03-13T16:02:12.092Z"
   },
   {
    "duration": 37,
    "start_time": "2023-03-13T16:02:12.164Z"
   },
   {
    "duration": 338,
    "start_time": "2023-03-13T16:02:12.214Z"
   },
   {
    "duration": 6,
    "start_time": "2023-03-13T16:02:12.554Z"
   },
   {
    "duration": 404,
    "start_time": "2023-03-13T16:02:12.566Z"
   },
   {
    "duration": 183,
    "start_time": "2023-03-13T16:02:12.979Z"
   },
   {
    "duration": 10,
    "start_time": "2023-03-13T16:02:13.170Z"
   },
   {
    "duration": 24,
    "start_time": "2023-03-13T16:02:13.188Z"
   },
   {
    "duration": 28,
    "start_time": "2023-03-13T16:02:13.224Z"
   },
   {
    "duration": 21,
    "start_time": "2023-03-13T16:02:13.263Z"
   },
   {
    "duration": 160,
    "start_time": "2023-03-13T16:02:13.300Z"
   },
   {
    "duration": 93,
    "start_time": "2023-03-13T16:02:13.467Z"
   },
   {
    "duration": 10,
    "start_time": "2023-03-13T16:02:13.576Z"
   },
   {
    "duration": 10,
    "start_time": "2023-03-13T16:02:13.595Z"
   },
   {
    "duration": 96,
    "start_time": "2023-03-13T16:02:13.612Z"
   },
   {
    "duration": 60,
    "start_time": "2023-03-13T16:02:13.716Z"
   },
   {
    "duration": 561,
    "start_time": "2023-03-13T16:02:13.783Z"
   },
   {
    "duration": 14,
    "start_time": "2023-03-13T16:02:14.350Z"
   },
   {
    "duration": 64211,
    "start_time": "2023-03-13T16:02:14.366Z"
   },
   {
    "duration": 6,
    "start_time": "2023-03-13T16:03:18.586Z"
   },
   {
    "duration": 2609,
    "start_time": "2023-03-13T16:03:41.491Z"
   },
   {
    "duration": 690,
    "start_time": "2023-03-13T16:03:44.102Z"
   },
   {
    "duration": 53,
    "start_time": "2023-03-13T16:03:44.798Z"
   },
   {
    "duration": 40,
    "start_time": "2023-03-13T16:03:44.857Z"
   },
   {
    "duration": 59,
    "start_time": "2023-03-13T16:03:44.905Z"
   },
   {
    "duration": 142,
    "start_time": "2023-03-13T16:03:44.972Z"
   },
   {
    "duration": 3835,
    "start_time": "2023-03-13T16:03:45.121Z"
   },
   {
    "duration": 3642,
    "start_time": "2023-03-13T16:03:48.974Z"
   },
   {
    "duration": 242,
    "start_time": "2023-03-13T16:03:52.622Z"
   },
   {
    "duration": 113,
    "start_time": "2023-03-13T16:03:52.870Z"
   },
   {
    "duration": 159,
    "start_time": "2023-03-13T16:03:52.989Z"
   },
   {
    "duration": 169,
    "start_time": "2023-03-13T16:03:53.163Z"
   },
   {
    "duration": 66,
    "start_time": "2023-03-13T16:03:53.349Z"
   },
   {
    "duration": 221,
    "start_time": "2023-03-13T16:03:53.427Z"
   },
   {
    "duration": 18,
    "start_time": "2023-03-13T16:03:53.654Z"
   },
   {
    "duration": 12,
    "start_time": "2023-03-13T16:03:53.677Z"
   },
   {
    "duration": 16,
    "start_time": "2023-03-13T16:03:53.699Z"
   },
   {
    "duration": 45,
    "start_time": "2023-03-13T16:03:53.717Z"
   },
   {
    "duration": 21,
    "start_time": "2023-03-13T16:03:53.765Z"
   },
   {
    "duration": 28,
    "start_time": "2023-03-13T16:03:53.788Z"
   },
   {
    "duration": 34,
    "start_time": "2023-03-13T16:03:53.822Z"
   },
   {
    "duration": 6,
    "start_time": "2023-03-13T16:03:53.862Z"
   },
   {
    "duration": 869,
    "start_time": "2023-03-13T16:03:53.875Z"
   },
   {
    "duration": 32,
    "start_time": "2023-03-13T16:03:54.749Z"
   },
   {
    "duration": 2,
    "start_time": "2023-03-13T16:03:54.782Z"
   },
   {
    "duration": 201,
    "start_time": "2023-03-13T16:03:54.786Z"
   },
   {
    "duration": 11,
    "start_time": "2023-03-13T16:03:54.988Z"
   },
   {
    "duration": 282,
    "start_time": "2023-03-13T16:03:55.001Z"
   },
   {
    "duration": 236,
    "start_time": "2023-03-13T16:03:55.300Z"
   },
   {
    "duration": 35,
    "start_time": "2023-03-13T16:03:55.538Z"
   },
   {
    "duration": 26,
    "start_time": "2023-03-13T16:03:55.574Z"
   },
   {
    "duration": 14,
    "start_time": "2023-03-13T16:03:55.602Z"
   },
   {
    "duration": 8,
    "start_time": "2023-03-13T16:03:55.618Z"
   },
   {
    "duration": 217,
    "start_time": "2023-03-13T16:03:55.628Z"
   },
   {
    "duration": 69,
    "start_time": "2023-03-13T16:03:55.851Z"
   },
   {
    "duration": 10,
    "start_time": "2023-03-13T16:03:55.928Z"
   },
   {
    "duration": 8,
    "start_time": "2023-03-13T16:03:55.944Z"
   },
   {
    "duration": 46,
    "start_time": "2023-03-13T16:03:55.958Z"
   },
   {
    "duration": 32,
    "start_time": "2023-03-13T16:03:56.010Z"
   },
   {
    "duration": 500,
    "start_time": "2023-03-13T16:03:56.048Z"
   },
   {
    "duration": 9,
    "start_time": "2023-03-13T16:03:56.558Z"
   },
   {
    "duration": 77656,
    "start_time": "2023-03-13T16:03:56.576Z"
   },
   {
    "duration": 34,
    "start_time": "2023-03-13T16:05:14.282Z"
   },
   {
    "duration": 68065,
    "start_time": "2023-03-13T16:05:14.333Z"
   },
   {
    "duration": 25320,
    "start_time": "2023-03-13T16:06:22.404Z"
   },
   {
    "duration": 35882,
    "start_time": "2023-03-13T16:06:47.726Z"
   },
   {
    "duration": 14,
    "start_time": "2023-03-13T16:07:23.610Z"
   },
   {
    "duration": 5321,
    "start_time": "2023-03-13T16:07:23.627Z"
   },
   {
    "duration": 111,
    "start_time": "2023-03-13T16:07:28.961Z"
   },
   {
    "duration": 1734,
    "start_time": "2023-03-13T16:07:29.074Z"
   },
   {
    "duration": 27001,
    "start_time": "2023-03-13T16:07:30.810Z"
   },
   {
    "duration": 1087,
    "start_time": "2023-03-13T16:07:57.819Z"
   },
   {
    "duration": 100,
    "start_time": "2023-03-13T16:07:58.922Z"
   },
   {
    "duration": 850,
    "start_time": "2023-03-13T16:07:59.038Z"
   },
   {
    "duration": 14072,
    "start_time": "2023-03-13T16:07:59.896Z"
   },
   {
    "duration": 1193,
    "start_time": "2023-03-13T16:08:14.004Z"
   },
   {
    "duration": 128,
    "start_time": "2023-03-13T16:08:15.204Z"
   },
   {
    "duration": 25,
    "start_time": "2023-03-13T16:08:15.339Z"
   },
   {
    "duration": 1093,
    "start_time": "2023-03-13T16:08:15.371Z"
   },
   {
    "duration": 289,
    "start_time": "2023-03-13T16:08:16.475Z"
   },
   {
    "duration": 14075,
    "start_time": "2023-03-13T16:08:16.774Z"
   },
   {
    "duration": 1104,
    "start_time": "2023-03-13T16:08:30.869Z"
   },
   {
    "duration": 825,
    "start_time": "2023-03-13T16:08:31.975Z"
   },
   {
    "duration": 6,
    "start_time": "2023-03-13T16:08:32.804Z"
   },
   {
    "duration": 17,
    "start_time": "2023-03-13T16:08:32.819Z"
   },
   {
    "duration": 39,
    "start_time": "2023-03-13T16:08:32.838Z"
   },
   {
    "duration": 1701,
    "start_time": "2023-03-13T16:08:32.883Z"
   },
   {
    "duration": 10,
    "start_time": "2023-03-13T16:08:34.594Z"
   },
   {
    "duration": 946,
    "start_time": "2023-03-13T16:08:34.613Z"
   },
   {
    "duration": 193,
    "start_time": "2023-03-13T16:17:28.394Z"
   },
   {
    "duration": 5266,
    "start_time": "2023-03-13T16:25:58.754Z"
   },
   {
    "duration": 2202,
    "start_time": "2023-03-13T16:26:04.029Z"
   },
   {
    "duration": 56,
    "start_time": "2023-03-13T16:26:06.240Z"
   },
   {
    "duration": 28,
    "start_time": "2023-03-13T16:26:06.303Z"
   },
   {
    "duration": 67,
    "start_time": "2023-03-13T16:26:06.341Z"
   },
   {
    "duration": 174,
    "start_time": "2023-03-13T16:26:06.419Z"
   },
   {
    "duration": 3533,
    "start_time": "2023-03-13T16:26:06.603Z"
   },
   {
    "duration": 3360,
    "start_time": "2023-03-13T16:26:10.144Z"
   },
   {
    "duration": 186,
    "start_time": "2023-03-13T16:26:13.506Z"
   },
   {
    "duration": 123,
    "start_time": "2023-03-13T16:26:13.700Z"
   },
   {
    "duration": 98,
    "start_time": "2023-03-13T16:26:13.834Z"
   },
   {
    "duration": 129,
    "start_time": "2023-03-13T16:26:13.938Z"
   },
   {
    "duration": 41,
    "start_time": "2023-03-13T16:26:14.084Z"
   },
   {
    "duration": 252,
    "start_time": "2023-03-13T16:26:14.132Z"
   },
   {
    "duration": 18,
    "start_time": "2023-03-13T16:26:14.390Z"
   },
   {
    "duration": 17,
    "start_time": "2023-03-13T16:26:14.413Z"
   },
   {
    "duration": 29,
    "start_time": "2023-03-13T16:26:14.435Z"
   },
   {
    "duration": 49,
    "start_time": "2023-03-13T16:26:14.470Z"
   },
   {
    "duration": 22,
    "start_time": "2023-03-13T16:26:14.526Z"
   },
   {
    "duration": 30,
    "start_time": "2023-03-13T16:26:14.554Z"
   },
   {
    "duration": 34,
    "start_time": "2023-03-13T16:26:14.590Z"
   },
   {
    "duration": 7,
    "start_time": "2023-03-13T16:26:14.633Z"
   },
   {
    "duration": 1006,
    "start_time": "2023-03-13T16:26:14.646Z"
   },
   {
    "duration": 46,
    "start_time": "2023-03-13T16:26:15.659Z"
   },
   {
    "duration": 12,
    "start_time": "2023-03-13T16:26:15.711Z"
   },
   {
    "duration": 177,
    "start_time": "2023-03-13T16:26:15.732Z"
   },
   {
    "duration": 5,
    "start_time": "2023-03-13T16:26:15.919Z"
   },
   {
    "duration": 311,
    "start_time": "2023-03-13T16:26:15.941Z"
   },
   {
    "duration": 155,
    "start_time": "2023-03-13T16:26:16.260Z"
   },
   {
    "duration": 16,
    "start_time": "2023-03-13T16:26:16.424Z"
   },
   {
    "duration": 14,
    "start_time": "2023-03-13T16:26:16.447Z"
   },
   {
    "duration": 17,
    "start_time": "2023-03-13T16:26:16.469Z"
   },
   {
    "duration": 11,
    "start_time": "2023-03-13T16:26:16.494Z"
   },
   {
    "duration": 149,
    "start_time": "2023-03-13T16:26:16.511Z"
   },
   {
    "duration": 89,
    "start_time": "2023-03-13T16:26:16.667Z"
   },
   {
    "duration": 13,
    "start_time": "2023-03-13T16:26:16.763Z"
   },
   {
    "duration": 18,
    "start_time": "2023-03-13T16:26:16.783Z"
   },
   {
    "duration": 73,
    "start_time": "2023-03-13T16:26:16.807Z"
   },
   {
    "duration": 41,
    "start_time": "2023-03-13T16:26:16.887Z"
   },
   {
    "duration": 684,
    "start_time": "2023-03-13T16:26:16.936Z"
   },
   {
    "duration": 21,
    "start_time": "2023-03-13T16:26:17.627Z"
   },
   {
    "duration": 66444,
    "start_time": "2023-03-13T16:26:17.655Z"
   },
   {
    "duration": 13,
    "start_time": "2023-03-13T16:27:24.102Z"
   },
   {
    "duration": 49741,
    "start_time": "2023-03-13T16:27:24.119Z"
   },
   {
    "duration": 21385,
    "start_time": "2023-03-13T16:28:13.881Z"
   },
   {
    "duration": 2367,
    "start_time": "2023-03-13T16:37:39.353Z"
   },
   {
    "duration": 2080,
    "start_time": "2023-03-13T16:37:41.728Z"
   },
   {
    "duration": 47,
    "start_time": "2023-03-13T16:37:43.813Z"
   },
   {
    "duration": 39,
    "start_time": "2023-03-13T16:37:43.865Z"
   },
   {
    "duration": 62,
    "start_time": "2023-03-13T16:37:43.910Z"
   },
   {
    "duration": 135,
    "start_time": "2023-03-13T16:37:43.977Z"
   },
   {
    "duration": 2825,
    "start_time": "2023-03-13T16:37:44.117Z"
   },
   {
    "duration": 2994,
    "start_time": "2023-03-13T16:37:46.952Z"
   },
   {
    "duration": 241,
    "start_time": "2023-03-13T16:37:49.957Z"
   },
   {
    "duration": 108,
    "start_time": "2023-03-13T16:37:50.204Z"
   },
   {
    "duration": 94,
    "start_time": "2023-03-13T16:37:50.318Z"
   },
   {
    "duration": 69,
    "start_time": "2023-03-13T16:37:50.418Z"
   },
   {
    "duration": 36,
    "start_time": "2023-03-13T16:37:50.493Z"
   },
   {
    "duration": 192,
    "start_time": "2023-03-13T16:37:50.536Z"
   },
   {
    "duration": 19,
    "start_time": "2023-03-13T16:37:50.733Z"
   },
   {
    "duration": 25,
    "start_time": "2023-03-13T16:37:50.766Z"
   },
   {
    "duration": 15,
    "start_time": "2023-03-13T16:37:50.800Z"
   },
   {
    "duration": 50,
    "start_time": "2023-03-13T16:37:50.819Z"
   },
   {
    "duration": 37,
    "start_time": "2023-03-13T16:37:50.872Z"
   },
   {
    "duration": 35,
    "start_time": "2023-03-13T16:37:50.911Z"
   },
   {
    "duration": 43,
    "start_time": "2023-03-13T16:37:50.955Z"
   },
   {
    "duration": 10,
    "start_time": "2023-03-13T16:37:51.008Z"
   },
   {
    "duration": 1042,
    "start_time": "2023-03-13T16:37:51.026Z"
   },
   {
    "duration": 58,
    "start_time": "2023-03-13T16:37:52.077Z"
   },
   {
    "duration": 13,
    "start_time": "2023-03-13T16:37:52.144Z"
   },
   {
    "duration": 243,
    "start_time": "2023-03-13T16:37:52.161Z"
   },
   {
    "duration": 18,
    "start_time": "2023-03-13T16:37:52.414Z"
   },
   {
    "duration": 353,
    "start_time": "2023-03-13T16:37:52.445Z"
   },
   {
    "duration": 206,
    "start_time": "2023-03-13T16:37:52.800Z"
   },
   {
    "duration": 15,
    "start_time": "2023-03-13T16:37:53.009Z"
   },
   {
    "duration": 16,
    "start_time": "2023-03-13T16:37:53.028Z"
   },
   {
    "duration": 24,
    "start_time": "2023-03-13T16:37:53.049Z"
   },
   {
    "duration": 16,
    "start_time": "2023-03-13T16:37:53.080Z"
   },
   {
    "duration": 184,
    "start_time": "2023-03-13T16:37:53.112Z"
   },
   {
    "duration": 81,
    "start_time": "2023-03-13T16:37:53.297Z"
   },
   {
    "duration": 5,
    "start_time": "2023-03-13T16:37:53.384Z"
   },
   {
    "duration": 4,
    "start_time": "2023-03-13T16:37:53.396Z"
   },
   {
    "duration": 47,
    "start_time": "2023-03-13T16:37:53.402Z"
   },
   {
    "duration": 24,
    "start_time": "2023-03-13T16:37:53.455Z"
   },
   {
    "duration": 614,
    "start_time": "2023-03-13T16:37:53.485Z"
   },
   {
    "duration": 7,
    "start_time": "2023-03-13T16:37:54.109Z"
   },
   {
    "duration": 60184,
    "start_time": "2023-03-13T16:37:54.122Z"
   },
   {
    "duration": 16,
    "start_time": "2023-03-13T16:38:54.322Z"
   },
   {
    "duration": 48623,
    "start_time": "2023-03-13T16:38:54.348Z"
   },
   {
    "duration": 19067,
    "start_time": "2023-03-13T16:39:42.977Z"
   },
   {
    "duration": 2010,
    "start_time": "2023-03-13T16:42:43.630Z"
   },
   {
    "duration": 706,
    "start_time": "2023-03-13T16:42:45.642Z"
   },
   {
    "duration": 41,
    "start_time": "2023-03-13T16:42:46.353Z"
   },
   {
    "duration": 34,
    "start_time": "2023-03-13T16:42:46.401Z"
   },
   {
    "duration": 45,
    "start_time": "2023-03-13T16:42:46.447Z"
   },
   {
    "duration": 134,
    "start_time": "2023-03-13T16:42:46.498Z"
   },
   {
    "duration": 2664,
    "start_time": "2023-03-13T16:42:46.644Z"
   },
   {
    "duration": 2722,
    "start_time": "2023-03-13T16:42:49.312Z"
   },
   {
    "duration": 148,
    "start_time": "2023-03-13T16:42:52.036Z"
   },
   {
    "duration": 101,
    "start_time": "2023-03-13T16:42:52.196Z"
   },
   {
    "duration": 92,
    "start_time": "2023-03-13T16:42:52.299Z"
   },
   {
    "duration": 104,
    "start_time": "2023-03-13T16:42:52.397Z"
   },
   {
    "duration": 37,
    "start_time": "2023-03-13T16:42:52.504Z"
   },
   {
    "duration": 149,
    "start_time": "2023-03-13T16:42:52.542Z"
   },
   {
    "duration": 9,
    "start_time": "2023-03-13T16:42:52.692Z"
   },
   {
    "duration": 31,
    "start_time": "2023-03-13T16:42:52.703Z"
   },
   {
    "duration": 28,
    "start_time": "2023-03-13T16:42:52.736Z"
   },
   {
    "duration": 46,
    "start_time": "2023-03-13T16:42:52.770Z"
   },
   {
    "duration": 22,
    "start_time": "2023-03-13T16:42:52.822Z"
   },
   {
    "duration": 47,
    "start_time": "2023-03-13T16:42:52.845Z"
   },
   {
    "duration": 47,
    "start_time": "2023-03-13T16:42:52.894Z"
   },
   {
    "duration": 5,
    "start_time": "2023-03-13T16:42:52.943Z"
   },
   {
    "duration": 998,
    "start_time": "2023-03-13T16:42:52.949Z"
   },
   {
    "duration": 45,
    "start_time": "2023-03-13T16:42:53.953Z"
   },
   {
    "duration": 16,
    "start_time": "2023-03-13T16:42:54.002Z"
   },
   {
    "duration": 222,
    "start_time": "2023-03-13T16:42:54.021Z"
   },
   {
    "duration": 3,
    "start_time": "2023-03-13T16:42:54.249Z"
   },
   {
    "duration": 346,
    "start_time": "2023-03-13T16:42:54.256Z"
   },
   {
    "duration": 163,
    "start_time": "2023-03-13T16:42:54.607Z"
   },
   {
    "duration": 8,
    "start_time": "2023-03-13T16:42:54.778Z"
   },
   {
    "duration": 16,
    "start_time": "2023-03-13T16:42:54.795Z"
   },
   {
    "duration": 9,
    "start_time": "2023-03-13T16:42:54.820Z"
   },
   {
    "duration": 19,
    "start_time": "2023-03-13T16:42:54.835Z"
   },
   {
    "duration": 160,
    "start_time": "2023-03-13T16:42:54.868Z"
   },
   {
    "duration": 88,
    "start_time": "2023-03-13T16:42:55.036Z"
   },
   {
    "duration": 11,
    "start_time": "2023-03-13T16:42:55.132Z"
   },
   {
    "duration": 11,
    "start_time": "2023-03-13T16:42:55.153Z"
   },
   {
    "duration": 62,
    "start_time": "2023-03-13T16:42:55.170Z"
   },
   {
    "duration": 54,
    "start_time": "2023-03-13T16:42:55.240Z"
   },
   {
    "duration": 408,
    "start_time": "2023-03-13T16:42:55.306Z"
   },
   {
    "duration": 14,
    "start_time": "2023-03-13T16:42:55.721Z"
   },
   {
    "duration": 1895,
    "start_time": "2023-03-13T16:43:27.864Z"
   },
   {
    "duration": 699,
    "start_time": "2023-03-13T16:43:29.761Z"
   },
   {
    "duration": 30,
    "start_time": "2023-03-13T16:43:30.469Z"
   },
   {
    "duration": 38,
    "start_time": "2023-03-13T16:43:30.501Z"
   },
   {
    "duration": 76,
    "start_time": "2023-03-13T16:43:30.541Z"
   },
   {
    "duration": 132,
    "start_time": "2023-03-13T16:43:30.619Z"
   },
   {
    "duration": 2809,
    "start_time": "2023-03-13T16:43:30.753Z"
   },
   {
    "duration": 2503,
    "start_time": "2023-03-13T16:43:33.573Z"
   },
   {
    "duration": 201,
    "start_time": "2023-03-13T16:43:36.083Z"
   },
   {
    "duration": 125,
    "start_time": "2023-03-13T16:43:36.287Z"
   },
   {
    "duration": 104,
    "start_time": "2023-03-13T16:43:36.414Z"
   },
   {
    "duration": 88,
    "start_time": "2023-03-13T16:43:36.526Z"
   },
   {
    "duration": 45,
    "start_time": "2023-03-13T16:43:36.623Z"
   },
   {
    "duration": 222,
    "start_time": "2023-03-13T16:43:36.675Z"
   },
   {
    "duration": 18,
    "start_time": "2023-03-13T16:43:36.899Z"
   },
   {
    "duration": 15,
    "start_time": "2023-03-13T16:43:36.918Z"
   },
   {
    "duration": 8,
    "start_time": "2023-03-13T16:43:36.935Z"
   },
   {
    "duration": 104,
    "start_time": "2023-03-13T16:43:36.944Z"
   },
   {
    "duration": 23,
    "start_time": "2023-03-13T16:43:37.049Z"
   },
   {
    "duration": 32,
    "start_time": "2023-03-13T16:43:37.076Z"
   },
   {
    "duration": 53,
    "start_time": "2023-03-13T16:43:37.109Z"
   },
   {
    "duration": 13,
    "start_time": "2023-03-13T16:43:37.163Z"
   },
   {
    "duration": 1024,
    "start_time": "2023-03-13T16:43:37.177Z"
   },
   {
    "duration": 29,
    "start_time": "2023-03-13T16:43:38.219Z"
   },
   {
    "duration": 5,
    "start_time": "2023-03-13T16:43:38.250Z"
   },
   {
    "duration": 185,
    "start_time": "2023-03-13T16:43:38.257Z"
   },
   {
    "duration": 5,
    "start_time": "2023-03-13T16:43:38.444Z"
   },
   {
    "duration": 329,
    "start_time": "2023-03-13T16:43:38.455Z"
   },
   {
    "duration": 186,
    "start_time": "2023-03-13T16:43:38.790Z"
   },
   {
    "duration": 14,
    "start_time": "2023-03-13T16:43:38.982Z"
   },
   {
    "duration": 17,
    "start_time": "2023-03-13T16:43:39.003Z"
   },
   {
    "duration": 17,
    "start_time": "2023-03-13T16:43:39.027Z"
   },
   {
    "duration": 9,
    "start_time": "2023-03-13T16:43:39.051Z"
   },
   {
    "duration": 153,
    "start_time": "2023-03-13T16:43:39.067Z"
   },
   {
    "duration": 68,
    "start_time": "2023-03-13T16:43:39.228Z"
   },
   {
    "duration": 12,
    "start_time": "2023-03-13T16:43:39.303Z"
   },
   {
    "duration": 9,
    "start_time": "2023-03-13T16:43:39.322Z"
   },
   {
    "duration": 45,
    "start_time": "2023-03-13T16:43:39.339Z"
   },
   {
    "duration": 31,
    "start_time": "2023-03-13T16:43:39.392Z"
   },
   {
    "duration": 469,
    "start_time": "2023-03-13T16:43:39.430Z"
   },
   {
    "duration": 8,
    "start_time": "2023-03-13T16:43:39.906Z"
   },
   {
    "duration": 56263,
    "start_time": "2023-03-13T16:43:39.922Z"
   },
   {
    "duration": 11,
    "start_time": "2023-03-13T16:44:36.197Z"
   },
   {
    "duration": 45564,
    "start_time": "2023-03-13T16:44:36.228Z"
   },
   {
    "duration": 18275,
    "start_time": "2023-03-13T16:45:21.809Z"
   },
   {
    "duration": 39423,
    "start_time": "2023-03-13T16:45:40.094Z"
   },
   {
    "duration": 17,
    "start_time": "2023-03-13T16:46:19.523Z"
   },
   {
    "duration": 4364,
    "start_time": "2023-03-13T16:46:19.564Z"
   },
   {
    "duration": 77,
    "start_time": "2023-03-13T16:46:23.930Z"
   },
   {
    "duration": 1199,
    "start_time": "2023-03-13T16:46:24.009Z"
   },
   {
    "duration": 22252,
    "start_time": "2023-03-13T16:46:25.210Z"
   },
   {
    "duration": 830,
    "start_time": "2023-03-13T16:46:47.468Z"
   },
   {
    "duration": 73,
    "start_time": "2023-03-13T16:46:48.304Z"
   },
   {
    "duration": 529,
    "start_time": "2023-03-13T16:46:48.383Z"
   },
   {
    "duration": 12527,
    "start_time": "2023-03-13T16:46:48.918Z"
   },
   {
    "duration": 962,
    "start_time": "2023-03-13T16:47:01.464Z"
   },
   {
    "duration": 121,
    "start_time": "2023-03-13T16:47:02.434Z"
   },
   {
    "duration": 20,
    "start_time": "2023-03-13T16:47:02.560Z"
   },
   {
    "duration": 719,
    "start_time": "2023-03-13T16:47:02.585Z"
   },
   {
    "duration": 202,
    "start_time": "2023-03-13T16:47:03.310Z"
   },
   {
    "duration": 12014,
    "start_time": "2023-03-13T16:47:03.518Z"
   },
   {
    "duration": 760,
    "start_time": "2023-03-13T16:47:15.568Z"
   },
   {
    "duration": 683,
    "start_time": "2023-03-13T16:47:16.333Z"
   },
   {
    "duration": 10,
    "start_time": "2023-03-13T16:47:17.021Z"
   },
   {
    "duration": 14,
    "start_time": "2023-03-13T16:47:17.035Z"
   },
   {
    "duration": 34,
    "start_time": "2023-03-13T16:47:17.054Z"
   },
   {
    "duration": 1225,
    "start_time": "2023-03-13T16:47:17.109Z"
   },
   {
    "duration": 13,
    "start_time": "2023-03-13T16:47:18.339Z"
   },
   {
    "duration": 743,
    "start_time": "2023-03-13T16:47:18.357Z"
   },
   {
    "duration": 40429,
    "start_time": "2023-03-13T16:53:21.936Z"
   },
   {
    "duration": 36,
    "start_time": "2023-03-13T16:54:02.379Z"
   },
   {
    "duration": 354,
    "start_time": "2023-03-13T16:54:12.834Z"
   },
   {
    "duration": 74,
    "start_time": "2023-03-13T16:55:12.062Z"
   },
   {
    "duration": 2251,
    "start_time": "2023-03-13T16:55:34.393Z"
   },
   {
    "duration": 2675,
    "start_time": "2023-03-13T16:56:44.593Z"
   },
   {
    "duration": 815,
    "start_time": "2023-03-13T16:56:47.285Z"
   },
   {
    "duration": 53,
    "start_time": "2023-03-13T16:56:48.107Z"
   },
   {
    "duration": 42,
    "start_time": "2023-03-13T16:56:48.166Z"
   },
   {
    "duration": 55,
    "start_time": "2023-03-13T16:56:48.220Z"
   },
   {
    "duration": 141,
    "start_time": "2023-03-13T16:56:48.281Z"
   },
   {
    "duration": 3070,
    "start_time": "2023-03-13T16:56:48.429Z"
   },
   {
    "duration": 2730,
    "start_time": "2023-03-13T16:56:51.513Z"
   },
   {
    "duration": 227,
    "start_time": "2023-03-13T16:56:54.257Z"
   },
   {
    "duration": 105,
    "start_time": "2023-03-13T16:56:54.490Z"
   },
   {
    "duration": 72,
    "start_time": "2023-03-13T16:56:54.600Z"
   },
   {
    "duration": 66,
    "start_time": "2023-03-13T16:56:54.678Z"
   },
   {
    "duration": 43,
    "start_time": "2023-03-13T16:56:54.745Z"
   },
   {
    "duration": 180,
    "start_time": "2023-03-13T16:56:54.796Z"
   },
   {
    "duration": 15,
    "start_time": "2023-03-13T16:56:54.982Z"
   },
   {
    "duration": 28,
    "start_time": "2023-03-13T16:56:55.004Z"
   },
   {
    "duration": 13,
    "start_time": "2023-03-13T16:56:55.034Z"
   },
   {
    "duration": 87,
    "start_time": "2023-03-13T16:56:55.049Z"
   },
   {
    "duration": 49,
    "start_time": "2023-03-13T16:56:55.146Z"
   },
   {
    "duration": 43,
    "start_time": "2023-03-13T16:56:55.209Z"
   },
   {
    "duration": 72,
    "start_time": "2023-03-13T16:56:55.260Z"
   },
   {
    "duration": 9,
    "start_time": "2023-03-13T16:56:55.340Z"
   },
   {
    "duration": 933,
    "start_time": "2023-03-13T16:56:55.351Z"
   },
   {
    "duration": 31,
    "start_time": "2023-03-13T16:56:56.285Z"
   },
   {
    "duration": 7,
    "start_time": "2023-03-13T16:56:56.317Z"
   },
   {
    "duration": 211,
    "start_time": "2023-03-13T16:56:56.325Z"
   },
   {
    "duration": 11,
    "start_time": "2023-03-13T16:56:56.541Z"
   },
   {
    "duration": 304,
    "start_time": "2023-03-13T16:56:56.556Z"
   },
   {
    "duration": 157,
    "start_time": "2023-03-13T16:56:56.866Z"
   },
   {
    "duration": 11,
    "start_time": "2023-03-13T16:56:57.040Z"
   },
   {
    "duration": 13,
    "start_time": "2023-03-13T16:56:57.059Z"
   },
   {
    "duration": 27,
    "start_time": "2023-03-13T16:56:57.085Z"
   },
   {
    "duration": 22,
    "start_time": "2023-03-13T16:56:57.128Z"
   },
   {
    "duration": 240,
    "start_time": "2023-03-13T16:56:57.156Z"
   },
   {
    "duration": 77,
    "start_time": "2023-03-13T16:56:57.403Z"
   },
   {
    "duration": 31,
    "start_time": "2023-03-13T16:56:57.488Z"
   },
   {
    "duration": 4,
    "start_time": "2023-03-13T16:56:57.521Z"
   },
   {
    "duration": 93,
    "start_time": "2023-03-13T16:56:57.527Z"
   },
   {
    "duration": 40,
    "start_time": "2023-03-13T16:56:57.622Z"
   },
   {
    "duration": 463,
    "start_time": "2023-03-13T16:56:57.677Z"
   },
   {
    "duration": 8,
    "start_time": "2023-03-13T16:56:58.146Z"
   },
   {
    "duration": 62786,
    "start_time": "2023-03-13T16:56:58.164Z"
   },
   {
    "duration": 49,
    "start_time": "2023-03-13T16:58:00.970Z"
   },
   {
    "duration": 49297,
    "start_time": "2023-03-13T16:58:01.025Z"
   },
   {
    "duration": 19,
    "start_time": "2023-03-13T16:58:50.337Z"
   },
   {
    "duration": 42781,
    "start_time": "2023-03-13T16:58:50.365Z"
   },
   {
    "duration": 9,
    "start_time": "2023-03-13T16:59:33.148Z"
   },
   {
    "duration": 359,
    "start_time": "2023-03-13T16:59:33.169Z"
   },
   {
    "duration": 91,
    "start_time": "2023-03-13T16:59:33.537Z"
   },
   {
    "duration": 2261,
    "start_time": "2023-03-13T16:59:33.637Z"
   },
   {
    "duration": 25072,
    "start_time": "2023-03-13T16:59:35.900Z"
   },
   {
    "duration": 978,
    "start_time": "2023-03-13T17:00:00.978Z"
   },
   {
    "duration": 87,
    "start_time": "2023-03-13T17:00:01.966Z"
   },
   {
    "duration": 717,
    "start_time": "2023-03-13T17:00:02.059Z"
   },
   {
    "duration": 13930,
    "start_time": "2023-03-13T17:00:02.778Z"
   },
   {
    "duration": 969,
    "start_time": "2023-03-13T17:00:16.717Z"
   },
   {
    "duration": 185,
    "start_time": "2023-03-13T17:00:17.688Z"
   },
   {
    "duration": 31,
    "start_time": "2023-03-13T17:00:17.889Z"
   },
   {
    "duration": 1057,
    "start_time": "2023-03-13T17:00:17.927Z"
   },
   {
    "duration": 268,
    "start_time": "2023-03-13T17:00:18.994Z"
   },
   {
    "duration": 12508,
    "start_time": "2023-03-13T17:00:19.289Z"
   },
   {
    "duration": 993,
    "start_time": "2023-03-13T17:00:31.815Z"
   },
   {
    "duration": 727,
    "start_time": "2023-03-13T17:00:32.813Z"
   },
   {
    "duration": 15,
    "start_time": "2023-03-13T17:00:33.545Z"
   },
   {
    "duration": 12,
    "start_time": "2023-03-13T17:00:33.568Z"
   },
   {
    "duration": 33,
    "start_time": "2023-03-13T17:00:33.589Z"
   },
   {
    "duration": 1340,
    "start_time": "2023-03-13T17:00:33.632Z"
   },
   {
    "duration": 14,
    "start_time": "2023-03-13T17:00:34.982Z"
   },
   {
    "duration": 864,
    "start_time": "2023-03-13T17:00:35.001Z"
   },
   {
    "duration": 155,
    "start_time": "2023-03-13T17:04:43.225Z"
   },
   {
    "duration": 2652,
    "start_time": "2023-03-13T17:04:55.003Z"
   },
   {
    "duration": 810,
    "start_time": "2023-03-13T17:04:57.662Z"
   },
   {
    "duration": 57,
    "start_time": "2023-03-13T17:04:58.479Z"
   },
   {
    "duration": 53,
    "start_time": "2023-03-13T17:04:58.543Z"
   },
   {
    "duration": 64,
    "start_time": "2023-03-13T17:04:58.606Z"
   },
   {
    "duration": 163,
    "start_time": "2023-03-13T17:04:58.684Z"
   },
   {
    "duration": 3464,
    "start_time": "2023-03-13T17:04:58.854Z"
   },
   {
    "duration": 3680,
    "start_time": "2023-03-13T17:05:02.323Z"
   },
   {
    "duration": 153,
    "start_time": "2023-03-13T17:05:06.011Z"
   },
   {
    "duration": 114,
    "start_time": "2023-03-13T17:05:06.170Z"
   },
   {
    "duration": 87,
    "start_time": "2023-03-13T17:05:06.289Z"
   },
   {
    "duration": 90,
    "start_time": "2023-03-13T17:05:06.382Z"
   },
   {
    "duration": 45,
    "start_time": "2023-03-13T17:05:06.483Z"
   },
   {
    "duration": 223,
    "start_time": "2023-03-13T17:05:06.529Z"
   },
   {
    "duration": 18,
    "start_time": "2023-03-13T17:05:06.764Z"
   },
   {
    "duration": 24,
    "start_time": "2023-03-13T17:05:06.788Z"
   },
   {
    "duration": 21,
    "start_time": "2023-03-13T17:05:06.823Z"
   },
   {
    "duration": 78,
    "start_time": "2023-03-13T17:05:06.854Z"
   },
   {
    "duration": 62,
    "start_time": "2023-03-13T17:05:06.938Z"
   },
   {
    "duration": 26,
    "start_time": "2023-03-13T17:05:07.018Z"
   },
   {
    "duration": 42,
    "start_time": "2023-03-13T17:05:07.050Z"
   },
   {
    "duration": 5,
    "start_time": "2023-03-13T17:05:07.097Z"
   },
   {
    "duration": 928,
    "start_time": "2023-03-13T17:05:07.108Z"
   },
   {
    "duration": 34,
    "start_time": "2023-03-13T17:05:08.042Z"
   },
   {
    "duration": 23,
    "start_time": "2023-03-13T17:05:08.081Z"
   },
   {
    "duration": 178,
    "start_time": "2023-03-13T17:05:08.111Z"
   },
   {
    "duration": 6,
    "start_time": "2023-03-13T17:05:08.297Z"
   },
   {
    "duration": 333,
    "start_time": "2023-03-13T17:05:08.317Z"
   },
   {
    "duration": 208,
    "start_time": "2023-03-13T17:05:08.660Z"
   },
   {
    "duration": 15,
    "start_time": "2023-03-13T17:05:08.885Z"
   },
   {
    "duration": 25,
    "start_time": "2023-03-13T17:05:08.907Z"
   },
   {
    "duration": 24,
    "start_time": "2023-03-13T17:05:08.944Z"
   },
   {
    "duration": 16,
    "start_time": "2023-03-13T17:05:08.976Z"
   },
   {
    "duration": 225,
    "start_time": "2023-03-13T17:05:08.999Z"
   },
   {
    "duration": 122,
    "start_time": "2023-03-13T17:05:09.232Z"
   },
   {
    "duration": 11,
    "start_time": "2023-03-13T17:05:09.369Z"
   },
   {
    "duration": 18,
    "start_time": "2023-03-13T17:05:09.386Z"
   },
   {
    "duration": 89,
    "start_time": "2023-03-13T17:05:09.415Z"
   },
   {
    "duration": 35,
    "start_time": "2023-03-13T17:05:09.510Z"
   },
   {
    "duration": 513,
    "start_time": "2023-03-13T17:05:09.557Z"
   },
   {
    "duration": 6,
    "start_time": "2023-03-13T17:05:10.075Z"
   },
   {
    "duration": 62314,
    "start_time": "2023-03-13T17:05:10.087Z"
   },
   {
    "duration": 34,
    "start_time": "2023-03-13T17:06:12.418Z"
   },
   {
    "duration": 50441,
    "start_time": "2023-03-13T17:06:12.477Z"
   },
   {
    "duration": 8,
    "start_time": "2023-03-13T17:07:02.926Z"
   },
   {
    "duration": 46161,
    "start_time": "2023-03-13T17:07:02.939Z"
   },
   {
    "duration": 18,
    "start_time": "2023-03-13T17:07:49.106Z"
   },
   {
    "duration": 328,
    "start_time": "2023-03-13T17:07:49.132Z"
   },
   {
    "duration": 50,
    "start_time": "2023-03-13T17:07:49.466Z"
   },
   {
    "duration": 2663,
    "start_time": "2023-03-13T17:07:49.522Z"
   },
   {
    "duration": 23602,
    "start_time": "2023-03-13T17:07:52.187Z"
   },
   {
    "duration": 889,
    "start_time": "2023-03-13T17:08:15.791Z"
   },
   {
    "duration": 59,
    "start_time": "2023-03-13T17:08:16.686Z"
   },
   {
    "duration": 536,
    "start_time": "2023-03-13T17:08:16.751Z"
   },
   {
    "duration": 219,
    "start_time": "2023-03-13T17:08:17.289Z"
   },
   {
    "duration": 0,
    "start_time": "2023-03-13T17:08:17.518Z"
   },
   {
    "duration": 0,
    "start_time": "2023-03-13T17:08:17.525Z"
   },
   {
    "duration": 0,
    "start_time": "2023-03-13T17:08:17.536Z"
   },
   {
    "duration": 0,
    "start_time": "2023-03-13T17:08:17.537Z"
   },
   {
    "duration": 0,
    "start_time": "2023-03-13T17:08:17.538Z"
   },
   {
    "duration": 0,
    "start_time": "2023-03-13T17:08:17.539Z"
   },
   {
    "duration": 0,
    "start_time": "2023-03-13T17:08:17.544Z"
   },
   {
    "duration": 0,
    "start_time": "2023-03-13T17:08:17.552Z"
   },
   {
    "duration": 0,
    "start_time": "2023-03-13T17:08:17.553Z"
   },
   {
    "duration": 0,
    "start_time": "2023-03-13T17:08:17.554Z"
   },
   {
    "duration": 0,
    "start_time": "2023-03-13T17:08:17.555Z"
   },
   {
    "duration": 0,
    "start_time": "2023-03-13T17:08:17.564Z"
   },
   {
    "duration": 0,
    "start_time": "2023-03-13T17:08:17.565Z"
   },
   {
    "duration": 0,
    "start_time": "2023-03-13T17:08:17.566Z"
   },
   {
    "duration": 0,
    "start_time": "2023-03-13T17:08:17.566Z"
   },
   {
    "duration": 217,
    "start_time": "2023-03-13T17:13:13.837Z"
   },
   {
    "duration": 4,
    "start_time": "2023-03-13T17:15:10.348Z"
   },
   {
    "duration": 76,
    "start_time": "2023-03-13T17:15:47.052Z"
   },
   {
    "duration": 1914,
    "start_time": "2023-03-13T17:16:05.403Z"
   },
   {
    "duration": 801,
    "start_time": "2023-03-13T17:16:07.319Z"
   },
   {
    "duration": 35,
    "start_time": "2023-03-13T17:16:08.125Z"
   },
   {
    "duration": 27,
    "start_time": "2023-03-13T17:16:08.174Z"
   },
   {
    "duration": 41,
    "start_time": "2023-03-13T17:16:08.211Z"
   },
   {
    "duration": 198,
    "start_time": "2023-03-13T17:16:08.253Z"
   },
   {
    "duration": 2790,
    "start_time": "2023-03-13T17:16:08.456Z"
   },
   {
    "duration": 2415,
    "start_time": "2023-03-13T17:16:11.257Z"
   },
   {
    "duration": 198,
    "start_time": "2023-03-13T17:16:13.676Z"
   },
   {
    "duration": 80,
    "start_time": "2023-03-13T17:16:13.878Z"
   },
   {
    "duration": 85,
    "start_time": "2023-03-13T17:16:13.959Z"
   },
   {
    "duration": 59,
    "start_time": "2023-03-13T17:16:14.047Z"
   },
   {
    "duration": 34,
    "start_time": "2023-03-13T17:16:14.108Z"
   },
   {
    "duration": 184,
    "start_time": "2023-03-13T17:16:14.148Z"
   },
   {
    "duration": 15,
    "start_time": "2023-03-13T17:16:14.337Z"
   },
   {
    "duration": 15,
    "start_time": "2023-03-13T17:16:14.357Z"
   },
   {
    "duration": 15,
    "start_time": "2023-03-13T17:16:14.377Z"
   },
   {
    "duration": 59,
    "start_time": "2023-03-13T17:16:14.397Z"
   },
   {
    "duration": 30,
    "start_time": "2023-03-13T17:16:14.462Z"
   },
   {
    "duration": 26,
    "start_time": "2023-03-13T17:16:14.502Z"
   },
   {
    "duration": 39,
    "start_time": "2023-03-13T17:16:14.533Z"
   },
   {
    "duration": 7,
    "start_time": "2023-03-13T17:16:14.573Z"
   },
   {
    "duration": 896,
    "start_time": "2023-03-13T17:16:14.582Z"
   },
   {
    "duration": 28,
    "start_time": "2023-03-13T17:16:15.480Z"
   },
   {
    "duration": 4,
    "start_time": "2023-03-13T17:16:15.510Z"
   },
   {
    "duration": 187,
    "start_time": "2023-03-13T17:16:15.516Z"
   },
   {
    "duration": 9,
    "start_time": "2023-03-13T17:16:15.705Z"
   },
   {
    "duration": 298,
    "start_time": "2023-03-13T17:16:15.722Z"
   },
   {
    "duration": 158,
    "start_time": "2023-03-13T17:16:16.026Z"
   },
   {
    "duration": 10,
    "start_time": "2023-03-13T17:16:16.190Z"
   },
   {
    "duration": 19,
    "start_time": "2023-03-13T17:16:16.205Z"
   },
   {
    "duration": 20,
    "start_time": "2023-03-13T17:16:16.229Z"
   },
   {
    "duration": 9,
    "start_time": "2023-03-13T17:16:16.251Z"
   },
   {
    "duration": 231,
    "start_time": "2023-03-13T17:16:16.261Z"
   },
   {
    "duration": 75,
    "start_time": "2023-03-13T17:16:16.493Z"
   },
   {
    "duration": 8,
    "start_time": "2023-03-13T17:16:16.569Z"
   },
   {
    "duration": 8,
    "start_time": "2023-03-13T17:16:16.578Z"
   },
   {
    "duration": 65,
    "start_time": "2023-03-13T17:16:16.588Z"
   },
   {
    "duration": 51,
    "start_time": "2023-03-13T17:16:16.665Z"
   },
   {
    "duration": 447,
    "start_time": "2023-03-13T17:16:16.721Z"
   },
   {
    "duration": 7,
    "start_time": "2023-03-13T17:16:17.173Z"
   },
   {
    "duration": 56954,
    "start_time": "2023-03-13T17:16:17.185Z"
   },
   {
    "duration": 33,
    "start_time": "2023-03-13T17:17:14.172Z"
   },
   {
    "duration": 47708,
    "start_time": "2023-03-13T17:17:14.226Z"
   },
   {
    "duration": 24,
    "start_time": "2023-03-13T17:18:01.948Z"
   },
   {
    "duration": 44086,
    "start_time": "2023-03-13T17:18:01.983Z"
   },
   {
    "duration": 31,
    "start_time": "2023-03-13T17:18:46.077Z"
   },
   {
    "duration": 454,
    "start_time": "2023-03-13T17:18:46.135Z"
   },
   {
    "duration": 80,
    "start_time": "2023-03-13T17:18:46.596Z"
   },
   {
    "duration": 2301,
    "start_time": "2023-03-13T17:18:46.683Z"
   },
   {
    "duration": 22861,
    "start_time": "2023-03-13T17:18:48.995Z"
   },
   {
    "duration": 879,
    "start_time": "2023-03-13T17:19:11.869Z"
   },
   {
    "duration": 14,
    "start_time": "2023-03-13T17:19:12.756Z"
   },
   {
    "duration": 954,
    "start_time": "2023-03-13T17:19:12.781Z"
   },
   {
    "duration": 12734,
    "start_time": "2023-03-13T17:19:13.737Z"
   },
   {
    "duration": 820,
    "start_time": "2023-03-13T17:19:26.472Z"
   },
   {
    "duration": 110,
    "start_time": "2023-03-13T17:19:27.297Z"
   },
   {
    "duration": 14,
    "start_time": "2023-03-13T17:19:27.413Z"
   },
   {
    "duration": 742,
    "start_time": "2023-03-13T17:19:27.434Z"
   },
   {
    "duration": 157,
    "start_time": "2023-03-13T17:19:28.181Z"
   },
   {
    "duration": 12043,
    "start_time": "2023-03-13T17:19:28.343Z"
   },
   {
    "duration": 768,
    "start_time": "2023-03-13T17:19:40.392Z"
   },
   {
    "duration": 751,
    "start_time": "2023-03-13T17:19:41.161Z"
   },
   {
    "duration": 31,
    "start_time": "2023-03-13T17:19:41.917Z"
   },
   {
    "duration": 8,
    "start_time": "2023-03-13T17:19:41.950Z"
   },
   {
    "duration": 41,
    "start_time": "2023-03-13T17:19:41.959Z"
   },
   {
    "duration": 1212,
    "start_time": "2023-03-13T17:19:42.004Z"
   },
   {
    "duration": 15,
    "start_time": "2023-03-13T17:19:43.221Z"
   },
   {
    "duration": 718,
    "start_time": "2023-03-13T17:19:43.241Z"
   },
   {
    "duration": 570,
    "start_time": "2023-03-13T17:31:36.118Z"
   },
   {
    "duration": 560,
    "start_time": "2023-03-13T17:33:16.395Z"
   },
   {
    "duration": 287,
    "start_time": "2023-03-13T17:33:18.242Z"
   },
   {
    "duration": 290,
    "start_time": "2023-03-13T17:33:41.806Z"
   },
   {
    "duration": 162,
    "start_time": "2023-03-13T17:34:09.142Z"
   },
   {
    "duration": 9622,
    "start_time": "2023-03-13T17:35:10.746Z"
   },
   {
    "duration": 137,
    "start_time": "2023-03-13T17:35:47.389Z"
   },
   {
    "duration": 305,
    "start_time": "2023-03-13T17:46:03.517Z"
   },
   {
    "duration": 353,
    "start_time": "2023-03-13T17:47:49.513Z"
   },
   {
    "duration": 1551,
    "start_time": "2023-03-13T17:49:04.973Z"
   },
   {
    "duration": 485,
    "start_time": "2023-03-13T17:49:06.526Z"
   },
   {
    "duration": 19,
    "start_time": "2023-03-13T17:49:07.013Z"
   },
   {
    "duration": 18,
    "start_time": "2023-03-13T17:49:07.033Z"
   },
   {
    "duration": 59,
    "start_time": "2023-03-13T17:49:07.052Z"
   },
   {
    "duration": 80,
    "start_time": "2023-03-13T17:49:07.112Z"
   },
   {
    "duration": 2158,
    "start_time": "2023-03-13T17:49:07.193Z"
   },
   {
    "duration": 1987,
    "start_time": "2023-03-13T17:49:09.352Z"
   },
   {
    "duration": 188,
    "start_time": "2023-03-13T17:49:11.341Z"
   },
   {
    "duration": 93,
    "start_time": "2023-03-13T17:49:11.544Z"
   },
   {
    "duration": 93,
    "start_time": "2023-03-13T17:49:11.638Z"
   },
   {
    "duration": 76,
    "start_time": "2023-03-13T17:49:11.733Z"
   },
   {
    "duration": 29,
    "start_time": "2023-03-13T17:49:11.818Z"
   },
   {
    "duration": 140,
    "start_time": "2023-03-13T17:49:11.849Z"
   },
   {
    "duration": 6,
    "start_time": "2023-03-13T17:49:11.992Z"
   },
   {
    "duration": 7,
    "start_time": "2023-03-13T17:49:11.999Z"
   },
   {
    "duration": 18,
    "start_time": "2023-03-13T17:49:12.007Z"
   },
   {
    "duration": 54,
    "start_time": "2023-03-13T17:49:12.027Z"
   },
   {
    "duration": 25,
    "start_time": "2023-03-13T17:49:12.083Z"
   },
   {
    "duration": 14,
    "start_time": "2023-03-13T17:49:12.109Z"
   },
   {
    "duration": 19,
    "start_time": "2023-03-13T17:49:12.125Z"
   },
   {
    "duration": 3,
    "start_time": "2023-03-13T17:49:12.146Z"
   },
   {
    "duration": 685,
    "start_time": "2023-03-13T17:49:12.151Z"
   },
   {
    "duration": 62,
    "start_time": "2023-03-13T17:49:12.838Z"
   },
   {
    "duration": 2,
    "start_time": "2023-03-13T17:49:12.912Z"
   },
   {
    "duration": 128,
    "start_time": "2023-03-13T17:49:12.916Z"
   },
   {
    "duration": 2,
    "start_time": "2023-03-13T17:49:13.046Z"
   },
   {
    "duration": 250,
    "start_time": "2023-03-13T17:49:13.052Z"
   },
   {
    "duration": 123,
    "start_time": "2023-03-13T17:49:13.314Z"
   },
   {
    "duration": 4,
    "start_time": "2023-03-13T17:49:13.438Z"
   },
   {
    "duration": 9,
    "start_time": "2023-03-13T17:49:13.443Z"
   },
   {
    "duration": 25,
    "start_time": "2023-03-13T17:49:13.453Z"
   },
   {
    "duration": 4,
    "start_time": "2023-03-13T17:49:13.484Z"
   },
   {
    "duration": 122,
    "start_time": "2023-03-13T17:49:13.496Z"
   },
   {
    "duration": 89,
    "start_time": "2023-03-13T17:49:13.620Z"
   },
   {
    "duration": 5,
    "start_time": "2023-03-13T17:49:13.716Z"
   },
   {
    "duration": 3,
    "start_time": "2023-03-13T17:49:13.723Z"
   },
   {
    "duration": 60,
    "start_time": "2023-03-13T17:49:13.728Z"
   },
   {
    "duration": 20,
    "start_time": "2023-03-13T17:49:13.804Z"
   },
   {
    "duration": 365,
    "start_time": "2023-03-13T17:49:13.825Z"
   },
   {
    "duration": 11,
    "start_time": "2023-03-13T17:49:14.197Z"
   },
   {
    "duration": 51275,
    "start_time": "2023-03-13T17:49:14.210Z"
   },
   {
    "duration": 3,
    "start_time": "2023-03-13T17:50:05.492Z"
   },
   {
    "duration": 39877,
    "start_time": "2023-03-13T17:50:05.501Z"
   },
   {
    "duration": 11,
    "start_time": "2023-03-13T17:50:45.385Z"
   },
   {
    "duration": 32047,
    "start_time": "2023-03-13T17:50:45.401Z"
   },
   {
    "duration": 13,
    "start_time": "2023-03-13T17:51:17.451Z"
   },
   {
    "duration": 298,
    "start_time": "2023-03-13T17:51:17.470Z"
   },
   {
    "duration": 49,
    "start_time": "2023-03-13T17:51:17.775Z"
   },
   {
    "duration": 1831,
    "start_time": "2023-03-13T17:51:17.831Z"
   },
   {
    "duration": 18761,
    "start_time": "2023-03-13T17:51:19.664Z"
   },
   {
    "duration": 759,
    "start_time": "2023-03-13T17:51:38.429Z"
   },
   {
    "duration": 20,
    "start_time": "2023-03-13T17:51:39.205Z"
   },
   {
    "duration": 769,
    "start_time": "2023-03-13T17:51:39.227Z"
   },
   {
    "duration": 539,
    "start_time": "2023-03-13T17:51:40.005Z"
   },
   {
    "duration": 300,
    "start_time": "2023-03-13T17:51:40.546Z"
   },
   {
    "duration": 140,
    "start_time": "2023-03-13T17:51:40.848Z"
   },
   {
    "duration": 11084,
    "start_time": "2023-03-13T17:51:40.989Z"
   },
   {
    "duration": 407,
    "start_time": "2023-03-13T17:51:52.087Z"
   },
   {
    "duration": 0,
    "start_time": "2023-03-13T17:51:52.508Z"
   },
   {
    "duration": 0,
    "start_time": "2023-03-13T17:51:52.510Z"
   },
   {
    "duration": 0,
    "start_time": "2023-03-13T17:51:52.511Z"
   },
   {
    "duration": 0,
    "start_time": "2023-03-13T17:51:52.513Z"
   },
   {
    "duration": 0,
    "start_time": "2023-03-13T17:51:52.514Z"
   },
   {
    "duration": 0,
    "start_time": "2023-03-13T17:51:52.516Z"
   },
   {
    "duration": 0,
    "start_time": "2023-03-13T17:51:52.517Z"
   },
   {
    "duration": 0,
    "start_time": "2023-03-13T17:51:52.519Z"
   },
   {
    "duration": 25,
    "start_time": "2023-03-13T17:52:19.608Z"
   },
   {
    "duration": 278,
    "start_time": "2023-03-13T17:54:54.805Z"
   },
   {
    "duration": 10,
    "start_time": "2023-03-13T17:54:57.125Z"
   },
   {
    "duration": 442,
    "start_time": "2023-03-13T17:55:46.825Z"
   },
   {
    "duration": 4,
    "start_time": "2023-03-13T17:56:07.884Z"
   },
   {
    "duration": 1830,
    "start_time": "2023-03-13T17:56:31.208Z"
   },
   {
    "duration": 1669,
    "start_time": "2023-03-13T17:57:47.519Z"
   },
   {
    "duration": 527,
    "start_time": "2023-03-13T17:57:49.205Z"
   },
   {
    "duration": 18,
    "start_time": "2023-03-13T17:57:49.733Z"
   },
   {
    "duration": 31,
    "start_time": "2023-03-13T17:57:49.771Z"
   },
   {
    "duration": 27,
    "start_time": "2023-03-13T17:57:49.804Z"
   },
   {
    "duration": 104,
    "start_time": "2023-03-13T17:57:49.833Z"
   },
   {
    "duration": 2148,
    "start_time": "2023-03-13T17:57:49.938Z"
   },
   {
    "duration": 2040,
    "start_time": "2023-03-13T17:57:52.091Z"
   },
   {
    "duration": 201,
    "start_time": "2023-03-13T17:57:54.132Z"
   },
   {
    "duration": 91,
    "start_time": "2023-03-13T17:57:54.336Z"
   },
   {
    "duration": 98,
    "start_time": "2023-03-13T17:57:54.429Z"
   },
   {
    "duration": 95,
    "start_time": "2023-03-13T17:57:54.529Z"
   },
   {
    "duration": 27,
    "start_time": "2023-03-13T17:57:54.627Z"
   },
   {
    "duration": 186,
    "start_time": "2023-03-13T17:57:54.665Z"
   },
   {
    "duration": 44,
    "start_time": "2023-03-13T17:57:54.853Z"
   },
   {
    "duration": 18,
    "start_time": "2023-03-13T17:57:54.904Z"
   },
   {
    "duration": 35,
    "start_time": "2023-03-13T17:57:54.934Z"
   },
   {
    "duration": 58,
    "start_time": "2023-03-13T17:57:54.971Z"
   },
   {
    "duration": 12,
    "start_time": "2023-03-13T17:57:55.031Z"
   },
   {
    "duration": 34,
    "start_time": "2023-03-13T17:57:55.045Z"
   },
   {
    "duration": 38,
    "start_time": "2023-03-13T17:57:55.081Z"
   },
   {
    "duration": 12,
    "start_time": "2023-03-13T17:57:55.121Z"
   },
   {
    "duration": 825,
    "start_time": "2023-03-13T17:57:55.134Z"
   },
   {
    "duration": 17,
    "start_time": "2023-03-13T17:57:55.960Z"
   },
   {
    "duration": 2,
    "start_time": "2023-03-13T17:57:55.979Z"
   },
   {
    "duration": 130,
    "start_time": "2023-03-13T17:57:55.982Z"
   },
   {
    "duration": 3,
    "start_time": "2023-03-13T17:57:56.114Z"
   },
   {
    "duration": 290,
    "start_time": "2023-03-13T17:57:56.118Z"
   },
   {
    "duration": 133,
    "start_time": "2023-03-13T17:57:56.409Z"
   },
   {
    "duration": 4,
    "start_time": "2023-03-13T17:57:56.543Z"
   },
   {
    "duration": 30,
    "start_time": "2023-03-13T17:57:56.549Z"
   },
   {
    "duration": 23,
    "start_time": "2023-03-13T17:57:56.593Z"
   },
   {
    "duration": 10,
    "start_time": "2023-03-13T17:57:56.618Z"
   },
   {
    "duration": 179,
    "start_time": "2023-03-13T17:57:56.629Z"
   },
   {
    "duration": 68,
    "start_time": "2023-03-13T17:57:56.813Z"
   },
   {
    "duration": 9,
    "start_time": "2023-03-13T17:57:56.883Z"
   },
   {
    "duration": 10,
    "start_time": "2023-03-13T17:57:56.894Z"
   },
   {
    "duration": 52,
    "start_time": "2023-03-13T17:57:56.940Z"
   },
   {
    "duration": 45,
    "start_time": "2023-03-13T17:57:56.994Z"
   },
   {
    "duration": 459,
    "start_time": "2023-03-13T17:57:57.041Z"
   },
   {
    "duration": 6,
    "start_time": "2023-03-13T17:57:57.509Z"
   },
   {
    "duration": 48036,
    "start_time": "2023-03-13T17:57:57.524Z"
   },
   {
    "duration": 19,
    "start_time": "2023-03-13T17:58:45.589Z"
   },
   {
    "duration": 39710,
    "start_time": "2023-03-13T17:58:45.616Z"
   },
   {
    "duration": 3,
    "start_time": "2023-03-13T17:59:25.329Z"
   },
   {
    "duration": 32554,
    "start_time": "2023-03-13T17:59:25.334Z"
   },
   {
    "duration": 16,
    "start_time": "2023-03-13T17:59:57.890Z"
   },
   {
    "duration": 356,
    "start_time": "2023-03-13T17:59:57.907Z"
   },
   {
    "duration": 0,
    "start_time": "2023-03-13T17:59:58.264Z"
   },
   {
    "duration": 0,
    "start_time": "2023-03-13T17:59:58.265Z"
   },
   {
    "duration": 0,
    "start_time": "2023-03-13T17:59:58.266Z"
   },
   {
    "duration": 0,
    "start_time": "2023-03-13T17:59:58.267Z"
   },
   {
    "duration": 0,
    "start_time": "2023-03-13T17:59:58.267Z"
   },
   {
    "duration": 0,
    "start_time": "2023-03-13T17:59:58.268Z"
   },
   {
    "duration": 0,
    "start_time": "2023-03-13T17:59:58.269Z"
   },
   {
    "duration": 0,
    "start_time": "2023-03-13T17:59:58.270Z"
   },
   {
    "duration": 0,
    "start_time": "2023-03-13T17:59:58.271Z"
   },
   {
    "duration": 0,
    "start_time": "2023-03-13T17:59:58.276Z"
   },
   {
    "duration": 0,
    "start_time": "2023-03-13T17:59:58.277Z"
   },
   {
    "duration": 0,
    "start_time": "2023-03-13T17:59:58.278Z"
   },
   {
    "duration": 0,
    "start_time": "2023-03-13T17:59:58.278Z"
   },
   {
    "duration": 0,
    "start_time": "2023-03-13T17:59:58.279Z"
   },
   {
    "duration": 0,
    "start_time": "2023-03-13T17:59:58.280Z"
   },
   {
    "duration": 0,
    "start_time": "2023-03-13T17:59:58.281Z"
   },
   {
    "duration": 0,
    "start_time": "2023-03-13T17:59:58.281Z"
   },
   {
    "duration": 0,
    "start_time": "2023-03-13T17:59:58.282Z"
   },
   {
    "duration": 299,
    "start_time": "2023-03-13T18:00:25.917Z"
   },
   {
    "duration": 4,
    "start_time": "2023-03-13T18:00:29.816Z"
   },
   {
    "duration": 1854,
    "start_time": "2023-03-13T18:00:34.784Z"
   },
   {
    "duration": 18455,
    "start_time": "2023-03-13T18:00:58.042Z"
   },
   {
    "duration": 1689,
    "start_time": "2023-03-13T18:05:42.714Z"
   },
   {
    "duration": 493,
    "start_time": "2023-03-13T18:05:44.405Z"
   },
   {
    "duration": 27,
    "start_time": "2023-03-13T18:05:44.899Z"
   },
   {
    "duration": 53,
    "start_time": "2023-03-13T18:05:44.929Z"
   },
   {
    "duration": 33,
    "start_time": "2023-03-13T18:05:44.985Z"
   },
   {
    "duration": 104,
    "start_time": "2023-03-13T18:05:45.020Z"
   },
   {
    "duration": 2287,
    "start_time": "2023-03-13T18:05:45.126Z"
   },
   {
    "duration": 2102,
    "start_time": "2023-03-13T18:05:47.415Z"
   },
   {
    "duration": 129,
    "start_time": "2023-03-13T18:05:49.518Z"
   },
   {
    "duration": 93,
    "start_time": "2023-03-13T18:05:49.649Z"
   },
   {
    "duration": 75,
    "start_time": "2023-03-13T18:05:49.744Z"
   },
   {
    "duration": 68,
    "start_time": "2023-03-13T18:05:49.821Z"
   },
   {
    "duration": 32,
    "start_time": "2023-03-13T18:05:49.890Z"
   },
   {
    "duration": 166,
    "start_time": "2023-03-13T18:05:49.925Z"
   },
   {
    "duration": 15,
    "start_time": "2023-03-13T18:05:50.101Z"
   },
   {
    "duration": 7,
    "start_time": "2023-03-13T18:05:50.118Z"
   },
   {
    "duration": 7,
    "start_time": "2023-03-13T18:05:50.126Z"
   },
   {
    "duration": 19,
    "start_time": "2023-03-13T18:05:50.134Z"
   },
   {
    "duration": 38,
    "start_time": "2023-03-13T18:05:50.154Z"
   },
   {
    "duration": 14,
    "start_time": "2023-03-13T18:05:50.193Z"
   },
   {
    "duration": 19,
    "start_time": "2023-03-13T18:05:50.209Z"
   },
   {
    "duration": 3,
    "start_time": "2023-03-13T18:05:50.229Z"
   },
   {
    "duration": 698,
    "start_time": "2023-03-13T18:05:50.234Z"
   },
   {
    "duration": 16,
    "start_time": "2023-03-13T18:05:50.934Z"
   },
   {
    "duration": 25,
    "start_time": "2023-03-13T18:05:50.951Z"
   },
   {
    "duration": 120,
    "start_time": "2023-03-13T18:05:50.984Z"
   },
   {
    "duration": 2,
    "start_time": "2023-03-13T18:05:51.106Z"
   },
   {
    "duration": 258,
    "start_time": "2023-03-13T18:05:51.110Z"
   },
   {
    "duration": 122,
    "start_time": "2023-03-13T18:05:51.370Z"
   },
   {
    "duration": 4,
    "start_time": "2023-03-13T18:05:51.496Z"
   },
   {
    "duration": 14,
    "start_time": "2023-03-13T18:05:51.506Z"
   },
   {
    "duration": 12,
    "start_time": "2023-03-13T18:05:51.522Z"
   },
   {
    "duration": 10,
    "start_time": "2023-03-13T18:05:51.535Z"
   },
   {
    "duration": 153,
    "start_time": "2023-03-13T18:05:51.546Z"
   },
   {
    "duration": 71,
    "start_time": "2023-03-13T18:05:51.701Z"
   },
   {
    "duration": 19,
    "start_time": "2023-03-13T18:05:51.785Z"
   },
   {
    "duration": 28,
    "start_time": "2023-03-13T18:05:51.806Z"
   },
   {
    "duration": 68,
    "start_time": "2023-03-13T18:05:51.835Z"
   },
   {
    "duration": 23,
    "start_time": "2023-03-13T18:05:51.905Z"
   },
   {
    "duration": 386,
    "start_time": "2023-03-13T18:05:51.930Z"
   },
   {
    "duration": 5,
    "start_time": "2023-03-13T18:05:52.322Z"
   },
   {
    "duration": 51286,
    "start_time": "2023-03-13T18:05:52.328Z"
   },
   {
    "duration": 15,
    "start_time": "2023-03-13T18:06:43.661Z"
   },
   {
    "duration": 40207,
    "start_time": "2023-03-13T18:06:43.677Z"
   },
   {
    "duration": 4,
    "start_time": "2023-03-13T18:07:23.888Z"
   },
   {
    "duration": 30918,
    "start_time": "2023-03-13T18:07:23.894Z"
   },
   {
    "duration": 5,
    "start_time": "2023-03-13T18:07:54.817Z"
   },
   {
    "duration": 326,
    "start_time": "2023-03-13T18:07:54.823Z"
   },
   {
    "duration": 12,
    "start_time": "2023-03-13T18:07:55.151Z"
   },
   {
    "duration": 2035,
    "start_time": "2023-03-13T18:07:55.165Z"
   },
   {
    "duration": 18300,
    "start_time": "2023-03-13T18:07:57.202Z"
   },
   {
    "duration": 721,
    "start_time": "2023-03-13T18:08:15.503Z"
   },
   {
    "duration": 4,
    "start_time": "2023-03-13T18:08:16.225Z"
   },
   {
    "duration": 815,
    "start_time": "2023-03-13T18:08:16.231Z"
   },
   {
    "duration": 643,
    "start_time": "2023-03-13T18:08:17.048Z"
   },
   {
    "duration": 435,
    "start_time": "2023-03-13T18:08:17.696Z"
   },
   {
    "duration": 0,
    "start_time": "2023-03-13T18:08:18.133Z"
   },
   {
    "duration": 0,
    "start_time": "2023-03-13T18:08:18.134Z"
   },
   {
    "duration": 0,
    "start_time": "2023-03-13T18:08:18.135Z"
   },
   {
    "duration": 0,
    "start_time": "2023-03-13T18:08:18.136Z"
   },
   {
    "duration": 0,
    "start_time": "2023-03-13T18:08:18.137Z"
   },
   {
    "duration": 0,
    "start_time": "2023-03-13T18:08:18.138Z"
   },
   {
    "duration": 0,
    "start_time": "2023-03-13T18:08:18.140Z"
   },
   {
    "duration": 1,
    "start_time": "2023-03-13T18:08:18.140Z"
   },
   {
    "duration": 0,
    "start_time": "2023-03-13T18:08:18.160Z"
   },
   {
    "duration": 0,
    "start_time": "2023-03-13T18:08:18.161Z"
   },
   {
    "duration": 331,
    "start_time": "2023-03-13T20:21:56.599Z"
   },
   {
    "duration": 305,
    "start_time": "2023-03-13T20:23:06.519Z"
   },
   {
    "duration": 190,
    "start_time": "2023-03-13T20:24:36.618Z"
   },
   {
    "duration": 132,
    "start_time": "2023-03-13T20:24:51.307Z"
   },
   {
    "duration": 8463,
    "start_time": "2023-03-13T20:27:18.719Z"
   },
   {
    "duration": 9314,
    "start_time": "2023-03-13T20:27:55.089Z"
   },
   {
    "duration": 291,
    "start_time": "2023-03-13T20:34:00.222Z"
   },
   {
    "duration": 285,
    "start_time": "2023-03-13T20:34:19.120Z"
   },
   {
    "duration": 504,
    "start_time": "2023-03-13T20:34:34.573Z"
   },
   {
    "duration": 229,
    "start_time": "2023-03-13T20:47:31.288Z"
   },
   {
    "duration": 359,
    "start_time": "2023-03-13T20:51:31.452Z"
   },
   {
    "duration": 402,
    "start_time": "2023-03-13T20:53:23.515Z"
   },
   {
    "duration": 2,
    "start_time": "2023-03-13T20:57:32.538Z"
   },
   {
    "duration": 5,
    "start_time": "2023-03-13T20:57:34.306Z"
   },
   {
    "duration": 14,
    "start_time": "2023-03-13T20:57:40.520Z"
   },
   {
    "duration": 910,
    "start_time": "2023-03-13T20:57:41.296Z"
   },
   {
    "duration": 13,
    "start_time": "2023-03-13T20:57:45.497Z"
   },
   {
    "duration": 1453,
    "start_time": "2023-03-13T21:02:43.451Z"
   },
   {
    "duration": 436,
    "start_time": "2023-03-13T21:02:44.906Z"
   },
   {
    "duration": 35,
    "start_time": "2023-03-13T21:02:45.343Z"
   },
   {
    "duration": 21,
    "start_time": "2023-03-13T21:02:45.381Z"
   },
   {
    "duration": 22,
    "start_time": "2023-03-13T21:02:45.406Z"
   },
   {
    "duration": 100,
    "start_time": "2023-03-13T21:02:45.429Z"
   },
   {
    "duration": 2115,
    "start_time": "2023-03-13T21:02:45.530Z"
   },
   {
    "duration": 1959,
    "start_time": "2023-03-13T21:02:47.647Z"
   },
   {
    "duration": 114,
    "start_time": "2023-03-13T21:02:49.608Z"
   },
   {
    "duration": 91,
    "start_time": "2023-03-13T21:02:49.725Z"
   },
   {
    "duration": 51,
    "start_time": "2023-03-13T21:02:49.818Z"
   },
   {
    "duration": 46,
    "start_time": "2023-03-13T21:02:49.871Z"
   },
   {
    "duration": 47,
    "start_time": "2023-03-13T21:02:49.919Z"
   },
   {
    "duration": 123,
    "start_time": "2023-03-13T21:02:49.974Z"
   },
   {
    "duration": 7,
    "start_time": "2023-03-13T21:02:50.098Z"
   },
   {
    "duration": 11,
    "start_time": "2023-03-13T21:02:50.107Z"
   },
   {
    "duration": 8,
    "start_time": "2023-03-13T21:02:50.119Z"
   },
   {
    "duration": 65,
    "start_time": "2023-03-13T21:02:50.128Z"
   },
   {
    "duration": 11,
    "start_time": "2023-03-13T21:02:50.195Z"
   },
   {
    "duration": 11,
    "start_time": "2023-03-13T21:02:50.207Z"
   },
   {
    "duration": 19,
    "start_time": "2023-03-13T21:02:50.219Z"
   },
   {
    "duration": 3,
    "start_time": "2023-03-13T21:02:50.239Z"
   },
   {
    "duration": 672,
    "start_time": "2023-03-13T21:02:50.244Z"
   },
   {
    "duration": 15,
    "start_time": "2023-03-13T21:02:50.918Z"
   },
   {
    "duration": 17,
    "start_time": "2023-03-13T21:02:50.934Z"
   },
   {
    "duration": 123,
    "start_time": "2023-03-13T21:02:50.955Z"
   },
   {
    "duration": 2,
    "start_time": "2023-03-13T21:02:51.081Z"
   },
   {
    "duration": 230,
    "start_time": "2023-03-13T21:02:51.089Z"
   },
   {
    "duration": 114,
    "start_time": "2023-03-13T21:02:51.320Z"
   },
   {
    "duration": 3,
    "start_time": "2023-03-13T21:02:51.435Z"
   },
   {
    "duration": 11,
    "start_time": "2023-03-13T21:02:51.439Z"
   },
   {
    "duration": 50,
    "start_time": "2023-03-13T21:02:51.451Z"
   },
   {
    "duration": 4,
    "start_time": "2023-03-13T21:02:51.505Z"
   },
   {
    "duration": 122,
    "start_time": "2023-03-13T21:02:51.510Z"
   },
   {
    "duration": 75,
    "start_time": "2023-03-13T21:02:51.634Z"
   },
   {
    "duration": 5,
    "start_time": "2023-03-13T21:02:51.711Z"
   },
   {
    "duration": 11,
    "start_time": "2023-03-13T21:02:51.718Z"
   },
   {
    "duration": 46,
    "start_time": "2023-03-13T21:02:51.731Z"
   },
   {
    "duration": 25,
    "start_time": "2023-03-13T21:02:51.779Z"
   },
   {
    "duration": 357,
    "start_time": "2023-03-13T21:02:51.807Z"
   },
   {
    "duration": 5,
    "start_time": "2023-03-13T21:02:52.166Z"
   },
   {
    "duration": 50402,
    "start_time": "2023-03-13T21:02:52.172Z"
   },
   {
    "duration": 10,
    "start_time": "2023-03-13T21:03:42.576Z"
   },
   {
    "duration": 41373,
    "start_time": "2023-03-13T21:03:42.588Z"
   },
   {
    "duration": 9,
    "start_time": "2023-03-13T21:04:23.968Z"
   },
   {
    "duration": 31234,
    "start_time": "2023-03-13T21:04:23.981Z"
   },
   {
    "duration": 4,
    "start_time": "2023-03-13T21:04:55.216Z"
   },
   {
    "duration": 291,
    "start_time": "2023-03-13T21:04:55.221Z"
   },
   {
    "duration": 3,
    "start_time": "2023-03-13T21:04:55.513Z"
   },
   {
    "duration": 1668,
    "start_time": "2023-03-13T21:04:55.518Z"
   },
   {
    "duration": 16755,
    "start_time": "2023-03-13T21:04:57.188Z"
   },
   {
    "duration": 655,
    "start_time": "2023-03-13T21:05:13.945Z"
   },
   {
    "duration": 7,
    "start_time": "2023-03-13T21:05:14.602Z"
   },
   {
    "duration": 798,
    "start_time": "2023-03-13T21:05:14.610Z"
   },
   {
    "duration": 540,
    "start_time": "2023-03-13T21:05:15.409Z"
   },
   {
    "duration": 290,
    "start_time": "2023-03-13T21:05:15.950Z"
   },
   {
    "duration": 151,
    "start_time": "2023-03-13T21:05:16.241Z"
   },
   {
    "duration": 10470,
    "start_time": "2023-03-13T21:05:16.397Z"
   },
   {
    "duration": 342,
    "start_time": "2023-03-13T21:05:26.869Z"
   },
   {
    "duration": 386,
    "start_time": "2023-03-13T21:05:27.213Z"
   },
   {
    "duration": 2,
    "start_time": "2023-03-13T21:05:27.601Z"
   },
   {
    "duration": 9,
    "start_time": "2023-03-13T21:05:27.605Z"
   },
   {
    "duration": 16,
    "start_time": "2023-03-13T21:05:27.615Z"
   },
   {
    "duration": 943,
    "start_time": "2023-03-13T21:05:27.633Z"
   },
   {
    "duration": 8,
    "start_time": "2023-03-13T21:05:28.586Z"
   },
   {
    "duration": 480,
    "start_time": "2023-03-13T21:05:28.595Z"
   },
   {
    "duration": 1773,
    "start_time": "2023-03-14T19:23:20.102Z"
   },
   {
    "duration": 579,
    "start_time": "2023-03-14T19:23:21.877Z"
   },
   {
    "duration": 26,
    "start_time": "2023-03-14T19:23:22.458Z"
   },
   {
    "duration": 18,
    "start_time": "2023-03-14T19:23:22.486Z"
   },
   {
    "duration": 25,
    "start_time": "2023-03-14T19:23:22.505Z"
   },
   {
    "duration": 99,
    "start_time": "2023-03-14T19:23:22.532Z"
   },
   {
    "duration": 2299,
    "start_time": "2023-03-14T19:23:22.633Z"
   },
   {
    "duration": 2168,
    "start_time": "2023-03-14T19:23:24.933Z"
   },
   {
    "duration": 111,
    "start_time": "2023-03-14T19:23:27.103Z"
   },
   {
    "duration": 93,
    "start_time": "2023-03-14T19:23:27.216Z"
   },
   {
    "duration": 67,
    "start_time": "2023-03-14T19:23:27.311Z"
   },
   {
    "duration": 46,
    "start_time": "2023-03-14T19:23:27.380Z"
   },
   {
    "duration": 46,
    "start_time": "2023-03-14T19:23:27.428Z"
   },
   {
    "duration": 123,
    "start_time": "2023-03-14T19:23:27.476Z"
   },
   {
    "duration": 7,
    "start_time": "2023-03-14T19:23:27.601Z"
   },
   {
    "duration": 8,
    "start_time": "2023-03-14T19:23:27.609Z"
   },
   {
    "duration": 14,
    "start_time": "2023-03-14T19:23:27.620Z"
   },
   {
    "duration": 44,
    "start_time": "2023-03-14T19:23:27.636Z"
   },
   {
    "duration": 19,
    "start_time": "2023-03-14T19:23:27.682Z"
   },
   {
    "duration": 13,
    "start_time": "2023-03-14T19:23:27.703Z"
   },
   {
    "duration": 24,
    "start_time": "2023-03-14T19:23:27.717Z"
   },
   {
    "duration": 5,
    "start_time": "2023-03-14T19:23:27.764Z"
   },
   {
    "duration": 568,
    "start_time": "2023-03-14T19:23:27.770Z"
   },
   {
    "duration": 26,
    "start_time": "2023-03-14T19:23:28.340Z"
   },
   {
    "duration": 3,
    "start_time": "2023-03-14T19:23:28.367Z"
   },
   {
    "duration": 114,
    "start_time": "2023-03-14T19:23:28.371Z"
   },
   {
    "duration": 3,
    "start_time": "2023-03-14T19:23:28.486Z"
   },
   {
    "duration": 205,
    "start_time": "2023-03-14T19:23:28.493Z"
   },
   {
    "duration": 104,
    "start_time": "2023-03-14T19:23:28.700Z"
   },
   {
    "duration": 4,
    "start_time": "2023-03-14T19:23:28.806Z"
   },
   {
    "duration": 18,
    "start_time": "2023-03-14T19:23:28.812Z"
   },
   {
    "duration": 11,
    "start_time": "2023-03-14T19:23:28.832Z"
   },
   {
    "duration": 21,
    "start_time": "2023-03-14T19:23:28.846Z"
   },
   {
    "duration": 171,
    "start_time": "2023-03-14T19:23:28.869Z"
   },
   {
    "duration": 85,
    "start_time": "2023-03-14T19:23:29.042Z"
   },
   {
    "duration": 4,
    "start_time": "2023-03-14T19:23:29.129Z"
   },
   {
    "duration": 16,
    "start_time": "2023-03-14T19:23:29.135Z"
   },
   {
    "duration": 50,
    "start_time": "2023-03-14T19:23:29.153Z"
   },
   {
    "duration": 30,
    "start_time": "2023-03-14T19:23:29.205Z"
   },
   {
    "duration": 444,
    "start_time": "2023-03-14T19:23:29.237Z"
   },
   {
    "duration": 4,
    "start_time": "2023-03-14T19:23:29.683Z"
   },
   {
    "duration": 47582,
    "start_time": "2023-03-14T19:23:29.689Z"
   },
   {
    "duration": 92,
    "start_time": "2023-03-14T19:24:17.274Z"
   },
   {
    "duration": 37412,
    "start_time": "2023-03-14T19:24:17.369Z"
   },
   {
    "duration": 3,
    "start_time": "2023-03-14T19:24:54.784Z"
   },
   {
    "duration": 42214,
    "start_time": "2023-03-14T19:24:54.789Z"
   },
   {
    "duration": 4,
    "start_time": "2023-03-14T19:25:37.005Z"
   },
   {
    "duration": 254,
    "start_time": "2023-03-14T19:25:37.011Z"
   },
   {
    "duration": 3,
    "start_time": "2023-03-14T19:25:37.267Z"
   },
   {
    "duration": 2446,
    "start_time": "2023-03-14T19:25:37.273Z"
   },
   {
    "duration": 18058,
    "start_time": "2023-03-14T19:25:39.721Z"
   },
   {
    "duration": 782,
    "start_time": "2023-03-14T19:25:57.781Z"
   },
   {
    "duration": 4,
    "start_time": "2023-03-14T19:25:58.565Z"
   },
   {
    "duration": 856,
    "start_time": "2023-03-14T19:25:58.571Z"
   },
   {
    "duration": 492,
    "start_time": "2023-03-14T19:25:59.429Z"
   },
   {
    "duration": 260,
    "start_time": "2023-03-14T19:25:59.923Z"
   },
   {
    "duration": 145,
    "start_time": "2023-03-14T19:26:00.185Z"
   },
   {
    "duration": 10235,
    "start_time": "2023-03-14T19:26:00.332Z"
   },
   {
    "duration": 275,
    "start_time": "2023-03-14T19:26:10.569Z"
   },
   {
    "duration": 376,
    "start_time": "2023-03-14T19:26:10.846Z"
   },
   {
    "duration": 2,
    "start_time": "2023-03-14T19:26:11.224Z"
   },
   {
    "duration": 9,
    "start_time": "2023-03-14T19:26:11.228Z"
   },
   {
    "duration": 35,
    "start_time": "2023-03-14T19:26:11.239Z"
   },
   {
    "duration": 829,
    "start_time": "2023-03-14T19:26:11.275Z"
   },
   {
    "duration": 5,
    "start_time": "2023-03-14T19:26:12.105Z"
   },
   {
    "duration": 606,
    "start_time": "2023-03-14T19:26:12.111Z"
   },
   {
    "duration": 1334,
    "start_time": "2023-03-15T06:13:56.189Z"
   },
   {
    "duration": 605,
    "start_time": "2023-03-15T06:13:57.525Z"
   },
   {
    "duration": 26,
    "start_time": "2023-03-15T06:13:58.132Z"
   },
   {
    "duration": 15,
    "start_time": "2023-03-15T06:13:58.159Z"
   },
   {
    "duration": 19,
    "start_time": "2023-03-15T06:13:58.176Z"
   },
   {
    "duration": 77,
    "start_time": "2023-03-15T06:13:58.196Z"
   },
   {
    "duration": 1850,
    "start_time": "2023-03-15T06:13:58.275Z"
   },
   {
    "duration": 1752,
    "start_time": "2023-03-15T06:14:00.127Z"
   },
   {
    "duration": 98,
    "start_time": "2023-03-15T06:14:01.881Z"
   },
   {
    "duration": 59,
    "start_time": "2023-03-15T06:14:01.981Z"
   },
   {
    "duration": 61,
    "start_time": "2023-03-15T06:14:02.041Z"
   },
   {
    "duration": 55,
    "start_time": "2023-03-15T06:14:02.104Z"
   },
   {
    "duration": 22,
    "start_time": "2023-03-15T06:14:02.160Z"
   },
   {
    "duration": 125,
    "start_time": "2023-03-15T06:14:02.185Z"
   },
   {
    "duration": 6,
    "start_time": "2023-03-15T06:14:02.312Z"
   },
   {
    "duration": 16,
    "start_time": "2023-03-15T06:14:02.320Z"
   },
   {
    "duration": 22,
    "start_time": "2023-03-15T06:14:02.338Z"
   },
   {
    "duration": 27,
    "start_time": "2023-03-15T06:14:02.362Z"
   },
   {
    "duration": 11,
    "start_time": "2023-03-15T06:14:02.390Z"
   },
   {
    "duration": 11,
    "start_time": "2023-03-15T06:14:02.402Z"
   },
   {
    "duration": 26,
    "start_time": "2023-03-15T06:14:02.414Z"
   },
   {
    "duration": 8,
    "start_time": "2023-03-15T06:14:02.442Z"
   },
   {
    "duration": 509,
    "start_time": "2023-03-15T06:14:02.451Z"
   },
   {
    "duration": 15,
    "start_time": "2023-03-15T06:14:02.962Z"
   },
   {
    "duration": 2,
    "start_time": "2023-03-15T06:14:02.978Z"
   },
   {
    "duration": 102,
    "start_time": "2023-03-15T06:14:02.981Z"
   },
   {
    "duration": 2,
    "start_time": "2023-03-15T06:14:03.084Z"
   },
   {
    "duration": 179,
    "start_time": "2023-03-15T06:14:03.087Z"
   },
   {
    "duration": 94,
    "start_time": "2023-03-15T06:14:03.267Z"
   },
   {
    "duration": 3,
    "start_time": "2023-03-15T06:14:03.362Z"
   },
   {
    "duration": 9,
    "start_time": "2023-03-15T06:14:03.367Z"
   },
   {
    "duration": 8,
    "start_time": "2023-03-15T06:14:03.377Z"
   },
   {
    "duration": 6,
    "start_time": "2023-03-15T06:14:03.386Z"
   },
   {
    "duration": 122,
    "start_time": "2023-03-15T06:14:03.393Z"
   },
   {
    "duration": 62,
    "start_time": "2023-03-15T06:14:03.517Z"
   },
   {
    "duration": 4,
    "start_time": "2023-03-15T06:14:03.580Z"
   },
   {
    "duration": 3,
    "start_time": "2023-03-15T06:14:03.585Z"
   },
   {
    "duration": 30,
    "start_time": "2023-03-15T06:14:03.590Z"
   },
   {
    "duration": 35,
    "start_time": "2023-03-15T06:14:03.622Z"
   },
   {
    "duration": 342,
    "start_time": "2023-03-15T06:14:03.659Z"
   },
   {
    "duration": 4,
    "start_time": "2023-03-15T06:14:04.004Z"
   },
   {
    "duration": 47347,
    "start_time": "2023-03-15T06:14:04.009Z"
   },
   {
    "duration": 4,
    "start_time": "2023-03-15T06:14:51.358Z"
   },
   {
    "duration": 37278,
    "start_time": "2023-03-15T06:14:51.363Z"
   },
   {
    "duration": 12,
    "start_time": "2023-03-15T06:15:28.643Z"
   },
   {
    "duration": 27075,
    "start_time": "2023-03-15T06:15:28.656Z"
   },
   {
    "duration": 4,
    "start_time": "2023-03-15T06:15:55.732Z"
   },
   {
    "duration": 251,
    "start_time": "2023-03-15T06:15:55.737Z"
   },
   {
    "duration": 3,
    "start_time": "2023-03-15T06:15:55.990Z"
   },
   {
    "duration": 1548,
    "start_time": "2023-03-15T06:15:55.994Z"
   },
   {
    "duration": 14236,
    "start_time": "2023-03-15T06:15:57.544Z"
   },
   {
    "duration": 579,
    "start_time": "2023-03-15T06:16:11.782Z"
   },
   {
    "duration": 2,
    "start_time": "2023-03-15T06:16:12.363Z"
   },
   {
    "duration": 618,
    "start_time": "2023-03-15T06:16:12.367Z"
   },
   {
    "duration": 429,
    "start_time": "2023-03-15T06:16:12.986Z"
   },
   {
    "duration": 230,
    "start_time": "2023-03-15T06:16:13.417Z"
   },
   {
    "duration": 113,
    "start_time": "2023-03-15T06:16:13.649Z"
   },
   {
    "duration": 9892,
    "start_time": "2023-03-15T06:16:13.764Z"
   },
   {
    "duration": 316,
    "start_time": "2023-03-15T06:16:23.659Z"
   },
   {
    "duration": 324,
    "start_time": "2023-03-15T06:16:23.977Z"
   },
   {
    "duration": 2,
    "start_time": "2023-03-15T06:16:24.303Z"
   },
   {
    "duration": 4,
    "start_time": "2023-03-15T06:16:24.306Z"
   },
   {
    "duration": 14,
    "start_time": "2023-03-15T06:16:24.312Z"
   },
   {
    "duration": 744,
    "start_time": "2023-03-15T06:16:24.328Z"
   },
   {
    "duration": 4,
    "start_time": "2023-03-15T06:16:25.074Z"
   },
   {
    "duration": 498,
    "start_time": "2023-03-15T06:16:25.079Z"
   },
   {
    "duration": 1332,
    "start_time": "2023-03-15T06:17:49.157Z"
   },
   {
    "duration": 395,
    "start_time": "2023-03-15T06:17:50.491Z"
   },
   {
    "duration": 20,
    "start_time": "2023-03-15T06:17:50.888Z"
   },
   {
    "duration": 18,
    "start_time": "2023-03-15T06:17:50.911Z"
   },
   {
    "duration": 44,
    "start_time": "2023-03-15T06:17:50.930Z"
   },
   {
    "duration": 82,
    "start_time": "2023-03-15T06:17:50.976Z"
   },
   {
    "duration": 1869,
    "start_time": "2023-03-15T06:17:51.060Z"
   },
   {
    "duration": 1734,
    "start_time": "2023-03-15T06:17:52.931Z"
   },
   {
    "duration": 100,
    "start_time": "2023-03-15T06:17:54.667Z"
   },
   {
    "duration": 58,
    "start_time": "2023-03-15T06:17:54.770Z"
   },
   {
    "duration": 69,
    "start_time": "2023-03-15T06:17:54.830Z"
   },
   {
    "duration": 55,
    "start_time": "2023-03-15T06:17:54.901Z"
   },
   {
    "duration": 23,
    "start_time": "2023-03-15T06:17:54.958Z"
   },
   {
    "duration": 125,
    "start_time": "2023-03-15T06:17:54.983Z"
   },
   {
    "duration": 6,
    "start_time": "2023-03-15T06:17:55.109Z"
   },
   {
    "duration": 16,
    "start_time": "2023-03-15T06:17:55.117Z"
   },
   {
    "duration": 21,
    "start_time": "2023-03-15T06:17:55.134Z"
   },
   {
    "duration": 18,
    "start_time": "2023-03-15T06:17:55.156Z"
   },
   {
    "duration": 14,
    "start_time": "2023-03-15T06:17:55.175Z"
   },
   {
    "duration": 18,
    "start_time": "2023-03-15T06:17:55.191Z"
   },
   {
    "duration": 24,
    "start_time": "2023-03-15T06:17:55.211Z"
   },
   {
    "duration": 26,
    "start_time": "2023-03-15T06:17:55.236Z"
   },
   {
    "duration": 574,
    "start_time": "2023-03-15T06:17:55.264Z"
   },
   {
    "duration": 18,
    "start_time": "2023-03-15T06:17:55.840Z"
   },
   {
    "duration": 4,
    "start_time": "2023-03-15T06:17:55.860Z"
   },
   {
    "duration": 104,
    "start_time": "2023-03-15T06:17:55.865Z"
   },
   {
    "duration": 3,
    "start_time": "2023-03-15T06:17:55.970Z"
   },
   {
    "duration": 183,
    "start_time": "2023-03-15T06:17:55.976Z"
   },
   {
    "duration": 95,
    "start_time": "2023-03-15T06:17:56.161Z"
   },
   {
    "duration": 3,
    "start_time": "2023-03-15T06:17:56.257Z"
   },
   {
    "duration": 13,
    "start_time": "2023-03-15T06:17:56.262Z"
   },
   {
    "duration": 8,
    "start_time": "2023-03-15T06:17:56.276Z"
   },
   {
    "duration": 4,
    "start_time": "2023-03-15T06:17:56.285Z"
   },
   {
    "duration": 119,
    "start_time": "2023-03-15T06:17:56.291Z"
   },
   {
    "duration": 62,
    "start_time": "2023-03-15T06:17:56.411Z"
   },
   {
    "duration": 3,
    "start_time": "2023-03-15T06:17:56.475Z"
   },
   {
    "duration": 5,
    "start_time": "2023-03-15T06:17:56.480Z"
   },
   {
    "duration": 30,
    "start_time": "2023-03-15T06:17:56.487Z"
   },
   {
    "duration": 36,
    "start_time": "2023-03-15T06:17:56.519Z"
   },
   {
    "duration": 348,
    "start_time": "2023-03-15T06:17:56.558Z"
   },
   {
    "duration": 4,
    "start_time": "2023-03-15T06:17:56.908Z"
   },
   {
    "duration": 47544,
    "start_time": "2023-03-15T06:17:56.914Z"
   },
   {
    "duration": 37383,
    "start_time": "2023-03-15T06:18:44.460Z"
   },
   {
    "duration": 3,
    "start_time": "2023-03-15T06:19:21.854Z"
   },
   {
    "duration": 26944,
    "start_time": "2023-03-15T06:19:21.858Z"
   },
   {
    "duration": 4,
    "start_time": "2023-03-15T06:19:48.804Z"
   },
   {
    "duration": 233,
    "start_time": "2023-03-15T06:19:48.810Z"
   },
   {
    "duration": 3,
    "start_time": "2023-03-15T06:19:49.045Z"
   },
   {
    "duration": 1474,
    "start_time": "2023-03-15T06:19:49.055Z"
   },
   {
    "duration": 14628,
    "start_time": "2023-03-15T06:19:50.531Z"
   },
   {
    "duration": 602,
    "start_time": "2023-03-15T06:20:05.161Z"
   },
   {
    "duration": 3,
    "start_time": "2023-03-15T06:20:05.764Z"
   },
   {
    "duration": 647,
    "start_time": "2023-03-15T06:20:05.769Z"
   },
   {
    "duration": 442,
    "start_time": "2023-03-15T06:20:06.418Z"
   },
   {
    "duration": 235,
    "start_time": "2023-03-15T06:20:06.862Z"
   },
   {
    "duration": 120,
    "start_time": "2023-03-15T06:20:07.099Z"
   },
   {
    "duration": 10035,
    "start_time": "2023-03-15T06:20:07.221Z"
   },
   {
    "duration": 236,
    "start_time": "2023-03-15T06:20:17.257Z"
   },
   {
    "duration": 325,
    "start_time": "2023-03-15T06:20:17.495Z"
   },
   {
    "duration": 2,
    "start_time": "2023-03-15T06:20:17.821Z"
   },
   {
    "duration": 4,
    "start_time": "2023-03-15T06:20:17.825Z"
   },
   {
    "duration": 25,
    "start_time": "2023-03-15T06:20:17.831Z"
   },
   {
    "duration": 774,
    "start_time": "2023-03-15T06:20:17.858Z"
   },
   {
    "duration": 4,
    "start_time": "2023-03-15T06:20:18.634Z"
   },
   {
    "duration": 521,
    "start_time": "2023-03-15T06:20:18.639Z"
   },
   {
    "duration": 4,
    "start_time": "2023-03-15T06:48:36.557Z"
   },
   {
    "duration": 1359,
    "start_time": "2023-03-15T06:51:58.533Z"
   },
   {
    "duration": 384,
    "start_time": "2023-03-15T06:51:59.894Z"
   },
   {
    "duration": 18,
    "start_time": "2023-03-15T06:52:00.280Z"
   },
   {
    "duration": 22,
    "start_time": "2023-03-15T06:52:00.300Z"
   },
   {
    "duration": 33,
    "start_time": "2023-03-15T06:52:00.323Z"
   },
   {
    "duration": 60,
    "start_time": "2023-03-15T06:52:00.357Z"
   },
   {
    "duration": 1896,
    "start_time": "2023-03-15T06:52:00.418Z"
   },
   {
    "duration": 1700,
    "start_time": "2023-03-15T06:52:02.315Z"
   },
   {
    "duration": 93,
    "start_time": "2023-03-15T06:52:04.016Z"
   },
   {
    "duration": 68,
    "start_time": "2023-03-15T06:52:04.111Z"
   },
   {
    "duration": 46,
    "start_time": "2023-03-15T06:52:04.180Z"
   },
   {
    "duration": 48,
    "start_time": "2023-03-15T06:52:04.228Z"
   },
   {
    "duration": 21,
    "start_time": "2023-03-15T06:52:04.278Z"
   },
   {
    "duration": 125,
    "start_time": "2023-03-15T06:52:04.300Z"
   },
   {
    "duration": 5,
    "start_time": "2023-03-15T06:52:04.426Z"
   },
   {
    "duration": 22,
    "start_time": "2023-03-15T06:52:04.433Z"
   },
   {
    "duration": 6,
    "start_time": "2023-03-15T06:52:04.457Z"
   },
   {
    "duration": 17,
    "start_time": "2023-03-15T06:52:04.464Z"
   },
   {
    "duration": 11,
    "start_time": "2023-03-15T06:52:04.482Z"
   },
   {
    "duration": 10,
    "start_time": "2023-03-15T06:52:04.494Z"
   },
   {
    "duration": 16,
    "start_time": "2023-03-15T06:52:04.506Z"
   },
   {
    "duration": 5,
    "start_time": "2023-03-15T06:52:04.523Z"
   },
   {
    "duration": 545,
    "start_time": "2023-03-15T06:52:04.529Z"
   },
   {
    "duration": 14,
    "start_time": "2023-03-15T06:52:05.075Z"
   },
   {
    "duration": 2,
    "start_time": "2023-03-15T06:52:05.090Z"
   },
   {
    "duration": 98,
    "start_time": "2023-03-15T06:52:05.093Z"
   },
   {
    "duration": 1,
    "start_time": "2023-03-15T06:52:05.193Z"
   },
   {
    "duration": 191,
    "start_time": "2023-03-15T06:52:05.198Z"
   },
   {
    "duration": 102,
    "start_time": "2023-03-15T06:52:05.391Z"
   },
   {
    "duration": 3,
    "start_time": "2023-03-15T06:52:05.494Z"
   },
   {
    "duration": 9,
    "start_time": "2023-03-15T06:52:05.498Z"
   },
   {
    "duration": 10,
    "start_time": "2023-03-15T06:52:05.508Z"
   },
   {
    "duration": 4,
    "start_time": "2023-03-15T06:52:05.519Z"
   },
   {
    "duration": 121,
    "start_time": "2023-03-15T06:52:05.524Z"
   },
   {
    "duration": 57,
    "start_time": "2023-03-15T06:52:05.646Z"
   },
   {
    "duration": 3,
    "start_time": "2023-03-15T06:52:05.704Z"
   },
   {
    "duration": 4,
    "start_time": "2023-03-15T06:52:05.708Z"
   },
   {
    "duration": 43,
    "start_time": "2023-03-15T06:52:05.713Z"
   },
   {
    "duration": 30,
    "start_time": "2023-03-15T06:52:05.757Z"
   },
   {
    "duration": 326,
    "start_time": "2023-03-15T06:52:05.788Z"
   },
   {
    "duration": 3,
    "start_time": "2023-03-15T06:52:06.115Z"
   },
   {
    "duration": 46736,
    "start_time": "2023-03-15T06:52:06.120Z"
   },
   {
    "duration": 36799,
    "start_time": "2023-03-15T06:52:52.858Z"
   },
   {
    "duration": 2,
    "start_time": "2023-03-15T06:53:29.658Z"
   },
   {
    "duration": 26367,
    "start_time": "2023-03-15T06:53:29.661Z"
   },
   {
    "duration": 4,
    "start_time": "2023-03-15T06:53:56.030Z"
   },
   {
    "duration": 195,
    "start_time": "2023-03-15T06:53:56.035Z"
   },
   {
    "duration": 4,
    "start_time": "2023-03-15T06:53:56.231Z"
   },
   {
    "duration": 1524,
    "start_time": "2023-03-15T06:53:56.236Z"
   },
   {
    "duration": 14330,
    "start_time": "2023-03-15T06:53:57.762Z"
   },
   {
    "duration": 566,
    "start_time": "2023-03-15T06:54:12.094Z"
   },
   {
    "duration": 602,
    "start_time": "2023-03-15T06:54:12.661Z"
   },
   {
    "duration": 423,
    "start_time": "2023-03-15T06:54:13.265Z"
   },
   {
    "duration": 231,
    "start_time": "2023-03-15T06:54:13.690Z"
   },
   {
    "duration": 119,
    "start_time": "2023-03-15T06:54:13.923Z"
   },
   {
    "duration": 10112,
    "start_time": "2023-03-15T06:54:14.044Z"
   },
   {
    "duration": 237,
    "start_time": "2023-03-15T06:54:24.157Z"
   },
   {
    "duration": 318,
    "start_time": "2023-03-15T06:54:24.395Z"
   },
   {
    "duration": 3,
    "start_time": "2023-03-15T06:54:24.715Z"
   },
   {
    "duration": 5,
    "start_time": "2023-03-15T06:54:24.719Z"
   },
   {
    "duration": 32,
    "start_time": "2023-03-15T06:54:24.726Z"
   },
   {
    "duration": 771,
    "start_time": "2023-03-15T06:54:24.759Z"
   },
   {
    "duration": 5,
    "start_time": "2023-03-15T06:54:25.532Z"
   },
   {
    "duration": 491,
    "start_time": "2023-03-15T06:54:25.538Z"
   },
   {
    "duration": 83,
    "start_time": "2023-03-15T07:22:09.151Z"
   },
   {
    "duration": 47,
    "start_time": "2023-03-15T07:22:25.756Z"
   },
   {
    "duration": 45,
    "start_time": "2023-03-15T07:22:39.740Z"
   },
   {
    "duration": 56,
    "start_time": "2023-03-15T07:23:15.728Z"
   },
   {
    "duration": 27708,
    "start_time": "2023-03-15T07:23:25.066Z"
   },
   {
    "duration": 27088,
    "start_time": "2023-03-15T07:24:01.451Z"
   },
   {
    "duration": 3,
    "start_time": "2023-03-15T07:24:45.132Z"
   },
   {
    "duration": 84,
    "start_time": "2023-03-15T07:25:02.673Z"
   },
   {
    "duration": 4,
    "start_time": "2023-03-15T07:25:05.869Z"
   },
   {
    "duration": 128485,
    "start_time": "2023-03-15T07:25:50.904Z"
   },
   {
    "duration": 4,
    "start_time": "2023-03-15T07:30:40.630Z"
   },
   {
    "duration": 4,
    "start_time": "2023-03-15T07:47:10.734Z"
   },
   {
    "duration": 87,
    "start_time": "2023-03-15T07:47:23.328Z"
   },
   {
    "duration": 5,
    "start_time": "2023-03-15T07:47:24.144Z"
   },
   {
    "duration": 905,
    "start_time": "2023-03-15T07:50:23.812Z"
   },
   {
    "duration": 867,
    "start_time": "2023-03-15T07:53:47.724Z"
   },
   {
    "duration": 116,
    "start_time": "2023-03-15T08:03:08.697Z"
   },
   {
    "duration": 1421,
    "start_time": "2023-03-15T08:11:37.114Z"
   },
   {
    "duration": 399,
    "start_time": "2023-03-15T08:11:38.537Z"
   },
   {
    "duration": 31,
    "start_time": "2023-03-15T08:11:38.938Z"
   },
   {
    "duration": 23,
    "start_time": "2023-03-15T08:11:38.971Z"
   },
   {
    "duration": 33,
    "start_time": "2023-03-15T08:11:39.000Z"
   },
   {
    "duration": 100,
    "start_time": "2023-03-15T08:11:39.035Z"
   },
   {
    "duration": 2038,
    "start_time": "2023-03-15T08:11:39.136Z"
   },
   {
    "duration": 1978,
    "start_time": "2023-03-15T08:11:41.175Z"
   },
   {
    "duration": 108,
    "start_time": "2023-03-15T08:11:43.156Z"
   },
   {
    "duration": 64,
    "start_time": "2023-03-15T08:11:43.265Z"
   },
   {
    "duration": 65,
    "start_time": "2023-03-15T08:11:43.330Z"
   },
   {
    "duration": 60,
    "start_time": "2023-03-15T08:11:43.396Z"
   },
   {
    "duration": 23,
    "start_time": "2023-03-15T08:11:43.457Z"
   },
   {
    "duration": 131,
    "start_time": "2023-03-15T08:11:43.484Z"
   },
   {
    "duration": 6,
    "start_time": "2023-03-15T08:11:43.616Z"
   },
   {
    "duration": 31,
    "start_time": "2023-03-15T08:11:43.624Z"
   },
   {
    "duration": 8,
    "start_time": "2023-03-15T08:11:43.657Z"
   },
   {
    "duration": 20,
    "start_time": "2023-03-15T08:11:43.666Z"
   },
   {
    "duration": 11,
    "start_time": "2023-03-15T08:11:43.688Z"
   },
   {
    "duration": 11,
    "start_time": "2023-03-15T08:11:43.700Z"
   },
   {
    "duration": 43,
    "start_time": "2023-03-15T08:11:43.713Z"
   },
   {
    "duration": 5,
    "start_time": "2023-03-15T08:11:43.757Z"
   },
   {
    "duration": 564,
    "start_time": "2023-03-15T08:11:43.763Z"
   },
   {
    "duration": 26,
    "start_time": "2023-03-15T08:11:44.329Z"
   },
   {
    "duration": 3,
    "start_time": "2023-03-15T08:11:44.356Z"
   },
   {
    "duration": 108,
    "start_time": "2023-03-15T08:11:44.360Z"
   },
   {
    "duration": 2,
    "start_time": "2023-03-15T08:11:44.469Z"
   },
   {
    "duration": 210,
    "start_time": "2023-03-15T08:11:44.474Z"
   },
   {
    "duration": 105,
    "start_time": "2023-03-15T08:11:44.686Z"
   },
   {
    "duration": 3,
    "start_time": "2023-03-15T08:11:44.793Z"
   },
   {
    "duration": 12,
    "start_time": "2023-03-15T08:11:44.798Z"
   },
   {
    "duration": 8,
    "start_time": "2023-03-15T08:11:44.812Z"
   },
   {
    "duration": 5,
    "start_time": "2023-03-15T08:11:44.821Z"
   },
   {
    "duration": 142,
    "start_time": "2023-03-15T08:11:44.828Z"
   },
   {
    "duration": 62,
    "start_time": "2023-03-15T08:11:44.972Z"
   },
   {
    "duration": 3,
    "start_time": "2023-03-15T08:11:45.036Z"
   },
   {
    "duration": 16,
    "start_time": "2023-03-15T08:11:45.041Z"
   },
   {
    "duration": 44,
    "start_time": "2023-03-15T08:11:45.059Z"
   },
   {
    "duration": 22,
    "start_time": "2023-03-15T08:11:45.105Z"
   },
   {
    "duration": 362,
    "start_time": "2023-03-15T08:11:45.129Z"
   },
   {
    "duration": 3,
    "start_time": "2023-03-15T08:11:45.496Z"
   },
   {
    "duration": 1414,
    "start_time": "2023-03-15T08:13:24.408Z"
   },
   {
    "duration": 424,
    "start_time": "2023-03-15T08:13:25.824Z"
   },
   {
    "duration": 37,
    "start_time": "2023-03-15T08:13:26.249Z"
   },
   {
    "duration": 14,
    "start_time": "2023-03-15T08:13:26.288Z"
   },
   {
    "duration": 21,
    "start_time": "2023-03-15T08:13:26.304Z"
   },
   {
    "duration": 106,
    "start_time": "2023-03-15T08:13:26.327Z"
   },
   {
    "duration": 2191,
    "start_time": "2023-03-15T08:13:26.434Z"
   },
   {
    "duration": 1991,
    "start_time": "2023-03-15T08:13:28.627Z"
   },
   {
    "duration": 112,
    "start_time": "2023-03-15T08:13:30.620Z"
   },
   {
    "duration": 76,
    "start_time": "2023-03-15T08:13:30.733Z"
   },
   {
    "duration": 66,
    "start_time": "2023-03-15T08:13:30.810Z"
   },
   {
    "duration": 43,
    "start_time": "2023-03-15T08:13:30.877Z"
   },
   {
    "duration": 56,
    "start_time": "2023-03-15T08:13:30.922Z"
   },
   {
    "duration": 135,
    "start_time": "2023-03-15T08:13:30.981Z"
   },
   {
    "duration": 6,
    "start_time": "2023-03-15T08:13:31.117Z"
   },
   {
    "duration": 50,
    "start_time": "2023-03-15T08:13:31.124Z"
   },
   {
    "duration": 31,
    "start_time": "2023-03-15T08:13:31.176Z"
   },
   {
    "duration": 44,
    "start_time": "2023-03-15T08:13:31.209Z"
   },
   {
    "duration": 32,
    "start_time": "2023-03-15T08:13:31.254Z"
   },
   {
    "duration": 27,
    "start_time": "2023-03-15T08:13:31.288Z"
   },
   {
    "duration": 35,
    "start_time": "2023-03-15T08:13:31.317Z"
   },
   {
    "duration": 16,
    "start_time": "2023-03-15T08:13:31.354Z"
   },
   {
    "duration": 661,
    "start_time": "2023-03-15T08:13:31.372Z"
   },
   {
    "duration": 34,
    "start_time": "2023-03-15T08:13:32.035Z"
   },
   {
    "duration": 3,
    "start_time": "2023-03-15T08:13:32.071Z"
   },
   {
    "duration": 110,
    "start_time": "2023-03-15T08:13:32.076Z"
   },
   {
    "duration": 3,
    "start_time": "2023-03-15T08:13:32.188Z"
   },
   {
    "duration": 229,
    "start_time": "2023-03-15T08:13:32.193Z"
   },
   {
    "duration": 107,
    "start_time": "2023-03-15T08:13:32.424Z"
   },
   {
    "duration": 4,
    "start_time": "2023-03-15T08:13:32.533Z"
   },
   {
    "duration": 25,
    "start_time": "2023-03-15T08:13:32.538Z"
   },
   {
    "duration": 6,
    "start_time": "2023-03-15T08:13:32.569Z"
   },
   {
    "duration": 7,
    "start_time": "2023-03-15T08:13:32.577Z"
   },
   {
    "duration": 137,
    "start_time": "2023-03-15T08:13:32.585Z"
   },
   {
    "duration": 63,
    "start_time": "2023-03-15T08:13:32.724Z"
   },
   {
    "duration": 4,
    "start_time": "2023-03-15T08:13:32.789Z"
   },
   {
    "duration": 3,
    "start_time": "2023-03-15T08:13:32.795Z"
   },
   {
    "duration": 31,
    "start_time": "2023-03-15T08:13:32.800Z"
   },
   {
    "duration": 25,
    "start_time": "2023-03-15T08:13:32.861Z"
   },
   {
    "duration": 380,
    "start_time": "2023-03-15T08:13:32.888Z"
   },
   {
    "duration": 3,
    "start_time": "2023-03-15T08:13:33.273Z"
   },
   {
    "duration": 1454,
    "start_time": "2023-03-15T08:15:15.956Z"
   },
   {
    "duration": 430,
    "start_time": "2023-03-15T08:15:17.412Z"
   },
   {
    "duration": 35,
    "start_time": "2023-03-15T08:15:17.844Z"
   },
   {
    "duration": 14,
    "start_time": "2023-03-15T08:15:17.881Z"
   },
   {
    "duration": 20,
    "start_time": "2023-03-15T08:15:17.897Z"
   },
   {
    "duration": 96,
    "start_time": "2023-03-15T08:15:17.918Z"
   },
   {
    "duration": 1994,
    "start_time": "2023-03-15T08:15:18.015Z"
   },
   {
    "duration": 1957,
    "start_time": "2023-03-15T08:15:20.011Z"
   },
   {
    "duration": 119,
    "start_time": "2023-03-15T08:15:21.970Z"
   },
   {
    "duration": 91,
    "start_time": "2023-03-15T08:15:22.091Z"
   },
   {
    "duration": 52,
    "start_time": "2023-03-15T08:15:22.184Z"
   },
   {
    "duration": 64,
    "start_time": "2023-03-15T08:15:22.238Z"
   },
   {
    "duration": 23,
    "start_time": "2023-03-15T08:15:22.304Z"
   },
   {
    "duration": 139,
    "start_time": "2023-03-15T08:15:22.329Z"
   },
   {
    "duration": 7,
    "start_time": "2023-03-15T08:15:22.473Z"
   },
   {
    "duration": 5,
    "start_time": "2023-03-15T08:15:22.482Z"
   },
   {
    "duration": 8,
    "start_time": "2023-03-15T08:15:22.489Z"
   },
   {
    "duration": 21,
    "start_time": "2023-03-15T08:15:22.498Z"
   },
   {
    "duration": 55,
    "start_time": "2023-03-15T08:15:22.521Z"
   },
   {
    "duration": 12,
    "start_time": "2023-03-15T08:15:22.577Z"
   },
   {
    "duration": 19,
    "start_time": "2023-03-15T08:15:22.590Z"
   },
   {
    "duration": 3,
    "start_time": "2023-03-15T08:15:22.611Z"
   },
   {
    "duration": 607,
    "start_time": "2023-03-15T08:15:22.616Z"
   },
   {
    "duration": 16,
    "start_time": "2023-03-15T08:15:23.225Z"
   },
   {
    "duration": 17,
    "start_time": "2023-03-15T08:15:23.243Z"
   },
   {
    "duration": 104,
    "start_time": "2023-03-15T08:15:23.261Z"
   },
   {
    "duration": 2,
    "start_time": "2023-03-15T08:15:23.367Z"
   },
   {
    "duration": 201,
    "start_time": "2023-03-15T08:15:23.374Z"
   },
   {
    "duration": 116,
    "start_time": "2023-03-15T08:15:23.577Z"
   },
   {
    "duration": 5,
    "start_time": "2023-03-15T08:15:23.695Z"
   },
   {
    "duration": 9,
    "start_time": "2023-03-15T08:15:23.701Z"
   },
   {
    "duration": 20,
    "start_time": "2023-03-15T08:15:23.711Z"
   },
   {
    "duration": 4,
    "start_time": "2023-03-15T08:15:23.732Z"
   },
   {
    "duration": 136,
    "start_time": "2023-03-15T08:15:23.738Z"
   },
   {
    "duration": 59,
    "start_time": "2023-03-15T08:15:23.875Z"
   },
   {
    "duration": 5,
    "start_time": "2023-03-15T08:15:23.935Z"
   },
   {
    "duration": 12,
    "start_time": "2023-03-15T08:15:23.956Z"
   },
   {
    "duration": 31,
    "start_time": "2023-03-15T08:15:23.970Z"
   },
   {
    "duration": 19,
    "start_time": "2023-03-15T08:15:24.003Z"
   },
   {
    "duration": 366,
    "start_time": "2023-03-15T08:15:24.024Z"
   },
   {
    "duration": 4,
    "start_time": "2023-03-15T08:15:24.392Z"
   },
   {
    "duration": 1614,
    "start_time": "2023-03-15T08:20:18.317Z"
   },
   {
    "duration": 458,
    "start_time": "2023-03-15T08:20:19.933Z"
   },
   {
    "duration": 73,
    "start_time": "2023-03-15T08:20:20.392Z"
   },
   {
    "duration": 14,
    "start_time": "2023-03-15T08:20:20.467Z"
   },
   {
    "duration": 79,
    "start_time": "2023-03-15T08:20:20.483Z"
   },
   {
    "duration": 62,
    "start_time": "2023-03-15T08:20:20.563Z"
   },
   {
    "duration": 1982,
    "start_time": "2023-03-15T08:20:20.656Z"
   },
   {
    "duration": 1894,
    "start_time": "2023-03-15T08:20:22.639Z"
   },
   {
    "duration": 96,
    "start_time": "2023-03-15T08:20:24.535Z"
   },
   {
    "duration": 71,
    "start_time": "2023-03-15T08:20:24.633Z"
   },
   {
    "duration": 58,
    "start_time": "2023-03-15T08:20:24.705Z"
   },
   {
    "duration": 41,
    "start_time": "2023-03-15T08:20:24.765Z"
   },
   {
    "duration": 21,
    "start_time": "2023-03-15T08:20:24.808Z"
   },
   {
    "duration": 141,
    "start_time": "2023-03-15T08:20:24.831Z"
   },
   {
    "duration": 6,
    "start_time": "2023-03-15T08:20:24.973Z"
   },
   {
    "duration": 13,
    "start_time": "2023-03-15T08:20:24.980Z"
   },
   {
    "duration": 29,
    "start_time": "2023-03-15T08:20:24.994Z"
   },
   {
    "duration": 46,
    "start_time": "2023-03-15T08:20:25.025Z"
   },
   {
    "duration": 38,
    "start_time": "2023-03-15T08:20:25.072Z"
   },
   {
    "duration": 21,
    "start_time": "2023-03-15T08:20:25.112Z"
   },
   {
    "duration": 38,
    "start_time": "2023-03-15T08:20:25.135Z"
   },
   {
    "duration": 4,
    "start_time": "2023-03-15T08:20:25.174Z"
   },
   {
    "duration": 587,
    "start_time": "2023-03-15T08:20:25.179Z"
   },
   {
    "duration": 15,
    "start_time": "2023-03-15T08:20:25.767Z"
   },
   {
    "duration": 6,
    "start_time": "2023-03-15T08:20:25.784Z"
   },
   {
    "duration": 102,
    "start_time": "2023-03-15T08:20:25.792Z"
   },
   {
    "duration": 2,
    "start_time": "2023-03-15T08:20:25.895Z"
   },
   {
    "duration": 199,
    "start_time": "2023-03-15T08:20:25.900Z"
   },
   {
    "duration": 94,
    "start_time": "2023-03-15T08:20:26.101Z"
   },
   {
    "duration": 3,
    "start_time": "2023-03-15T08:20:26.197Z"
   },
   {
    "duration": 8,
    "start_time": "2023-03-15T08:20:26.202Z"
   },
   {
    "duration": 8,
    "start_time": "2023-03-15T08:20:26.211Z"
   },
   {
    "duration": 4,
    "start_time": "2023-03-15T08:20:26.221Z"
   },
   {
    "duration": 137,
    "start_time": "2023-03-15T08:20:26.227Z"
   },
   {
    "duration": 51,
    "start_time": "2023-03-15T08:20:26.366Z"
   },
   {
    "duration": 3,
    "start_time": "2023-03-15T08:20:26.418Z"
   },
   {
    "duration": 3,
    "start_time": "2023-03-15T08:20:26.422Z"
   },
   {
    "duration": 49,
    "start_time": "2023-03-15T08:20:26.426Z"
   },
   {
    "duration": 19,
    "start_time": "2023-03-15T08:20:26.477Z"
   },
   {
    "duration": 360,
    "start_time": "2023-03-15T08:20:26.497Z"
   },
   {
    "duration": 4,
    "start_time": "2023-03-15T08:20:26.859Z"
   },
   {
    "duration": 0,
    "start_time": "2023-03-15T08:20:47.542Z"
   },
   {
    "duration": 1378,
    "start_time": "2023-03-15T08:20:55.368Z"
   },
   {
    "duration": 409,
    "start_time": "2023-03-15T08:20:56.749Z"
   },
   {
    "duration": 20,
    "start_time": "2023-03-15T08:20:57.160Z"
   },
   {
    "duration": 18,
    "start_time": "2023-03-15T08:20:57.181Z"
   },
   {
    "duration": 20,
    "start_time": "2023-03-15T08:20:57.200Z"
   },
   {
    "duration": 88,
    "start_time": "2023-03-15T08:20:57.222Z"
   },
   {
    "duration": 1877,
    "start_time": "2023-03-15T08:20:57.312Z"
   },
   {
    "duration": 1834,
    "start_time": "2023-03-15T08:20:59.191Z"
   },
   {
    "duration": 103,
    "start_time": "2023-03-15T08:21:01.027Z"
   },
   {
    "duration": 69,
    "start_time": "2023-03-15T08:21:01.132Z"
   },
   {
    "duration": 69,
    "start_time": "2023-03-15T08:21:01.203Z"
   },
   {
    "duration": 42,
    "start_time": "2023-03-15T08:21:01.273Z"
   },
   {
    "duration": 22,
    "start_time": "2023-03-15T08:21:01.317Z"
   },
   {
    "duration": 155,
    "start_time": "2023-03-15T08:21:01.355Z"
   },
   {
    "duration": 6,
    "start_time": "2023-03-15T08:21:01.511Z"
   },
   {
    "duration": 37,
    "start_time": "2023-03-15T08:21:01.518Z"
   },
   {
    "duration": 34,
    "start_time": "2023-03-15T08:21:01.557Z"
   },
   {
    "duration": 42,
    "start_time": "2023-03-15T08:21:01.593Z"
   },
   {
    "duration": 28,
    "start_time": "2023-03-15T08:21:01.637Z"
   },
   {
    "duration": 32,
    "start_time": "2023-03-15T08:21:01.666Z"
   },
   {
    "duration": 39,
    "start_time": "2023-03-15T08:21:01.700Z"
   },
   {
    "duration": 17,
    "start_time": "2023-03-15T08:21:01.741Z"
   },
   {
    "duration": 577,
    "start_time": "2023-03-15T08:21:01.759Z"
   },
   {
    "duration": 19,
    "start_time": "2023-03-15T08:21:02.338Z"
   },
   {
    "duration": 3,
    "start_time": "2023-03-15T08:21:02.359Z"
   },
   {
    "duration": 103,
    "start_time": "2023-03-15T08:21:02.364Z"
   },
   {
    "duration": 3,
    "start_time": "2023-03-15T08:21:02.468Z"
   },
   {
    "duration": 198,
    "start_time": "2023-03-15T08:21:02.475Z"
   },
   {
    "duration": 96,
    "start_time": "2023-03-15T08:21:02.675Z"
   },
   {
    "duration": 3,
    "start_time": "2023-03-15T08:21:02.773Z"
   },
   {
    "duration": 20,
    "start_time": "2023-03-15T08:21:02.778Z"
   },
   {
    "duration": 25,
    "start_time": "2023-03-15T08:21:02.799Z"
   },
   {
    "duration": 8,
    "start_time": "2023-03-15T08:21:02.826Z"
   },
   {
    "duration": 138,
    "start_time": "2023-03-15T08:21:02.835Z"
   },
   {
    "duration": 56,
    "start_time": "2023-03-15T08:21:02.975Z"
   },
   {
    "duration": 3,
    "start_time": "2023-03-15T08:21:03.033Z"
   },
   {
    "duration": 19,
    "start_time": "2023-03-15T08:21:03.037Z"
   },
   {
    "duration": 30,
    "start_time": "2023-03-15T08:21:03.057Z"
   },
   {
    "duration": 23,
    "start_time": "2023-03-15T08:21:03.089Z"
   },
   {
    "duration": 334,
    "start_time": "2023-03-15T08:21:03.113Z"
   },
   {
    "duration": 6,
    "start_time": "2023-03-15T08:21:03.449Z"
   },
   {
    "duration": 176336,
    "start_time": "2023-03-15T08:21:03.457Z"
   },
   {
    "duration": 131,
    "start_time": "2023-03-15T08:23:59.794Z"
   },
   {
    "duration": 0,
    "start_time": "2023-03-15T08:23:59.934Z"
   },
   {
    "duration": 0,
    "start_time": "2023-03-15T08:23:59.935Z"
   },
   {
    "duration": 0,
    "start_time": "2023-03-15T08:23:59.936Z"
   },
   {
    "duration": 0,
    "start_time": "2023-03-15T08:23:59.938Z"
   },
   {
    "duration": 0,
    "start_time": "2023-03-15T08:23:59.939Z"
   },
   {
    "duration": 0,
    "start_time": "2023-03-15T08:23:59.941Z"
   },
   {
    "duration": 0,
    "start_time": "2023-03-15T08:23:59.942Z"
   },
   {
    "duration": 0,
    "start_time": "2023-03-15T08:23:59.943Z"
   },
   {
    "duration": 0,
    "start_time": "2023-03-15T08:23:59.944Z"
   },
   {
    "duration": 0,
    "start_time": "2023-03-15T08:23:59.961Z"
   },
   {
    "duration": 0,
    "start_time": "2023-03-15T08:23:59.961Z"
   },
   {
    "duration": 0,
    "start_time": "2023-03-15T08:23:59.962Z"
   },
   {
    "duration": 0,
    "start_time": "2023-03-15T08:23:59.963Z"
   },
   {
    "duration": 0,
    "start_time": "2023-03-15T08:23:59.963Z"
   },
   {
    "duration": 0,
    "start_time": "2023-03-15T08:23:59.964Z"
   },
   {
    "duration": 0,
    "start_time": "2023-03-15T08:23:59.965Z"
   },
   {
    "duration": 0,
    "start_time": "2023-03-15T08:23:59.965Z"
   },
   {
    "duration": 0,
    "start_time": "2023-03-15T08:23:59.966Z"
   },
   {
    "duration": 0,
    "start_time": "2023-03-15T08:23:59.966Z"
   },
   {
    "duration": 0,
    "start_time": "2023-03-15T08:23:59.967Z"
   },
   {
    "duration": 0,
    "start_time": "2023-03-15T08:23:59.968Z"
   },
   {
    "duration": 0,
    "start_time": "2023-03-15T08:23:59.972Z"
   },
   {
    "duration": 0,
    "start_time": "2023-03-15T08:23:59.973Z"
   },
   {
    "duration": 1460,
    "start_time": "2023-03-15T08:26:49.325Z"
   },
   {
    "duration": 0,
    "start_time": "2023-03-15T08:26:50.788Z"
   },
   {
    "duration": 0,
    "start_time": "2023-03-15T08:26:50.789Z"
   },
   {
    "duration": 0,
    "start_time": "2023-03-15T08:26:50.790Z"
   },
   {
    "duration": 0,
    "start_time": "2023-03-15T08:26:50.791Z"
   },
   {
    "duration": 0,
    "start_time": "2023-03-15T08:26:50.792Z"
   },
   {
    "duration": 0,
    "start_time": "2023-03-15T08:26:50.793Z"
   },
   {
    "duration": 0,
    "start_time": "2023-03-15T08:26:50.794Z"
   },
   {
    "duration": 0,
    "start_time": "2023-03-15T08:26:50.794Z"
   },
   {
    "duration": 0,
    "start_time": "2023-03-15T08:26:50.795Z"
   },
   {
    "duration": 0,
    "start_time": "2023-03-15T08:26:50.795Z"
   },
   {
    "duration": 0,
    "start_time": "2023-03-15T08:26:50.796Z"
   },
   {
    "duration": 0,
    "start_time": "2023-03-15T08:26:50.797Z"
   },
   {
    "duration": 0,
    "start_time": "2023-03-15T08:26:50.798Z"
   },
   {
    "duration": 0,
    "start_time": "2023-03-15T08:26:50.799Z"
   },
   {
    "duration": 0,
    "start_time": "2023-03-15T08:26:50.800Z"
   },
   {
    "duration": 0,
    "start_time": "2023-03-15T08:26:50.801Z"
   },
   {
    "duration": 0,
    "start_time": "2023-03-15T08:26:50.802Z"
   },
   {
    "duration": 0,
    "start_time": "2023-03-15T08:26:50.802Z"
   },
   {
    "duration": 0,
    "start_time": "2023-03-15T08:26:50.803Z"
   },
   {
    "duration": 0,
    "start_time": "2023-03-15T08:26:50.804Z"
   },
   {
    "duration": 0,
    "start_time": "2023-03-15T08:26:50.805Z"
   },
   {
    "duration": 0,
    "start_time": "2023-03-15T08:26:50.805Z"
   },
   {
    "duration": 0,
    "start_time": "2023-03-15T08:26:50.806Z"
   },
   {
    "duration": 0,
    "start_time": "2023-03-15T08:26:50.807Z"
   },
   {
    "duration": 0,
    "start_time": "2023-03-15T08:26:50.808Z"
   },
   {
    "duration": 0,
    "start_time": "2023-03-15T08:26:50.809Z"
   },
   {
    "duration": 0,
    "start_time": "2023-03-15T08:26:50.810Z"
   },
   {
    "duration": 0,
    "start_time": "2023-03-15T08:26:50.810Z"
   },
   {
    "duration": 0,
    "start_time": "2023-03-15T08:26:50.811Z"
   },
   {
    "duration": 0,
    "start_time": "2023-03-15T08:26:50.812Z"
   },
   {
    "duration": 0,
    "start_time": "2023-03-15T08:26:50.813Z"
   },
   {
    "duration": 0,
    "start_time": "2023-03-15T08:26:50.814Z"
   },
   {
    "duration": 0,
    "start_time": "2023-03-15T08:26:50.855Z"
   },
   {
    "duration": 0,
    "start_time": "2023-03-15T08:26:50.856Z"
   },
   {
    "duration": 0,
    "start_time": "2023-03-15T08:26:50.857Z"
   },
   {
    "duration": 0,
    "start_time": "2023-03-15T08:26:50.858Z"
   },
   {
    "duration": 0,
    "start_time": "2023-03-15T08:26:50.859Z"
   },
   {
    "duration": 0,
    "start_time": "2023-03-15T08:26:50.860Z"
   },
   {
    "duration": 0,
    "start_time": "2023-03-15T08:26:50.861Z"
   },
   {
    "duration": 0,
    "start_time": "2023-03-15T08:26:50.862Z"
   },
   {
    "duration": 0,
    "start_time": "2023-03-15T08:26:50.862Z"
   },
   {
    "duration": 0,
    "start_time": "2023-03-15T08:26:50.863Z"
   },
   {
    "duration": 0,
    "start_time": "2023-03-15T08:26:50.864Z"
   },
   {
    "duration": 0,
    "start_time": "2023-03-15T08:26:50.865Z"
   },
   {
    "duration": 1,
    "start_time": "2023-03-15T08:26:50.865Z"
   },
   {
    "duration": 0,
    "start_time": "2023-03-15T08:26:50.866Z"
   },
   {
    "duration": 0,
    "start_time": "2023-03-15T08:26:50.867Z"
   },
   {
    "duration": 0,
    "start_time": "2023-03-15T08:26:50.868Z"
   },
   {
    "duration": 0,
    "start_time": "2023-03-15T08:26:50.869Z"
   },
   {
    "duration": 0,
    "start_time": "2023-03-15T08:26:50.870Z"
   },
   {
    "duration": 0,
    "start_time": "2023-03-15T08:26:50.870Z"
   },
   {
    "duration": 0,
    "start_time": "2023-03-15T08:26:50.871Z"
   },
   {
    "duration": 0,
    "start_time": "2023-03-15T08:26:50.872Z"
   },
   {
    "duration": 0,
    "start_time": "2023-03-15T08:26:50.873Z"
   },
   {
    "duration": 0,
    "start_time": "2023-03-15T08:26:50.873Z"
   },
   {
    "duration": 0,
    "start_time": "2023-03-15T08:26:50.874Z"
   },
   {
    "duration": 0,
    "start_time": "2023-03-15T08:26:50.876Z"
   },
   {
    "duration": 0,
    "start_time": "2023-03-15T08:26:50.876Z"
   },
   {
    "duration": 0,
    "start_time": "2023-03-15T08:26:50.877Z"
   },
   {
    "duration": 0,
    "start_time": "2023-03-15T08:26:50.878Z"
   },
   {
    "duration": 0,
    "start_time": "2023-03-15T08:26:50.879Z"
   },
   {
    "duration": 0,
    "start_time": "2023-03-15T08:26:50.880Z"
   },
   {
    "duration": 0,
    "start_time": "2023-03-15T08:26:50.881Z"
   },
   {
    "duration": 0,
    "start_time": "2023-03-15T08:26:50.882Z"
   },
   {
    "duration": 0,
    "start_time": "2023-03-15T08:26:50.883Z"
   },
   {
    "duration": 1414,
    "start_time": "2023-03-15T08:27:20.908Z"
   },
   {
    "duration": 0,
    "start_time": "2023-03-15T08:27:22.326Z"
   },
   {
    "duration": 0,
    "start_time": "2023-03-15T08:27:22.327Z"
   },
   {
    "duration": 0,
    "start_time": "2023-03-15T08:27:22.329Z"
   },
   {
    "duration": 0,
    "start_time": "2023-03-15T08:27:22.330Z"
   },
   {
    "duration": 0,
    "start_time": "2023-03-15T08:27:22.332Z"
   },
   {
    "duration": 0,
    "start_time": "2023-03-15T08:27:22.333Z"
   },
   {
    "duration": 0,
    "start_time": "2023-03-15T08:27:22.334Z"
   },
   {
    "duration": 0,
    "start_time": "2023-03-15T08:27:22.336Z"
   },
   {
    "duration": 0,
    "start_time": "2023-03-15T08:27:22.337Z"
   },
   {
    "duration": 0,
    "start_time": "2023-03-15T08:27:22.337Z"
   },
   {
    "duration": 1,
    "start_time": "2023-03-15T08:27:22.338Z"
   },
   {
    "duration": 0,
    "start_time": "2023-03-15T08:27:22.339Z"
   },
   {
    "duration": 0,
    "start_time": "2023-03-15T08:27:22.340Z"
   },
   {
    "duration": 0,
    "start_time": "2023-03-15T08:27:22.341Z"
   },
   {
    "duration": 0,
    "start_time": "2023-03-15T08:27:22.341Z"
   },
   {
    "duration": 0,
    "start_time": "2023-03-15T08:27:22.341Z"
   },
   {
    "duration": 0,
    "start_time": "2023-03-15T08:27:22.342Z"
   },
   {
    "duration": 0,
    "start_time": "2023-03-15T08:27:22.342Z"
   },
   {
    "duration": 0,
    "start_time": "2023-03-15T08:27:22.343Z"
   },
   {
    "duration": 0,
    "start_time": "2023-03-15T08:27:22.343Z"
   },
   {
    "duration": 0,
    "start_time": "2023-03-15T08:27:22.344Z"
   },
   {
    "duration": 0,
    "start_time": "2023-03-15T08:27:22.356Z"
   },
   {
    "duration": 0,
    "start_time": "2023-03-15T08:27:22.357Z"
   },
   {
    "duration": 0,
    "start_time": "2023-03-15T08:27:22.359Z"
   },
   {
    "duration": 0,
    "start_time": "2023-03-15T08:27:22.360Z"
   },
   {
    "duration": 0,
    "start_time": "2023-03-15T08:27:22.361Z"
   },
   {
    "duration": 0,
    "start_time": "2023-03-15T08:27:22.362Z"
   },
   {
    "duration": 0,
    "start_time": "2023-03-15T08:27:22.364Z"
   },
   {
    "duration": 0,
    "start_time": "2023-03-15T08:27:22.365Z"
   },
   {
    "duration": 0,
    "start_time": "2023-03-15T08:27:22.366Z"
   },
   {
    "duration": 0,
    "start_time": "2023-03-15T08:27:22.368Z"
   },
   {
    "duration": 0,
    "start_time": "2023-03-15T08:27:22.369Z"
   },
   {
    "duration": 0,
    "start_time": "2023-03-15T08:27:22.370Z"
   },
   {
    "duration": 0,
    "start_time": "2023-03-15T08:27:22.372Z"
   },
   {
    "duration": 0,
    "start_time": "2023-03-15T08:27:22.373Z"
   },
   {
    "duration": 0,
    "start_time": "2023-03-15T08:27:22.375Z"
   },
   {
    "duration": 0,
    "start_time": "2023-03-15T08:27:22.376Z"
   },
   {
    "duration": 0,
    "start_time": "2023-03-15T08:27:22.377Z"
   },
   {
    "duration": 0,
    "start_time": "2023-03-15T08:27:22.378Z"
   },
   {
    "duration": 0,
    "start_time": "2023-03-15T08:27:22.380Z"
   },
   {
    "duration": 0,
    "start_time": "2023-03-15T08:27:22.381Z"
   },
   {
    "duration": 0,
    "start_time": "2023-03-15T08:27:22.382Z"
   },
   {
    "duration": 0,
    "start_time": "2023-03-15T08:27:22.384Z"
   },
   {
    "duration": 0,
    "start_time": "2023-03-15T08:27:22.385Z"
   },
   {
    "duration": 0,
    "start_time": "2023-03-15T08:27:22.386Z"
   },
   {
    "duration": 0,
    "start_time": "2023-03-15T08:27:22.388Z"
   },
   {
    "duration": 0,
    "start_time": "2023-03-15T08:27:22.389Z"
   },
   {
    "duration": 0,
    "start_time": "2023-03-15T08:27:22.389Z"
   },
   {
    "duration": 0,
    "start_time": "2023-03-15T08:27:22.390Z"
   },
   {
    "duration": 0,
    "start_time": "2023-03-15T08:27:22.391Z"
   },
   {
    "duration": 0,
    "start_time": "2023-03-15T08:27:22.391Z"
   },
   {
    "duration": 0,
    "start_time": "2023-03-15T08:27:22.392Z"
   },
   {
    "duration": 0,
    "start_time": "2023-03-15T08:27:22.456Z"
   },
   {
    "duration": 0,
    "start_time": "2023-03-15T08:27:22.457Z"
   },
   {
    "duration": 0,
    "start_time": "2023-03-15T08:27:22.458Z"
   },
   {
    "duration": 0,
    "start_time": "2023-03-15T08:27:22.459Z"
   },
   {
    "duration": 0,
    "start_time": "2023-03-15T08:27:22.460Z"
   },
   {
    "duration": 0,
    "start_time": "2023-03-15T08:27:22.461Z"
   },
   {
    "duration": 0,
    "start_time": "2023-03-15T08:27:22.461Z"
   },
   {
    "duration": 0,
    "start_time": "2023-03-15T08:27:22.462Z"
   },
   {
    "duration": 0,
    "start_time": "2023-03-15T08:27:22.463Z"
   },
   {
    "duration": 0,
    "start_time": "2023-03-15T08:27:22.464Z"
   },
   {
    "duration": 0,
    "start_time": "2023-03-15T08:27:22.465Z"
   },
   {
    "duration": 0,
    "start_time": "2023-03-15T08:27:22.466Z"
   },
   {
    "duration": 0,
    "start_time": "2023-03-15T08:27:22.466Z"
   },
   {
    "duration": 1355,
    "start_time": "2023-03-15T08:28:00.480Z"
   },
   {
    "duration": 374,
    "start_time": "2023-03-15T08:28:01.837Z"
   },
   {
    "duration": 19,
    "start_time": "2023-03-15T08:28:02.213Z"
   },
   {
    "duration": 33,
    "start_time": "2023-03-15T08:28:02.234Z"
   },
   {
    "duration": 42,
    "start_time": "2023-03-15T08:28:02.269Z"
   },
   {
    "duration": 85,
    "start_time": "2023-03-15T08:28:02.313Z"
   },
   {
    "duration": 1970,
    "start_time": "2023-03-15T08:28:02.399Z"
   },
   {
    "duration": 1878,
    "start_time": "2023-03-15T08:28:04.371Z"
   },
   {
    "duration": 106,
    "start_time": "2023-03-15T08:28:06.251Z"
   },
   {
    "duration": 62,
    "start_time": "2023-03-15T08:28:06.360Z"
   },
   {
    "duration": 68,
    "start_time": "2023-03-15T08:28:06.423Z"
   },
   {
    "duration": 45,
    "start_time": "2023-03-15T08:28:06.493Z"
   },
   {
    "duration": 25,
    "start_time": "2023-03-15T08:28:06.554Z"
   },
   {
    "duration": 150,
    "start_time": "2023-03-15T08:28:06.581Z"
   },
   {
    "duration": 8,
    "start_time": "2023-03-15T08:28:06.733Z"
   },
   {
    "duration": 6,
    "start_time": "2023-03-15T08:28:06.756Z"
   },
   {
    "duration": 9,
    "start_time": "2023-03-15T08:28:06.764Z"
   },
   {
    "duration": 19,
    "start_time": "2023-03-15T08:28:06.774Z"
   },
   {
    "duration": 11,
    "start_time": "2023-03-15T08:28:06.795Z"
   },
   {
    "duration": 12,
    "start_time": "2023-03-15T08:28:06.808Z"
   },
   {
    "duration": 51,
    "start_time": "2023-03-15T08:28:06.821Z"
   },
   {
    "duration": 4,
    "start_time": "2023-03-15T08:28:06.873Z"
   },
   {
    "duration": 574,
    "start_time": "2023-03-15T08:28:06.878Z"
   },
   {
    "duration": 15,
    "start_time": "2023-03-15T08:28:07.455Z"
   },
   {
    "duration": 2,
    "start_time": "2023-03-15T08:28:07.471Z"
   },
   {
    "duration": 103,
    "start_time": "2023-03-15T08:28:07.475Z"
   },
   {
    "duration": 2,
    "start_time": "2023-03-15T08:28:07.580Z"
   },
   {
    "duration": 197,
    "start_time": "2023-03-15T08:28:07.586Z"
   },
   {
    "duration": 97,
    "start_time": "2023-03-15T08:28:07.785Z"
   },
   {
    "duration": 3,
    "start_time": "2023-03-15T08:28:07.884Z"
   },
   {
    "duration": 11,
    "start_time": "2023-03-15T08:28:07.889Z"
   },
   {
    "duration": 9,
    "start_time": "2023-03-15T08:28:07.901Z"
   },
   {
    "duration": 8,
    "start_time": "2023-03-15T08:28:07.911Z"
   },
   {
    "duration": 92,
    "start_time": "2023-03-15T08:28:07.921Z"
   },
   {
    "duration": 47,
    "start_time": "2023-03-15T08:28:08.014Z"
   },
   {
    "duration": 3,
    "start_time": "2023-03-15T08:28:08.063Z"
   },
   {
    "duration": 5,
    "start_time": "2023-03-15T08:28:08.068Z"
   },
   {
    "duration": 41,
    "start_time": "2023-03-15T08:28:08.075Z"
   },
   {
    "duration": 20,
    "start_time": "2023-03-15T08:28:08.118Z"
   },
   {
    "duration": 354,
    "start_time": "2023-03-15T08:28:08.139Z"
   },
   {
    "duration": 4,
    "start_time": "2023-03-15T08:28:08.495Z"
   },
   {
    "duration": 160812,
    "start_time": "2023-03-15T08:28:08.501Z"
   },
   {
    "duration": 4,
    "start_time": "2023-03-15T08:30:49.315Z"
   },
   {
    "duration": 4,
    "start_time": "2023-03-15T08:30:49.320Z"
   },
   {
    "duration": 5,
    "start_time": "2023-03-15T08:30:49.325Z"
   },
   {
    "duration": 132,
    "start_time": "2023-03-15T08:30:49.331Z"
   },
   {
    "duration": 0,
    "start_time": "2023-03-15T08:30:49.465Z"
   },
   {
    "duration": 0,
    "start_time": "2023-03-15T08:30:49.467Z"
   },
   {
    "duration": 0,
    "start_time": "2023-03-15T08:30:49.467Z"
   },
   {
    "duration": 0,
    "start_time": "2023-03-15T08:30:49.469Z"
   },
   {
    "duration": 0,
    "start_time": "2023-03-15T08:30:49.470Z"
   },
   {
    "duration": 0,
    "start_time": "2023-03-15T08:30:49.471Z"
   },
   {
    "duration": 0,
    "start_time": "2023-03-15T08:30:49.472Z"
   },
   {
    "duration": 0,
    "start_time": "2023-03-15T08:30:49.473Z"
   },
   {
    "duration": 0,
    "start_time": "2023-03-15T08:30:49.474Z"
   },
   {
    "duration": 0,
    "start_time": "2023-03-15T08:30:49.475Z"
   },
   {
    "duration": 0,
    "start_time": "2023-03-15T08:30:49.476Z"
   },
   {
    "duration": 0,
    "start_time": "2023-03-15T08:30:49.477Z"
   },
   {
    "duration": 0,
    "start_time": "2023-03-15T08:30:49.478Z"
   },
   {
    "duration": 0,
    "start_time": "2023-03-15T08:30:49.478Z"
   },
   {
    "duration": 0,
    "start_time": "2023-03-15T08:30:49.479Z"
   },
   {
    "duration": 0,
    "start_time": "2023-03-15T08:30:49.481Z"
   },
   {
    "duration": 0,
    "start_time": "2023-03-15T08:30:49.482Z"
   },
   {
    "duration": 0,
    "start_time": "2023-03-15T08:30:49.482Z"
   },
   {
    "duration": 0,
    "start_time": "2023-03-15T08:30:49.483Z"
   },
   {
    "duration": 0,
    "start_time": "2023-03-15T08:30:49.484Z"
   },
   {
    "duration": 25344,
    "start_time": "2023-03-15T08:31:25.612Z"
   },
   {
    "duration": 33839,
    "start_time": "2023-03-15T08:34:36.123Z"
   },
   {
    "duration": 4,
    "start_time": "2023-03-15T08:37:29.161Z"
   },
   {
    "duration": 2,
    "start_time": "2023-03-15T08:41:48.523Z"
   },
   {
    "duration": 134627,
    "start_time": "2023-03-15T08:44:07.843Z"
   },
   {
    "duration": 4,
    "start_time": "2023-03-15T08:46:29.714Z"
   },
   {
    "duration": 542,
    "start_time": "2023-03-15T08:46:32.171Z"
   },
   {
    "duration": 4,
    "start_time": "2023-03-15T08:46:41.639Z"
   },
   {
    "duration": 943,
    "start_time": "2023-03-15T08:48:09.690Z"
   },
   {
    "duration": 29,
    "start_time": "2023-03-15T08:57:22.169Z"
   },
   {
    "duration": 326906,
    "start_time": "2023-03-15T08:58:00.464Z"
   },
   {
    "duration": 5,
    "start_time": "2023-03-15T09:04:03.072Z"
   },
   {
    "duration": 338,
    "start_time": "2023-03-15T09:07:42.925Z"
   },
   {
    "duration": 4,
    "start_time": "2023-03-15T09:07:49.153Z"
   },
   {
    "duration": 5,
    "start_time": "2023-03-15T09:07:55.175Z"
   },
   {
    "duration": 309,
    "start_time": "2023-03-15T09:08:33.629Z"
   },
   {
    "duration": 569,
    "start_time": "2023-03-15T09:11:42.816Z"
   },
   {
    "duration": 9244,
    "start_time": "2023-03-15T09:16:55.738Z"
   },
   {
    "duration": 597,
    "start_time": "2023-03-15T09:23:23.430Z"
   },
   {
    "duration": 335,
    "start_time": "2023-03-15T09:23:27.038Z"
   },
   {
    "duration": 29790,
    "start_time": "2023-03-15T09:23:28.878Z"
   },
   {
    "duration": 47,
    "start_time": "2023-03-15T09:26:52.471Z"
   },
   {
    "duration": 575,
    "start_time": "2023-03-15T09:27:08.224Z"
   },
   {
    "duration": 457,
    "start_time": "2023-03-15T09:27:30.691Z"
   },
   {
    "duration": 29124,
    "start_time": "2023-03-15T09:27:39.837Z"
   },
   {
    "duration": 29023,
    "start_time": "2023-03-15T09:30:58.537Z"
   },
   {
    "duration": 29991,
    "start_time": "2023-03-15T09:31:30.573Z"
   },
   {
    "duration": 9559,
    "start_time": "2023-03-15T09:32:43.929Z"
   },
   {
    "duration": 9643,
    "start_time": "2023-03-15T09:33:32.267Z"
   },
   {
    "duration": 9431,
    "start_time": "2023-03-15T09:33:46.342Z"
   },
   {
    "duration": 3,
    "start_time": "2023-03-15T09:34:19.684Z"
   },
   {
    "duration": 4,
    "start_time": "2023-03-15T09:34:21.749Z"
   },
   {
    "duration": 29,
    "start_time": "2023-03-15T09:34:24.628Z"
   },
   {
    "duration": 800,
    "start_time": "2023-03-15T09:34:27.124Z"
   },
   {
    "duration": 5,
    "start_time": "2023-03-15T09:34:29.470Z"
   },
   {
    "duration": 482,
    "start_time": "2023-03-15T09:35:58.772Z"
   },
   {
    "duration": 1450,
    "start_time": "2023-03-15T09:37:16.679Z"
   },
   {
    "duration": 429,
    "start_time": "2023-03-15T09:37:18.131Z"
   },
   {
    "duration": 23,
    "start_time": "2023-03-15T09:37:18.561Z"
   },
   {
    "duration": 15,
    "start_time": "2023-03-15T09:37:18.586Z"
   },
   {
    "duration": 20,
    "start_time": "2023-03-15T09:37:18.603Z"
   },
   {
    "duration": 93,
    "start_time": "2023-03-15T09:37:18.624Z"
   },
   {
    "duration": 1983,
    "start_time": "2023-03-15T09:37:18.718Z"
   },
   {
    "duration": 1966,
    "start_time": "2023-03-15T09:37:20.703Z"
   },
   {
    "duration": 109,
    "start_time": "2023-03-15T09:37:22.674Z"
   },
   {
    "duration": 87,
    "start_time": "2023-03-15T09:37:22.785Z"
   },
   {
    "duration": 51,
    "start_time": "2023-03-15T09:37:22.874Z"
   },
   {
    "duration": 47,
    "start_time": "2023-03-15T09:37:22.926Z"
   },
   {
    "duration": 22,
    "start_time": "2023-03-15T09:37:22.975Z"
   },
   {
    "duration": 132,
    "start_time": "2023-03-15T09:37:23.001Z"
   },
   {
    "duration": 32,
    "start_time": "2023-03-15T09:37:23.136Z"
   },
   {
    "duration": 7,
    "start_time": "2023-03-15T09:37:23.169Z"
   },
   {
    "duration": 17,
    "start_time": "2023-03-15T09:37:23.178Z"
   },
   {
    "duration": 20,
    "start_time": "2023-03-15T09:37:23.196Z"
   },
   {
    "duration": 10,
    "start_time": "2023-03-15T09:37:23.218Z"
   },
   {
    "duration": 11,
    "start_time": "2023-03-15T09:37:23.230Z"
   },
   {
    "duration": 37,
    "start_time": "2023-03-15T09:37:23.242Z"
   },
   {
    "duration": 4,
    "start_time": "2023-03-15T09:37:23.280Z"
   },
   {
    "duration": 606,
    "start_time": "2023-03-15T09:37:23.286Z"
   },
   {
    "duration": 17,
    "start_time": "2023-03-15T09:37:23.894Z"
   },
   {
    "duration": 2,
    "start_time": "2023-03-15T09:37:23.913Z"
   },
   {
    "duration": 130,
    "start_time": "2023-03-15T09:37:23.917Z"
   },
   {
    "duration": 2,
    "start_time": "2023-03-15T09:37:24.048Z"
   },
   {
    "duration": 179,
    "start_time": "2023-03-15T09:37:24.052Z"
   },
   {
    "duration": 103,
    "start_time": "2023-03-15T09:37:24.233Z"
   },
   {
    "duration": 4,
    "start_time": "2023-03-15T09:37:24.338Z"
   },
   {
    "duration": 23,
    "start_time": "2023-03-15T09:37:24.343Z"
   },
   {
    "duration": 9,
    "start_time": "2023-03-15T09:37:24.368Z"
   },
   {
    "duration": 5,
    "start_time": "2023-03-15T09:37:24.379Z"
   },
   {
    "duration": 103,
    "start_time": "2023-03-15T09:37:24.385Z"
   },
   {
    "duration": 38,
    "start_time": "2023-03-15T09:37:24.490Z"
   },
   {
    "duration": 4,
    "start_time": "2023-03-15T09:37:24.530Z"
   },
   {
    "duration": 5,
    "start_time": "2023-03-15T09:37:24.535Z"
   },
   {
    "duration": 58,
    "start_time": "2023-03-15T09:37:24.541Z"
   },
   {
    "duration": 20,
    "start_time": "2023-03-15T09:37:24.601Z"
   },
   {
    "duration": 343,
    "start_time": "2023-03-15T09:37:24.623Z"
   },
   {
    "duration": 3,
    "start_time": "2023-03-15T09:37:24.972Z"
   },
   {
    "duration": 195913,
    "start_time": "2023-03-15T09:37:24.977Z"
   },
   {
    "duration": 4,
    "start_time": "2023-03-15T09:40:40.892Z"
   },
   {
    "duration": 25469,
    "start_time": "2023-03-15T09:40:40.899Z"
   },
   {
    "duration": 4,
    "start_time": "2023-03-15T09:41:06.370Z"
   },
   {
    "duration": 34365,
    "start_time": "2023-03-15T09:41:06.375Z"
   },
   {
    "duration": 2,
    "start_time": "2023-03-15T09:41:40.742Z"
   },
   {
    "duration": 143640,
    "start_time": "2023-03-15T09:41:40.745Z"
   },
   {
    "duration": 8,
    "start_time": "2023-03-15T09:44:04.387Z"
   },
   {
    "duration": 621,
    "start_time": "2023-03-15T09:44:04.397Z"
   },
   {
    "duration": 4,
    "start_time": "2023-03-15T09:44:05.020Z"
   },
   {
    "duration": 1022,
    "start_time": "2023-03-15T09:44:05.026Z"
   },
   {
    "duration": 336055,
    "start_time": "2023-03-15T09:44:06.050Z"
   },
   {
    "duration": 4,
    "start_time": "2023-03-15T09:49:42.107Z"
   },
   {
    "duration": 369,
    "start_time": "2023-03-15T09:49:42.113Z"
   },
   {
    "duration": 569,
    "start_time": "2023-03-15T09:49:42.484Z"
   },
   {
    "duration": 9814,
    "start_time": "2023-03-15T09:49:43.054Z"
   },
   {
    "duration": 702,
    "start_time": "2023-03-15T09:49:52.872Z"
   },
   {
    "duration": 365,
    "start_time": "2023-03-15T09:49:53.575Z"
   },
   {
    "duration": 31334,
    "start_time": "2023-03-15T09:49:53.942Z"
   },
   {
    "duration": 31686,
    "start_time": "2023-03-15T09:50:25.277Z"
   },
   {
    "duration": 10037,
    "start_time": "2023-03-15T09:50:56.965Z"
   },
   {
    "duration": 2,
    "start_time": "2023-03-15T09:51:07.004Z"
   },
   {
    "duration": 6,
    "start_time": "2023-03-15T09:51:07.008Z"
   },
   {
    "duration": 48,
    "start_time": "2023-03-15T09:51:07.016Z"
   },
   {
    "duration": 907,
    "start_time": "2023-03-15T09:51:07.072Z"
   },
   {
    "duration": 5,
    "start_time": "2023-03-15T09:51:07.980Z"
   },
   {
    "duration": 515,
    "start_time": "2023-03-15T09:51:07.986Z"
   },
   {
    "duration": 1907,
    "start_time": "2023-03-16T11:37:41.901Z"
   },
   {
    "duration": 765,
    "start_time": "2023-03-16T11:37:43.811Z"
   },
   {
    "duration": 23,
    "start_time": "2023-03-16T11:37:44.578Z"
   },
   {
    "duration": 35,
    "start_time": "2023-03-16T11:37:44.603Z"
   },
   {
    "duration": 32,
    "start_time": "2023-03-16T11:37:44.646Z"
   },
   {
    "duration": 94,
    "start_time": "2023-03-16T11:37:44.679Z"
   },
   {
    "duration": 2619,
    "start_time": "2023-03-16T11:37:44.776Z"
   },
   {
    "duration": 2326,
    "start_time": "2023-03-16T11:37:47.397Z"
   },
   {
    "duration": 138,
    "start_time": "2023-03-16T11:37:49.725Z"
   },
   {
    "duration": 85,
    "start_time": "2023-03-16T11:37:49.866Z"
   },
   {
    "duration": 69,
    "start_time": "2023-03-16T11:37:49.958Z"
   },
   {
    "duration": 71,
    "start_time": "2023-03-16T11:37:50.029Z"
   },
   {
    "duration": 32,
    "start_time": "2023-03-16T11:37:50.102Z"
   },
   {
    "duration": 172,
    "start_time": "2023-03-16T11:37:50.137Z"
   },
   {
    "duration": 7,
    "start_time": "2023-03-16T11:37:50.311Z"
   },
   {
    "duration": 16,
    "start_time": "2023-03-16T11:37:50.319Z"
   },
   {
    "duration": 54,
    "start_time": "2023-03-16T11:37:50.336Z"
   },
   {
    "duration": 26,
    "start_time": "2023-03-16T11:37:50.392Z"
   },
   {
    "duration": 37,
    "start_time": "2023-03-16T11:37:50.420Z"
   },
   {
    "duration": 39,
    "start_time": "2023-03-16T11:37:50.459Z"
   },
   {
    "duration": 22,
    "start_time": "2023-03-16T11:37:50.500Z"
   },
   {
    "duration": 4,
    "start_time": "2023-03-16T11:37:50.524Z"
   },
   {
    "duration": 752,
    "start_time": "2023-03-16T11:37:50.530Z"
   },
   {
    "duration": 17,
    "start_time": "2023-03-16T11:37:51.284Z"
   },
   {
    "duration": 9,
    "start_time": "2023-03-16T11:37:51.302Z"
   },
   {
    "duration": 140,
    "start_time": "2023-03-16T11:37:51.313Z"
   },
   {
    "duration": 6,
    "start_time": "2023-03-16T11:37:51.454Z"
   },
   {
    "duration": 260,
    "start_time": "2023-03-16T11:37:51.469Z"
   },
   {
    "duration": 116,
    "start_time": "2023-03-16T11:37:51.739Z"
   },
   {
    "duration": 8,
    "start_time": "2023-03-16T11:37:51.857Z"
   },
   {
    "duration": 17,
    "start_time": "2023-03-16T11:37:51.867Z"
   },
   {
    "duration": 13,
    "start_time": "2023-03-16T11:37:51.886Z"
   },
   {
    "duration": 10,
    "start_time": "2023-03-16T11:37:51.901Z"
   },
   {
    "duration": 135,
    "start_time": "2023-03-16T11:37:51.913Z"
   },
   {
    "duration": 66,
    "start_time": "2023-03-16T11:37:52.054Z"
   },
   {
    "duration": 5,
    "start_time": "2023-03-16T11:37:52.122Z"
   },
   {
    "duration": 56,
    "start_time": "2023-03-16T11:37:52.131Z"
   },
   {
    "duration": 62,
    "start_time": "2023-03-16T11:37:52.189Z"
   },
   {
    "duration": 27,
    "start_time": "2023-03-16T11:37:52.253Z"
   },
   {
    "duration": 451,
    "start_time": "2023-03-16T11:37:52.282Z"
   },
   {
    "duration": 5,
    "start_time": "2023-03-16T11:37:52.735Z"
   },
   {
    "duration": 238715,
    "start_time": "2023-03-16T11:37:52.742Z"
   },
   {
    "duration": 6,
    "start_time": "2023-03-16T11:41:51.458Z"
   },
   {
    "duration": 25676,
    "start_time": "2023-03-16T11:41:51.466Z"
   },
   {
    "duration": 87,
    "start_time": "2023-03-16T11:42:17.150Z"
   },
   {
    "duration": 38016,
    "start_time": "2023-03-16T11:42:17.243Z"
   },
   {
    "duration": 7,
    "start_time": "2023-03-16T11:42:55.264Z"
   },
   {
    "duration": 17352,
    "start_time": "2023-03-16T11:42:55.273Z"
   },
   {
    "duration": 0,
    "start_time": "2023-03-16T11:43:12.632Z"
   },
   {
    "duration": 0,
    "start_time": "2023-03-16T11:43:12.633Z"
   },
   {
    "duration": 0,
    "start_time": "2023-03-16T11:43:12.635Z"
   },
   {
    "duration": 1,
    "start_time": "2023-03-16T11:43:12.635Z"
   },
   {
    "duration": 0,
    "start_time": "2023-03-16T11:43:12.636Z"
   },
   {
    "duration": 0,
    "start_time": "2023-03-16T11:43:12.637Z"
   },
   {
    "duration": 0,
    "start_time": "2023-03-16T11:43:12.638Z"
   },
   {
    "duration": 0,
    "start_time": "2023-03-16T11:43:12.639Z"
   },
   {
    "duration": 0,
    "start_time": "2023-03-16T11:43:12.640Z"
   },
   {
    "duration": 0,
    "start_time": "2023-03-16T11:43:12.640Z"
   },
   {
    "duration": 0,
    "start_time": "2023-03-16T11:43:12.641Z"
   },
   {
    "duration": 0,
    "start_time": "2023-03-16T11:43:12.642Z"
   },
   {
    "duration": 0,
    "start_time": "2023-03-16T11:43:12.643Z"
   },
   {
    "duration": 0,
    "start_time": "2023-03-16T11:43:12.644Z"
   },
   {
    "duration": 0,
    "start_time": "2023-03-16T11:43:12.645Z"
   },
   {
    "duration": 0,
    "start_time": "2023-03-16T11:43:12.645Z"
   },
   {
    "duration": 0,
    "start_time": "2023-03-16T11:43:12.648Z"
   },
   {
    "duration": 0,
    "start_time": "2023-03-16T11:43:12.650Z"
   },
   {
    "duration": 0,
    "start_time": "2023-03-16T11:43:12.652Z"
   },
   {
    "duration": 0,
    "start_time": "2023-03-16T11:43:12.653Z"
   },
   {
    "duration": 51,
    "start_time": "2023-04-24T19:01:38.955Z"
   },
   {
    "duration": 1490,
    "start_time": "2023-04-24T19:01:44.609Z"
   },
   {
    "duration": 1378,
    "start_time": "2023-04-24T19:01:46.101Z"
   },
   {
    "duration": 21,
    "start_time": "2023-04-24T19:01:47.480Z"
   },
   {
    "duration": 33,
    "start_time": "2023-04-24T19:01:47.503Z"
   },
   {
    "duration": 21,
    "start_time": "2023-04-24T19:01:47.537Z"
   },
   {
    "duration": 69,
    "start_time": "2023-04-24T19:01:47.559Z"
   },
   {
    "duration": 1939,
    "start_time": "2023-04-24T19:01:47.629Z"
   },
   {
    "duration": 1868,
    "start_time": "2023-04-24T19:01:49.569Z"
   },
   {
    "duration": 112,
    "start_time": "2023-04-24T19:01:51.439Z"
   },
   {
    "duration": 85,
    "start_time": "2023-04-24T19:01:51.555Z"
   },
   {
    "duration": 69,
    "start_time": "2023-04-24T19:01:51.642Z"
   },
   {
    "duration": 42,
    "start_time": "2023-04-24T19:01:51.712Z"
   },
   {
    "duration": 39,
    "start_time": "2023-04-24T19:01:51.756Z"
   },
   {
    "duration": 121,
    "start_time": "2023-04-24T19:01:51.797Z"
   },
   {
    "duration": 7,
    "start_time": "2023-04-24T19:01:51.920Z"
   },
   {
    "duration": 6,
    "start_time": "2023-04-24T19:01:51.929Z"
   },
   {
    "duration": 12,
    "start_time": "2023-04-24T19:01:51.937Z"
   },
   {
    "duration": 50,
    "start_time": "2023-04-24T19:01:51.950Z"
   },
   {
    "duration": 12,
    "start_time": "2023-04-24T19:01:52.001Z"
   },
   {
    "duration": 15,
    "start_time": "2023-04-24T19:01:52.014Z"
   },
   {
    "duration": 21,
    "start_time": "2023-04-24T19:01:52.031Z"
   },
   {
    "duration": 4,
    "start_time": "2023-04-24T19:01:52.054Z"
   },
   {
    "duration": 520,
    "start_time": "2023-04-24T19:01:52.059Z"
   },
   {
    "duration": 22,
    "start_time": "2023-04-24T19:01:52.580Z"
   },
   {
    "duration": 9,
    "start_time": "2023-04-24T19:01:52.604Z"
   },
   {
    "duration": 98,
    "start_time": "2023-04-24T19:01:52.614Z"
   },
   {
    "duration": 22,
    "start_time": "2023-04-24T19:01:52.714Z"
   },
   {
    "duration": 3,
    "start_time": "2023-04-24T19:01:52.741Z"
   },
   {
    "duration": 192,
    "start_time": "2023-04-24T19:01:52.745Z"
   },
   {
    "duration": 91,
    "start_time": "2023-04-24T19:01:52.939Z"
   },
   {
    "duration": 4,
    "start_time": "2023-04-24T19:01:53.031Z"
   },
   {
    "duration": 10,
    "start_time": "2023-04-24T19:01:53.037Z"
   },
   {
    "duration": 13,
    "start_time": "2023-04-24T19:01:53.048Z"
   },
   {
    "duration": 14,
    "start_time": "2023-04-24T19:01:53.062Z"
   },
   {
    "duration": 185,
    "start_time": "2023-04-24T19:01:53.077Z"
   },
   {
    "duration": 80,
    "start_time": "2023-04-24T19:01:53.264Z"
   },
   {
    "duration": 4,
    "start_time": "2023-04-24T19:01:53.345Z"
   },
   {
    "duration": 5,
    "start_time": "2023-04-24T19:01:53.351Z"
   },
   {
    "duration": 53,
    "start_time": "2023-04-24T19:01:53.357Z"
   },
   {
    "duration": 26,
    "start_time": "2023-04-24T19:01:53.413Z"
   },
   {
    "duration": 430,
    "start_time": "2023-04-24T19:01:53.442Z"
   },
   {
    "duration": 3,
    "start_time": "2023-04-24T19:01:53.874Z"
   },
   {
    "duration": 187399,
    "start_time": "2023-04-24T19:01:53.879Z"
   },
   {
    "duration": 3,
    "start_time": "2023-04-24T19:05:01.280Z"
   },
   {
    "duration": 24109,
    "start_time": "2023-04-24T19:05:01.284Z"
   },
   {
    "duration": 4,
    "start_time": "2023-04-24T19:05:25.396Z"
   },
   {
    "duration": 34783,
    "start_time": "2023-04-24T19:05:25.402Z"
   },
   {
    "duration": 2,
    "start_time": "2023-04-24T19:06:00.194Z"
   },
   {
    "duration": 146233,
    "start_time": "2023-04-24T19:06:00.198Z"
   },
   {
    "duration": 3,
    "start_time": "2023-04-24T19:08:26.433Z"
   },
   {
    "duration": 687,
    "start_time": "2023-04-24T19:08:26.437Z"
   },
   {
    "duration": 4,
    "start_time": "2023-04-24T19:08:27.126Z"
   },
   {
    "duration": 1203,
    "start_time": "2023-04-24T19:08:27.131Z"
   },
   {
    "duration": 360894,
    "start_time": "2023-04-24T19:08:28.335Z"
   },
   {
    "duration": 13,
    "start_time": "2023-04-24T19:14:29.231Z"
   },
   {
    "duration": 360,
    "start_time": "2023-04-24T19:14:29.246Z"
   },
   {
    "duration": 609,
    "start_time": "2023-04-24T19:14:29.607Z"
   },
   {
    "duration": 9480,
    "start_time": "2023-04-24T19:14:30.218Z"
   },
   {
    "duration": 758,
    "start_time": "2023-04-24T19:14:39.700Z"
   },
   {
    "duration": 390,
    "start_time": "2023-04-24T19:14:40.460Z"
   },
   {
    "duration": 28442,
    "start_time": "2023-04-24T19:14:40.852Z"
   },
   {
    "duration": 28404,
    "start_time": "2023-04-24T19:15:09.296Z"
   },
   {
    "duration": 9316,
    "start_time": "2023-04-24T19:15:37.702Z"
   },
   {
    "duration": 3,
    "start_time": "2023-04-24T19:15:47.020Z"
   },
   {
    "duration": 8,
    "start_time": "2023-04-24T19:15:47.024Z"
   },
   {
    "duration": 18,
    "start_time": "2023-04-24T19:15:47.033Z"
   },
   {
    "duration": 836,
    "start_time": "2023-04-24T19:15:47.053Z"
   },
   {
    "duration": 5,
    "start_time": "2023-04-24T19:15:47.891Z"
   },
   {
    "duration": 498,
    "start_time": "2023-04-24T19:15:47.897Z"
   },
   {
    "duration": 1516,
    "start_time": "2023-04-26T10:39:22.053Z"
   },
   {
    "duration": 896,
    "start_time": "2023-04-26T10:39:23.571Z"
   },
   {
    "duration": 32,
    "start_time": "2023-04-26T10:39:24.469Z"
   },
   {
    "duration": 23,
    "start_time": "2023-04-26T10:39:24.505Z"
   },
   {
    "duration": 58,
    "start_time": "2023-04-26T10:39:24.530Z"
   },
   {
    "duration": 116,
    "start_time": "2023-04-26T10:39:24.590Z"
   },
   {
    "duration": 2057,
    "start_time": "2023-04-26T10:39:24.709Z"
   },
   {
    "duration": 2028,
    "start_time": "2023-04-26T10:39:26.768Z"
   },
   {
    "duration": 105,
    "start_time": "2023-04-26T10:39:28.807Z"
   },
   {
    "duration": 63,
    "start_time": "2023-04-26T10:39:28.918Z"
   },
   {
    "duration": 58,
    "start_time": "2023-04-26T10:39:28.983Z"
   },
   {
    "duration": 52,
    "start_time": "2023-04-26T10:39:29.043Z"
   },
   {
    "duration": 23,
    "start_time": "2023-04-26T10:39:29.107Z"
   },
   {
    "duration": 113,
    "start_time": "2023-04-26T10:39:29.132Z"
   },
   {
    "duration": 6,
    "start_time": "2023-04-26T10:39:29.246Z"
   },
   {
    "duration": 14,
    "start_time": "2023-04-26T10:39:29.253Z"
   },
   {
    "duration": 35,
    "start_time": "2023-04-26T10:39:29.269Z"
   },
   {
    "duration": 17,
    "start_time": "2023-04-26T10:39:29.309Z"
   },
   {
    "duration": 24,
    "start_time": "2023-04-26T10:39:29.328Z"
   },
   {
    "duration": 11,
    "start_time": "2023-04-26T10:39:29.354Z"
   },
   {
    "duration": 18,
    "start_time": "2023-04-26T10:39:29.366Z"
   },
   {
    "duration": 3,
    "start_time": "2023-04-26T10:39:29.386Z"
   },
   {
    "duration": 558,
    "start_time": "2023-04-26T10:39:29.394Z"
   },
   {
    "duration": 16,
    "start_time": "2023-04-26T10:39:29.954Z"
   },
   {
    "duration": 4,
    "start_time": "2023-04-26T10:39:29.972Z"
   },
   {
    "duration": 132,
    "start_time": "2023-04-26T10:39:29.978Z"
   },
   {
    "duration": 26,
    "start_time": "2023-04-26T10:39:30.112Z"
   },
   {
    "duration": 16,
    "start_time": "2023-04-26T10:39:30.142Z"
   },
   {
    "duration": 212,
    "start_time": "2023-04-26T10:39:30.160Z"
   },
   {
    "duration": 117,
    "start_time": "2023-04-26T10:39:30.374Z"
   },
   {
    "duration": 8,
    "start_time": "2023-04-26T10:39:30.493Z"
   },
   {
    "duration": 47,
    "start_time": "2023-04-26T10:39:30.511Z"
   },
   {
    "duration": 50,
    "start_time": "2023-04-26T10:39:30.560Z"
   },
   {
    "duration": 35,
    "start_time": "2023-04-26T10:39:30.612Z"
   },
   {
    "duration": 207,
    "start_time": "2023-04-26T10:39:30.648Z"
   },
   {
    "duration": 96,
    "start_time": "2023-04-26T10:39:30.856Z"
   },
   {
    "duration": 3,
    "start_time": "2023-04-26T10:39:30.955Z"
   },
   {
    "duration": 37,
    "start_time": "2023-04-26T10:39:30.960Z"
   },
   {
    "duration": 109,
    "start_time": "2023-04-26T10:39:30.999Z"
   },
   {
    "duration": 80,
    "start_time": "2023-04-26T10:39:31.110Z"
   },
   {
    "duration": 444,
    "start_time": "2023-04-26T10:39:31.192Z"
   },
   {
    "duration": 3,
    "start_time": "2023-04-26T10:39:31.638Z"
   },
   {
    "duration": 218473,
    "start_time": "2023-04-26T10:39:31.643Z"
   },
   {
    "duration": 9,
    "start_time": "2023-04-26T10:43:10.118Z"
   },
   {
    "duration": 28880,
    "start_time": "2023-04-26T10:43:10.129Z"
   },
   {
    "duration": 5,
    "start_time": "2023-04-26T10:43:39.011Z"
   },
   {
    "duration": 37963,
    "start_time": "2023-04-26T10:43:39.018Z"
   },
   {
    "duration": 2,
    "start_time": "2023-04-26T10:44:16.983Z"
   },
   {
    "duration": 162115,
    "start_time": "2023-04-26T10:44:16.987Z"
   },
   {
    "duration": 4,
    "start_time": "2023-04-26T10:46:59.110Z"
   },
   {
    "duration": 714,
    "start_time": "2023-04-26T10:46:59.116Z"
   },
   {
    "duration": 4,
    "start_time": "2023-04-26T10:46:59.832Z"
   },
   {
    "duration": 1302,
    "start_time": "2023-04-26T10:46:59.838Z"
   },
   {
    "duration": 397044,
    "start_time": "2023-04-26T10:47:01.142Z"
   },
   {
    "duration": 9,
    "start_time": "2023-04-26T10:53:38.188Z"
   },
   {
    "duration": 387,
    "start_time": "2023-04-26T10:53:38.200Z"
   },
   {
    "duration": 665,
    "start_time": "2023-04-26T10:53:38.589Z"
   },
   {
    "duration": 9160,
    "start_time": "2023-04-26T10:53:39.256Z"
   },
   {
    "duration": 867,
    "start_time": "2023-04-26T10:53:48.418Z"
   },
   {
    "duration": 422,
    "start_time": "2023-04-26T10:53:49.286Z"
   },
   {
    "duration": 29596,
    "start_time": "2023-04-26T10:53:49.710Z"
   },
   {
    "duration": 30701,
    "start_time": "2023-04-26T10:54:19.310Z"
   },
   {
    "duration": 9798,
    "start_time": "2023-04-26T10:54:50.013Z"
   },
   {
    "duration": 2,
    "start_time": "2023-04-26T10:54:59.813Z"
   },
   {
    "duration": 11,
    "start_time": "2023-04-26T10:54:59.817Z"
   },
   {
    "duration": 12,
    "start_time": "2023-04-26T10:54:59.829Z"
   },
   {
    "duration": 870,
    "start_time": "2023-04-26T10:54:59.843Z"
   },
   {
    "duration": 7,
    "start_time": "2023-04-26T10:55:00.715Z"
   },
   {
    "duration": 567,
    "start_time": "2023-04-26T10:55:00.724Z"
   }
  ],
  "kernelspec": {
   "display_name": "Python 3 (ipykernel)",
   "language": "python",
   "name": "python3"
  },
  "language_info": {
   "codemirror_mode": {
    "name": "ipython",
    "version": 3
   },
   "file_extension": ".py",
   "mimetype": "text/x-python",
   "name": "python",
   "nbconvert_exporter": "python",
   "pygments_lexer": "ipython3",
   "version": "3.11.6"
  },
  "toc": {
   "base_numbering": 1,
   "nav_menu": {},
   "number_sections": true,
   "sideBar": true,
   "skip_h1_title": true,
   "title_cell": "Table of Contents",
   "title_sidebar": "Contents",
   "toc_cell": false,
   "toc_position": {},
   "toc_section_display": true,
   "toc_window_display": false
  }
 },
 "nbformat": 4,
 "nbformat_minor": 4
}
